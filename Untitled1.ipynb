{
 "cells": [
  {
   "cell_type": "code",
   "execution_count": 1,
   "id": "14b94eb3-795f-4fa5-baf3-5585a03656d4",
   "metadata": {},
   "outputs": [
    {
     "name": "stderr",
     "output_type": "stream",
     "text": [
      "/Users/rohanakurathi/Library/Python/3.9/lib/python/site-packages/urllib3/__init__.py:35: NotOpenSSLWarning: urllib3 v2 only supports OpenSSL 1.1.1+, currently the 'ssl' module is compiled with 'LibreSSL 2.8.3'. See: https://github.com/urllib3/urllib3/issues/3020\n",
      "  warnings.warn(\n"
     ]
    }
   ],
   "source": [
    "import requests\n",
    "import pandas as pd\n",
    "from sklearn.feature_extraction.text import CountVectorizer, TfidfTransformer\n",
    "import nltk\n",
    "from nltk.corpus import stopwords\n",
    "from nltk.stem import SnowballStemmer\n",
    "import string\n",
    "import numpy as np\n",
    "import matplotlib.pyplot as plt\n",
    "import seaborn as sns\n",
    "from sklearn.metrics.pairwise import cosine_similarity\n",
    "from wordcloud import WordCloud\n",
    "from sklearn.metrics import confusion_matrix\n",
    "import seaborn as sns\n",
    "import matplotlib.pyplot as plt\n",
    "import numpy as np\n",
    "from sklearn.cluster import KMeans\n",
    "from sklearn.preprocessing import LabelEncoder\n",
    "import os"
   ]
  },
  {
   "cell_type": "code",
   "execution_count": 2,
   "id": "a88752ce-ccfa-4b27-8848-8e40198eb02e",
   "metadata": {},
   "outputs": [],
   "source": [
    "data = pd.read_csv(\"mental-heath-in-tech-2016_20161114.csv\")"
   ]
  },
  {
   "cell_type": "code",
   "execution_count": 3,
   "id": "b56b2ef9-4f2a-41c9-8324-2f54032120a9",
   "metadata": {},
   "outputs": [],
   "source": [
    "data = data.rename(columns={\n",
    "    \"Are you self-employed?\": \"self_employed\",\n",
    "    \"How many employees does your company or organization have?\": \"num_employees\",\n",
    "    \"Is your employer primarily a tech company/organization?\": \"employer_tech\",\n",
    "    \"Is your primary role within your company related to tech/IT?\": \"role_tech\",\n",
    "    \"Does your employer provide mental health benefits as part of healthcare coverage?\": \"mh_benefits\",\n",
    "    \"Do you know the options for mental health care available under your employer-provided coverage?\": \"mh_options_known\",\n",
    "    \"Has your employer ever formally discussed mental health (for example, as part of a wellness campaign or other official communication)?\": \"mh_formal_discussion\",\n",
    "    \"Does your employer offer resources to learn more about mental health concerns and options for seeking help?\": \"mh_resources_available\",\n",
    "    \"Is your anonymity protected if you choose to take advantage of mental health or substance abuse treatment resources provided by your employer?\": \"anonymity_protected\",\n",
    "    \"If a mental health issue prompted you to request a medical leave from work, asking for that leave would be:\": \"mh_leave_request_difficulty\",\n",
    "    \"Do you think that discussing a mental health disorder with your employer would have negative consequences?\": \"mh_discussion_neg_conseq_employer\",\n",
    "    \"Do you think that discussing a physical health issue with your employer would have negative consequences?\": \"phys_health_neg_conseq_employer\",\n",
    "    \"Would you feel comfortable discussing a mental health disorder with your coworkers?\": \"mh_comfort_coworkers\",\n",
    "    \"Would you feel comfortable discussing a mental health disorder with your direct supervisor(s)?\": \"mh_comfort_supervisor\",\n",
    "    \"Do you feel that your employer takes mental health as seriously as physical health?\": \"mh_vs_phys_health_importance\",\n",
    "    \"Have you heard of or observed negative consequences for co-workers who have been open about mental health issues in your workplace?\": \"mh_neg_conseq_observed\",\n",
    "    \"Do you have medical coverage (private insurance or state-provided) which includes treatment of  mental health issues?\": \"mh_coverage\",\n",
    "    \"Do you know local or online resources to seek help for a mental health disorder?\": \"mh_local_online_resources\",\n",
    "    \"If you have been diagnosed or treated for a mental health disorder, do you ever reveal this to clients or business contacts?\": \"mh_reveal_clients\",\n",
    "    \"If you have revealed a mental health issue to a client or business contact, do you believe this has impacted you negatively?\": \"mh_neg_impact_clients\",\n",
    "    \"If you have been diagnosed or treated for a mental health disorder, do you ever reveal this to coworkers or employees?\": \"mh_reveal_coworkers\",\n",
    "    \"If you have revealed a mental health issue to a coworker or employee, do you believe this has impacted you negatively?\": \"mh_neg_impact_coworkers\",\n",
    "    \"Do you believe your productivity is ever affected by a mental health issue?\": \"mh_productivity_effect\",\n",
    "    \"If yes, what percentage of your work time (time performing primary or secondary job functions) is affected by a mental health issue?\": \"mh_work_time_affected_pct\",\n",
    "    \"Do you have previous employers?\": \"previous_employers\",\n",
    "    \"Have your previous employers provided mental health benefits?\": \"prev_mh_benefits\",\n",
    "    \"Were you aware of the options for mental health care provided by your previous employers?\": \"prev_mh_options_known\",\n",
    "    \"Did your previous employers ever formally discuss mental health (as part of a wellness campaign or other official communication)?\": \"prev_mh_formal_discussion\",\n",
    "    \"Did your previous employers provide resources to learn more about mental health issues and how to seek help?\": \"prev_mh_resources_available\",\n",
    "    \"Was your anonymity protected if you chose to take advantage of mental health or substance abuse treatment resources with previous employers?\": \"prev_anonymity_protected\",\n",
    "    \"Do you think that discussing a mental health disorder with previous employers would have negative consequences?\": \"prev_mh_neg_conseq\",\n",
    "    \"Do you think that discussing a physical health issue with previous employers would have negative consequences?\": \"prev_phys_neg_conseq\",\n",
    "    \"Would you have been willing to discuss a mental health issue with your previous co-workers?\": \"prev_mh_comfort_coworkers\",\n",
    "    \"Would you have been willing to discuss a mental health issue with your direct supervisor(s)?\": \"prev_mh_comfort_supervisor\",\n",
    "    \"Did you feel that your previous employers took mental health as seriously as physical health?\": \"prev_mh_vs_phys_health_importance\",\n",
    "    \"Did you hear of or observe negative consequences for co-workers with mental health issues in your previous workplaces?\": \"prev_mh_neg_conseq_observed\",\n",
    "    \"Would you be willing to bring up a physical health issue with a potential employer in an interview?\": \"interview_phys_health\",\n",
    "    \"Why or why not?\": \"interview_phys_health_reason\",\n",
    "    \"Would you bring up a mental health issue with a potential employer in an interview?\": \"interview_mh\",\n",
    "    \"Why or why not?.1\": \"interview_mh_reason\",\n",
    "    \"Do you feel that being identified as a person with a mental health issue would hurt your career?\": \"mh_identification_career_impact\",\n",
    "    \"Do you think that team members/co-workers would view you more negatively if they knew you suffered from a mental health issue?\": \"mh_neg_view_coworkers\",\n",
    "    \"How willing would you be to share with friends and family that you have a mental illness?\": \"mh_share_family_friends\",\n",
    "    \"Have you observed or experienced an unsupportive or badly handled response to a mental health issue in your current or previous workplace?\": \"mh_bad_response_observed\",\n",
    "    \"Have your observations of how another individual who discussed a mental health disorder made you less likely to reveal a mental health issue yourself in your current workplace?\": \"mh_obs_reduce_disclosure\",\n",
    "    \"Do you have a family history of mental illness?\": \"family_history_mh\",\n",
    "    \"Have you had a mental health disorder in the past?\": \"mh_history\",\n",
    "    \"Do you currently have a mental health disorder?\": \"mh_current\",\n",
    "    \"If yes, what condition(s) have you been diagnosed with?\": \"mh_diagnosed_conditions\",\n",
    "    \"If maybe, what condition(s) do you believe you have?\": \"mh_possible_conditions\",\n",
    "    \"Have you been diagnosed with a mental health condition by a medical professional?\": \"mh_diagnosed_pro\",\n",
    "    \"If so, what condition(s) were you diagnosed with?\": \"mh_diagnosed_conditions_pro\",\n",
    "    \"Have you ever sought treatment for a mental health issue from a mental health professional?\": \"mh_treatment_sought\",\n",
    "    \"If you have a mental health issue, do you feel that it interferes with your work when being treated effectively?\": \"mh_effective_treatment_work_effect\",\n",
    "    \"If you have a mental health issue, do you feel that it interferes with your work when NOT being treated effectively?\": \"mh_ineffective_treatment_work_effect\",\n",
    "    \"What is your age?\": \"age\",\n",
    "    \"What is your gender?\": \"gender\",\n",
    "    \"What country do you live in?\": \"country_live\",\n",
    "    \"What US state or territory do you live in?\": \"us_state_live\",\n",
    "    \"What country do you work in?\": \"country_work\",\n",
    "    \"What US state or territory do you work in?\": \"us_state_work\",\n",
    "    \"Which of the following best describes your work position?\": \"work_position\",\n",
    "    \"Do you work remotely?\": \"work_remote\"\n",
    "})\n"
   ]
  },
  {
   "cell_type": "code",
   "execution_count": 4,
   "id": "799f41bd-2350-4369-bde6-72cb9f85701a",
   "metadata": {},
   "outputs": [],
   "source": [
    "# Example text columns (you can adjust to match your actual dataset)\n",
    "text_cols = [\n",
    "    'interview_phys_health_reason', \n",
    "    'interview_mh_reason', \n",
    "    'mh_reveal_clients',\n",
    "    'mh_share_family_friends',\n",
    "    'mh_identification_career_impact',\n",
    "    'mh_effective_treatment_work_effect',\n",
    "    'mh_ineffective_treatment_work_effect'\n",
    "    \n",
    "]"
   ]
  },
  {
   "cell_type": "code",
   "execution_count": 5,
   "id": "9f6374ce-58dc-440c-aec0-b17c81a813e2",
   "metadata": {},
   "outputs": [],
   "source": [
    "# Create \"document\" column by combining text columns\n",
    "data['document'] = data[text_cols].fillna('').apply(lambda row: ' '.join(row), axis=1)"
   ]
  },
  {
   "cell_type": "code",
   "execution_count": 6,
   "id": "0dec9776-65eb-4b89-a139-efc0cca0579a",
   "metadata": {},
   "outputs": [
    {
     "name": "stdout",
     "output_type": "stream",
     "text": [
      "                                            document  \\\n",
      "0     Somewhat open Maybe Not applicable to me No...   \n",
      "1  It would depend on the health issue. If there ...   \n",
      "2  They would provable need to know, to Judge if ...   \n",
      "3  old back injury, doesn't cause me many issues ...   \n",
      "4  Depending on the interview stage and whether I...   \n",
      "\n",
      "                                              tokens  \n",
      "0  [Somewhat, open, Maybe, Not, applicable, to, m...  \n",
      "1  [It, would, depend, on, the, health, issue, If...  \n",
      "2  [They, would, provable, need, to, know, to, Ju...  \n",
      "3  [old, back, injury, doesn, cause, me, many, is...  \n",
      "4  [Depending, on, the, interview, stage, and, wh...  \n"
     ]
    }
   ],
   "source": [
    "tokenizer = CountVectorizer().build_tokenizer()\n",
    "data['tokens'] = data['document'].apply(tokenizer)\n",
    "\n",
    "print(data[['document', 'tokens']].head())"
   ]
  },
  {
   "cell_type": "code",
   "execution_count": 7,
   "id": "091ab949-9114-4d50-974e-a7e856e86b75",
   "metadata": {},
   "outputs": [
    {
     "name": "stderr",
     "output_type": "stream",
     "text": [
      "[nltk_data] Downloading package stopwords to\n",
      "[nltk_data]     /Users/rohanakurathi/nltk_data...\n",
      "[nltk_data]   Package stopwords is already up-to-date!\n"
     ]
    },
    {
     "data": {
      "text/plain": [
       "True"
      ]
     },
     "execution_count": 7,
     "metadata": {},
     "output_type": "execute_result"
    }
   ],
   "source": [
    "import nltk\n",
    "nltk.download('stopwords')"
   ]
  },
  {
   "cell_type": "code",
   "execution_count": 8,
   "id": "3668ea1d-c73d-47ce-a9e7-d77d696d5f94",
   "metadata": {},
   "outputs": [
    {
     "name": "stdout",
     "output_type": "stream",
     "text": [
      "                                              tokens  \\\n",
      "0  [Somewhat, open, Maybe, Not, applicable, to, m...   \n",
      "1  [It, would, depend, on, the, health, issue, If...   \n",
      "2  [They, would, provable, need, to, know, to, Ju...   \n",
      "3  [old, back, injury, doesn, cause, me, many, is...   \n",
      "4  [Depending, on, the, interview, stage, and, wh...   \n",
      "\n",
      "                                    processed_tokens  \n",
      "0             [somewhat, open, mayb, applic, applic]  \n",
      "1  [would, depend, health, issu, health, issu, wo...  \n",
      "2  [would, provabl, need, know, judg, job, stigma...  \n",
      "3  [old, back, injuri, caus, mani, issu, occasion...  \n",
      "4  [depend, interview, stage, whether, requir, ac...  \n"
     ]
    }
   ],
   "source": [
    "import string\n",
    "from nltk.corpus import stopwords\n",
    "from nltk.stem import SnowballStemmer\n",
    "\n",
    "# Define stopwords and stemmer\n",
    "stop_words = set(stopwords.words('english'))\n",
    "stemmer = SnowballStemmer('english')\n",
    "\n",
    "# Process tokens\n",
    "def process_tokens(tokens):\n",
    "    cleaned_tokens = []\n",
    "    for token in tokens:\n",
    "        token = token.lower()\n",
    "        token = token.translate(str.maketrans('', '', string.punctuation))\n",
    "        if token and token not in stop_words:\n",
    "            stemmed_token = stemmer.stem(token)\n",
    "            cleaned_tokens.append(stemmed_token)\n",
    "    return cleaned_tokens\n",
    "\n",
    "# Apply token processor\n",
    "data['processed_tokens'] = data['tokens'].apply(process_tokens)\n",
    "\n",
    "# Inspect\n",
    "print(data[['tokens', 'processed_tokens']].head())"
   ]
  },
  {
   "cell_type": "code",
   "execution_count": 9,
   "id": "57812460-31be-4f5f-8ceb-072be4f64a42",
   "metadata": {},
   "outputs": [
    {
     "name": "stdout",
     "output_type": "stream",
     "text": [
      "                                        cleaned_text\n",
      "0                   somewhat open mayb applic applic\n",
      "1  would depend health issu health issu would imm...\n",
      "2  would provabl need know judg job stigma main s...\n",
      "3  old back injuri caus mani issu occasion impact...\n",
      "4  depend interview stage whether requir accommod...\n"
     ]
    }
   ],
   "source": [
    "# Join tokens back into a string (space-separated)\n",
    "data['cleaned_text'] = data['processed_tokens'].apply(lambda tokens: ' '.join(tokens))\n",
    "\n",
    "# Inspect\n",
    "print(data[['cleaned_text']].head())\n",
    "\n",
    "# Your cleaned column is fine, just rename for consistency\n",
    "docs = data['cleaned_text'].tolist()"
   ]
  },
  {
   "cell_type": "code",
   "execution_count": 10,
   "id": "04184fd4-49b6-4e2c-aba2-06d7714ff8dc",
   "metadata": {},
   "outputs": [
    {
     "data": {
      "application/vnd.jupyter.widget-view+json": {
       "model_id": "78fd77b16f6048f98001da58eee6be24",
       "version_major": 2,
       "version_minor": 0
      },
      "text/plain": [
       "Batches:   0%|          | 0/45 [00:00<?, ?it/s]"
      ]
     },
     "metadata": {},
     "output_type": "display_data"
    }
   ],
   "source": [
    "from umap.umap_ import UMAP\n",
    "from bertopic import BERTopic\n",
    "from sklearn.feature_extraction.text import CountVectorizer\n",
    "from sentence_transformers import SentenceTransformer\n",
    "\n",
    "# Sentence Embeddings\n",
    "sentence_model = SentenceTransformer(\"all-MiniLM-L6-v2\")\n",
    "embeddings = sentence_model.encode(docs, show_progress_bar=True)\n",
    "\n",
    "# Optional: custom vectorizer\n",
    "vectorizer_model = CountVectorizer(stop_words=\"english\")\n",
    "\n",
    "# UMAP settings\n",
    "umap_model = UMAP(n_neighbors=15, n_components=5, min_dist=0.0, metric='cosine')\n",
    "\n",
    "# BERTopic with UMAP and custom vectorizer\n",
    "topic_model = BERTopic(umap_model=umap_model, vectorizer_model=vectorizer_model)\n",
    "topics, probs = topic_model.fit_transform(docs, embeddings=embeddings)"
   ]
  },
  {
   "cell_type": "code",
   "execution_count": 11,
   "id": "26485e73-463c-4cfd-b34a-b9bde55e5821",
   "metadata": {},
   "outputs": [
    {
     "name": "stdout",
     "output_type": "stream",
     "text": [
      "    Topic  Count                                      Name  \\\n",
      "0      -1    497                 -1_issu_job_health_employ   \n",
      "1       0     61                  0_affect_work_job_depend   \n",
      "2       1     60         1_interview_process_skill_sometim   \n",
      "3       2     41               2_issu_physic_health_depend   \n",
      "4       3     39                     3_rare_think_open_yes   \n",
      "5       4     36             4_stigma_health_mental_physic   \n",
      "6       5     36                5_neutral_think_yes_applic   \n",
      "7       6     36              6_hire_natur_influenc_expect   \n",
      "8       7     35           7_privaci_honesti_applic_person   \n",
      "9       8     33              8_negat_impact_afraid_outcom   \n",
      "10      9     31            9_stigma_rare_sometim_somewhat   \n",
      "11     10     28           10_fear_discrimin_bias_implicit   \n",
      "12     11     25                    11_job_short_term_time   \n",
      "13     12     25              12_mental_health_issu_physic   \n",
      "14     13     24                  13_ill_applic_mental_set   \n",
      "15     14     24             14_mayb_filter_pertin_sometim   \n",
      "16     15     24           15_interview_health_ask_discuss   \n",
      "17     16     23                16_mental_health_time_issu   \n",
      "18     17     23              17_applic_think_yes_somewhat   \n",
      "19     18     22            18_neutral_irrelev_mayb_applic   \n",
      "20     19     22                  19_mental_ill_worri_hire   \n",
      "21     20     22                20_rare_mayb_open_somewhat   \n",
      "22     21     21                    21_yes_compar_open_got   \n",
      "23     22     20              22_sometim_irrelev_mayb_held   \n",
      "24     23     19             23_sometim_yes_somewhat_think   \n",
      "25     24     18                   24_need_physic_job_know   \n",
      "26     25     17             25_applic_mayb_unfortun_unsur   \n",
      "27     26     16                 26_job_weigh_depend_assum   \n",
      "28     27     16                 27_gonna_applic_think_yes   \n",
      "29     28     15              28_applic_mayb_somewhat_open   \n",
      "30     29     15              29_legal_support_law_protect   \n",
      "31     30     15             30_sometim_yes_somewhat_smile   \n",
      "32     31     15  31_stigma_decisionmak_subconsci_accommod   \n",
      "33     32     15            32_import_applic_ramif_unknown   \n",
      "34     33     15                 33_ill_applic_mental_mayb   \n",
      "35     34     13                 34_rare_sheet_balanc_mayb   \n",
      "36     35     13              35_risk_neglect_discard_wont   \n",
      "37     36     12                   36_applic_idk_yes_think   \n",
      "38     37     11                 37_fear_prospect_fail_job   \n",
      "\n",
      "                                       Representation  \\\n",
      "0   [issu, job, health, employ, mental, applic, br...   \n",
      "1   [affect, work, job, depend, abil, perform, cha...   \n",
      "2   [interview, process, skill, sometim, open, top...   \n",
      "3   [issu, physic, health, depend, work, duti, aff...   \n",
      "4   [rare, think, open, yes, somewhat, categor, wo...   \n",
      "5   [stigma, health, mental, physic, peopl, issu, ...   \n",
      "6   [neutral, think, yes, applic, matter, retali, ...   \n",
      "7   [hire, natur, influenc, expect, think, yes, pr...   \n",
      "8   [privaci, honesti, applic, person, disqualifi,...   \n",
      "9   [negat, impact, afraid, outcom, benefit, yes, ...   \n",
      "10  [stigma, rare, sometim, somewhat, attach, open...   \n",
      "11  [fear, discrimin, bias, implicit, negat, yes, ...   \n",
      "12  [job, short, term, time, import, yes, market, ...   \n",
      "13  [mental, health, issu, physic, disord, accept,...   \n",
      "14  [ill, applic, mental, set, appropri, expect, g...   \n",
      "15  [mayb, filter, pertin, sometim, open, somewhat...   \n",
      "16  [interview, health, ask, discuss, physic, desk...   \n",
      "17  [mental, health, time, issu, employ, work, cle...   \n",
      "18  [applic, think, yes, somewhat, xxx, open, plac...   \n",
      "19  [neutral, irrelev, mayb, applic, reason, somet...   \n",
      "20  [mental, ill, worri, hire, employ, chronic, ap...   \n",
      "21  [rare, mayb, open, somewhat, hurt, life, refer...   \n",
      "22  [yes, compar, open, got, sometim, mr, think, c...   \n",
      "23  [sometim, irrelev, mayb, held, embarrass, some...   \n",
      "24  [sometim, yes, somewhat, think, open, na, appl...   \n",
      "25  [need, physic, job, know, hand, feel, candidac...   \n",
      "26  [applic, mayb, unfortun, unsur, somewhat, open...   \n",
      "27  [job, weigh, depend, assum, worri, thought, in...   \n",
      "28  [gonna, applic, think, yes, open, im, check, r...   \n",
      "29     [applic, mayb, somewhat, open, sure, , , , , ]   \n",
      "30  [legal, support, law, protect, help, need, abs...   \n",
      "31  [sometim, yes, somewhat, smile, presumpt, thin...   \n",
      "32  [stigma, decisionmak, subconsci, accommod, fai...   \n",
      "33  [import, applic, ramif, unknown, mayb, test, e...   \n",
      "34  [ill, applic, mental, mayb, day, harder, discl...   \n",
      "35  [rare, sheet, balanc, mayb, sometim, good, ope...   \n",
      "36  [risk, neglect, discard, wont, promot, job, so...   \n",
      "37  [applic, idk, yes, think, correct, somewhat, f...   \n",
      "38  [fear, prospect, fail, job, separ, come, make,...   \n",
      "\n",
      "                                  Representative_Docs  \n",
      "0   [afraid hire job even physic issu would relev ...  \n",
      "1   [sure would affect work depend would affect wo...  \n",
      "2   [depend interview stage whether requir accommo...  \n",
      "3   [health issu would impact perform may bring wo...  \n",
      "4   [somewhat open yes think would rare often, som...  \n",
      "5   [everyon open mind regardless law peopl attach...  \n",
      "6   [neutral yes think would applic applic, neutra...  \n",
      "7   [discrimin hire discrimin hire somewhat open y...  \n",
      "8   [honesti honesti somewhat open mayb applic app...  \n",
      "9   [would impact negat somewhat open yes think wo...  \n",
      "10  [stigma open yes think would sometim often, le...  \n",
      "11  [relev fear discrimin somewhat open mayb somet...  \n",
      "12  [get job would import short term get job would...  \n",
      "13  [simpli import awar situat would physic issu m...  \n",
      "14  [applic mental ill yes think would applic appl...  \n",
      "15  [somewhat open mayb sometim often, somewhat op...  \n",
      "16  [alreadi contenti situat simpli ask one day co...  \n",
      "17  [affect abil perform job get work feel like me...  \n",
      "18  [somewhat open yes think would applic applic, ...  \n",
      "19  [neutral mayb applic applic, neutral mayb appl...  \n",
      "20  [health benefit expens busi hire someon know c...  \n",
      "21  [somewhat open mayb rare often, somewhat open ...  \n",
      "22  [open yes think would sometim often, open yes ...  \n",
      "23  [somewhat open mayb sometim sometim, somewhat ...  \n",
      "24  [somewhat open yes think would sometim sometim...  \n",
      "25  [desper job would want jeopard candidaci hand ...  \n",
      "26  [somewhat open mayb applic applic, somewhat op...  \n",
      "27  [assum would weigh get job assum would weigh g...  \n",
      "28  [open yes think would applic applic, open yes ...  \n",
      "29  [somewhat open mayb applic applic, somewhat op...  \n",
      "30  [employ need awar treat equal respect know the...  \n",
      "31  [somewhat open yes think would sometim often, ...  \n",
      "32  [depend abil job bear discuss need accommod jo...  \n",
      "33  [open mayb applic applic, unknown ramif unknow...  \n",
      "34  [applic mental ill mayb applic applic, applic ...  \n",
      "35  [somewhat open mayb rare sometim, somewhat ope...  \n",
      "36  [want risk job open yes think would applic som...  \n",
      "37  [applic somewhat open yes think would applic a...  \n",
      "38  [fear get job fear get job would impact negat ...  \n"
     ]
    }
   ],
   "source": [
    "# Top topics dataframe\n",
    "topic_info = topic_model.get_topic_info()\n",
    "print(topic_info)\n",
    "\n",
    "# Save topic_id and text in dataframe\n",
    "data['bertopic_cluster'] = topics\n"
   ]
  },
  {
   "cell_type": "code",
   "execution_count": 12,
   "id": "fc10b6cc-4e1c-439d-b680-2baf16769799",
   "metadata": {},
   "outputs": [
    {
     "name": "stdout",
     "output_type": "stream",
     "text": [
      "Topic 0: affect, work, job, depend, abil, perform, chanc, day, sometim, bring\n",
      "Topic 1: interview, process, skill, sometim, open, topic, vibe, stage, posit, somewhat\n",
      "Topic 2: issu, physic, health, depend, work, duti, affect, sometim, somewhat, open\n",
      "Topic 3: rare, think, open, yes, somewhat, categor, woud, unsur, everi, jeopard\n",
      "Topic 4: stigma, health, mental, physic, peopl, issu, attach, feel, ms, condit\n",
      "Topic 5: neutral, think, yes, applic, matter, retali, market, sometim, imagin, judgement\n",
      "Topic 6: hire, natur, influenc, expect, think, yes, process, open, reason, rare\n",
      "Topic 7: privaci, honesti, applic, person, disqualifi, busi, mayb, privat, open, somewhat\n",
      "Topic 8: negat, impact, afraid, outcom, benefit, yes, attract, weaken, connot, posit\n",
      "Topic 9: stigma, rare, sometim, somewhat, attach, open, think, yes, prove, carri\n",
      "Topic 10: fear, discrimin, bias, implicit, negat, yes, overt, racial, think, unintent\n",
      "Topic 11: job, short, term, time, import, yes, market, open, competit, determin\n",
      "Topic 12: mental, health, issu, physic, disord, accept, peopl, broken, ill, applic\n",
      "Topic 13: ill, applic, mental, set, appropri, expect, gaug, think, yes, screen\n",
      "Topic 14: mayb, filter, pertin, sometim, open, somewhat, thing, qualif, busi, posit\n",
      "Topic 15: interview, health, ask, discuss, physic, desk, issu, mental, tri, prefer\n",
      "Topic 16: mental, health, time, issu, employ, work, clearanc, role, feel, like\n",
      "Topic 17: applic, think, yes, somewhat, xxx, open, place, matter, time, \n",
      "Topic 18: neutral, irrelev, mayb, applic, reason, sometim, current, pick, sorri, imag\n",
      "Topic 19: mental, ill, worri, hire, employ, chronic, applic, someon, issu, health\n",
      "Topic 20: rare, mayb, open, somewhat, hurt, life, referenc, event, everyday, forev\n",
      "Topic 21: yes, compar, open, got, sometim, mr, think, candid, ask, held\n",
      "Topic 22: sometim, irrelev, mayb, held, embarrass, somewhat, come, open, matter, hurdl\n",
      "Topic 23: sometim, yes, somewhat, think, open, na, applic, , , \n",
      "Topic 24: need, physic, job, know, hand, feel, candidaci, issu, cope, health\n",
      "Topic 25: applic, mayb, unfortun, unsur, somewhat, open, know, feel, , \n",
      "Topic 26: job, weigh, depend, assum, worri, thought, intent, conscious, abil, signific\n",
      "Topic 27: gonna, applic, think, yes, open, im, check, risk, equip, provid\n",
      "Topic 28: applic, mayb, somewhat, open, sure, , , , , \n",
      "Topic 29: legal, support, law, protect, help, need, absolut, provid, effort, recours\n",
      "Topic 30: sometim, yes, somewhat, smile, presumpt, think, open, afraid, excus, healthi\n",
      "Topic 31: stigma, decisionmak, subconsci, accommod, fair, job, influenc, sometim, hire, want\n",
      "Topic 32: import, applic, ramif, unknown, mayb, test, environ, support, quiet, open\n",
      "Topic 33: ill, applic, mental, mayb, day, harder, disclosur, activ, anyon, prejudic\n",
      "Topic 34: rare, sheet, balanc, mayb, sometim, good, open, somewhat, afraid, ad\n",
      "Topic 35: risk, neglect, discard, wont, promot, job, sometim, posit, reason, offer\n",
      "Topic 36: applic, idk, yes, think, correct, somewhat, frown, open, bad, general\n",
      "Topic 37: fear, prospect, fail, job, separ, come, make, yes, process, hire\n"
     ]
    }
   ],
   "source": [
    "for topic_id in topic_info['Topic']:\n",
    "    if topic_id == -1:\n",
    "        continue  # skip outliers\n",
    "    words = topic_model.get_topic(topic_id)\n",
    "    top_words = [word for word, _ in words]\n",
    "    print(f\"Topic {topic_id}: {', '.join(top_words)}\")\n"
   ]
  },
  {
   "cell_type": "code",
   "execution_count": 13,
   "id": "2619cd99-1dd7-45f4-a910-8368b895f4cd",
   "metadata": {},
   "outputs": [
    {
     "data": {
      "application/vnd.plotly.v1+json": {
       "config": {
        "plotlyServerURL": "https://plot.ly"
       },
       "data": [
        {
         "marker": {
          "color": "#D55E00"
         },
         "orientation": "h",
         "type": "bar",
         "x": [
          0.03337375511381426,
          0.034394806508791544,
          0.038055490656134956,
          0.04676808449496091,
          0.08031401061664423
         ],
         "xaxis": "x",
         "y": [
          "abil  ",
          "depend  ",
          "job  ",
          "work  ",
          "affect  "
         ],
         "yaxis": "y"
        },
        {
         "marker": {
          "color": "#0072B2"
         },
         "orientation": "h",
         "type": "bar",
         "x": [
          0.02204255603135698,
          0.022117977450176043,
          0.022357744991502847,
          0.030351594709864076,
          0.09267306251974229
         ],
         "xaxis": "x2",
         "y": [
          "open  ",
          "sometim  ",
          "skill  ",
          "process  ",
          "interview  "
         ],
         "yaxis": "y2"
        },
        {
         "marker": {
          "color": "#CC79A7"
         },
         "orientation": "h",
         "type": "bar",
         "x": [
          0.022961860821232354,
          0.033221973921582354,
          0.035865163574801164,
          0.042077283764339266,
          0.04218609235656068
         ],
         "xaxis": "x3",
         "y": [
          "work  ",
          "depend  ",
          "health  ",
          "physic  ",
          "issu  "
         ],
         "yaxis": "y3"
        },
        {
         "marker": {
          "color": "#E69F00"
         },
         "orientation": "h",
         "type": "bar",
         "x": [
          0.04808603618797671,
          0.054635771322746995,
          0.055562859474989304,
          0.06259247094315155,
          0.1381607667360764
         ],
         "xaxis": "x4",
         "y": [
          "somewhat  ",
          "yes  ",
          "open  ",
          "think  ",
          "rare  "
         ],
         "yaxis": "y4"
        },
        {
         "marker": {
          "color": "#56B4E9"
         },
         "orientation": "h",
         "type": "bar",
         "x": [
          0.03538824681914801,
          0.038425872748019715,
          0.040049308197596764,
          0.04495486762916525,
          0.06714503316616648
         ],
         "xaxis": "x5",
         "y": [
          "peopl  ",
          "physic  ",
          "mental  ",
          "health  ",
          "stigma  "
         ],
         "yaxis": "y5"
        },
        {
         "marker": {
          "color": "#009E73"
         },
         "orientation": "h",
         "type": "bar",
         "x": [
          0.05234541481557017,
          0.05905762221725287,
          0.06975895282488337,
          0.07175584008998061,
          0.25290543166144913
         ],
         "xaxis": "x6",
         "y": [
          "matter  ",
          "applic  ",
          "yes  ",
          "think  ",
          "neutral  "
         ],
         "yaxis": "y6"
        },
        {
         "marker": {
          "color": "#F0E442"
         },
         "orientation": "h",
         "type": "bar",
         "x": [
          0.035147260156433616,
          0.03857979377584206,
          0.03928660181423011,
          0.03994773102797094,
          0.1711390627766679
         ],
         "xaxis": "x7",
         "y": [
          "think  ",
          "expect  ",
          "influenc  ",
          "natur  ",
          "hire  "
         ],
         "yaxis": "y7"
        },
        {
         "marker": {
          "color": "#D55E00"
         },
         "orientation": "h",
         "type": "bar",
         "x": [
          0.048249832005818644,
          0.05752729595761827,
          0.05759699260096691,
          0.08443720601018262,
          0.08837124891909642
         ],
         "xaxis": "x8",
         "y": [
          "disqualifi  ",
          "person  ",
          "applic  ",
          "honesti  ",
          "privaci  "
         ],
         "yaxis": "y8"
        },
        {
         "marker": {
          "color": "#0072B2"
         },
         "orientation": "h",
         "type": "bar",
         "x": [
          0.03728711696984432,
          0.041967066860349844,
          0.05618501918842898,
          0.1016936229594301,
          0.13024881523376972
         ],
         "xaxis": "x9",
         "y": [
          "benefit  ",
          "outcom  ",
          "afraid  ",
          "impact  ",
          "negat  "
         ],
         "yaxis": "y9"
        },
        {
         "marker": {
          "color": "#CC79A7"
         },
         "orientation": "h",
         "type": "bar",
         "x": [
          0.042037661210259154,
          0.04489342717520377,
          0.04752782118028052,
          0.0545314127078495,
          0.21340436620246603
         ],
         "xaxis": "x10",
         "y": [
          "attach  ",
          "somewhat  ",
          "sometim  ",
          "rare  ",
          "stigma  "
         ],
         "yaxis": "y10"
        }
       ],
       "layout": {
        "annotations": [
         {
          "font": {
           "size": 16
          },
          "showarrow": false,
          "text": "Topic 0",
          "x": 0.0875,
          "xanchor": "center",
          "xref": "paper",
          "y": 1,
          "yanchor": "bottom",
          "yref": "paper"
         },
         {
          "font": {
           "size": 16
          },
          "showarrow": false,
          "text": "Topic 1",
          "x": 0.36250000000000004,
          "xanchor": "center",
          "xref": "paper",
          "y": 1,
          "yanchor": "bottom",
          "yref": "paper"
         },
         {
          "font": {
           "size": 16
          },
          "showarrow": false,
          "text": "Topic 2",
          "x": 0.6375000000000001,
          "xanchor": "center",
          "xref": "paper",
          "y": 1,
          "yanchor": "bottom",
          "yref": "paper"
         },
         {
          "font": {
           "size": 16
          },
          "showarrow": false,
          "text": "Topic 3",
          "x": 0.9125,
          "xanchor": "center",
          "xref": "paper",
          "y": 1,
          "yanchor": "bottom",
          "yref": "paper"
         },
         {
          "font": {
           "size": 16
          },
          "showarrow": false,
          "text": "Topic 4",
          "x": 0.0875,
          "xanchor": "center",
          "xref": "paper",
          "y": 0.6222222222222222,
          "yanchor": "bottom",
          "yref": "paper"
         },
         {
          "font": {
           "size": 16
          },
          "showarrow": false,
          "text": "Topic 5",
          "x": 0.36250000000000004,
          "xanchor": "center",
          "xref": "paper",
          "y": 0.6222222222222222,
          "yanchor": "bottom",
          "yref": "paper"
         },
         {
          "font": {
           "size": 16
          },
          "showarrow": false,
          "text": "Topic 6",
          "x": 0.6375000000000001,
          "xanchor": "center",
          "xref": "paper",
          "y": 0.6222222222222222,
          "yanchor": "bottom",
          "yref": "paper"
         },
         {
          "font": {
           "size": 16
          },
          "showarrow": false,
          "text": "Topic 7",
          "x": 0.9125,
          "xanchor": "center",
          "xref": "paper",
          "y": 0.6222222222222222,
          "yanchor": "bottom",
          "yref": "paper"
         },
         {
          "font": {
           "size": 16
          },
          "showarrow": false,
          "text": "Topic 8",
          "x": 0.0875,
          "xanchor": "center",
          "xref": "paper",
          "y": 0.24444444444444446,
          "yanchor": "bottom",
          "yref": "paper"
         },
         {
          "font": {
           "size": 16
          },
          "showarrow": false,
          "text": "Topic 9",
          "x": 0.36250000000000004,
          "xanchor": "center",
          "xref": "paper",
          "y": 0.24444444444444446,
          "yanchor": "bottom",
          "yref": "paper"
         }
        ],
        "height": 750,
        "hoverlabel": {
         "bgcolor": "white",
         "font": {
          "family": "Rockwell",
          "size": 16
         }
        },
        "showlegend": false,
        "template": {
         "data": {
          "bar": [
           {
            "error_x": {
             "color": "#2a3f5f"
            },
            "error_y": {
             "color": "#2a3f5f"
            },
            "marker": {
             "line": {
              "color": "white",
              "width": 0.5
             },
             "pattern": {
              "fillmode": "overlay",
              "size": 10,
              "solidity": 0.2
             }
            },
            "type": "bar"
           }
          ],
          "barpolar": [
           {
            "marker": {
             "line": {
              "color": "white",
              "width": 0.5
             },
             "pattern": {
              "fillmode": "overlay",
              "size": 10,
              "solidity": 0.2
             }
            },
            "type": "barpolar"
           }
          ],
          "carpet": [
           {
            "aaxis": {
             "endlinecolor": "#2a3f5f",
             "gridcolor": "#C8D4E3",
             "linecolor": "#C8D4E3",
             "minorgridcolor": "#C8D4E3",
             "startlinecolor": "#2a3f5f"
            },
            "baxis": {
             "endlinecolor": "#2a3f5f",
             "gridcolor": "#C8D4E3",
             "linecolor": "#C8D4E3",
             "minorgridcolor": "#C8D4E3",
             "startlinecolor": "#2a3f5f"
            },
            "type": "carpet"
           }
          ],
          "choropleth": [
           {
            "colorbar": {
             "outlinewidth": 0,
             "ticks": ""
            },
            "type": "choropleth"
           }
          ],
          "contour": [
           {
            "colorbar": {
             "outlinewidth": 0,
             "ticks": ""
            },
            "colorscale": [
             [
              0,
              "#0d0887"
             ],
             [
              0.1111111111111111,
              "#46039f"
             ],
             [
              0.2222222222222222,
              "#7201a8"
             ],
             [
              0.3333333333333333,
              "#9c179e"
             ],
             [
              0.4444444444444444,
              "#bd3786"
             ],
             [
              0.5555555555555556,
              "#d8576b"
             ],
             [
              0.6666666666666666,
              "#ed7953"
             ],
             [
              0.7777777777777778,
              "#fb9f3a"
             ],
             [
              0.8888888888888888,
              "#fdca26"
             ],
             [
              1,
              "#f0f921"
             ]
            ],
            "type": "contour"
           }
          ],
          "contourcarpet": [
           {
            "colorbar": {
             "outlinewidth": 0,
             "ticks": ""
            },
            "type": "contourcarpet"
           }
          ],
          "heatmap": [
           {
            "colorbar": {
             "outlinewidth": 0,
             "ticks": ""
            },
            "colorscale": [
             [
              0,
              "#0d0887"
             ],
             [
              0.1111111111111111,
              "#46039f"
             ],
             [
              0.2222222222222222,
              "#7201a8"
             ],
             [
              0.3333333333333333,
              "#9c179e"
             ],
             [
              0.4444444444444444,
              "#bd3786"
             ],
             [
              0.5555555555555556,
              "#d8576b"
             ],
             [
              0.6666666666666666,
              "#ed7953"
             ],
             [
              0.7777777777777778,
              "#fb9f3a"
             ],
             [
              0.8888888888888888,
              "#fdca26"
             ],
             [
              1,
              "#f0f921"
             ]
            ],
            "type": "heatmap"
           }
          ],
          "histogram": [
           {
            "marker": {
             "pattern": {
              "fillmode": "overlay",
              "size": 10,
              "solidity": 0.2
             }
            },
            "type": "histogram"
           }
          ],
          "histogram2d": [
           {
            "colorbar": {
             "outlinewidth": 0,
             "ticks": ""
            },
            "colorscale": [
             [
              0,
              "#0d0887"
             ],
             [
              0.1111111111111111,
              "#46039f"
             ],
             [
              0.2222222222222222,
              "#7201a8"
             ],
             [
              0.3333333333333333,
              "#9c179e"
             ],
             [
              0.4444444444444444,
              "#bd3786"
             ],
             [
              0.5555555555555556,
              "#d8576b"
             ],
             [
              0.6666666666666666,
              "#ed7953"
             ],
             [
              0.7777777777777778,
              "#fb9f3a"
             ],
             [
              0.8888888888888888,
              "#fdca26"
             ],
             [
              1,
              "#f0f921"
             ]
            ],
            "type": "histogram2d"
           }
          ],
          "histogram2dcontour": [
           {
            "colorbar": {
             "outlinewidth": 0,
             "ticks": ""
            },
            "colorscale": [
             [
              0,
              "#0d0887"
             ],
             [
              0.1111111111111111,
              "#46039f"
             ],
             [
              0.2222222222222222,
              "#7201a8"
             ],
             [
              0.3333333333333333,
              "#9c179e"
             ],
             [
              0.4444444444444444,
              "#bd3786"
             ],
             [
              0.5555555555555556,
              "#d8576b"
             ],
             [
              0.6666666666666666,
              "#ed7953"
             ],
             [
              0.7777777777777778,
              "#fb9f3a"
             ],
             [
              0.8888888888888888,
              "#fdca26"
             ],
             [
              1,
              "#f0f921"
             ]
            ],
            "type": "histogram2dcontour"
           }
          ],
          "mesh3d": [
           {
            "colorbar": {
             "outlinewidth": 0,
             "ticks": ""
            },
            "type": "mesh3d"
           }
          ],
          "parcoords": [
           {
            "line": {
             "colorbar": {
              "outlinewidth": 0,
              "ticks": ""
             }
            },
            "type": "parcoords"
           }
          ],
          "pie": [
           {
            "automargin": true,
            "type": "pie"
           }
          ],
          "scatter": [
           {
            "fillpattern": {
             "fillmode": "overlay",
             "size": 10,
             "solidity": 0.2
            },
            "type": "scatter"
           }
          ],
          "scatter3d": [
           {
            "line": {
             "colorbar": {
              "outlinewidth": 0,
              "ticks": ""
             }
            },
            "marker": {
             "colorbar": {
              "outlinewidth": 0,
              "ticks": ""
             }
            },
            "type": "scatter3d"
           }
          ],
          "scattercarpet": [
           {
            "marker": {
             "colorbar": {
              "outlinewidth": 0,
              "ticks": ""
             }
            },
            "type": "scattercarpet"
           }
          ],
          "scattergeo": [
           {
            "marker": {
             "colorbar": {
              "outlinewidth": 0,
              "ticks": ""
             }
            },
            "type": "scattergeo"
           }
          ],
          "scattergl": [
           {
            "marker": {
             "colorbar": {
              "outlinewidth": 0,
              "ticks": ""
             }
            },
            "type": "scattergl"
           }
          ],
          "scattermap": [
           {
            "marker": {
             "colorbar": {
              "outlinewidth": 0,
              "ticks": ""
             }
            },
            "type": "scattermap"
           }
          ],
          "scattermapbox": [
           {
            "marker": {
             "colorbar": {
              "outlinewidth": 0,
              "ticks": ""
             }
            },
            "type": "scattermapbox"
           }
          ],
          "scatterpolar": [
           {
            "marker": {
             "colorbar": {
              "outlinewidth": 0,
              "ticks": ""
             }
            },
            "type": "scatterpolar"
           }
          ],
          "scatterpolargl": [
           {
            "marker": {
             "colorbar": {
              "outlinewidth": 0,
              "ticks": ""
             }
            },
            "type": "scatterpolargl"
           }
          ],
          "scatterternary": [
           {
            "marker": {
             "colorbar": {
              "outlinewidth": 0,
              "ticks": ""
             }
            },
            "type": "scatterternary"
           }
          ],
          "surface": [
           {
            "colorbar": {
             "outlinewidth": 0,
             "ticks": ""
            },
            "colorscale": [
             [
              0,
              "#0d0887"
             ],
             [
              0.1111111111111111,
              "#46039f"
             ],
             [
              0.2222222222222222,
              "#7201a8"
             ],
             [
              0.3333333333333333,
              "#9c179e"
             ],
             [
              0.4444444444444444,
              "#bd3786"
             ],
             [
              0.5555555555555556,
              "#d8576b"
             ],
             [
              0.6666666666666666,
              "#ed7953"
             ],
             [
              0.7777777777777778,
              "#fb9f3a"
             ],
             [
              0.8888888888888888,
              "#fdca26"
             ],
             [
              1,
              "#f0f921"
             ]
            ],
            "type": "surface"
           }
          ],
          "table": [
           {
            "cells": {
             "fill": {
              "color": "#EBF0F8"
             },
             "line": {
              "color": "white"
             }
            },
            "header": {
             "fill": {
              "color": "#C8D4E3"
             },
             "line": {
              "color": "white"
             }
            },
            "type": "table"
           }
          ]
         },
         "layout": {
          "annotationdefaults": {
           "arrowcolor": "#2a3f5f",
           "arrowhead": 0,
           "arrowwidth": 1
          },
          "autotypenumbers": "strict",
          "coloraxis": {
           "colorbar": {
            "outlinewidth": 0,
            "ticks": ""
           }
          },
          "colorscale": {
           "diverging": [
            [
             0,
             "#8e0152"
            ],
            [
             0.1,
             "#c51b7d"
            ],
            [
             0.2,
             "#de77ae"
            ],
            [
             0.3,
             "#f1b6da"
            ],
            [
             0.4,
             "#fde0ef"
            ],
            [
             0.5,
             "#f7f7f7"
            ],
            [
             0.6,
             "#e6f5d0"
            ],
            [
             0.7,
             "#b8e186"
            ],
            [
             0.8,
             "#7fbc41"
            ],
            [
             0.9,
             "#4d9221"
            ],
            [
             1,
             "#276419"
            ]
           ],
           "sequential": [
            [
             0,
             "#0d0887"
            ],
            [
             0.1111111111111111,
             "#46039f"
            ],
            [
             0.2222222222222222,
             "#7201a8"
            ],
            [
             0.3333333333333333,
             "#9c179e"
            ],
            [
             0.4444444444444444,
             "#bd3786"
            ],
            [
             0.5555555555555556,
             "#d8576b"
            ],
            [
             0.6666666666666666,
             "#ed7953"
            ],
            [
             0.7777777777777778,
             "#fb9f3a"
            ],
            [
             0.8888888888888888,
             "#fdca26"
            ],
            [
             1,
             "#f0f921"
            ]
           ],
           "sequentialminus": [
            [
             0,
             "#0d0887"
            ],
            [
             0.1111111111111111,
             "#46039f"
            ],
            [
             0.2222222222222222,
             "#7201a8"
            ],
            [
             0.3333333333333333,
             "#9c179e"
            ],
            [
             0.4444444444444444,
             "#bd3786"
            ],
            [
             0.5555555555555556,
             "#d8576b"
            ],
            [
             0.6666666666666666,
             "#ed7953"
            ],
            [
             0.7777777777777778,
             "#fb9f3a"
            ],
            [
             0.8888888888888888,
             "#fdca26"
            ],
            [
             1,
             "#f0f921"
            ]
           ]
          },
          "colorway": [
           "#636efa",
           "#EF553B",
           "#00cc96",
           "#ab63fa",
           "#FFA15A",
           "#19d3f3",
           "#FF6692",
           "#B6E880",
           "#FF97FF",
           "#FECB52"
          ],
          "font": {
           "color": "#2a3f5f"
          },
          "geo": {
           "bgcolor": "white",
           "lakecolor": "white",
           "landcolor": "white",
           "showlakes": true,
           "showland": true,
           "subunitcolor": "#C8D4E3"
          },
          "hoverlabel": {
           "align": "left"
          },
          "hovermode": "closest",
          "mapbox": {
           "style": "light"
          },
          "paper_bgcolor": "white",
          "plot_bgcolor": "white",
          "polar": {
           "angularaxis": {
            "gridcolor": "#EBF0F8",
            "linecolor": "#EBF0F8",
            "ticks": ""
           },
           "bgcolor": "white",
           "radialaxis": {
            "gridcolor": "#EBF0F8",
            "linecolor": "#EBF0F8",
            "ticks": ""
           }
          },
          "scene": {
           "xaxis": {
            "backgroundcolor": "white",
            "gridcolor": "#DFE8F3",
            "gridwidth": 2,
            "linecolor": "#EBF0F8",
            "showbackground": true,
            "ticks": "",
            "zerolinecolor": "#EBF0F8"
           },
           "yaxis": {
            "backgroundcolor": "white",
            "gridcolor": "#DFE8F3",
            "gridwidth": 2,
            "linecolor": "#EBF0F8",
            "showbackground": true,
            "ticks": "",
            "zerolinecolor": "#EBF0F8"
           },
           "zaxis": {
            "backgroundcolor": "white",
            "gridcolor": "#DFE8F3",
            "gridwidth": 2,
            "linecolor": "#EBF0F8",
            "showbackground": true,
            "ticks": "",
            "zerolinecolor": "#EBF0F8"
           }
          },
          "shapedefaults": {
           "line": {
            "color": "#2a3f5f"
           }
          },
          "ternary": {
           "aaxis": {
            "gridcolor": "#DFE8F3",
            "linecolor": "#A2B1C6",
            "ticks": ""
           },
           "baxis": {
            "gridcolor": "#DFE8F3",
            "linecolor": "#A2B1C6",
            "ticks": ""
           },
           "bgcolor": "white",
           "caxis": {
            "gridcolor": "#DFE8F3",
            "linecolor": "#A2B1C6",
            "ticks": ""
           }
          },
          "title": {
           "x": 0.05
          },
          "xaxis": {
           "automargin": true,
           "gridcolor": "#EBF0F8",
           "linecolor": "#EBF0F8",
           "ticks": "",
           "title": {
            "standoff": 15
           },
           "zerolinecolor": "#EBF0F8",
           "zerolinewidth": 2
          },
          "yaxis": {
           "automargin": true,
           "gridcolor": "#EBF0F8",
           "linecolor": "#EBF0F8",
           "ticks": "",
           "title": {
            "standoff": 15
           },
           "zerolinecolor": "#EBF0F8",
           "zerolinewidth": 2
          }
         }
        },
        "title": {
         "font": {
          "color": "Black",
          "size": 22
         },
         "text": "Topic Word Scores",
         "x": 0.5,
         "xanchor": "center",
         "yanchor": "top"
        },
        "width": 1000,
        "xaxis": {
         "anchor": "y",
         "domain": [
          0,
          0.175
         ],
         "showgrid": true
        },
        "xaxis10": {
         "anchor": "y10",
         "domain": [
          0.275,
          0.45
         ],
         "showgrid": true
        },
        "xaxis11": {
         "anchor": "y11",
         "domain": [
          0.55,
          0.7250000000000001
         ],
         "showgrid": true
        },
        "xaxis12": {
         "anchor": "y12",
         "domain": [
          0.825,
          1
         ],
         "showgrid": true
        },
        "xaxis2": {
         "anchor": "y2",
         "domain": [
          0.275,
          0.45
         ],
         "showgrid": true
        },
        "xaxis3": {
         "anchor": "y3",
         "domain": [
          0.55,
          0.7250000000000001
         ],
         "showgrid": true
        },
        "xaxis4": {
         "anchor": "y4",
         "domain": [
          0.825,
          1
         ],
         "showgrid": true
        },
        "xaxis5": {
         "anchor": "y5",
         "domain": [
          0,
          0.175
         ],
         "showgrid": true
        },
        "xaxis6": {
         "anchor": "y6",
         "domain": [
          0.275,
          0.45
         ],
         "showgrid": true
        },
        "xaxis7": {
         "anchor": "y7",
         "domain": [
          0.55,
          0.7250000000000001
         ],
         "showgrid": true
        },
        "xaxis8": {
         "anchor": "y8",
         "domain": [
          0.825,
          1
         ],
         "showgrid": true
        },
        "xaxis9": {
         "anchor": "y9",
         "domain": [
          0,
          0.175
         ],
         "showgrid": true
        },
        "yaxis": {
         "anchor": "x",
         "domain": [
          0.7555555555555555,
          1
         ],
         "showgrid": true
        },
        "yaxis10": {
         "anchor": "x10",
         "domain": [
          0,
          0.24444444444444446
         ],
         "showgrid": true
        },
        "yaxis11": {
         "anchor": "x11",
         "domain": [
          0,
          0.24444444444444446
         ],
         "showgrid": true
        },
        "yaxis12": {
         "anchor": "x12",
         "domain": [
          0,
          0.24444444444444446
         ],
         "showgrid": true
        },
        "yaxis2": {
         "anchor": "x2",
         "domain": [
          0.7555555555555555,
          1
         ],
         "showgrid": true
        },
        "yaxis3": {
         "anchor": "x3",
         "domain": [
          0.7555555555555555,
          1
         ],
         "showgrid": true
        },
        "yaxis4": {
         "anchor": "x4",
         "domain": [
          0.7555555555555555,
          1
         ],
         "showgrid": true
        },
        "yaxis5": {
         "anchor": "x5",
         "domain": [
          0.37777777777777777,
          0.6222222222222222
         ],
         "showgrid": true
        },
        "yaxis6": {
         "anchor": "x6",
         "domain": [
          0.37777777777777777,
          0.6222222222222222
         ],
         "showgrid": true
        },
        "yaxis7": {
         "anchor": "x7",
         "domain": [
          0.37777777777777777,
          0.6222222222222222
         ],
         "showgrid": true
        },
        "yaxis8": {
         "anchor": "x8",
         "domain": [
          0.37777777777777777,
          0.6222222222222222
         ],
         "showgrid": true
        },
        "yaxis9": {
         "anchor": "x9",
         "domain": [
          0,
          0.24444444444444446
         ],
         "showgrid": true
        }
       }
      }
     },
     "metadata": {},
     "output_type": "display_data"
    }
   ],
   "source": [
    "topic_model.visualize_barchart(top_n_topics=10)"
   ]
  },
  {
   "cell_type": "code",
   "execution_count": 14,
   "id": "77f8bac0-4b93-4c05-9bb6-525eeab0b5bc",
   "metadata": {},
   "outputs": [
    {
     "name": "stderr",
     "output_type": "stream",
     "text": [
      "100%|██████████████████████████████████████████| 37/37 [00:00<00:00, 841.37it/s]\n"
     ]
    },
    {
     "data": {
      "application/vnd.plotly.v1+json": {
       "config": {
        "plotlyServerURL": "https://plot.ly"
       },
       "data": [
        {
         "hoverinfo": "text",
         "marker": {
          "color": "rgb(61,153,112)"
         },
         "mode": "lines",
         "text": [
          "fear_prospect_fail_job_separ",
          "",
          "",
          "fear_discrimin_bias_implicit_negat"
         ],
         "type": "scatter",
         "x": {
          "bdata": "AAAAAAAAAAByXx/GbKreP3JfH8Zsqt4/AAAAAAAAAAA=",
          "dtype": "f8"
         },
         "xaxis": "x",
         "y": {
          "bdata": "AAAAAAAAFMAAAAAAAAAUwAAAAAAAAC7AAAAAAAAALsA=",
          "dtype": "f8"
         },
         "yaxis": "y"
        },
        {
         "hoverinfo": "text",
         "marker": {
          "color": "rgb(255,65,54)"
         },
         "mode": "lines",
         "text": [
          "stigma_rare_sometim_somewhat_attach",
          "",
          "",
          "stigma_health_mental_physic_peopl"
         ],
         "type": "scatter",
         "x": {
          "bdata": "AAAAAAAAAACYV3hTP3HgP5hXeFM/ceA/AAAAAAAAAAA=",
          "dtype": "f8"
         },
         "xaxis": "x",
         "y": {
          "bdata": "AAAAAACAQcAAAAAAAIBBwAAAAAAAgEbAAAAAAACARsA=",
          "dtype": "f8"
         },
         "yaxis": "y"
        },
        {
         "hoverinfo": "text",
         "marker": {
          "color": "rgb(255,65,54)"
         },
         "mode": "lines",
         "text": [
          "stigma_decisionmak_subconsci_accommod_fair",
          "",
          "",
          "stigma_health_attach_mental_physic"
         ],
         "type": "scatter",
         "x": {
          "bdata": "AAAAAAAAAADpFw8/ptPjP+kXDz+m0+M/mFd4Uz9x4D8=",
          "dtype": "f8"
         },
         "xaxis": "x",
         "y": {
          "bdata": "AAAAAAAAOcAAAAAAAAA5wAAAAAAAAETAAAAAAAAARMA=",
          "dtype": "f8"
         },
         "yaxis": "y"
        },
        {
         "hoverinfo": "text",
         "marker": {
          "color": "rgb(35,205,205)"
         },
         "mode": "lines",
         "text": [
          "rare_sheet_balanc_mayb_sometim",
          "",
          "",
          "rare_mayb_open_somewhat_hurt"
         ],
         "type": "scatter",
         "x": {
          "bdata": "AAAAAAAAAAAYRCh/rqfhPxhEKH+up+E/AAAAAAAAAAA=",
          "dtype": "f8"
         },
         "xaxis": "x",
         "y": {
          "bdata": "AAAAAACAS8AAAAAAAIBLwAAAAAAAQFDAAAAAAABAUMA=",
          "dtype": "f8"
         },
         "yaxis": "y"
        },
        {
         "hoverinfo": "text",
         "marker": {
          "color": "rgb(35,205,205)"
         },
         "mode": "lines",
         "text": [
          "rare_mayb_open_somewhat_sheet",
          "",
          "",
          "rare_think_open_yes_somewhat"
         ],
         "type": "scatter",
         "x": {
          "bdata": "GEQof66n4T/svw/y/p7iP+y/D/L+nuI/AAAAAAAAAAA=",
          "dtype": "f8"
         },
         "xaxis": "x",
         "y": {
          "bdata": "AAAAAAAATsAAAAAAAABOwAAAAAAAwFLAAAAAAADAUsA=",
          "dtype": "f8"
         },
         "yaxis": "y"
        },
        {
         "hoverinfo": "text",
         "marker": {
          "color": "rgb(0,116,217)"
         },
         "mode": "lines",
         "text": [
          "stigma_health_attach_mental_physic",
          "",
          "",
          "rare_open_somewhat_mayb_think"
         ],
         "type": "scatter",
         "x": {
          "bdata": "6RcPP6bT4z93E0X62JfxP3cTRfrYl/E/7L8P8v6e4j8=",
          "dtype": "f8"
         },
         "xaxis": "x",
         "y": {
          "bdata": "AAAAAABAQMAAAAAAAEBAwAAAAAAA4FDAAAAAAADgUMA=",
          "dtype": "f8"
         },
         "yaxis": "y"
        },
        {
         "hoverinfo": "text",
         "marker": {
          "color": "rgb(0,116,217)"
         },
         "mode": "lines",
         "text": [
          "fear_discrimin_bias_negat_implicit",
          "",
          "",
          "rare_open_somewhat_mayb_think"
         ],
         "type": "scatter",
         "x": {
          "bdata": "cl8fxmyq3j+H6DAvgy/yP4foMC+DL/I/dxNF+tiX8T8=",
          "dtype": "f8"
         },
         "xaxis": "x",
         "y": {
          "bdata": "AAAAAAAAJMAAAAAAAAAkwAAAAAAAAEnAAAAAAAAAScA=",
          "dtype": "f8"
         },
         "yaxis": "y"
        },
        {
         "hoverinfo": "text",
         "marker": {
          "color": "rgb(133,20,75)"
         },
         "mode": "lines",
         "text": [
          "interview_process_skill_sometim_open",
          "",
          "",
          "interview_health_ask_discuss_physic"
         ],
         "type": "scatter",
         "x": {
          "bdata": "AAAAAAAAAAB6aWDXEKbhP3ppYNcQpuE/AAAAAAAAAAA=",
          "dtype": "f8"
         },
         "xaxis": "x",
         "y": {
          "bdata": "AAAAAADAV8AAAAAAAMBXwAAAAAAAQFrAAAAAAABAWsA=",
          "dtype": "f8"
         },
         "yaxis": "y"
        },
        {
         "hoverinfo": "text",
         "marker": {
          "color": "rgb(133,20,75)"
         },
         "mode": "lines",
         "text": [
          "negat_impact_afraid_outcom_benefit",
          "",
          "",
          "interview_discuss_process_health_open"
         ],
         "type": "scatter",
         "x": {
          "bdata": "AAAAAAAAAAAqbhU+x/npPypuFT7H+ek/emlg1xCm4T8=",
          "dtype": "f8"
         },
         "xaxis": "x",
         "y": {
          "bdata": "AAAAAABAVcAAAAAAAEBVwAAAAAAAAFnAAAAAAAAAWcA=",
          "dtype": "f8"
         },
         "yaxis": "y"
        },
        {
         "hoverinfo": "text",
         "marker": {
          "color": "rgb(133,20,75)"
         },
         "mode": "lines",
         "text": [
          "issu_physic_health_depend_work",
          "",
          "",
          "affect_work_job_depend_abil"
         ],
         "type": "scatter",
         "x": {
          "bdata": "AAAAAAAAAAAiyjzgy5zgPyLKPODLnOA/AAAAAAAAAAA=",
          "dtype": "f8"
         },
         "xaxis": "x",
         "y": {
          "bdata": "AAAAAABAX8AAAAAAAEBfwAAAAAAA4GDAAAAAAADgYMA=",
          "dtype": "f8"
         },
         "yaxis": "y"
        },
        {
         "hoverinfo": "text",
         "marker": {
          "color": "rgb(133,20,75)"
         },
         "mode": "lines",
         "text": [
          "affect_work_depend_abil_perform",
          "",
          "",
          "job_weigh_depend_assum_worri"
         ],
         "type": "scatter",
         "x": {
          "bdata": "Iso84Muc4D99yqsjW8fkP33KqyNbx+Q/AAAAAAAAAAA=",
          "dtype": "f8"
         },
         "xaxis": "x",
         "y": {
          "bdata": "AAAAAABAYMAAAAAAAEBgwAAAAAAAIGLAAAAAAAAgYsA=",
          "dtype": "f8"
         },
         "yaxis": "y"
        },
        {
         "hoverinfo": "text",
         "marker": {
          "color": "rgb(133,20,75)"
         },
         "mode": "lines",
         "text": [
          "need_physic_job_know_hand",
          "",
          "",
          "job_weigh_depend_assum_worri"
         ],
         "type": "scatter",
         "x": {
          "bdata": "AAAAAAAAAAAT9Tv+F7LmPxP1O/4XsuY/fcqrI1vH5D8=",
          "dtype": "f8"
         },
         "xaxis": "x",
         "y": {
          "bdata": "AAAAAADAXMAAAAAAAMBcwAAAAAAAMGHAAAAAAAAwYcA=",
          "dtype": "f8"
         },
         "yaxis": "y"
        },
        {
         "hoverinfo": "text",
         "marker": {
          "color": "rgb(133,20,75)"
         },
         "mode": "lines",
         "text": [
          "need_physic_job_know_hand",
          "",
          "",
          "job_short_term_time_import"
         ],
         "type": "scatter",
         "x": {
          "bdata": "E/U7/hey5j/iRBbZgTroP+JEFtmBOug/AAAAAAAAAAA=",
          "dtype": "f8"
         },
         "xaxis": "x",
         "y": {
          "bdata": "AAAAAACQX8AAAAAAAJBfwAAAAAAAYGPAAAAAAABgY8A=",
          "dtype": "f8"
         },
         "yaxis": "y"
        },
        {
         "hoverinfo": "text",
         "marker": {
          "color": "rgb(133,20,75)"
         },
         "mode": "lines",
         "text": [
          "need_physic_job_know_hand",
          "",
          "",
          "job_short_term_time_import"
         ],
         "type": "scatter",
         "x": {
          "bdata": "Km4VPsf56T/t3agJvkXqP+3dqAm+Reo/4kQW2YE66D8=",
          "dtype": "f8"
         },
         "xaxis": "x",
         "y": {
          "bdata": "AAAAAAAgV8AAAAAAACBXwAAAAAAAlGHAAAAAAACUYcA=",
          "dtype": "f8"
         },
         "yaxis": "y"
        },
        {
         "hoverinfo": "text",
         "marker": {
          "color": "rgb(133,20,75)"
         },
         "mode": "lines",
         "text": [
          "mental_ill_worri_hire_employ",
          "",
          "",
          "mental_health_issu_physic_disord"
         ],
         "type": "scatter",
         "x": {
          "bdata": "AAAAAAAAAADtiJgCvIjhP+2ImAK8iOE/AAAAAAAAAAA=",
          "dtype": "f8"
         },
         "xaxis": "x",
         "y": {
          "bdata": "AAAAAACgZMAAAAAAAKBkwAAAAAAA4GXAAAAAAADgZcA=",
          "dtype": "f8"
         },
         "yaxis": "y"
        },
        {
         "hoverinfo": "text",
         "marker": {
          "color": "rgb(133,20,75)"
         },
         "mode": "lines",
         "text": [
          "mental_ill_worri_hire_employ",
          "",
          "",
          "mental_health_time_issu_employ"
         ],
         "type": "scatter",
         "x": {
          "bdata": "7YiYAryI4T9l5lmqDcHiP2XmWaoNweI/AAAAAAAAAAA=",
          "dtype": "f8"
         },
         "xaxis": "x",
         "y": {
          "bdata": "AAAAAABAZcAAAAAAAEBlwAAAAAAAIGfAAAAAAAAgZ8A=",
          "dtype": "f8"
         },
         "yaxis": "y"
        },
        {
         "hoverinfo": "text",
         "marker": {
          "color": "rgb(133,20,75)"
         },
         "mode": "lines",
         "text": [
          "mental_ill_worri_hire_employ",
          "",
          "",
          "mental_health_time_issu_employ"
         ],
         "type": "scatter",
         "x": {
          "bdata": "7d2oCb5F6j/to2ext/zrP+2jZ7G3/Os/ZeZZqg3B4j8=",
          "dtype": "f8"
         },
         "xaxis": "x",
         "y": {
          "bdata": "AAAAAAAkXcAAAAAAACRdwAAAAAAAMGbAAAAAAAAwZsA=",
          "dtype": "f8"
         },
         "yaxis": "y"
        },
        {
         "hoverinfo": "text",
         "marker": {
          "color": "rgb(133,20,75)"
         },
         "mode": "lines",
         "text": [
          "hire_natur_influenc_expect_think",
          "",
          "",
          "legal_support_law_protect_help"
         ],
         "type": "scatter",
         "x": {
          "bdata": "AAAAAAAAAAC5Xg0g667oP7leDSDrrug/AAAAAAAAAAA=",
          "dtype": "f8"
         },
         "xaxis": "x",
         "y": {
          "bdata": "AAAAAABgaMAAAAAAAGBowAAAAAAAoGnAAAAAAACgacA=",
          "dtype": "f8"
         },
         "yaxis": "y"
        },
        {
         "hoverinfo": "text",
         "marker": {
          "color": "rgb(133,20,75)"
         },
         "mode": "lines",
         "text": [
          "hire_natur_influenc_expect_think",
          "",
          "",
          "legal_support_law_protect_help"
         ],
         "type": "scatter",
         "x": {
          "bdata": "7aNnsbf86z9ohDUl3j7tP2iENSXePu0/uV4NIOuu6D8=",
          "dtype": "f8"
         },
         "xaxis": "x",
         "y": {
          "bdata": "AAAAAABhYsAAAAAAAGFiwAAAAAAAAGnAAAAAAAAAacA=",
          "dtype": "f8"
         },
         "yaxis": "y"
        },
        {
         "hoverinfo": "text",
         "marker": {
          "color": "rgb(0,116,217)"
         },
         "mode": "lines",
         "text": [
          "hire_natur_influenc_expect_think",
          "",
          "",
          "legal_support_law_protect_help"
         ],
         "type": "scatter",
         "x": {
          "bdata": "h+gwL4Mv8j8PnQ8vT8nzPw+dDy9PyfM/aIQ1Jd4+7T8=",
          "dtype": "f8"
         },
         "xaxis": "x",
         "y": {
          "bdata": "AAAAAAAAPsAAAAAAAAA+wAAAAACAsGXAAAAAAICwZcA=",
          "dtype": "f8"
         },
         "yaxis": "y"
        },
        {
         "hoverinfo": "text",
         "marker": {
          "color": "rgb(255,220,0)"
         },
         "mode": "lines",
         "text": [
          "neutral_irrelev_mayb_applic_reason",
          "",
          "",
          "neutral_think_yes_applic_matter"
         ],
         "type": "scatter",
         "x": {
          "bdata": "AAAAAAAAAAC+2g4oc+fUP77aDihz59Q/AAAAAAAAAAA=",
          "dtype": "f8"
         },
         "xaxis": "x",
         "y": {
          "bdata": "AAAAAADgasAAAAAAAOBqwAAAAAAAIGzAAAAAAAAgbMA=",
          "dtype": "f8"
         },
         "yaxis": "y"
        },
        {
         "hoverinfo": "text",
         "marker": {
          "color": "rgb(40,35,35)"
         },
         "mode": "lines",
         "text": [
          "ill_applic_mental_set_appropri",
          "",
          "",
          "ill_applic_mental_mayb_day"
         ],
         "type": "scatter",
         "x": {
          "bdata": "AAAAAAAAAABQSOEBu3HWP1BI4QG7cdY/AAAAAAAAAAA=",
          "dtype": "f8"
         },
         "xaxis": "x",
         "y": {
          "bdata": "AAAAAABgbcAAAAAAAGBtwAAAAAAAoG7AAAAAAACgbsA=",
          "dtype": "f8"
         },
         "yaxis": "y"
        },
        {
         "hoverinfo": "text",
         "marker": {
          "color": "rgb(61,153,112)"
         },
         "mode": "lines",
         "text": [
          "applic_mayb_unfortun_unsur_somewhat",
          "",
          "",
          "applic_mayb_somewhat_open_sure"
         ],
         "type": "scatter",
         "x": {
          "bdata": "AAAAAAAAAACImWxLOjfKP4iZbEs6N8o/AAAAAAAAAAA=",
          "dtype": "f8"
         },
         "xaxis": "x",
         "y": {
          "bdata": "AAAAAACQcMAAAAAAAJBwwAAAAAAAMHHAAAAAAAAwccA=",
          "dtype": "f8"
         },
         "yaxis": "y"
        },
        {
         "hoverinfo": "text",
         "marker": {
          "color": "rgb(61,153,112)"
         },
         "mode": "lines",
         "text": [
          "applic_mayb_somewhat_open_unfortun",
          "",
          "",
          "mayb_filter_pertin_sometim_open"
         ],
         "type": "scatter",
         "x": {
          "bdata": "iJlsSzo3yj9S5b05Az3jP1LlvTkDPeM/AAAAAAAAAAA=",
          "dtype": "f8"
         },
         "xaxis": "x",
         "y": {
          "bdata": "AAAAAADgcMAAAAAAAOBwwAAAAAAA0HHAAAAAAADQccA=",
          "dtype": "f8"
         },
         "yaxis": "y"
        },
        {
         "hoverinfo": "text",
         "marker": {
          "color": "rgb(61,153,112)"
         },
         "mode": "lines",
         "text": [
          "import_applic_ramif_unknown_mayb",
          "",
          "",
          "mayb_filter_pertin_sometim_open"
         ],
         "type": "scatter",
         "x": {
          "bdata": "AAAAAAAAAAA3py8xnk7lPzenLzGeTuU/UuW9OQM94z8=",
          "dtype": "f8"
         },
         "xaxis": "x",
         "y": {
          "bdata": "AAAAAADgb8AAAAAAAOBvwAAAAAAAWHHAAAAAAABYccA=",
          "dtype": "f8"
         },
         "yaxis": "y"
        },
        {
         "hoverinfo": "text",
         "marker": {
          "color": "rgb(61,153,112)"
         },
         "mode": "lines",
         "text": [
          "import_applic_ramif_unknown_mayb",
          "",
          "",
          "privaci_honesti_applic_person_disqualifi"
         ],
         "type": "scatter",
         "x": {
          "bdata": "N6cvMZ5O5T/JojesphDoP8miN6ymEOg/AAAAAAAAAAA=",
          "dtype": "f8"
         },
         "xaxis": "x",
         "y": {
          "bdata": "AAAAAACkcMAAAAAAAKRwwAAAAAAAcHLAAAAAAABwcsA=",
          "dtype": "f8"
         },
         "yaxis": "y"
        },
        {
         "hoverinfo": "text",
         "marker": {
          "color": "rgb(0,116,217)"
         },
         "mode": "lines",
         "text": [
          "ill_applic_mental_set_appropri",
          "",
          "",
          "privaci_honesti_applic_person_disqualifi"
         ],
         "type": "scatter",
         "x": {
          "bdata": "UEjhAbtx1j/kJucZOifxP+Qm5xk6J/E/yaI3rKYQ6D8=",
          "dtype": "f8"
         },
         "xaxis": "x",
         "y": {
          "bdata": "AAAAAAAAbsAAAAAAAABuwAAAAAAAinHAAAAAAACKccA=",
          "dtype": "f8"
         },
         "yaxis": "y"
        },
        {
         "hoverinfo": "text",
         "marker": {
          "color": "rgb(0,116,217)"
         },
         "mode": "lines",
         "text": [
          "neutral_applic_think_sometim_yes",
          "",
          "",
          "privaci_honesti_applic_person_disqualifi"
         ],
         "type": "scatter",
         "x": {
          "bdata": "vtoOKHPn1D8cMmIXRhzzPxwyYhdGHPM/5CbnGTon8T8=",
          "dtype": "f8"
         },
         "xaxis": "x",
         "y": {
          "bdata": "AAAAAACAa8AAAAAAAIBrwAAAAAAARXDAAAAAAABFcMA=",
          "dtype": "f8"
         },
         "yaxis": "y"
        },
        {
         "hoverinfo": "text",
         "marker": {
          "color": "rgb(255,65,54)"
         },
         "mode": "lines",
         "text": [
          "sometim_yes_somewhat_smile_presumpt",
          "",
          "",
          "sometim_yes_somewhat_think_open"
         ],
         "type": "scatter",
         "x": {
          "bdata": "AAAAAAAAAADcCw61LpPTP9wLDrUuk9M/AAAAAAAAAAA=",
          "dtype": "f8"
         },
         "xaxis": "x",
         "y": {
          "bdata": "AAAAAACwc8AAAAAAALBzwAAAAAAAUHTAAAAAAABQdMA=",
          "dtype": "f8"
         },
         "yaxis": "y"
        },
        {
         "hoverinfo": "text",
         "marker": {
          "color": "rgb(255,65,54)"
         },
         "mode": "lines",
         "text": [
          "sometim_yes_somewhat_think_open",
          "",
          "",
          "yes_compar_open_got_sometim"
         ],
         "type": "scatter",
         "x": {
          "bdata": "3AsOtS6T0z8YoosX2oLiPxiiixfaguI/AAAAAAAAAAA=",
          "dtype": "f8"
         },
         "xaxis": "x",
         "y": {
          "bdata": "AAAAAAAAdMAAAAAAAAB0wAAAAAAA8HTAAAAAAADwdMA=",
          "dtype": "f8"
         },
         "yaxis": "y"
        },
        {
         "hoverinfo": "text",
         "marker": {
          "color": "rgb(255,65,54)"
         },
         "mode": "lines",
         "text": [
          "sometim_irrelev_mayb_held_embarrass",
          "",
          "",
          "yes_compar_open_got_sometim"
         ],
         "type": "scatter",
         "x": {
          "bdata": "AAAAAAAAAADCyBbURu/mP8LIFtRG7+Y/GKKLF9qC4j8=",
          "dtype": "f8"
         },
         "xaxis": "x",
         "y": {
          "bdata": "AAAAAAAQc8AAAAAAABBzwAAAAAAAeHTAAAAAAAB4dMA=",
          "dtype": "f8"
         },
         "yaxis": "y"
        },
        {
         "hoverinfo": "text",
         "marker": {
          "color": "rgb(35,205,205)"
         },
         "mode": "lines",
         "text": [
          "applic_idk_yes_think_correct",
          "",
          "",
          "applic_think_yes_somewhat_xxx"
         ],
         "type": "scatter",
         "x": {
          "bdata": "AAAAAAAAAABAfHVl5PLWP0B8dWXk8tY/AAAAAAAAAAA=",
          "dtype": "f8"
         },
         "xaxis": "x",
         "y": {
          "bdata": "AAAAAACQdcAAAAAAAJB1wAAAAAAAMHbAAAAAAAAwdsA=",
          "dtype": "f8"
         },
         "yaxis": "y"
        },
        {
         "hoverinfo": "text",
         "marker": {
          "color": "rgb(35,205,205)"
         },
         "mode": "lines",
         "text": [
          "applic_think_yes_somewhat_open",
          "",
          "",
          "gonna_applic_think_yes_open"
         ],
         "type": "scatter",
         "x": {
          "bdata": "QHx1ZeTy1j9F/bYvUwXgP0X9ti9TBeA/AAAAAAAAAAA=",
          "dtype": "f8"
         },
         "xaxis": "x",
         "y": {
          "bdata": "AAAAAADgdcAAAAAAAOB1wAAAAAAA0HbAAAAAAADQdsA=",
          "dtype": "f8"
         },
         "yaxis": "y"
        },
        {
         "hoverinfo": "text",
         "marker": {
          "color": "rgb(35,205,205)"
         },
         "mode": "lines",
         "text": [
          "applic_think_yes_open_somewhat",
          "",
          "",
          "risk_neglect_discard_wont_promot"
         ],
         "type": "scatter",
         "x": {
          "bdata": "Rf22L1MF4D83fNhNBxrvPzd82E0HGu8/AAAAAAAAAAA=",
          "dtype": "f8"
         },
         "xaxis": "x",
         "y": {
          "bdata": "AAAAAABYdsAAAAAAAFh2wAAAAAAAcHfAAAAAAABwd8A=",
          "dtype": "f8"
         },
         "yaxis": "y"
        },
        {
         "hoverinfo": "text",
         "marker": {
          "color": "rgb(0,116,217)"
         },
         "mode": "lines",
         "text": [
          "applic_think_yes_open_somewhat",
          "",
          "",
          "risk_neglect_discard_wont_promot"
         ],
         "type": "scatter",
         "x": {
          "bdata": "wsgW1Ebv5j/QkPOQMC7wP9CQ85AwLvA/N3zYTQca7z8=",
          "dtype": "f8"
         },
         "xaxis": "x",
         "y": {
          "bdata": "AAAAAADEc8AAAAAAAMRzwAAAAAAA5HbAAAAAAADkdsA=",
          "dtype": "f8"
         },
         "yaxis": "y"
        },
        {
         "hoverinfo": "text",
         "marker": {
          "color": "rgb(0,116,217)"
         },
         "mode": "lines",
         "text": [
          "applic_think_yes_open_somewhat",
          "",
          "",
          "risk_neglect_discard_wont_promot"
         ],
         "type": "scatter",
         "x": {
          "bdata": "HDJiF0Yc8z9zZK7dpiL1P3Nkrt2mIvU/0JDzkDAu8D8=",
          "dtype": "f8"
         },
         "xaxis": "x",
         "y": {
          "bdata": "AAAAAAAFbsAAAAAAAAVuwAAAAAAAVHXAAAAAAABUdcA=",
          "dtype": "f8"
         },
         "yaxis": "y"
        },
        {
         "hoverinfo": "text",
         "marker": {
          "color": "rgb(0,116,217)"
         },
         "mode": "lines",
         "text": [
          "applic_think_yes_open_somewhat",
          "",
          "",
          "risk_neglect_discard_wont_promot"
         ],
         "type": "scatter",
         "x": {
          "bdata": "D50PL0/J8z+r+aC/eSr6P6v5oL95Kvo/c2Su3aYi9T8=",
          "dtype": "f8"
         },
         "xaxis": "x",
         "y": {
          "bdata": "AAAAAIBwWcAAAAAAgHBZwAAAAABAK3LAAAAAAEArcsA=",
          "dtype": "f8"
         },
         "yaxis": "y"
        },
        {
         "hoverinfo": "text",
         "hovertext": [
          "rare_mayb_open_somewhat_sheet",
          "stigma_health_attach_mental_physic",
          "fear_discrimin_bias_negat_implicit",
          "affect_work_depend_abil_perform",
          "need_physic_job_know_hand",
          "need_physic_job_know_hand",
          "mental_ill_worri_hire_employ",
          "mental_ill_worri_hire_employ",
          "hire_natur_influenc_expect_think",
          "hire_natur_influenc_expect_think",
          "applic_mayb_somewhat_open_unfortun",
          "import_applic_ramif_unknown_mayb",
          "ill_applic_mental_set_appropri",
          "neutral_applic_think_sometim_yes",
          "sometim_yes_somewhat_think_open",
          "applic_think_yes_somewhat_open",
          "applic_think_yes_open_somewhat",
          "applic_think_yes_open_somewhat",
          "applic_think_yes_open_somewhat",
          "applic_think_yes_open_somewhat"
         ],
         "marker": {
          "color": "black"
         },
         "mode": "markers",
         "showlegend": false,
         "type": "scatter",
         "x": [
          0.5517189487019349,
          0.619586108362225,
          0.47915191028504645,
          0.5191401843679311,
          0.7092399564277535,
          0.8117405140469078,
          0.5479412127208697,
          0.8210134686150333,
          0.8745993103922253,
          1.1365997165108028,
          0.20481041605780725,
          0.665846916262331,
          0.3506915586814374,
          0.3266265765372899,
          0.3058583038438749,
          0.3585749617395244,
          0.5006500179223755,
          0.7167085783351228,
          1.1944027818127614,
          1.2366477812118466
         ],
         "y": [
          -60,
          -32.5,
          -10,
          -130,
          -126.25,
          -92.5,
          -170,
          -116.5625,
          -147.03125,
          -30,
          -270,
          -266.25,
          -240,
          -220,
          -320,
          -350,
          -357.5,
          -316.25,
          -240.15625,
          -101.7578125
         ]
        },
        {
         "hoverinfo": "text",
         "hovertext": [
          "stigma_health_attach_mental_physic",
          "rare_open_somewhat_mayb_think",
          "rare_open_somewhat_mayb_think",
          "interview_discuss_process_health_open",
          "job_weigh_depend_assum_worri",
          "job_short_term_time_import",
          "mental_health_time_issu_employ",
          "legal_support_law_protect_help",
          "legal_support_law_protect_help",
          "mayb_filter_pertin_sometim_open",
          "privaci_honesti_applic_person_disqualifi",
          "privaci_honesti_applic_person_disqualifi",
          "yes_compar_open_got_sometim",
          "risk_neglect_discard_wont_promot",
          "risk_neglect_discard_wont_promot",
          "risk_neglect_discard_wont_promot"
         ],
         "marker": {
          "color": "black"
         },
         "mode": "markers",
         "showlegend": false,
         "type": "scatter",
         "x": [
          0.5138241415286187,
          0.5819086768879038,
          1.099572160355107,
          0.5515217024397281,
          0.6493354508114205,
          0.7571419944744344,
          0.5860660864993404,
          0.7713523508091021,
          0.9139242865313806,
          0.6011978271264218,
          0.7520326007480317,
          1.0720768939813121,
          0.5784731349822918,
          0.9719273109839212,
          1.0112767851033375,
          1.3209599170134225
         ],
         "y": [
          -40,
          -67.5,
          -50,
          -100,
          -137.5,
          -140.625,
          -177.5,
          -200,
          -173.515625,
          -277.5,
          -280.625,
          -260.3125,
          -327.5,
          -366.25,
          -341.25,
          -290.703125
         ]
        }
       ],
       "layout": {
        "autosize": false,
        "height": 770,
        "hoverlabel": {
         "bgcolor": "white",
         "font": {
          "family": "Rockwell",
          "size": 16
         }
        },
        "hovermode": "closest",
        "plot_bgcolor": "#ECEFF1",
        "showlegend": false,
        "template": {
         "data": {
          "bar": [
           {
            "error_x": {
             "color": "#2a3f5f"
            },
            "error_y": {
             "color": "#2a3f5f"
            },
            "marker": {
             "line": {
              "color": "white",
              "width": 0.5
             },
             "pattern": {
              "fillmode": "overlay",
              "size": 10,
              "solidity": 0.2
             }
            },
            "type": "bar"
           }
          ],
          "barpolar": [
           {
            "marker": {
             "line": {
              "color": "white",
              "width": 0.5
             },
             "pattern": {
              "fillmode": "overlay",
              "size": 10,
              "solidity": 0.2
             }
            },
            "type": "barpolar"
           }
          ],
          "carpet": [
           {
            "aaxis": {
             "endlinecolor": "#2a3f5f",
             "gridcolor": "#C8D4E3",
             "linecolor": "#C8D4E3",
             "minorgridcolor": "#C8D4E3",
             "startlinecolor": "#2a3f5f"
            },
            "baxis": {
             "endlinecolor": "#2a3f5f",
             "gridcolor": "#C8D4E3",
             "linecolor": "#C8D4E3",
             "minorgridcolor": "#C8D4E3",
             "startlinecolor": "#2a3f5f"
            },
            "type": "carpet"
           }
          ],
          "choropleth": [
           {
            "colorbar": {
             "outlinewidth": 0,
             "ticks": ""
            },
            "type": "choropleth"
           }
          ],
          "contour": [
           {
            "colorbar": {
             "outlinewidth": 0,
             "ticks": ""
            },
            "colorscale": [
             [
              0,
              "#0d0887"
             ],
             [
              0.1111111111111111,
              "#46039f"
             ],
             [
              0.2222222222222222,
              "#7201a8"
             ],
             [
              0.3333333333333333,
              "#9c179e"
             ],
             [
              0.4444444444444444,
              "#bd3786"
             ],
             [
              0.5555555555555556,
              "#d8576b"
             ],
             [
              0.6666666666666666,
              "#ed7953"
             ],
             [
              0.7777777777777778,
              "#fb9f3a"
             ],
             [
              0.8888888888888888,
              "#fdca26"
             ],
             [
              1,
              "#f0f921"
             ]
            ],
            "type": "contour"
           }
          ],
          "contourcarpet": [
           {
            "colorbar": {
             "outlinewidth": 0,
             "ticks": ""
            },
            "type": "contourcarpet"
           }
          ],
          "heatmap": [
           {
            "colorbar": {
             "outlinewidth": 0,
             "ticks": ""
            },
            "colorscale": [
             [
              0,
              "#0d0887"
             ],
             [
              0.1111111111111111,
              "#46039f"
             ],
             [
              0.2222222222222222,
              "#7201a8"
             ],
             [
              0.3333333333333333,
              "#9c179e"
             ],
             [
              0.4444444444444444,
              "#bd3786"
             ],
             [
              0.5555555555555556,
              "#d8576b"
             ],
             [
              0.6666666666666666,
              "#ed7953"
             ],
             [
              0.7777777777777778,
              "#fb9f3a"
             ],
             [
              0.8888888888888888,
              "#fdca26"
             ],
             [
              1,
              "#f0f921"
             ]
            ],
            "type": "heatmap"
           }
          ],
          "histogram": [
           {
            "marker": {
             "pattern": {
              "fillmode": "overlay",
              "size": 10,
              "solidity": 0.2
             }
            },
            "type": "histogram"
           }
          ],
          "histogram2d": [
           {
            "colorbar": {
             "outlinewidth": 0,
             "ticks": ""
            },
            "colorscale": [
             [
              0,
              "#0d0887"
             ],
             [
              0.1111111111111111,
              "#46039f"
             ],
             [
              0.2222222222222222,
              "#7201a8"
             ],
             [
              0.3333333333333333,
              "#9c179e"
             ],
             [
              0.4444444444444444,
              "#bd3786"
             ],
             [
              0.5555555555555556,
              "#d8576b"
             ],
             [
              0.6666666666666666,
              "#ed7953"
             ],
             [
              0.7777777777777778,
              "#fb9f3a"
             ],
             [
              0.8888888888888888,
              "#fdca26"
             ],
             [
              1,
              "#f0f921"
             ]
            ],
            "type": "histogram2d"
           }
          ],
          "histogram2dcontour": [
           {
            "colorbar": {
             "outlinewidth": 0,
             "ticks": ""
            },
            "colorscale": [
             [
              0,
              "#0d0887"
             ],
             [
              0.1111111111111111,
              "#46039f"
             ],
             [
              0.2222222222222222,
              "#7201a8"
             ],
             [
              0.3333333333333333,
              "#9c179e"
             ],
             [
              0.4444444444444444,
              "#bd3786"
             ],
             [
              0.5555555555555556,
              "#d8576b"
             ],
             [
              0.6666666666666666,
              "#ed7953"
             ],
             [
              0.7777777777777778,
              "#fb9f3a"
             ],
             [
              0.8888888888888888,
              "#fdca26"
             ],
             [
              1,
              "#f0f921"
             ]
            ],
            "type": "histogram2dcontour"
           }
          ],
          "mesh3d": [
           {
            "colorbar": {
             "outlinewidth": 0,
             "ticks": ""
            },
            "type": "mesh3d"
           }
          ],
          "parcoords": [
           {
            "line": {
             "colorbar": {
              "outlinewidth": 0,
              "ticks": ""
             }
            },
            "type": "parcoords"
           }
          ],
          "pie": [
           {
            "automargin": true,
            "type": "pie"
           }
          ],
          "scatter": [
           {
            "fillpattern": {
             "fillmode": "overlay",
             "size": 10,
             "solidity": 0.2
            },
            "type": "scatter"
           }
          ],
          "scatter3d": [
           {
            "line": {
             "colorbar": {
              "outlinewidth": 0,
              "ticks": ""
             }
            },
            "marker": {
             "colorbar": {
              "outlinewidth": 0,
              "ticks": ""
             }
            },
            "type": "scatter3d"
           }
          ],
          "scattercarpet": [
           {
            "marker": {
             "colorbar": {
              "outlinewidth": 0,
              "ticks": ""
             }
            },
            "type": "scattercarpet"
           }
          ],
          "scattergeo": [
           {
            "marker": {
             "colorbar": {
              "outlinewidth": 0,
              "ticks": ""
             }
            },
            "type": "scattergeo"
           }
          ],
          "scattergl": [
           {
            "marker": {
             "colorbar": {
              "outlinewidth": 0,
              "ticks": ""
             }
            },
            "type": "scattergl"
           }
          ],
          "scattermap": [
           {
            "marker": {
             "colorbar": {
              "outlinewidth": 0,
              "ticks": ""
             }
            },
            "type": "scattermap"
           }
          ],
          "scattermapbox": [
           {
            "marker": {
             "colorbar": {
              "outlinewidth": 0,
              "ticks": ""
             }
            },
            "type": "scattermapbox"
           }
          ],
          "scatterpolar": [
           {
            "marker": {
             "colorbar": {
              "outlinewidth": 0,
              "ticks": ""
             }
            },
            "type": "scatterpolar"
           }
          ],
          "scatterpolargl": [
           {
            "marker": {
             "colorbar": {
              "outlinewidth": 0,
              "ticks": ""
             }
            },
            "type": "scatterpolargl"
           }
          ],
          "scatterternary": [
           {
            "marker": {
             "colorbar": {
              "outlinewidth": 0,
              "ticks": ""
             }
            },
            "type": "scatterternary"
           }
          ],
          "surface": [
           {
            "colorbar": {
             "outlinewidth": 0,
             "ticks": ""
            },
            "colorscale": [
             [
              0,
              "#0d0887"
             ],
             [
              0.1111111111111111,
              "#46039f"
             ],
             [
              0.2222222222222222,
              "#7201a8"
             ],
             [
              0.3333333333333333,
              "#9c179e"
             ],
             [
              0.4444444444444444,
              "#bd3786"
             ],
             [
              0.5555555555555556,
              "#d8576b"
             ],
             [
              0.6666666666666666,
              "#ed7953"
             ],
             [
              0.7777777777777778,
              "#fb9f3a"
             ],
             [
              0.8888888888888888,
              "#fdca26"
             ],
             [
              1,
              "#f0f921"
             ]
            ],
            "type": "surface"
           }
          ],
          "table": [
           {
            "cells": {
             "fill": {
              "color": "#EBF0F8"
             },
             "line": {
              "color": "white"
             }
            },
            "header": {
             "fill": {
              "color": "#C8D4E3"
             },
             "line": {
              "color": "white"
             }
            },
            "type": "table"
           }
          ]
         },
         "layout": {
          "annotationdefaults": {
           "arrowcolor": "#2a3f5f",
           "arrowhead": 0,
           "arrowwidth": 1
          },
          "autotypenumbers": "strict",
          "coloraxis": {
           "colorbar": {
            "outlinewidth": 0,
            "ticks": ""
           }
          },
          "colorscale": {
           "diverging": [
            [
             0,
             "#8e0152"
            ],
            [
             0.1,
             "#c51b7d"
            ],
            [
             0.2,
             "#de77ae"
            ],
            [
             0.3,
             "#f1b6da"
            ],
            [
             0.4,
             "#fde0ef"
            ],
            [
             0.5,
             "#f7f7f7"
            ],
            [
             0.6,
             "#e6f5d0"
            ],
            [
             0.7,
             "#b8e186"
            ],
            [
             0.8,
             "#7fbc41"
            ],
            [
             0.9,
             "#4d9221"
            ],
            [
             1,
             "#276419"
            ]
           ],
           "sequential": [
            [
             0,
             "#0d0887"
            ],
            [
             0.1111111111111111,
             "#46039f"
            ],
            [
             0.2222222222222222,
             "#7201a8"
            ],
            [
             0.3333333333333333,
             "#9c179e"
            ],
            [
             0.4444444444444444,
             "#bd3786"
            ],
            [
             0.5555555555555556,
             "#d8576b"
            ],
            [
             0.6666666666666666,
             "#ed7953"
            ],
            [
             0.7777777777777778,
             "#fb9f3a"
            ],
            [
             0.8888888888888888,
             "#fdca26"
            ],
            [
             1,
             "#f0f921"
            ]
           ],
           "sequentialminus": [
            [
             0,
             "#0d0887"
            ],
            [
             0.1111111111111111,
             "#46039f"
            ],
            [
             0.2222222222222222,
             "#7201a8"
            ],
            [
             0.3333333333333333,
             "#9c179e"
            ],
            [
             0.4444444444444444,
             "#bd3786"
            ],
            [
             0.5555555555555556,
             "#d8576b"
            ],
            [
             0.6666666666666666,
             "#ed7953"
            ],
            [
             0.7777777777777778,
             "#fb9f3a"
            ],
            [
             0.8888888888888888,
             "#fdca26"
            ],
            [
             1,
             "#f0f921"
            ]
           ]
          },
          "colorway": [
           "#636efa",
           "#EF553B",
           "#00cc96",
           "#ab63fa",
           "#FFA15A",
           "#19d3f3",
           "#FF6692",
           "#B6E880",
           "#FF97FF",
           "#FECB52"
          ],
          "font": {
           "color": "#2a3f5f"
          },
          "geo": {
           "bgcolor": "white",
           "lakecolor": "white",
           "landcolor": "white",
           "showlakes": true,
           "showland": true,
           "subunitcolor": "#C8D4E3"
          },
          "hoverlabel": {
           "align": "left"
          },
          "hovermode": "closest",
          "mapbox": {
           "style": "light"
          },
          "paper_bgcolor": "white",
          "plot_bgcolor": "white",
          "polar": {
           "angularaxis": {
            "gridcolor": "#EBF0F8",
            "linecolor": "#EBF0F8",
            "ticks": ""
           },
           "bgcolor": "white",
           "radialaxis": {
            "gridcolor": "#EBF0F8",
            "linecolor": "#EBF0F8",
            "ticks": ""
           }
          },
          "scene": {
           "xaxis": {
            "backgroundcolor": "white",
            "gridcolor": "#DFE8F3",
            "gridwidth": 2,
            "linecolor": "#EBF0F8",
            "showbackground": true,
            "ticks": "",
            "zerolinecolor": "#EBF0F8"
           },
           "yaxis": {
            "backgroundcolor": "white",
            "gridcolor": "#DFE8F3",
            "gridwidth": 2,
            "linecolor": "#EBF0F8",
            "showbackground": true,
            "ticks": "",
            "zerolinecolor": "#EBF0F8"
           },
           "zaxis": {
            "backgroundcolor": "white",
            "gridcolor": "#DFE8F3",
            "gridwidth": 2,
            "linecolor": "#EBF0F8",
            "showbackground": true,
            "ticks": "",
            "zerolinecolor": "#EBF0F8"
           }
          },
          "shapedefaults": {
           "line": {
            "color": "#2a3f5f"
           }
          },
          "ternary": {
           "aaxis": {
            "gridcolor": "#DFE8F3",
            "linecolor": "#A2B1C6",
            "ticks": ""
           },
           "baxis": {
            "gridcolor": "#DFE8F3",
            "linecolor": "#A2B1C6",
            "ticks": ""
           },
           "bgcolor": "white",
           "caxis": {
            "gridcolor": "#DFE8F3",
            "linecolor": "#A2B1C6",
            "ticks": ""
           }
          },
          "title": {
           "x": 0.05
          },
          "xaxis": {
           "automargin": true,
           "gridcolor": "#EBF0F8",
           "linecolor": "#EBF0F8",
           "ticks": "",
           "title": {
            "standoff": 15
           },
           "zerolinecolor": "#EBF0F8",
           "zerolinewidth": 2
          },
          "yaxis": {
           "automargin": true,
           "gridcolor": "#EBF0F8",
           "linecolor": "#EBF0F8",
           "ticks": "",
           "title": {
            "standoff": 15
           },
           "zerolinecolor": "#EBF0F8",
           "zerolinewidth": 2
          }
         }
        },
        "title": {
         "font": {
          "color": "Black",
          "size": 22
         },
         "text": "<b>Hierarchical Clustering</b>",
         "x": 0.5,
         "xanchor": "center",
         "yanchor": "top"
        },
        "width": 1000,
        "xaxis": {
         "mirror": "allticks",
         "rangemode": "tozero",
         "showgrid": false,
         "showline": true,
         "showticklabels": true,
         "ticks": "outside",
         "type": "linear",
         "zeroline": false
        },
        "yaxis": {
         "mirror": "allticks",
         "range": [
          -380,
          0
         ],
         "rangemode": "tozero",
         "showgrid": false,
         "showline": true,
         "showticklabels": true,
         "tickmode": "array",
         "ticks": "outside",
         "ticktext": [
          "37_fear_prospect_fail",
          "10_fear_discrimin_bias",
          "31_stigma_decisionmak_subco...",
          "9_stigma_rare_sometim",
          "4_stigma_health_mental",
          "34_rare_sheet_balanc",
          "20_rare_mayb_open",
          "3_rare_think_open",
          "8_negat_impact_afraid",
          "1_interview_process_skill",
          "15_interview_health_ask",
          "24_need_physic_job",
          "2_issu_physic_health",
          "0_affect_work_job",
          "26_job_weigh_depend",
          "11_job_short_term",
          "19_mental_ill_worri",
          "12_mental_health_issu",
          "16_mental_health_time",
          "6_hire_natur_influenc",
          "29_legal_support_law",
          "18_neutral_irrelev_mayb",
          "5_neutral_think_yes",
          "13_ill_applic_mental",
          "33_ill_applic_mental",
          "32_import_applic_ramif",
          "25_applic_mayb_unfortun",
          "28_applic_mayb_somewhat",
          "14_mayb_filter_pertin",
          "7_privaci_honesti_applic",
          "22_sometim_irrelev_mayb",
          "30_sometim_yes_somewhat",
          "23_sometim_yes_somewhat",
          "21_yes_compar_open",
          "36_applic_idk_yes",
          "17_applic_think_yes",
          "27_gonna_applic_think",
          "35_risk_neglect_discard"
         ],
         "tickvals": [
          -5,
          -15,
          -25,
          -35,
          -45,
          -55,
          -65,
          -75,
          -85,
          -95,
          -105,
          -115,
          -125,
          -135,
          -145,
          -155,
          -165,
          -175,
          -185,
          -195,
          -205,
          -215,
          -225,
          -235,
          -245,
          -255,
          -265,
          -275,
          -285,
          -295,
          -305,
          -315,
          -325,
          -335,
          -345,
          -355,
          -365,
          -375
         ],
         "type": "linear",
         "zeroline": false
        }
       }
      }
     },
     "metadata": {},
     "output_type": "display_data"
    }
   ],
   "source": [
    "from scipy.cluster import hierarchy as sch\n",
    "\n",
    "linkage_function = lambda x: sch.linkage(x, 'single', optimal_ordering=True)\n",
    "hierarchical_topics = topic_model.hierarchical_topics(docs, linkage_function=linkage_function)\n",
    "\n",
    "topic_model.visualize_hierarchy(hierarchical_topics=hierarchical_topics)"
   ]
  },
  {
   "cell_type": "code",
   "execution_count": 19,
   "id": "44e47c31-f17a-420f-b39d-0b8ba1e2c46b",
   "metadata": {},
   "outputs": [],
   "source": [
    "import plotly.io as pio\n",
    "pio.renderers.default = 'notebook_connected'"
   ]
  },
  {
   "cell_type": "code",
   "execution_count": 20,
   "id": "7aca8ee9-d9c7-4f27-b2fb-1abb401aa365",
   "metadata": {},
   "outputs": [
    {
     "data": {
      "text/html": [
       "        <script type=\"text/javascript\">\n",
       "        window.PlotlyConfig = {MathJaxConfig: 'local'};\n",
       "        if (window.MathJax && window.MathJax.Hub && window.MathJax.Hub.Config) {window.MathJax.Hub.Config({SVG: {font: \"STIX-Web\"}});}\n",
       "        </script>\n",
       "        <script type=\"module\">import \"https://cdn.plot.ly/plotly-3.0.1.min\"</script>\n",
       "        "
      ]
     },
     "metadata": {},
     "output_type": "display_data"
    },
    {
     "data": {
      "text/html": [
       "<div>            <script src=\"https://cdnjs.cloudflare.com/ajax/libs/mathjax/2.7.5/MathJax.js?config=TeX-AMS-MML_SVG\"></script><script type=\"text/javascript\">if (window.MathJax && window.MathJax.Hub && window.MathJax.Hub.Config) {window.MathJax.Hub.Config({SVG: {font: \"STIX-Web\"}});}</script>                <script type=\"text/javascript\">window.PlotlyConfig = {MathJaxConfig: 'local'};</script>\n",
       "        <script charset=\"utf-8\" src=\"https://cdn.plot.ly/plotly-3.0.1.min.js\"></script>                <div id=\"f9c7f3f9-3b43-4c76-a029-4a94e94ac15a\" class=\"plotly-graph-div\" style=\"height:750px; width:1200px;\"></div>            <script type=\"text/javascript\">                window.PLOTLYENV=window.PLOTLYENV || {};                                if (document.getElementById(\"f9c7f3f9-3b43-4c76-a029-4a94e94ac15a\")) {                    Plotly.newPlot(                        \"f9c7f3f9-3b43-4c76-a029-4a94e94ac15a\",                        [{\"hoverinfo\":\"text\",\"hovertext\":[\"brain surgeri 1997 bring pretti much job top hell want look dna first day sad day slipperi slope opinion chanc get job much less bring mental health issu somewhat open yes think would rare often\",\"bring interview issu requir accommod bring felt comfort also would need accommod probabl lot less like bring physic health issu somewhat open mayb applic applic\",\"obvious go effect workplac obvious go affect workplac way employ would find take job first place thought mental ill would affect job would impact negat somewhat open yes think would sometim sometim\",\"applic somewhat open mayb applic applic\",\"would bring affect abil job bring felt irrelev affect abil job would bring affect abil job bring felt irrelev affect abil job applic applic mental ill think would applic applic\",\"would illeg discrimin there someth back mind say anyth look anoth excus hire reason physic health issu somewhat open mayb applic applic\",\"concern concern open yes think would often often\",\"would never bring health issu may perceiv negat reliabl employe addit implic mental health overal group dynam neutral yes think would applic applic\",\"actual employ requir drug test prescript doctor medic condit would test posit steroid disclos front surpris general howev disclos unless necessari would difficult think peopl understand bias mental health issu physic one concern find anoth pretext hire somewhat open mayb sometim sometim\",\"serious worri would prevent hire anyth diagnos specif wrt anxieti depress sometim take serious somewhat open mayb sometim sometim\",\"think still frown upon chanc get job mention thing interview would slim opinion answer someon hear mental health issu want risk hire peopl weird open yes think would applic applic\",\"thought would impact chanc get job bring unless ask would feel would negat impact chanc ask would impact negat somewhat open yes think would rare sometim\",\"employ weigh impact qualiti avail work cost product well cost case ensur proper equip obes unfortun someth avoid employ notic regard concern employ becom issu will discuss matter somewhat open yes think would rare sometim\",\"see need interview fine work see need interview fine work applic mental ill mayb applic applic\",\"current physic issu stigma mental ill fear would impact job open mayb applic applic\",\"feel comfort tell would feel may effect chanc employ neutral mayb applic applic\",\"know depend employ whether public privat sector applic mental ill think would applic applic\",\"affect workplac employ adjust workplac depend wether feel comfort enough interview bring non threaten way matter neutral yes think would often often\",\"issu would impact perform without form concess consider parti employ would otherwis like noth could mitig perform problem result mental health issu probabl discuss somewhat open mayb applic sometim\",\"feel would big negat would assum lot thing take lot educ describ effect mental ill requir nuanc interpret affect candid abil job somewhat open yes sometim often\",\"depend issu might lower chanc employ physic issu applic somewhat open mayb applic applic\",\"would affect futur work relev work applic mental ill mayb applic applic\",\"stigma worri get job somewhat open yes think would rare often\",\"would bring issu necessari obvious affect work requir special assist would necessari obvious mental health issu appear normal would bring applic somewhat open mayb rare often\",\"none busi especi impact abil work would afraid hire told somewhat open yes never often\",\"impact job would like bring toward end interview would need flexibl around want contend job think stigma around mental health also issu trust want share someon violat trust physic disabl transpar mental one also deem danger workplac somewhat open mayb never rare\",\"realli need job take risk look better job would tell better job reject physic open mayb rare rare\",\"would bring physic health issu would effect perform work stigma surround mental health unstabl employe mental health issu somewhat open mayb sometim often\",\"may relev concern impact hire open mayb sometim often\",\"want know generat bias interview want know generat bias interview somewhat open sometim often\",\"feel comfort discuss person health would want appear weak would want appear weak unstabl open think would never often\",\"affect work alreadi minor tech definit get job also sick matter neutral yes think would rare sometim\",\"may affect product employ know reason may affect product applic mental ill yes applic applic\",\"word cancer terrifi everyon feel impact job bring somewhat open mayb rare often\",\"would feel dishonest share known physic issu mental issu still consid bit taboo troubl express feel great depend feel moment interview somewhat open mayb applic applic\",\"somewhat open yes think would never often\",\"trust potenti employ judg trust judg deni job open yes sometim often\",\"need know person characterist first unless awar felt mental health open think would rare often\",\"applic somewhat open mayb applic applic\",\"depend role compani respons much depend line question lead natur line enquiri matter open yes sometim sometim\",\"depend safe made feel interview process might feel might reflect bad realli need job might want risk reason somewhat open mayb rare sometim\",\"impact could impact abil job right know think relev interview somewhat open mayb applic rare\",\"would probabl bring physic health issu like relev abil perform job would bring mental health issu interview would want negat affect hire decis someth open employ especi need care person day someth would bring attent interview open think would rare often\",\"would discuss issu health make work process effect bring main process bodi open think would applic applic\",\"would kill job chanc would kill chanc job somewhat open yes think would rare often\",\"might get job duh somewhat open mayb applic applic\",\"applic somewhat open mayb applic applic\",\"despit fact canadian human right act forbid discrimin base mental physic health mani public sector compani tri cross line ask question touch health way minim insur premium cost open yes think would sometim applic\",\"perhap ask benefit would need want realli busi unless impact daili work would want risk possibl discrimin even illeg bias opinion somewhat open mayb applic applic\",\"even though legal could factor hire also none busi see previous neutral mayb applic applic\",\"mani law protect applic discrimin base physic abil feel concern bring physic health issu interview feel like would hurt chanc get job awar law protect applic discrimin base mental health physic health somewhat open mayb applic applic\",\"somewhat open mayb never sometim\",\"unless relev job go job could realli physic health issu would bring intent get pregnant either could consid avoid stigma neutral yes think would rare often\",\"seen weak may chose anoth applic seen weak may chose anoth applic open think would sometim often\",\"know good typic take manag physic health issu person matter involv potenti employ natur work mental health issu far impact thought need account would involv potenti employ ensur work somewhat open mayb rare sometim\",\"would worri would seen piti play distract qualif would worri would seen piti play make seem unlik crazi liabil rather asset would impact negat somewhat open yes think would sometim often\",\"physic issu privat would job suicid open mayb applic applic\",\"depend person extent would affect posit peopl strong stigma mental health issu instead talk work life balanc burnout tech industri get feel understand somewhat open mayb rare sometim\",\"well cours employ want hire peopl signific physic health issu especi first issu come iv fill afghanistan countri ask countri would make easi identifi ask person question anonym survey well cours employ want hire peopl signific physic health issu especi first issu come hand would comfort put specif condit hour time amount requir mental health look employ psycholog counsellor see work neutral yes think would sometim often\",\"seem like would general useless inform may lend toward casual convers like ice break tech field seem high reliant mental capabl would fear issu disclos might negat impact stand justifi somewhat open mayb applic applic\",\"unless impact job hire somewhat open mayb sometim often\",\"concept tangibl unavoid someth realli hidden employ clear posit stanc issu would reason talk otherwis may perceiv negat intang invis natur applic somewhat open mayb rare sometim\",\"relev relev somewhat open think would applic applic\",\"would want work employ react negat physic health issu think good test ensur kind employ want work would want work employ react negat mental health issu think good test ensur kind employ want work somewhat open mayb applic applic\",\"never physic health issu peopl never struggl mental health issu incap understand matter somewhat open yes think would often often\",\"field alreadi competit disadvantag plus none busi long serious affect work would one way ticket consider somewhat open yes think would applic applic\",\"place need look sound best seem like time mention someth disord happen context mayb case someth suppos tri look best talk flaw seem unnecessari somewhat open yes think would sometim often\",\"feel like busi impact abil work physic issu feel like busi impact abil work howev mental health issu alway confin certain area life spill feel like need job would leav mental issu could repres tip point choos anoth equal qualifi candid somewhat open yes think would never sometim\",\"multipl chronic ill advis lawyer never bring interview situat discrimin difficult prove social stigma lack protect law difficulti prove discrimin somewhat open yes think would rare sometim\",\"physic health affect product access import discuss potenti employ feel mental health issu still view taboo employ interview may abl respond issu talk simpli make interview awkward negat affect chanc get job would impact negat somewhat open yes think would applic often\",\"privileg enough know prior research expect find answer question exist resourc hr site somewhat open mayb sometim often\",\"chronic lower back pain due narrow disk would problem tell employ felt lift would part job feel like employ understand prospect employe might admit battl bout depress anxieti somewhat open yes think would never sometim\",\"known go hire answer applic mental ill mayb applic applic\",\"depend kind physic health issu job exampl feel carpal tunnel would necessari bring go repetit task day would probabl mention upon offer allow opportun reconsider would also mention interest posit import let peopl know aspect job go difficult open think would applic applic\",\"worri would reflect negat possibl hinder potenti candid would worri would hinder chanc potenti candid open yes think would applic applic\",\"fear discrimin would bring felt employ knowledg progress approach mental health issu understand appreci mani posit attribut adhd person bring tabl would bring unless certain embrac mental health issu somewhat open yes think would sometim often\",\"could mean time etc employ need inform could mean time etc employ infomr somewhat open mayb sometim often\",\"afraid hire job even physic issu would relev work reason somewhat open yes think would rare often\",\"see potenti influenc hirabl stigma could influenc desir hire neutral yes think would never often\",\"cannot enforc respect group individu everi place work care perform social integr illeg hire someon mental disord perfect legal understand hire indirect effect disord would gotten current job briught mental ill somewhat open yes think would often often\",\"affect job perform would discuss would afraid bias decis make somewhat open mayb applic rare\",\"would much depend issu impact thought would role interview think enough peopl awar mental health issu like negat impact applic mental ill yes think would applic applic\",\"often import abl accomplish job yes would need discuss still stigma import though tough call applic mental ill yes think would applic applic\",\"made offer issu would impact work schedul made offer issu would impact somewhat open mayb sometim sometim\",\"person matter feel mention impact abil work employ would refus hire opinion somewhat open yes think would applic applic\",\"depend perman issu like mental health either taken serious physic health view negat would impact negat open yes think would often often\",\"anyth would add complic addit load potenti employ seem negat ramif trust employ inform somewhat open yes think would rare often\",\"dont problem discuss person limit anyon think general import bring felt employ open hear open think would rare often\",\"impact abil physic work access issu offic would hire somewhat open yes think would often often\",\"part hire decis part hire process somewhat open mayb applic applic\",\"issu could help accommod rise level protect disabl accommod would swing decis work compani hard imagin ever go well progress peopl see mental health issu less real better frame need like sleep nutrit doctor appoint requir protect physic health vagu way somewhat open yes think would rare often\",\"need ensur could manag back pain long term basi new employ without issu would certain nobodi would want hire someon mental health issu somewhat open yes think would rare often\",\"pretti obvious crutch tend rais question difficult enough time physic disabl open mental health issu time would serv purpos open yes think would sometim often\",\"would depend job requir expect would depend job expect cultur expect applic mental ill mayb applic applic\",\"assur would taken negat although would greater concern employ view mental health wors physic health issu well overal negat view mental health issu open yes think would sometim sometim\",\"depend whether physic health issu would prevent job would bring know widespread stigma toward mental health would avoid discuss interview unless want job applic mental ill mayb applic applic\",\"go effect posit would bring go effect posit would bring somewhat open mayb sometim often\",\"would bear job reason physic somewhat open mayb applic applic\",\"physic health issu affect abil job yes would appli would consid somewhat open yes think would applic applic\",\"problem problem one want hear problem want solut possibl physic issu could lead issu could impact perform would immedi give short interview show door career suicid someon said manic depress sometim get shit done depress time get done hour entir team week compani go think nut would impact negat applic mental ill yes think would rare applic\",\"law none employ busi unlik help procur job job interview sale situat full disclosur session side busi unlik volunt negat inform busi oper interview except would health issu go materi affect abil perform job offer case interview first place would take place base understand case reason physic health issu applic somewhat open yes think would applic applic\",\"depend great job involv adapt quick job involv heavi lift exampl would admit would probabl wind start physic health issu sever enough discuss visibl say cancer go go chemo would discuss huge possibl hire due potenti medic leav lot absenc mental health issu huge stigmat made mistak let last employ find adhd adderal prescript realli think head engin would joke meth horribl moment includ degre interview phd candid done groundbreak work smp thread render sgi 90s around awesom luckili made joke talk shroom lighten one mani wors situat consid one valu employe abil get anyth done llvm compil system one day point manag question higher dosag medic stupid meth joke got wors realli light accus make somebodi given countri state drug law someth someth activist reform degrad also made fun autist despit disord somewhat open yes rare often\",\"deal want work would bring felt go negat impact work knew would fair share front open think would sometim sometim\",\"feel could help chanc way could hurt chanc reason somewhat open mayb never rare\",\"person think could negat impact candidaci posit neutral mayb rare sometim\",\"feel would negat reflect potenti would negat reflect potenti especi physic problem somewhat open yes think would applic applic\",\"sometim come somewhat open think would sometim often\",\"busi busi would impact negat somewhat open yes think would applic applic\",\"would afraid would result pass posit would afraid would result chosen posit somewhat open mayb often often\",\"depend whether health issu would actual affect job imped perform feel stabl medic right bring accept job high anxieti occur open think would rare often\",\"world ideal place sometim import get door ask forgiv later permiss front massiv stigmat cult smart neutral yes think would applic applic\",\"hesit bring anyth might make seem less employ actual effect product hesit bring anyth affect work might make seem less employ neutral mayb never rare\",\"health issu sever enough affect work wait reveal job start could easili result resent card tabl bit taboo mental health issu last interview mention work well interest task let call light case adhd problemat somewhat open mayb sometim sometim\",\"complet depend upon issu would potenti look like whine matter somewhat open mayb sometim sometim\",\"think would caus discrimin get pass job get job open yes think would applic sometim\",\"affect work requir treat differ other employ need know hire depend mental health issu feel interview like physic issu go affect employ employ know front open yes think would rare sometim\",\"work environ might requir improv least adapt like lighter place bigger screen special desk think convers receiv normal least normal speak money advantag feel peopl most scare mental diseas afraid classifi crazi taken serious would take risk applic mental ill yes think would applic applic\",\"unless affect abil job would bring would bring late possibl would afraid entir interview would becom discuss issu decis process would base whether issu serious enough take chanc applic mental ill mayb applic applic\",\"affect perform job kind depend situat applic mental ill mayb applic applic\",\"would affect perform somewhat open mayb rare sometim\",\"would lower chanc get job would certain mean job would impact negat somewhat open yes think would rare often\",\"diabet natur thing mention feel much stigma attach mental health issu bring interview somewhat open mayb applic applic\",\"might affect get job open mayb applic applic\",\"somewhat open think would never often\",\"depend issu mayb would need accommod wheelchair fear would think would affect product mani candid could easili elimin somewhat open think would applic sometim\",\"worri negat percept nonstart would impact negat applic mental ill yes think would applic sometim\",\"alway coach appropri discuss anyth like may advers impact interview see somewhat open mayb never often\",\"interview larg knowledg mental capac could seen weaker mental capac somewhat open yes think would often often\",\"somewhat open yes think would never often\",\"concern could overshadow legit issu concern could overshadow issu somewhat open think would sometim often\",\"would depend issu employ stigma topic somewhat open think would applic applic\",\"could hurt chanc could hurt chanc open yes think would applic applic\",\"may affect job attend may affect job perform applic applic mental ill mayb applic applic\",\"would depend health issu health issu would immedi affect job perform diabet would bring interview someth sever narcolepsi might bring depend control mental health becom promin issu recent feel like still lot stigma surround point cultur would bring hope within next 20 30 year stigma gone brought safe interview somewhat open think would rare sometim\",\"us worker protect lack prove protect class reason non hire difficult lack worker protect proof non hire result disclosur condit applic mental ill yes think would applic applic\",\"struggl depress good six year life mayb longer taught much given insight life thay believ peopl may never chanc get also teach forc becom better person never give would bring mental health issu made stronger person develop sometim come open mayb sometim often\",\"although know place employ suppos discrimin candid due abil status still someth would requir signific accommod visibl disabl like wheelchair would bring would fear get job peopl would see burden could lead problem employ somewhat open yes think would rare sometim\",\"competit fierc reveal weak deficit might effect decis hire would reveal thought would affect perform believ bias mental health issu strong effect perform freelanc would impact negat somewhat open yes think would sometim often\",\"relat workspac design eg special ergonom need necessari schedul eg work hour straight relat schedul avail etc eg work certain hour need frequent break etc somewhat open think would applic applic\",\"die physic work beyond capac mental health seen issu employ neutral yes think would sometim sometim\",\"somewhat open never sometim\",\"direct impact abil perform duti day fair honest physic would impact perform fair honest somewhat open mayb applic applic\",\"depend relev would work perform depend like impact work perform open mayb applic applic\",\"would bring physic health issu interview believ would hinder possibl get job would bring mental health issu brought would talk somewhat open yes think would applic applic\",\"would provabl need know judg job stigma main somewhat open mayb applic applic\",\"would impact perform job could effect job perform applic applic mental ill mayb applic applic\",\"would depend relev would know would somewhat open mayb applic applic\",\"might get job get job applic neutral yes think would applic applic\",\"would worri get hire would definit worri would signific hurt chanc get hire somewhat open mayb rare often\",\"depend relev job control reaction unlik physic disord better understood metal disord often less understood judg open yes think would never never\",\"would depend job duti comfort person interview made feel peopl dont take mental health serious might think incap job open mayb sometim sometim\",\"would worri would want hire somewhat open mayb sometim often\",\"health issu could reason impact abil perform duti provid inform would relev howev confid impact would minim would reason offer unnecessari inform still much stigma attach mental health possibl discrimin high might disclos hire pass probationari period open mayb never rare\",\"fear negat repercuss would expect employ hire bring topic interview applic mental ill yes think would applic applic\",\"would hope would let know whether would fit employ base reaction mental health issu easi healthi individu relat stigma mental ill would want new employ know better learn mental ill open yes think would often often\",\"still stigma around mental health issu interview percept skill capabl perform requir task role may alter even though job yet neutral mayb applic applic\",\"would requir adapt part employ abl take job even though unjustifi stigma attach mental health issu physic limit somewhat open mayb applic often\",\"worri interf day day task limit opprotun worri limit opportun seen major negat somewhat open yes think would rare often\",\"caus problem work caus problem work open yes rare often\",\"depend situat would imped work yes deal bout anxieti depress clinic level sometim get better never obstruct applic somewhat open think would rare sometim\",\"might effect work seem accept embarass open mayb applic applic\",\"although protect convinc harm chanc although protect convinc harm chanc somewhat open think would never often\",\"believ health inform person busi previous state health inform person applic somewhat open mayb applic applic\",\"open think would never sometim\",\"peopl take physic ill injuri serious look certain way believ physic health issu peopl see believ often blame think make serious right would never million year discuss mental health issu need new employ judg bat reason give job someon equal qualifi share talk problem given job instead also lucki work place often function better home person better allow option give depress episod work experi work compani supervisor knew deal depress addict recoveri help understand made easier slack new job told anyon even though think support understand feel better keep person issu work place though understand complet peopl mental health issu lucki function somewhat open yes think would rare often\",\"feel like would potenti hire mental health issu somewhat open yes think would rare often\",\"would want potenti employ understand extent physic abil limit front prevent misunderstand road physic would want potenti employ understand manifest mental health issu front prevent misunderstand somewhat open think would applic sometim\",\"would bring would need accommod order job would bring would need accommod order job sometim come somewhat open mayb sometim often\",\"would bring relev perform somewhat open yes think would applic applic\",\"could affect work might bring worri get job somewhat open yes think would rare rare\",\"general relev employ physic issu feel relev employ open rare rare\",\"impact work impact work feel like trust employ matter open mayb sometim often\",\"feel like would immedi associ product abil perform feel like thing equal potenti employ alway choos candid without mental health issu would impact negat open mayb sometim often\",\"chronic physic ill partner ill would feel interview would like discount abil work effect feel necessari accommod would signific uncertain recept difficult determin interview experi percept mental ill applic mental ill mayb applic applic\",\"affect job feel potenti employ need know would say depend general speak would hesit bring mental health issu interview situat circumst could chang mind applic somewhat open think would applic sometim\",\"somewhat open mayb never sometim\",\"somewhat open mayb never sometim\",\"would uncomfort would uncomfort somewhat open mayb applic sometim\",\"might disregard due alreadi caus take sick day work would make perceiv weak someon cost money sick day somewhat open yes think would rare often\",\"busi busi somewhat open yes think would applic applic\",\"dramat lower chanc success lose job certainti somewhat open yes applic applic\",\"disclos cannot help get job disclos cannot help get job applic somewhat open mayb applic applic\",\"seem like would hard hide physic issu would felt would serious impedi parti pertain abil job otherwis could feel bit like trap employ somewhat open mayb rare sometim\",\"would suspici would negat effect opinion potenti employe bring superwoman factor littl physic applic mental ill yes think would applic applic\",\"would probabl depend specif physic health issu would worri affect chanc land job especi would need special treatment time work etc would definit think would affect chanc get job feel like good chanc would view profession bring penal interview bring semi person inform go end year relationship process move disclos potenti employ found recruit view profession somewhat open yes think would applic sometim\",\"requir hospit treatment medic feel right awar base current employ would see reason take leav cannot push limit compani like littl thank open yes think would sometim applic\",\"would concern consid posit would concern consid posit open yes think would sometim often\",\"employ made clear expect crunch time would want discuss stress relat issu somewhat open mayb rare often\",\"issu alway bring never surpris boss open yes think would applic applic\",\"would afraid exclud consider due occasion back problem would bring direct impact job could definit direct impact abil job would realli afraid mention interview sure situat might mention abstract bring mental imag interview kinda veer toward matrix look fella suit would impact negat somewhat open mayb rare often\",\"interview still tri present best imag may damag right wrong mental health still stigmatis enough protect enough could result get job want somewhat open mayb applic applic\",\"peopl like associ mental health drama might feel like make workplac hostil open mayb applic applic\",\"would bring physic health issu prospect employ find job requir task unabl complet safe attempt could caus injuri other think time would call work avail 24 set schedul caus far much stress life refus quit job reli method job quit promis schedul interview sometim come open think would rare often\",\"compani equip accommod physic health issu look bad think compani abl will deal mental health issu feel like bring cottl negat affect decis hire neutral mayb applic applic\",\"live countri care physician tell pre contract exam think would hire first place somewhat open mayb often often\",\"would realli depend circumst would realli depend circumst matter somewhat open mayb rare sometim\",\"affect job perform know treat respect open yes think would never rare\",\"want effect willing give job reason somewhat open yes think would applic applic\",\"feel make less apt job appli comparison other make look weaker less apt open yes think would applic sometim\",\"could affect applic need know understand want work someon understand somewhat open yes think would sometim often\",\"physic health issu abl hide requir accommod mani situat cannot function discuss absolut necessari enough count interview without ad number bias weight would impact negat somewhat open yes think would rare sometim\",\"unless direct affect abil job irrelev reason problem busi alon somewhat open yes think would sometim sometim\",\"impact work know impact work know applic somewhat open mayb sometim often\",\"open think would never sometim\",\"would like think health issu unrel hire process know alway case thus mayb answer direct wit peopl termin issu relat mental health issu unless requir law ethic issu like pre interview agreement disclos mental issu realiz best point view thing like osmi import somewhat open yes think would applic applic\",\"receiv job offer ensur protect physic disabl mental ill protect class discrimin disclos public could affect immigr status somewhat open yes think would rare often\",\"depend relev depend relev somewhat open yes think would applic applic\",\"never come taboo somewhat open yes think would sometim sometim\",\"depend obvious visual would affect work visibl employ would look negat would impact negat open yes think would never often\",\"prefer keep noth hidden prefer keep noth hidden somewhat open mayb applic applic\",\"realli depend depend somewhat open mayb sometim often\",\"would bring requir special equip job felt need explain job despit physic issu comfort enough explain discuss mental health feel may make weird interview open think would applic sometim\",\"affect abil work requir modif environ pretti sure would elimin candid would trigger bias even well intent hire team would make suspici technic abil final ugli histori conflat mental ill hysteria emot would afraid would trigger certain stereotyp surfac somewhat open yes think would never often\",\"want give potenti employ reason hire reason add stigma associ mental health good idea think employ especi big compani see mental health issu like depress undesir neutral yes think would applic applic\",\"import make clear sometim may limit employ must awar surpris side want caus surpris might need day somewhat open mayb sometim sometim\",\"interview advic read health issu brought offer stage interview good rapport interview might bring interview otherwis mention offer job answer physic health issu somewhat open mayb rare sometim\",\"littl stigma around physic health issu could even becom person talk point make connect someon littl understand sympathi around mental health label crazi end interview would impact negat somewhat open yes think would rare sometim\",\"would previous employe awar legal protect afford candid employe physic impair temporari perman act accord issu regard real tend predict timelin regard recoveri applic employ less awar legal protect afford candid mental health issu would also fear unstat bias influenc interview result much would physic issu open mayb applic applic\",\"might call cultur fit issu might consid sign incompet incap handl job neutral yes think would often often\",\"believ play open card someon problem better get awar earli plenti altern reason most though probabl depend particular issu may affect work life applic neutral mayb applic applic\",\"feel best candid interview especi regard employ might abl accommod physic mental health issu feel best candid interview howev mental health issu still stigma like play ear balanc decis whether bring interview base tone thorough interview somewhat open mayb never rare\",\"somewhat open mayb never sometim\",\"would impact perform bi polar mani peopl understand bi polar mass shooter night news far realiti bi polar peopl like say drive car must drunk driver would impact negat somewhat open yes think would sometim often\",\"alway concern someon els would get hire pure conveni employ deal physic health issu lead mental health issu seem like immedi go seen far sever problemat etc neutral mayb rare often\",\"import potenti employ full idea potenti employe make inform decis allow interview full disclosur make inform decis somewhat open mayb sometim sometim\",\"would depend whether relev job would effect negat would depend whether issu relev work perform negat effect somewhat open yes think would applic applic\",\"felt issu would interfer perform would bring without know employ stanc mental health issu would reluct anyth might jeopard interview applic mental ill yes think would applic applic\",\"usual relev somewhat open yes think would never often\",\"somewhat open mayb never sometim\",\"would uncomfort work anyon discuss physic health occasion depress well vers potenti negat work relat effect troubl focus potenti oversleep etc knew employ look employe upon lot respons would entrust would probabl discuss depress neutral mayb sometim often\",\"even talk health issu acquaint close famili friend reason physic health person applic mental ill yes think would applic applic\",\"would want preclud employ base someth irrelev abil complet job potenti lot doctor appoint drawback employ weigh anoth applic stronger base would want applic view poorer light compar peer somewhat open yes think would applic applic\",\"interview process involv check baggag door someplac feel comfort bring type thing hire want interview anyway trust check baggag door adhd general anxieti well manag enough time never worri anyway time proactiv bring current gig want new thing sudden bad way somewhat open think would rare often\",\"vision issu requir use basic assist technolog zoom screen main depend would interview need see someth bigger closer may come worri would view sever weak open mayb sometim often\",\"person matter tri let effect work embarrass person issu neutral mayb never rare\",\"issu like sign place want work seem realli person would worri affect come everyon awar issu would affect someon work could everi compani good polici around keep date employe somewhat open think would sometim often\",\"health issu want coverag import front ensur elig coverag depend issu employ somewhat open think would applic applic\",\"would impact job could stigma would impact negat somewhat open yes think would rare sometim\",\"go affect role bring got think previous know said interview would dissuad know would affect outcom although would know address somewhat open mayb rare sometim\",\"could seen potenti problem futur stigma open yes think would sometim often\",\"concern would get job concern would get job somewhat open yes think would applic applic\",\"perceiv issu could affect hirabl anti discrimin polici perceiv issu could affect hirabl anti discrimin polici somewhat open yes think would sometim often\",\"relev abil programm relev abil programm open yes think would never rare\",\"might think hypochondriac might think complain open yes think would sometim often\",\"possibl receiv job much baggag make think complain might think unstabl unreli somewhat open yes think would applic sometim\",\"would assum legal protect issu aris discuss would worri negat stereotyp affect interview decis applic mental ill mayb applic applic\",\"probabl get job mention physic issu lost job mental health issu would look bad sometim come neutral yes think would sometim often\",\"privileg choosi employ would want work bring issu problemat privileg choosi employ would want work bring issu problemat applic mental ill think would applic applic\",\"feel comfort enough interview major mental health issu depress bipolar disord ocd schizophrenia consid disabl afraid employ might discrimin call disabl peopl even feel comfort tell famili friend mental health issu somewhat open yes think would sometim often\",\"would depend issu would impact abil fulfil role would also want feel employ best possibl provid person non requir inform see instanc believ would perceiv negat applic somewhat open yes think would applic applic\",\"felt would decreas odd get posit probabl omit inform stigma mental ill someth sure feel employ would will look past interview alreadi woman view burden need leav childcar capabl job male counterpart ad addit burden mental health issu seem like stack card somewhat open mayb sometim often\",\"might think capabl work also migrant add employ offer job peopl mental health issu due stigma somewhat open yes think would rare often\",\"physic heath issu german work would bring mental heath issu german work would bring open think would never applic\",\"depend acut issu depend acut problem somewhat open mayb applic applic\",\"think import interview lay exact want tabl health issu need accommod want ensur done reason somewhat open mayb applic applic\",\"busi unless would impact job way allow care know know somewhat open yes think would applic applic\",\"relev role illeg allow discrimin base thing uk somewhat open mayb never sometim\",\"affect abil job physic obvious somewhat open mayb never sometim\",\"accommod need condit employ need answer decid whether accept employ want get hire open yes think would applic applic\",\"would depend relev said issu job exampl feel need bring knee problem desk job interview chronic physic health issu would requir take break time would upfront would depend relev mental health issu would way effect life potenti job would much rather upfront need requir employ tri hide thought irrelev job probabl bring interview open mayb applic applic\",\"somewhat open yes think would never often\",\"long term issu would requir special accommod part would concern negat stigma somewhat open mayb applic applic\",\"feel interview enough time employ make ration judgement whether candid still job ask would disclos mental health condit employ interview perhap prior accept offer somewhat open yes think would often often\",\"none busi would affect decis regardless polici would affect decis regardless polici somewhat open yes think would never never\",\"potenti affect capabl job potenti affect capabl job open mayb rare often\",\"would got impress count interview seem empathet scenario condit might like mean time away work address issu would want know polici place employe physic health issu particular chronic ill person thing talk mental health issu harder talk forc tell someth otherwis might never know unlik physic ailment could visibl becom visibl time without consent share somewhat open mayb applic often\",\"want honest front potenti employ worri reaction would one understand would count select process open yes think would sometim often\",\"think physic health issu would defin person definit someth would want speak earli possibl see react see react plus allow know best talk open mayb never often\",\"somewhat open think would never often\",\"seem relev help bring interview seem benefici bring interview applic mental ill yes think would applic applic\",\"unsur would react even good peopl unconci bias depend empathet interview certain job offer alreadi might caus bias unintent rais earli somewhat open think would applic sometim\",\"health issu affect product worker work state absent due ill discuss interview health issu either physic mental affect product worker work state absent due ill discuss interview somewhat open mayb never rare\",\"would bring job offer ask ergonom keyboard chair better monitor need bring offer job right never background info person interview understand mental health would impact negat open yes think would applic sometim\",\"fear offer offer open mayb applic applic\",\"found reaction good indic whether ideal align whether good fit workplac open yes sometim often\",\"depend issu whether would impact abil job question think would help chanc get job possibl could hurt open yes think would sometim often\",\"would worri employ would consid problem liabil would worri employ would consid problem liabil somewhat open yes think would applic sometim\",\"bit know environ new employ would make nervous bit know environ new employ would make nervous open mayb rare often\",\"would want possibl unrel physic impair interfer prospect hire would want reason receiv job somewhat open yes think would rare often\",\"would probabl impact applic negat even admit reason basic seem like might earli relationship window person life employ applic neutral yes rare often\",\"applic somewhat open mayb applic applic\",\"ensur receiv proper accommod need tell someon interview clinic depress general anxieti disord ptsd autism spectrum disord add would bring lot stigma doubt think could handl job think work well team trust built yet mayb compani realli upfront care mental ill peopl leadership mental ill probabl feel comfort speak interview open mayb sometim often\",\"physic health issu would affect sort work without stop work altogeth depend interview go condit may may affect role somewhat open yes think would rare sometim\",\"would requir minor accommod would perceiv over oner one time past interview clear wrote immedi tri judg whether organ would support environ without outing lot easier ask accommod get hire demonstr abil job give employ reason hire first place open yes sometim often\",\"physic health issu might affect job perform difficult hide potenti might resent fact forthcom interview mental health issu might affect job perform may easi hide forthcom might impact likelihood get job first place neutral yes think would rare often\",\"depend impact expect would disabl ssdi bipolar year ever abl interview need honest explain chasm resum also need seek employ disord understood accept outset would impact negat open yes often often\",\"affect work someth obvious would talk would scare would think affect work worth hire somewhat open yes think would sometim sometim\",\"relev also relev somewhat open yes think would applic applic\",\"impact work would requir special accommod would mention employ typic make accommod mental health point bring somewhat open yes think would sometim often\",\"someth affect work yes stigma open mayb applic applic\",\"may affect hire manag decis bring although interview ensur employ good fit would consid option time may affect hire manag decis bring although interview ensur employ good fit would consid option time open yes think would sometim often\",\"better disclos someth like front case impact work prefer keep privat case employ discrimin would impact negat somewhat open yes think would rare rare\",\"job requir physic work would worri bring physic health issu might negat consequ would worri bring mental health issu would negat consequ sometim come neutral yes sometim sometim\",\"would want job want job would impact negat somewhat open yes think would sometim often\",\"would depend physic health issu one treat differ base health issu employ might turn inform still promin stigma mental health anyon mental ill crazi peopl would brush understand like asthma ill take medic live normal live understand somewhat open yes think would rare often\",\"might make less like hire cost health insur might make doubt reliabl perform less like hire sometim come somewhat open mayb sometim often\",\"applic somewhat open mayb applic applic\",\"circumstanti circumstanti somewhat open mayb applic applic\",\"general relev general relev somewhat open mayb sometim often\",\"suffer anyth particular serious hard imagin feel would compel state like affect abil work would want upfront affect abil work might avoid mention straight away mitig chanc negat concequ see somewhat open mayb applic applic\",\"employ know limit answer employ deserv know limit somewhat open think would sometim sometim\",\"want view differ like need special treatment want give someon even one reason hire get job hard enough applic somewhat open yes think would rare often\",\"unlik prospect employ busi unlik prospect employ busi affect perform employe matter open think would never never\",\"someth major would minor sever sever mental health issu would great affect work yes alway somewhat open mayb sometim often\",\"may affect avail perform job fear hire time feel like may affect avail perform job open mayb applic sometim\",\"depend physic health issu mani compani tech worship dev rock star stereotyp long hour sacrific work balanc held higher regard work dev bone allow resist work mani hour label rebellion work job strateg plan day afford lose ptos result forc go work even asthma sick basic half dead make work need save day realli need stigma make wari bring mental health issu initi interview feel like get know job peopl determin comfort open mental health feel like riski bring interview parti know one anoth well enough anxieti depress also includ focus motiv issu feel like mention thing like would give impress good employe get thing done howev true respons meet deadlin long work product flexibl schedul somewhat open mayb sometim often\",\"somewhat open mayb applic applic\",\"employ reaction would tell lot type compani join reaction would tell lot type employ matter open yes think would never rare\",\"physic health someth stigma attach although mani place hire look way get rid get 100 product employ look way disqualifi even love web industri give one shit employe beyond extract applic open yes think would applic applic\",\"would feel import potenti employ know limit may abl job would consid someth privat would manag privat somewhat open yes think would applic applic\",\"somewhat open mayb never sometim\",\"relev abil code also protect eu law disabl stigma around abil job cope etc sometim come somewhat open yes rare sometim\",\"depend charact depend level commit consid interview sometim come open mayb sometim often\",\"guess would depend type physic issu often may affect work far absenc treatment etc mental health feel subject case despit potenti diagnosi could view detriment cultur perform someon say clinic depress anxieti disord also feel harder explain potenti absenc due mental disord somewhat open yes rare often\",\"realli interest job would wait knew realli interest get person applic applic mental ill mayb applic applic\",\"mayb second third interview first busi unless serious work togeth reason physic health busi straight mayb later interview somewhat open mayb sometim often\",\"health issu would negat effect get job would negat hire process somewhat open yes think would rare sometim\",\"start job hide someth like realli bad way get trust employe respons physic one open mayb never sometim\",\"would affect abil work believ would relev stigma somewhat open yes think would applic applic\",\"might affect opinion feel would definit affect chanc accept somewhat open yes think would applic applic\",\"might affect work hour visit doctor etc would affect work somehow applic applic mental ill mayb applic applic\",\"seem relev earli would ask question get feel accept compani would first observ ask question get feel open accept compani somewhat open never often\",\"affect outcom physic affect outcom open mayb sometim often\",\"may unconsci affect decis may unconsci affect decis applic mental ill yes think would applic applic\",\"trust insur compani tri let affect work somewhat open yes applic often\",\"depend issu affect job would hope feel comfort bring answer would feel raw vulner self employ lot select choos interview opt place empathet understand sometim come somewhat open mayb rare often\",\"would worri might affect job applic even though awar legal allow howev would difficult determin prove case neutral yes sometim often\",\"direct impact abil work would bring current issu would want know health coverag general polici applic somewhat open mayb applic sometim\",\"afraid would cost job afraid would cost job applic mental ill yes think would applic applic\",\"automat sort let face folk whether physic mental impair realiti would nice situat law two complet differ thing go back even part time fulltim employ want make sure least minimum requir met eg open plan offic similar nasti expect anyth naiv applic somewhat open yes think would sometim rare\",\"qf matter somewhat open sometim often\",\"depend relev job stigma applic applic mental ill yes think would applic applic\",\"mani organ look reason reject candid interview process mani organ look reason reject candid interview process neutral mayb applic often\",\"better open interview health issu speak employ attitud much anyth answer want know potenti employ would react consid work open think would rare often\",\"want think work want think work matter somewhat open mayb sometim sometim\",\"illeg ask oblig offer inform see open yes think would applic sometim\",\"bias happen want factor howev overweight know factor interview hide even though thing wrong mental unstabl unabl work regular hour could bias interview inform somewhat open yes rare often\",\"unless would direct effect perform posit condit would relev due lack understand without bias treat mental health issu could effect work open yes rare often\",\"affect ablil work may affect hire somewhat open mayb often often\",\"might affect abil get offic futur stigma involv want think would abl job regardless physic condit open yes think would never often\",\"seem unnecessari seem unnecessari asinin bring unnecessari convers ever open think would often sometim\",\"would depend issu whether think would impact work depend whether feel would impact abil work regular basi neutral think would rare sometim\",\"ask direct would tell want ruin chanc get job ask direct would discuss anxieti want think would wors job someon els somewhat open yes think would rare often\",\"let realist would harm career would harm career neutral yes think would sometim sometim\",\"instead concentr capabl believ would mind go accommod would made might even cloud thought point discuss would want steer away stress common denomin job stress trigger panic potenti depress employ bail famili support well would impact negat somewhat open yes sometim often\",\"unless appli someth requir specif physic skill believ physic health factor interview percept assumpt automat immedi disqualif applic mental ill yes think would applic applic\",\"physic issu obvious work better tri hide thing impact visibl work tri hide somewhat open yes think would sometim sometim\",\"potenti negat consequ road potenti negat impact job open yes think would applic applic\",\"believ would bias interview cultur reason physic open yes think would sometim sometim\",\"least place work bank macho hardass cultur across board nonprofit spot budget tight everyon complain time hard hard untreat adhd depress anxieti hard come previous workplac never feel safe bring freelanc deal structur work hour etc realli realli struggl due isol freelanc real grind obamacar would complet screw semi screw also wish would ask survey caretak femal disabl take care elder mother development disabl brother never get discuss caretak famili someon break unabl work women sister daughter mother pleas work caretak survey question survey say water one help brother mother least father die penniless year wall street make million adhd alcohol depress master univers type ipo tech compani liberatarian yeah pleas get intersect survey landscap screw disabl gender well sooo survey miss anyth open question end two thing one adhd asset treat understood also final got coverag work 20 year ago put med bad reaction work get treat decad end crater worklif ten year wrong med realli mess along wrong dx open serious breakdown work fire immedi merci understand told go gone well defend becam homeless ok mess caus get poor medic treatment pretti run mill depress silicon valley time 30 femal space anyth less 120 perfect one women work sv time want poison well peopl prejud denial issu vulner find wish felt differ would impact negat somewhat open yes rare often\",\"sleep relat disord prevent abl arriv earli hour larg part employ requir feel comfort discuss mental health issu anybodi realli close friend suffer first place also like hurt chanc land posit applic mental ill yes think would applic applic\",\"would depend sever effect issu could work perform neutral mayb sometim sometim\",\"although illeg want physic health issu weigh someon mind make decis whether hire although illeg want mental health issu weigh someon mind make decis whether hire somewhat open mayb applic applic\",\"illeg ask unless relev job perform reason bring relev abil perform job respons somewhat open mayb sometim often\",\"relev would need accommod similar physic issu felt need accommod somewhat open yes think would rare often\",\"depend job organis hard say probabl would jeapodis job somewhat open mayb rare applic\",\"type diabet tri advoc equal treatment would avoid bring physic health issu depend employ think open mental health issu compani would good help find polici want end place crappi polici mental health care open mayb applic applic\",\"want make sure parti make inform decis leav someth import unsaid would foster frustrat expect want make sure parti make inform decis leav someth import unsaid would foster frustrat expect neutral mayb rare often\",\"want add caus bias hire decid one way anoth want add caus bias hire decid one way anoth somewhat open mayb applic applic\",\"immedi disqualif immedi dismiss open yes think would applic applic\",\"would interview posit believ physic health may negat impact product would interview posit believ mental health would issu applic applic mental ill yes think would applic applic\",\"mention could caus troubl afterward reason could caus troubl keep silent somewhat open mayb applic applic\",\"feel physic injuri accept would afraid would look somewhat open yes think would applic applic\",\"would depend natur physic health issu job role relev probabl import decid factor rough equival get tattoo forehead say hire somewhat open yes applic often\",\"ensur support repetit strain injuri coverag exampl respect right privaci avoid risk discrimin sometim come open mayb rare often\",\"depend whether might hinder modifi way work employ reason less like would impact negat neutral mayb rare sometim\",\"relev would requir chang work hour someth like would bring relev interview relev work hour similar sometim come somewhat open think would rare often\",\"would comfort appear way vulner give employ chanc exercis bias would comfort appear way vulner give employ chanc exercis bias somewhat open mayb sometim often\",\"depend natur issu may impact abil work would concern would negat affect chanc employ somewhat open yes think would sometim often\",\"yes relev duti posit otherwis necessari less like simpli general percept knowledg mental ill less wide understood instanc adult add might simpl explain wherea bipolar ii would longer discuss may avoid interview open mayb rare sometim\",\"seem place certain want interview ask physic unless direct relat part job somewhat open mayb rare sometim\",\"go someth im deal time someth notic yes feel employ would accept physic health issu mental health issu current opiat addict long live use year still mess day think would ever comfort share employ document anywher addict would reason share thing employ peopl realiz someth wrong brain chemistri terribl person want way great work current job year feel like told employ would discrimin eventu let go somewhat open yes think would never sometim\",\"point career honest employ want work point career cannot honest employ want work applic mental ill mayb applic applic\",\"applic somewhat open mayb applic applic\",\"relav job one applic applic mental ill mayb applic applic\",\"unless would impact work nobodi busi unless somehow direct impact work nobodi busi applic mental ill yes think would applic applic\",\"think would see temporari mayb even view hardi resili employ would use measur compet high mainten somewhat open yes often often\",\"know could trust stage know could trust stage somewhat open think would applic applic\",\"know front illeg hire someon physic impair issu unless obvious issu somewhat open mayb never often\",\"want affect get job reason somewhat open yes think would sometim often\",\"depend context think would depend mental health issu felt would impact interview applic applic mental ill mayb applic applic\",\"affect abil someon preform job taboo somewhat open yes think would sometim applic\",\"afraid would impact abil get job doubt hire somewhat open yes think would applic applic\",\"less stigma would feel could affect outcom somewhat open mayb rare often\",\"would depend perceiv chanc get offer second interview interview realli want posit thought physic health issu might deter employ may choos bring ask outright though would lie desir job may trump willing disclos potenti issu somewhat open think would applic applic\",\"expect cover standard hr best practic plus legal social oblig clear show weak chang social situat interview fail would impact negat neutral yes sometim often\",\"would depend upon would direct indirect bear posit applic would bring bring unless prompt would depend upon would direct indirect bear posit applic would bring bring unless prompt physic issu somewhat open mayb applic applic\",\"believ would relev job interview would need kind accommod issu otherwis think would reduc chanc hire physic think would need special treatment accommod work would bring soon relev sometim come somewhat open mayb rare often\",\"depend issu affect job 100 unnecessari keep alreadi current job almost get job made offer told would difficult travel thing almost revok offer reason revok made clear mental health issu certain felt legal compel made extrem uncomfort asham made still mad even though kind get standpoint even made turn doctor note keep file none busi bare impact job made huge deal somewhat open yes think would rare rare\",\"would hold would hold applic somewhat open mayb sometim often\",\"relev relev somewhat open mayb sometim often\",\"would hurt chanc hire get hire wonder rest life affect thing open yes rare rare\",\"depend type issu someth common would like feel though would will accommod think transpar mani employ mental health issu might affect person workplac efficaci want lose potenti posit thought whether interview made decis conscious applic mental ill mayb applic applic\",\"like felt would harm chanc get job seem like would hurt chanc get job somewhat open mayb rare sometim\",\"may signific impact perform accomod accord may signific impact perform accomod accord open mayb applic applic\",\"prefer focus benefit bring prefer focus benefit bring applic mental ill yes think would applic applic\",\"bring would bad option place posit less like get job done advis colleg told bring anyth might negat interview would impact negat somewhat open yes think would sometim often\",\"import know hire establish need earli might make look stupid applic mental ill mayb applic applic\",\"eye condit requir medic leav yet determin futur point think would negat impact interview somewhat open yes think would applic applic\",\"illeg effect job offer illeg effect job offer somewhat open mayb rare sometim\",\"would someth would need know better know type place understand depend employ see difficult answer survey question requir general previous employ product convers even one place mental health issu convers result immedi retribut somewhat open mayb rare often\",\"would avoid much possibl put best possibl light would expect hire honest mental health issu somewhat open yes think would rare sometim\",\"issu would signific impact work would bring relev job would open mayb applic applic\",\"comfort discuss person issu someon presum recent met comfort discuss person issu someon presum recent met somewhat open mayb applic applic\",\"fuck think issu problem mine see also analog bring black wife gay son applic open think would sometim never\",\"sure discrimin get offer hard prove discrimin mental health legal one never get reason job offer extend hinder applic mental ill yes think would applic applic\",\"fear negat consequ taboo subject somewhat open yes think would rare often\",\"depend compani cultur would afraid may come weak leav bad impress somewhat open mayb applic applic\",\"want work employ handl fact cowork might health issu want work employ handl fact cowork might health issu applic mental ill think would rare sometim\",\"regardless disabl legisl say health issu surefir way get turn work peopl tend assum mental ill mean go crap write code sometim come open mayb sometim often\",\"interview might uninform impact disabl abil job stigma surround mental health issu must trust someon share info somewhat open mayb sometim often\",\"attitud come packag mention skill still skill see situat could feel open mention nonetheless tell employ feel physic applic mental ill think would sometim sometim\",\"get job get job applic mental ill yes rare rare\",\"chronic physic health issu often affect hire decis even though employ say diabet observ true assum chronic mental health issu like chronic physic health issu would often affect hire decis even though employ say diabet observ discrimin physic health side thing applic somewhat open mayb sometim often\",\"issu long impact task interview theoret sinc current fortun enough suffer mental ill question come awar would sever deterior futur work atmospher peopl know advanc applic somewhat open yes think would applic applic\",\"would import employ understand requir demand physic health issu might bring mental health issu affect current work open mayb rare sometim\",\"would want risk potenti negat outcom potenti negat outcom would impact negat neutral mayb applic applic\",\"import bring parti awar hide physic health issu would never end well either parti convers open card tabl import bring parti awar hide mental health issu would never end well either parti convers open card tabl open applic applic\",\"depend way would never get job would impact negat somewhat open yes think would sometim often\",\"may inhibit chanc get posit may inhibit chanc get posit neutral yes think would applic applic\",\"impact perform would get job applic open mayb sometim often\",\"depend reput employ depend reput employ sometim come somewhat open yes rare sometim\",\"could seen weak potenti employ could see person tri take advantag healthcar plan fear regard weak unabl perform job task requir time fake reason somewhat open yes think would applic often\",\"stigma say rsi heart condit etc get equat mental compet make look bad somewhat open yes sometim often\",\"might mean get job last knew time come meant need special treatment sure would mean get job open yes think would rare sometim\",\"physic health issu would affect job yes would bring mental health issu would see problem still bring stigma attach mental health still great better yet imho matter somewhat open yes sometim sometim\",\"best front stuff possibl employ awar easier judg attitud toward posit negat accept posit physic health reason realli coupl fact nowaday feel even import highlight mental health issu rather sweep carpet open think would applic applic\",\"concern unless affect abil perform job would afraid would jeopard chanc neutral yes think would rare rare\",\"depend relev affect job way also felt like could trust person interview see answer relat trust neutral mayb applic applic\",\"depend physic health issu sever affect exampl would talk carpal tunnel affect job perform need ergonom keyboard mice order constant pain bring polycyst ovarian syndrom pcos affect work perform probabl depend hypothet mental health issu applic open yes think would applic sometim\",\"complet depend relev mental health issu impact work appli matter somewhat open mayb applic applic\",\"sometim come somewhat open yes think would sometim often\",\"due increas healthcar cost potenti would want know case potenti impact work would hesit due possibl stigma associ somewhat open mayb applic applic\",\"depend whether issu might perceiv impact perform actual whether confid explain impact work around depend whether issu might perceiv impact perform actual whether confid explain impact work around applic applic mental ill mayb applic applic\",\"may employ employ somewhat open yes think would never sometim\",\"would bring issu would affect job might affect job within month best world employ see posit even direct discrimin neutral mayb applic applic\",\"would depend job appli would someth like need special chair would along line need cater random day either one howev know respons would treat reason know whether employ view mental health physic health somewhat open mayb sometim sometim\",\"denial job oportun denial job neutral mayb applic applic\",\"would probabl better long run depend issu would influenc work would certain mention somewhat open think would applic applic\",\"feel like bring physic health issu would mark get job choic anoth candid mention health issu feel would take candid feel like bring mental health issu would mark get job choic anoth candid mention health issu feel would take candid somewhat open mayb rare often\",\"depend type job would affect work would bring think general feel abl manag via employ would want test might bring mental health coverag interview though applic mental ill mayb applic applic\",\"point basic surviv problem bring food tabl pay rent case get job would keep mouth shut work hard like case would take liberti tri get comfort work posit easi ask right better work environ basic life need met safe regardless work case liberti emot problem sick surviv physic applic neutral yes think would sometim often\",\"may prevent get job believ would prevent get job would impact negat neutral yes think would often often\",\"think appropri discuss issu earli interview wait discuss hr feel go think appropri discuss issu earli interview wait discuss hr feel go neutral mayb rare sometim\",\"kind feel uncomfort say thing although guess would certain situat lucki most function even well disclos compani better idea peopl react somewhat open think would sometim often\",\"believ total transpar appreci know potenti employ veteran ptsd relat issu believ total transpar appreci know potenti employ somewhat open yes sometim often\",\"especi would affect physic access locat equip seem like would absolut necessari depend aspect mental health talk stigmat other would impact negat open yes rare sometim\",\"health issu potenti liabil would hesit mention unless direct bear job respons ad stigma mental health issu seen serious therefor bring would consid problem incur therefor least big liabil physic problem open yes think would never often\",\"would depend relev discuss bring unless necessari would depend relev discuss bring unless necessari open mayb never often\",\"depend go impact particular job suffer burn out ever will work employ someth need awar order find best way avoid would impact negat somewhat open yes think would sometim often\",\"feel like would effect chanc get job also none busi unless effect perform feel like would effect chanc get job also none busi unless effect perform open mayb sometim sometim\",\"think relev unless relev somewhat open think would applic applic\",\"relev relev somewhat open yes think would applic applic\",\"usual enterpris give import health problem worker big wall still unhapi affect busi bad mode applic mental ill yes think would sometim applic\",\"would prefer honest front rather find employ support road ensur employ go turn unsupport employe need open mayb rare sometim\",\"legisl jurisdict mandat certain protect employe need concess due health despit legal protect mental health area still suffer signific amount stigma somewhat open mayb rare sometim\",\"bare know peopl probabl rather give reason turn see upsid bare know peopl probabl rather give reason turn see upsid somewhat open applic sometim\",\"risk lose consider posit could contribut employ decis legal neutral yes think would applic applic\",\"job requir lift embarrass would probabl lose job somewhat open yes think would rare sometim\",\"like think would relev feel comfort talk mental health issu even less stranger interview open think would applic applic\",\"person health issu belong interview process inher make interview particular hostil interviewe organ hr law especi relat anti discrimin thing person health issu belong interview process inher make interview particular hostil interviewe organ hr law especi relat anti discrimin thing applic mental ill think would applic applic\",\"need accommod feel upfront honest much stigma applic mental ill yes think would rare often\",\"peopl understand physic health issu wherea mental health never sure may accept somewhat open rare often\",\"protect disabl thing came random chronic condit recov somewhat open mayb sometim sometim\",\"honesti alway best polici even mean get job issu look employ enjoy exact gloss version open mayb applic applic\",\"affect abil perform work would unlik affect outcom interview may affect outcom interview reluct bring applic mental ill mayb applic applic\",\"affect job would wait hire discuss manag affect job would discuss manag hire somewhat open yes think would rare sometim\",\"could seen weak reason product could definit seen weak reason product someon without issu somewhat open yes think would never sometim\",\"physic health issu would want make sure provis health need concern accept posit new compani may bring mental health issu interview potenti employ would afraid might influenc decis whether hire might view unstabl unqualifi proper job somewhat open yes often often\",\"think would hurt chanc hire although depend physic issu reason physic applic somewhat open yes think would applic applic\",\"obvious would prove job know possibl way impact hire decis somewhat open yes think would applic applic\",\"physic health issu line work rare effect abil perform mental health issu often effect abil perform somewhat open yes think would sometim often\",\"current concern sensit need know better first open mayb never sometim\",\"depend potenti impact job relev would impact work neutral mayb applic applic\",\"would career suicid would career suicid open yes never sometim\",\"would make seem less suitabl job would make seem less suitabl job somewhat open mayb sometim often\",\"matter somewhat open mayb sometim often\",\"affect job concern believ would conscious unconsci bias would impact negat open yes think would sometim often\",\"diabet promin part life impact abil work multipl way well get may leav blood sugar low morn say matter need treat drive offic would want know stanc potenti employ toward mental health issu still stigma surround mental health issu need dissip would want know context would bring detail around scenario somewhat open think would applic applic\",\"depend interview would relev point serious interest job answer physic open mayb sometim sometim\",\"depend physic issu posit appli open think would rare often\",\"depend physic issu impact abil work depend much social stigma say add easier thsn say depress somewhat open yes think would rare rare\",\"fortun enough condit requir accommod everybodi understand mental health would worri perceiv negat somewhat open mayb never sometim\",\"depend job requir instanc long hour heavi lift would boot crazi ass right would impact negat open yes rare often\",\"interview process elimin want give employ reason elimin physic issu someth clear protect law eg vision impair mobil issu would disclos think would put candid hard basket much easi justifi employ someon criteria mental ill actual signific factor therebi avoid accus discrimin somewhat open yes think would rare sometim\",\"want get reject want fulli open build trust start job secret want get reject want fulli open build trust start job secret open mayb often often\",\"employ incent pay less tax hire ppl disabl franc sure usual know ppl interview somewhat open yes think would applic applic\",\"unless direct impact job busi valu privaci would like result negat opinion abil perform job might also communic beyond person perform interview potenti employ busi effect abil job valu privaci would impact negat somewhat open yes think would rare sometim\",\"relev relev somewhat open yes sometim often\",\"want health issu affect repres interview want health issu effect perceiv interview somewhat open yes think would applic applic\",\"depend whether would put posit need ask accommod know need accommod also shame probabl shame sometim come open yes sometim often\",\"relev role would mention would direct impact abil perform role would feel compel mention depend understand expect employ might due negat consequ somewhat open yes think would rare often\",\"would depend natur sever impair gift adult employ familiar differ peopl high iq appear intimid aloof mental health issu might nail coffin somewhat open mayb applic rare\",\"physic health person issu would discuss peopl establish trust would discuss mental health issu person establish trust also want show affect job perform reveal sort person issu somewhat open think would rare often\",\"bear employ feel could bear got offer employ even though illeg discrimin base mental health issu somewhat open mayb applic applic\",\"want get hire want get hire applic mental ill yes think would applic applic\",\"would depend whether issu would affect need workplac bring necessari bring reason physic applic mental ill mayb applic applic\",null],\"marker\":{\"color\":\"#CFD8DC\",\"opacity\":0.5,\"size\":5},\"mode\":\"markers+text\",\"name\":\"other\",\"showlegend\":false,\"x\":{\"dtype\":\"f4\",\"bdata\":\"ojYtQblEPUHRpCJBC8nDQPwAIUG1JD9B3uIQQRrtJEEB0y9BhA4oQecROEFXKxtBmVo1QbR4KkGjGg1B3U4QQbYMMEFF9S9BadskQTTBIkHt2d5AlZQjQZbIBEHyVCRBsncoQaYvMkGu9jhB2Q8dQfGqJEEA8zxBcNA9QeNNIEFc0iNB6q0UQSiaNkHOLDBAytw3QQxFIUHkBcNA7J8oQdtNQkEOLTtBn0A7QU7jJ0Ew2hpBucAmQS1uw0CwSyBBk3QpQWeVK0H3zjVBFdzYQEquHUEm+wZAOXs2QWRPH0Gw80RBkpMYQRsONkFb0T5Byc4iQTW+zkBOzdVAQGA3QdC5KUHW3ilBgixJQaoJMkEPkhVBqS83QVFFOUH39ihBE6EpQSm0OkEKzAZBfIcdQZuiLkFIsh1BwWcFQacFMEFXFR5BGeAtQeIODUHzmSFBkpQnQTqlIEGZFitBirl8QDqHIEGDlzBBNyYrQfFXJ0FrRClBo9UsQaUlIUEI9SBB6E0eQSxeJkFWaTBBQTQtQbXKNkEjQjdB2A0iQXWeBEHQoAdB51wJQa0m+j9uDbxABnvsQP83KEFBId5AZFkVQXGFNkGZPxNB128sQQiiMkH\\u002f8C5BCE45QU0iLUFHHddAPBMeQQqCH0GN\\u002fCRBUGovQJizJkEvLx1B8m4\\u002fQQ5HEUErPjBAmUcSQbgYCEF2VwVB+\\u002fAjQYucH0HuVTFBd6kyQa8PKUHQSR1B64UwQViwKEEBC+M\\u002f71MgQcjrJEEMHDlBbzIIQdvMIkFEN8hAknYsQaw1H0Ho3BlBKBo2QbnyH0GrgR9B7Ok0QTWiH0EEABJB8YIQQQ4THUFNTZRAJ9EnQSB0xkAGPAVBCeFAQZQM1j\\u002fotDVBb38hQbabLUEOfiJBJcTVQK6MHUFl8RlBcWoYQdcKLUGB2zFBbi00Qant2EC4edhAkfXHQHNTIUFTLbxA2booQZMgJkEiGxtBCwAeQcJtKUFltS1BhyQSQZcSN0Hu9chAG7E7QdmjFEGdMCJBiTo6QdpdLUGhmCZBBPvkQMejHkF\\u002fyyhBUhktQfFmGUH4\\u002fDVBJDcoQf7PGUGzbtc\\u002foCA3QZbKJEEs0tZA8Yz9P6UiHUEhxPZApU7lQAOuOkGQJhxBVKMTQTwIMUFBP0JBWqEaQcDrMUETEh9BBROtQBBmFUHsWthAUNkZQfKoKUGoqTJB1LYgQRxnKUGi4i9A2KzYQNAMNUGZfyRBLGMtQfS\\u002fQkHFKzZB1ikKQbzrI0Hi70JBx2YEQTPmOUFHSQVBqtsUQU2VC0HFEtJA\\u002fnIoQdaHKEHfLDNBtqEqQVTFMEFFADVB5r4pQa+dFEFc\\u002fw5BSmspQRKy50AQiUdBdzUpQTq1EEHT6BVBscQxQbrvOUEjYDBA7noJQW4ONkEKuLxAR+\\u002fKQIzKQkERxBlBOng+QYXnL0BxLTNB60Q8Qe\\u002fdOEEirjlBdaQcQYqcGEFrMCVB0qYgQTzlFUHbjiJB0ZccQRrVw0CwHhVBqgExQR0VP0F7lCtBd7g4QTTwDUExl9VAJcgeQcbPC0FFwzpB\\u002fKUgQVUyLkHFkCdBx5AcQQWXKUGW+8NAjzzDQFax10CfoDFBg1MaQWqvLUEMQSZBnuseQb69DkG+djhBveIdQS1HG0F1kxRBaXguQci02EDNIRFBdCUrQeUPKEE3FSpBhMBEQaY6JUGgsjhBm1kJQQCdCkGEQCNBVZuqQI2r20DjhBpBVrs2QVObP0Hw7SZBIyEoQbXsG0FnTTZBjBmhQBe8DUHTXjVBD61AQSrqGUEShzRBMi87QVlmIEFmRiBBZ7MIQZqBSUGC+BdBkJslQTRBJEHpNTRBPYAvQYaGGEGwpg1BDYk7Qf8yN0E1wC1BOlUXQSIVNEGbUi1BQ68ZQbDlJkGFOyRBk3wxQc6aMUFheK1AVT0yQeidFkHTiQhB0oY8QUPNukC7ihZByedFQTR1EEHEIh9BwLoxQc2qRUHH8zBBu7wtQTvcw0Cs6SpBOE8eQVM\\u002fKUEI069AfYQcQWu3KEEQhC1BxvUdQY5UK0FYDdhA\\u002fKs+QdsUNkGpPiZBX\\u002fY6QVvPMUHfmcdARYHYQCAxHkFj3y1BBGgQQSNpFUGPTSdB\\u002fBkjQXPUKUFPEDlBQO80QePSNkE\\u002fViBBvTsiQXGZukBDEts\\u002fRnwhQa2OCEBbBtxAy3cxQXs+NkGFzxNB7ZwuQTefD0GF+jBBBvEtQeeiK0FQqwxB\\u002ftxGQdA1H0FnbAxBko0gQUgQKkGdqzhBE5EOQXiiLUHlkx9BxV04QTwUHUFZNT1Bx+c2QWoxKkGPuO4\\u002f268aQTNDJUEZejBB4JogQW0uOUFcqwhBQL8kQZsMPEF0TDJBZvgyQRMaHEHxIURBE9YSQcNoOEE+uB1BX4UfQWRJJUGOxyVBeZ4TQVaz1UBoQdVAp\\u002f8pQRgFM0ESrRRBJk+rQK92LUH5AiJBFO85QTm\\u002fNUGCZgxBoWgpQdGV6EAvVMhAVKMtQbdSH0FdECJBffY5QQKhIUFXTixBrwInQVOaEEHo\\u002fSBBsSIoQcsDKkFEM6FAnwccQcX4IUHBYkRBeEsZQaXkG0GFqSRBzzkhQSlFNkE87zhBf+gvQbXrJ0GFdNdAJZQ\\u002fQddNqUClvShBP2QsQdSWPUEoADBBfJkoQZnsJEH2lBtB\"},\"y\":{\"dtype\":\"f4\",\"bdata\":\"yHk2QWhvKUFfmy1BvNiKvyF2GUHq+zFBMb35QKvASEFnWjRBJKE9QXvDKkEF5gNBOY0rQZ2rOEGrhkFBdcYJQcBdQkFvTShB+T0wQVeiQ0HshqVAOLgtQX4sP0EZXjFBY0kAQdShM0FFEgZBT0Q+QX9W\\u002fUBlHRpB8Z05QSHJHUFojStB\\u002fQwUQXMdQkGBOpVADCAKQdicREECKI2\\u002fARMTQQ0sGkG4XhNBU6QlQaVPIUFghQJBl9PsQEsDjL8ePThB6UMJQe449UB6qiZBILIuQPgXPkEwKXJAiDA8QZut+0BD\\u002fydB5TZCQb9zM0EXazdBNCIEQfF\\u002fqEBv1ZxAKsw1QV50R0FV8ARBgYAgQR+BNEEmQTpBUZ80QfmdNUFtXy9BUZA4QcynJkElRwVBFyI4QZGlDEHx4\\u002fZA6kdBQW0zOUEROAxBOy4vQcEIQ0FVZA5BEf0MQa\\u002foQ0EQMglBpB28P2ZAAEHef\\u002fhA5mNDQdvAMUFWgEhBllk5QaT9Q0FLmjtBu54UQV3V60D3pCdBg3AwQevJJEE6DD1Bgz0OQV8OAEHiDgZBTzYGQcs4eECzxK5AnhsHQUrQK0Fz66lAHW8OQeQUNkEHHwBB6soDQaBWNEEXaDVB3BAlQcLIOkEGbwNBlccEQfUOPkGtNuxA8UmVQBjRKUF0OUdB2J8UQc2TPkFiDJVA6Ar+QPj5RkGpkwBBuUguQZL+O0GWqhZBDMVAQURALUFuoC9BPXUEQXE2MkHnkIRAPPsTQRopD0GarylB1c47QVamLkFku0q\\u002f8Vn8QO6u+0A8YghBaLktQf3e+kBSQTdBNLQnQVQON0G+Dj5BhBY\\u002fQXsqAUFKEKRA1ng+QTvQf7+OPwFBpmQzQYAejkDB6T5BqXJAQUhnQkEu0hVBNvGeQDbNAEGCje1AxnATQXNFQUHZoTJBNw4yQd5RLkCTEi9AHLw3v7dtH0HHzK5AVh\\u002f6QFJI7UAZ0fdA3RYuQRkrG0ExOBpBHXP7QF5GOEFxILFA+4wdQcgJPEFsOkZBFgAnQdvjP0FaTfpA1GmfQHoiFUEX5wtBjsICQWwjE0GqjSdBuQsMQQg5E0GoPI5ANq8vQX3NMUEEm55Aqc57QJY\\u002fBkGUGTpAQLOfQEedKkGMSCtBaHg8Qfd+BUGZ6CZB1rY9QWEkGkFnXPRAOzOpQDAQPEFs6C5AkKckQRNgPkE07AdB0pEKQfYAMkEoLJVA6AcvQCU0NkFhJkpBRWUTQbBjHUH4DCFBwzUHQQCrMEH4xzJB0N1CQYvrGEFGQEVBGk8CQfYXDUEnlJ5AKSVIQScXDEEe1B1BOqYwQT01NkFWAC9BmBgUQeLJPEFeXz5B9xkyQWQonkCXRidBN0ECQTaSM0HEbAlBy4IEQZknJkEKuJVA6QdFQZvbLUHJo69AeN0BQe4KJEFonAhBavQ3Qc0elUA1fCpBClMZQY0QNUFIgylBMUCyvyRbDEFp1QVBUS0PQSn1AUFBTPpAVZEMQXCNir\\u002fv\\u002fTtBFuYnQWaQH0GkDC1BzZwhQZFmEkHMgJ1A8Ig5QaxdQEFXKBRBIvYHQdNAMkF2NARBO0ZDQRpK+UANC4q\\u002fxS2Ov6I8mUCA\\u002fDhBEjcOQeENBEGbKQVBoFo6QQKdEEHofTtBxgu6vxHWB0Fz8ENBnMQFQdAIL0CLiTZBpHEQQdGCQEFIuzhBkEgmQRb1IUFhuwRBN9lCQV28B0Gtwy1BL\\u002fGdQGijBUH7H0lBPhQOQedNH0ELJwxB19chQeAvMkGyRypBTs6CQPUcREEYMSlBz9MkQSaAEUFhTQVB2kYeQbnUQ0GQov9ArV46QWXCI0HHhAZBQZ71QAllDEHcwTdBgBk7QWrv+UB2ogBBkPEcQerkPEGIDUNBqusFQdUAOkFt\\u002fQ1BKn7tQI6fBkGY+j5BXmQGQWK8\\u002fkAaWqRAo\\u002f4xQfQ+FUElPAZB8j8qQY+EAUFx5gZBcQETQcQBCUHLGApBpcQvQZL\\u002fJkGckjhBhPw5Qc9hir\\u002fqRjlBF7ctQUxdB0HuSgFBkT\\u002fzQMhRDEGihTJBXYEVQWz4\\u002fEAtRwVBCLskQX6bHkHmIRdBAfgfQTecHEGJDDi\\u002f4B6XQEIcAEFYSzVBbXgJQTGiBEFPlkdBy40WQSPEOEGhAiNBDY4FQSfhNEGkLDxBe9cPQUvMm0D9jI9AyfA0QYvIeEA7ZKdAhSY2QelGPkETmjxBRL85QQ58UUEOci1BWpcxQXD8P0FUKwJBFA8tQeXBBUGGMQtBNOcJQRrYDkE\\u002fLipBFCdLQWSbBEH6wjxBqVg7QTzJAkHt2hpB8wQ1QaKWQUH3pX9AzVA4QWU2F0HmrfxAdIsNQR12MUELZTpBrEMJQR6ROEHs8S9BxdUwQU22CUGztiJBVfEKQXVQC0FRpEVBCPY2Qc82F0EmuRRB3u4MQZmUnUAUKJ1AMe8\\u002fQf8XCUGWRjpBsrWYQPonEEELZABBToQpQUzCKUHlgktB0hlGQUTBE0FC9aVAv+ksQU+lEEErGyJBJgcsQYkdAUHXo\\u002ftAw8k+QSUA90DRbA1Bei4FQT5tAkF95IJAuM0LQUepPkE9\\u002fSRBzcjsQGfnQUFAkkhBSqoAQXupJ0FMIwVBbl4IQY3aCEFYSJlANloqQR7\\u002fmkDqXhNBiOc1QdJbN0HYmDlB4MI3QUP4MEFPGhNB\"},\"type\":\"scattergl\"},{\"hoverinfo\":\"text\",\"hovertext\":[\"effect way work negat thing new boss effect way work negat thing new boss open mayb rare often\",\"affect abil perform job would bring would bring affect day day work otherwis probabl would stigma around somewhat open mayb rare sometim\",\"depend issu would effect perform job hire think also depend would effect abil perform job task somewhat open think would applic applic\",\"depend relev job function depend relev function open rare sometim\",\"worri may affect chanc get job worri would affect chanc get job somewhat open mayb applic applic\",\"affect work perform would none concern would affect chanc get job neutral mayb never sometim\",\"know whether would affect chang get job know whether would affect chanc get employ somewhat open mayb applic applic\",\"would make unabl perform certain task cannot expos certain liquid heavi thing lift etc employ may see cost somewhat open yes think would applic applic\",\"case affect well though could job reliabl case affect well though could job reliabl somewhat open yes think would applic sometim\",\"would bring found relev abil job otherwis would would bring felt would impact abil job somewhat open mayb applic applic\",\"would would believ would impact product sure employ would see problem inform avail mental problem deal somewhat open mayb never sometim\",\"depend employ mood flow convers noth set stone convers like fluid depend person matter somewhat open think would sometim sometim\",\"like affect chanc employ issu occasion impact abil work depend would strong affect abil work somewhat open yes think would sometim sometim\",\"bring unless absolut necessari day day job function fear discrimin hire bring unless absolut necessari day day job function fear discrimin hire somewhat open yes think would sometim often\",\"might affect perform might affect relationship co worker sometim come open think would sometim sometim\",\"would want prevent get job feel like would negat affect employ opportun somewhat open yes sometim often\",\"affect work none busi affect work none busi matter open mayb applic sometim\",\"might affect chanc get job felt would understand would otherwis fear discrimin somewhat open mayb sometim often\",\"would discuss make sure open front work depend degre affect work affect work would want front open mayb applic applic\",\"would bring relev would like direct effect work think open mayb applic sometim\",\"may affect work may affect work employ may take serious depend ill somewhat open think would never sometim\",\"sinc affect job perform none busi matter open mayb rare sometim\",\"unless issu sever stop work think mention would affect chanc think would understand would affect decis somewhat open mayb sometim sometim\",\"could affect work would requir would otherwis id tri keep dont want burden label somewhat disabl would impact negat open yes think would often often\",\"felt would reduc chanc get job time would imped abil job mention reason felt would reduc chanc get job time would imped abil job mention somewhat open mayb applic applic\",\"may affect time need take abil certain task come neutral mayb applic applic\",\"would impact relationship might adjust need work space exampl believ honesti front best approach would impact relationship might need certain freedom person space exampl believ honesti front best approach applic somewhat open mayb applic applic\",\"would direct affect work otherwis busi would direct affect work otherwis busi somewhat open think would applic applic\",\"want affect chanc get job want affect chanc get job alreadi woman person color would bring someth els make differ cultur fit big deal field somewhat open yes think would sometim sometim\",\"old back injuri caus mani issu occasion impact abil work desk would 100 sure disclosur would affect applic sometim come neutral yes think would sometim sometim\",\"depend would affect job even necessarili bring case made hire like pregnanc exampl know well enough understand full context behind issu sometim come somewhat open mayb rare sometim\",\"need know unless affect work need know unless affect work open think would never rare\",\"would bring affect abil job would bring affect abil job somewhat open think would applic applic\",\"go impact abil perform job would feel oblig let know go affect abil job would feel oblig let know open think would rare often\",\"may affect work disclos protect disabl law came would would bring unprompt matter open mayb applic sometim\",\"would concern would affect chanc get job would concern would affect chanc get job open mayb sometim often\",\"yes import affect work yes affect work somewhat open mayb applic applic\",\"depend work impact toler understand sometim come somewhat open yes think would sometim often\",\"depend issu affect work respons done issu talk somewhat open never never\",\"might affect perform workplac might affect perform relat colleagu somewhat open mayb applic applic\",\"would bring affect abil job affect abil job neutral think would rare sometim\",\"depend affect job felt would impact product would impact negat somewhat open mayb never sometim\",\"wold bring would affect job work disabl communiti would impact negat somewhat open yes think would sometim often\",\"depend relev perform depend relev perform somewhat open yes think would sometim often\",\"depend obvious would affect work offic job abil walk critic depend go affect work applic neutral mayb applic applic\",\"sure would affect work depend would affect work somewhat open yes think would applic applic\",\"depend affect job yes would talk depend affect job anyway matter open mayb never sometim\",\"depend would affect work suspect would stop get job would impact negat open yes think would sometim sometim\",\"impact day day job would bring discuss otherwis would wait see environ compani accept less perfect instant seen weak also issu mental state discuss weak would impact negat somewhat open yes think would sometim sometim\",\"yes would impact work meant need flex schedul similar accomod open think would never sometim\",\"guess realli depend whether necessari job impact day day work would necessari scare may scare potenti employ honest guess realli depend person sit across tabl comfort feel sometim come open mayb rare sometim\",\"would like would effect work reason effect work need know somewhat open think would rare often\",\"depend affect product bad experi need trust new peopl open open yes sometim sometim\",\"think would lower chanc get job take away thing bring job thing lower chanc get job fear would zone rather awesom bring neutral yes think would applic applic\",\"concern would negat affect employ opportun concern would negat affect employ opportun neutral mayb sometim sometim\",\"employ would need awar limit could reason affect work perform employ awar issu could reason affect perform neutral mayb never sometim\",\"depend affect abil job chang abil discuss open think would applic applic\",\"would limit prevent job interfer work schedul prospect job high stress could trigger anxieti would impact negat somewhat open yes think would sometim often\",\"issu affect work would want employ know time hire avoid conflict later issu affect work would want employ know time hire avoid conflict later applic somewhat open mayb applic rare\",\"depend issu depend type mental disord somewhat open think would never often\",\"front factor may affect work perform honest front thing may affect work perform unless embarrass talk somewhat open mayb applic applic\",null],\"marker\":{\"opacity\":0.5,\"size\":5},\"mode\":\"markers+text\",\"name\":\"0_affect_work_job\",\"text\":[\"\",\"\",\"\",\"\",\"\",\"\",\"\",\"\",\"\",\"\",\"\",\"\",\"\",\"\",\"\",\"\",\"\",\"\",\"\",\"\",\"\",\"\",\"\",\"\",\"\",\"\",\"\",\"\",\"\",\"\",\"\",\"\",\"\",\"\",\"\",\"\",\"\",\"\",\"\",\"\",\"\",\"\",\"\",\"\",\"\",\"\",\"\",\"\",\"\",\"\",\"\",\"\",\"\",\"\",\"\",\"\",\"\",\"\",\"\",\"\",\"\",\"0_affect_work_job\"],\"textfont\":{\"size\":12},\"x\":{\"dtype\":\"f4\",\"bdata\":\"B48YQdkJH0Ec\\u002fSRBIConQbjIGEGJYxlB94AYQVLNIEE11iBBYo0gQdErI0GoxyVBV7YaQbBLIkEFsxtBtkQgQQvXF0HZ6RJB5aAbQUQhIUGwNBtBqrgVQdIlGkGj2RtBjGkhQZsGGEE8Yx1B0b4aQYlVH0EowhtBy2AkQUjTGEH2Bh9BC8MfQSeKHUGHVhZBiCUYQdb1GkGQ4SNB2fsYQetDHkHtpSFB5JogQWgMJkGtniVBw70bQY84JEEj7R1BCUUfQci3HEHruyFB5kEYQZMeJEGLzhVBJ0UaQb5CHEHLVSZBKhsdQaV5HkHj+iVBnYgZQWzkHUE=\"},\"y\":{\"dtype\":\"f4\",\"bdata\":\"7jkSQbtMFUHs\\u002fBBBe8sQQXnpCEEm9AxBLrQIQabfEUELTglBUXYTQawkFUGZ2BBBC5cUQfwyFkHvixVBxdEHQYwKEEEPiQtBzakQQQSaEUFPJBNBTiELQdz7EEFbpRFBS\\u002f4NQa18EEHwThVBh8wQQeyMFkFXpA9BLjMQQciSE0HovBVBv2kVQYZPDkFxXgdB4aANQaKqEkEN2hFBgZAMQYVED0EklxJBGpEVQWQ9EEFmLRJB+BYRQXjFEUEkpA5BkLMVQZpMEEFV1xZBaMwTQVzpFEHWPQtBd2QJQQOcD0GiHRFBGdQLQTFEEEGBNBBBhwsSQeifEEE=\"},\"type\":\"scattergl\"},{\"hoverinfo\":\"text\",\"hovertext\":[\"concern would count interview stage almost certain count interview stage somewhat open yes often often\",\"would bring ask interview think issu may influenc perform would bring interview think issu may influenc perform matter somewhat open yes think would rare often\",\"like interview feel like put best foot forward put disadvantag feel like would put run posit almost immedi least use negat mark somewhat open yes think would sometim often\",\"would depend tone interview attitud individu interview feel would indefinit compromis chanc hire neutral yes think would sometim often\",\"make differ would certain affect outcom interview somewhat open mayb rare sometim\",\"upfront case ada act appli employ someth would open unless felt safe could determin short amount time interview open mayb sometim often\",\"first would like focus abil skill would pass initi interview round would bring previous one somewhat open mayb sometim often\",\"someth actual relev job interview cours would bring thought relev job interview would bring somewhat open mayb applic applic\",\"sometim even work connect topic come interview current job want surpris want know blocker get hire might becom issu day want sure know get reaction get glimps get open sometim often\",\"would sour interview experi work most small team one would consid small team could excus away good person fit would impact negat somewhat open yes think would sometim often\",\"interview would afraid reveal anyth could seen detriment otherwis necessari disclos reason amplifi somewhat open yes think would rare sometim\",\"rather privat manner one might wish share everyon posit may part team way interview succeed case base linger mental state one would open becom vulner negat way somewhat open think would sometim sometim\",\"probabl depend atmospher attitud interview matter somewhat open think would sometim often\",\"would bring receiv offer unless impact interview perform might mean offer somewhat open yes think would rare often\",\"feel like would make negat impress interview make awkward dynam offer time would accept brought googl interview will make allow disclos seem yield posit outcom open yes think would sometim often\",\"hard hear import mutual understand interview process also good test accommod somewhat open mayb sometim often\",\"afaik interview recommend discuss thing may impair one avail might caus excess drain insur benefit much might caus employ choos anoth candid conserv area employ want hear someon drama risk expos pay client might impair bottom line somewhat open yes think would often often\",\"would wish prejudic interview process would wish prejudic interview process somewhat open mayb applic sometim\",\"would like perceiv irrelev interview process would like perceiv irrelev interview process open mayb applic applic\",\"would rather convers qualif focus interview would rather convers qualif focus interview somewhat open mayb rare sometim\",\"prefer use interview opportun learn potenti employ showcas skill answer prefer use interview opportun learn potenti employ showcas skill want wast valuabl time minutia health somewhat open yes think would applic applic\",\"depend interview stage whether requir accommod would know somewhat open yes think would sometim sometim\",\"relev job perform requir sort accommod part thing like pleas send agenda hr meet anxieti usual come hire interview time ime open mayb rare sometim\",\"seem high unlik relev also seem high like irrelev point interview somewhat open rare sometim\",\"depend vibe interview depend vibe type work open rare often\",\"interview process yet know detail compani polici somewhat open think would applic applic\",\"would want give interview reason disqualifi would want give reason disqualif somewhat open yes think would applic applic\",\"depend feel interview feel would hurt chanc employ bear somewhat open mayb applic often\",\"deaf obvious soon enough alreadi deaf lot work interview process alreadi open yes think would rare often\",\"potenti employ conting anyth ada cover would weird thing volunt interview want candid tell issu put bad spot declin offer job somewhat open yes think would sometim often\",\"get interview would hard enough let alon risk negat respons open yes think would often applic\",\"could impact outcom interview would alter outcom interview open yes think would applic applic\",\"interview may train respond somewhat open mayb sometim sometim\",\"would want anyth impact qualif percept would want bring anyth could negat impact interview neutral yes think would rare often\",\"seem appropri interview get job would impact negat somewhat open yes think would rare sometim\",\"disabl accommod requir need know interview especi hr peopl tend look way elimin candid rather perform posit select interview method applic somewhat open mayb applic applic\",\"prevent perform certain aspect job think interview need know idea someth comfort deal essenti told may may act like retard day fault xyz diseas fault good pitch sell neutral mayb sometim sometim\",\"assum candid least second stage interview open limit import topic stage interview sinc made trought first wrong answer could caus negat result interview solicit responsibitliy dont know compani term cultur would feel uncomfort discuss somewhat open mayb applic applic\",\"afraid niet understood make hard talk especi interview somewhat open mayb rare sometim\",\"common sure would depend lot compani would interview somewhat open yes think would often sometim\",\"accomod need requir law believ would impact interview anyway posit could negat impact sometim come open yes think would never sometim\",\"would becom obvious later come interview seem privat physic issu somewhat open mayb applic applic\",\"imagin would prompt interview quick disregard resum imagin would prompt interview quick disregard resum somewhat open yes think would rare often\",\"would depend specif issu impact work would mention otherwis would impact interview process neutral yes think would applic applic\",\"sure discuss weak interview answer earth would discuss weak applic open yes applic often\",\"would requir accommod work add noth valu interview somewhat open mayb sometim often\",\"idea sign weak alway disadvantag interview open yes think would rare often\",\"relev interview process relev interview process somewhat open yes think would applic often\",\"think issu need discuss interview think topic need discuss interview somewhat open mayb sometim often\",\"realli depend vibe got interview feel interview see felt comfort discuss tough call wish could feel comfort time somewhat open mayb sometim often\",\"would depend primarili issu whether deem relev interview posit sometim come somewhat open mayb rare sometim\",\"depend well connect interview hard talk high pressur situat sometim come somewhat open think would sometim often\",\"person info part interview process interview place time person info open mayb never sometim\",\"unless visibl activ notic influenc behaviour think none busi none busi unless activ limit activ point probabl interview anyway somewhat open yes think would rare often\",\"interview skill person issu everyon got shit deal interview technic figur good fit ask question see stanc tell someon one first date depress bad knee plenti posit interest topic talk open think would often often\",\"depend interview go clear dead end would bring depend interview go clear dead end would bring somewhat open think would rare sometim\",\"noth job skill interview need know reason affect job skill interview need know otherwis might tell open mayb applic applic\",\"would depend posit site vs remot even vibe interview felt low risk bring topic open mayb sometim sometim\",\"decid base feel toward counterpart feel interview kind human bee bring otherwis would impact negat open think would often often\",\"alway result turn posit interview believ would result hire would impact negat somewhat open yes think would sometim often\",null],\"marker\":{\"opacity\":0.5,\"size\":5},\"mode\":\"markers+text\",\"name\":\"1_interview_process_skill\",\"text\":[\"\",\"\",\"\",\"\",\"\",\"\",\"\",\"\",\"\",\"\",\"\",\"\",\"\",\"\",\"\",\"\",\"\",\"\",\"\",\"\",\"\",\"\",\"\",\"\",\"\",\"\",\"\",\"\",\"\",\"\",\"\",\"\",\"\",\"\",\"\",\"\",\"\",\"\",\"\",\"\",\"\",\"\",\"\",\"\",\"\",\"\",\"\",\"\",\"\",\"\",\"\",\"\",\"\",\"\",\"\",\"\",\"\",\"\",\"\",\"\",\"1_interview_process_skill\"],\"textfont\":{\"size\":12},\"x\":{\"dtype\":\"f4\",\"bdata\":\"yclIQdZURUEIv0ZBqXc\\u002fQT5dQkEtckVBco9IQbA9RkFczEZB1nxAQRqBQ0EdJ0dBQF5GQYf\\u002fQEGGr0VBWQdKQQzMQEGvWEhBzWFKQZs3SEHdrUVB0R5HQfHgSEEPAUlBWj1BQUVOSUHytENBHNM\\u002fQeJqRUEJGEZBROREQcowQUGgQkhBnw1AQcLSQ0FqGkhBdH9FQcLUR0Et5khBBDhHQdk2QEFD\\u002fkZBtylFQSFsPUG8SkdBI61HQRueREG1iEhBCe5FQcGbQUFBn0lBo0hIQXmoSUHEEkdBixhGQTQQRUEXZUBBnvBEQQSdQUE9TUFBMGNFQQ==\"},\"y\":{\"dtype\":\"f4\",\"bdata\":\"k84YQe97GUGpKBpBwS0XQca4FkFpPhhBrj8dQY\\u002fQE0EpdB5BOTAVQQhYGEFpvB1BdlIaQXCEFUHnrhlBUgEdQRAhIEElcB5BvjcgQZT6HEFcViRBCbQaQQv8H0EWvhpBdVYbQTdrH0GtKhtBHqcbQbHTG0E0VxpBOr8YQWHtFUELtBpB+48VQZmUF0HkYiNBLjUdQb7BIUHLiRxBCn8ZQRveFkG5LyRBvBoZQS4CFkEkwRxBZA0cQecPGUF5zhhB3DohQWKqHEGtSx5BvzIcQWd\\u002fH0EzfhpBOtkeQYtyGEGlgB5BYi8ZQbWCGkE2OBZBLVEbQQ==\"},\"type\":\"scattergl\"},{\"hoverinfo\":\"text\",\"hovertext\":[\"figur part convers need fact make call way need know adjust depend issu hand would affect perform would requir adjust yes probabl somewhat open mayb applic applic\",\"depend physic issu consid common issu exampl amput perhap heart disord someth visibl other much negat stigma associ abl handl stress work especi startup somewhat open mayb rare often\",\"fear would caus employ factor addit health insur expens fear employ would consid addit health insur expens would doubt abil execut work somewhat open yes rare sometim\",\"depend natur health issu may feel uncomfort share someon close depend natur health issu may feel uncomfort share someon close somewhat open think would applic applic\",\"back issu neck issu occas may need time treatment depress burn relat issu often need attent work someon respect applic somewhat open mayb applic applic\",\"physic health issu typic seen roadblock product communic would seen roadblock product communic would impact negat somewhat open yes think would never rare\",\"never situat like hard say answer might differ depend exact health issu situat experienc think would depend health issu comfort potenti employ somewhat open mayb applic applic\",\"would depend entir attitud person side tabl risk negat reaction somewhat open mayb sometim often\",\"depend physic health issu bad knee vs bad allergi would afraid would negat affect potenti hire candid open yes think would rare sometim\",\"cos physic health problem cos lot crap head asham somewhat open yes rare sometim\",\"thought might impact perform job mention physic issu obvious knew would noy affect abil job would mention true mind would take run posit matter somewhat open mayb sometim often\",\"honest anytim find issu relat physic health issu need clear right begin physic health issu open mayb sometim sometim\",\"comfort speak anyth health relat work want set bad preced open mayb rare sometim\",\"physic health issu chronic would nervous would make like reject applic open yes rare sometim\",\"even physic health issu abl work fear would negat consequ somewhat open mayb rare sometim\",\"work tech physic issu unless hard broken matter ocd littl obsess thing pretti open neutral mayb applic applic\",\"mayb physic health issu chang way work yes shit crack workflow know somewhat open think would sometim often\",\"never physic health issu know would seem like tmi want doubt effect employe somewhat open mayb rare often\",\"physic health issu alon relev work overcom issu yes mental health issu alon relev work overcom issu yes somewhat open mayb never sometim\",\"unless would affect abil perform duti health relev employ unless think would affect abil job none busi neutral yes think would applic applic\",\"physic disabl visibl bring make known line better bring control situat call sick surpris employ also affect insur polici keep hidden work well probabl would effect disabl say would act applic somewhat open mayb applic applic\",\"would bring physic health issu negoti posit strength multipl offer current employ stabl posit zero upsid bring forese circumst bring forestal problem lead opportun open yes think would rare often\",\"depend whether thought would impact job perform whether would expect allow made health issu depend whether thought would impact perform would requir accommod would impact negat open sometim sometim\",\"correct open base healthi wirk relationship sometim come somewhat open sometim sometim\",\"go imped abil work sure effect abil work yes otherwis busi somewhat open think would applic applic\",\"physic health issu easier peopl see depress easi other dismiss previous attempt gone well somewhat open mayb sometim often\",\"good upfront everyth differ physic health issu potenti affect perform clear somewhat open think would applic sometim\",\"would depend health issu whether could requir accommod would depend whether issu could requir accommod somewhat open mayb rare sometim\",\"depend someth relev affect physic function blind leg someth affect direct function probabl would quit reserv anyway unless could affect work direct employ busi matter applic mental ill think would sometim often\",\"well physic health issu would littl bear work might know ill posit employ most like ignor enough understand side usual talk strength versus weak thing open yes think would rare often\",\"physic health issu obvious appear would judg risk somewhat open yes think would sometim often\",\"well physic issu harder hide mental condit depend trust person sometim come somewhat open mayb sometim applic\",\"relev would affect duti relev would affect duti exampl situat would need team awar condit help deal acut episod would make sure team proper equip sometim come somewhat open mayb sometim sometim\",\"depend health issu depend health issu neutral mayb applic applic\",\"physic health direct impact product factor consid valu proposit employ physic health problem less stigmat sometim come somewhat open yes often often\",\"would bring physic issu impact work abil eg carpal tunnel consid margin person would riski would impact negat somewhat open mayb rare often\",\"depend natur physic health issu whether chronic impact work almost case would discuss increas chanc discrimin discrimin somewhat open yes think would rare often\",\"would depend natur job physic health issu would direct impact abil work issu relev would disclos firm belief would negat consequ somewhat open yes think would applic applic\",\"may get job depend physic issu explain explicit would deem unproduct eye would better choos stabe individu somewhat open yes think would sometim sometim\",\"health issu would impact perform may bring would bring issu would affect perform job duti somewhat open mayb applic applic\",\"would depend physic health issu might affect thing would depend issu somewhat open mayb applic applic\",null],\"marker\":{\"opacity\":0.5,\"size\":5},\"mode\":\"markers+text\",\"name\":\"2_issu_physic_health\",\"text\":[\"\",\"\",\"\",\"\",\"\",\"\",\"\",\"\",\"\",\"\",\"\",\"\",\"\",\"\",\"\",\"\",\"\",\"\",\"\",\"\",\"\",\"\",\"\",\"\",\"\",\"\",\"\",\"\",\"\",\"\",\"\",\"\",\"\",\"\",\"\",\"\",\"\",\"\",\"\",\"\",\"\",\"2_issu_physic_health\"],\"textfont\":{\"size\":12},\"x\":{\"dtype\":\"f4\",\"bdata\":\"bqIuQRyGKUFSwCNBW3s8QcXmKEHe8iNB8jsrQZxdJEG0kyRB5iIrQT5oJkH5lTpB5+k3QeSjJEErYCRB+9U7QdkOO0GrRyRBrwg5QQCRJkFJkitBYosnQXPFJkF7OzxBXxMoQWOuKkHBlyZBqY4lQSaSKEHdez5B9RAlQTskN0GNRCZBJHYNQZ2QKUHcGSRBobIjQUfzKEFNZilB02QmQeq7JUE72ypB\"},\"y\":{\"dtype\":\"f4\",\"bdata\":\"3\\u002fkiQZ5uOkE4ZCVBc886QYFwNUHTxiVB1HAoQep\\u002fJkEyxSRBgIA5QfSjGkFkoT1BxKs7QUqMKEFwhCdBJZk+QRBLPkEXLidB\\u002fTs\\u002fQRSkHUEPxCJB7YYhQeNTHUF\\u002fCz1BwYEmQfwmPEHzRClB42wmQZ6qH0EL1zVB17AmQaTFQkG2FRxBs96dQP0xQEE63SRBnFslQSekHEG\\u002fWhtBX6oeQafKJkFFtClB\"},\"type\":\"scattergl\"},{\"hoverinfo\":\"text\",\"hovertext\":[\"want consid everi applic categor limit want consid everi applic categor limit somewhat open yes think would rare often\",\"unsur woud react unsur woud react open yes think would sometim rare\",\"somewhat open yes think would rare often\",\"open yes think would rare often\",\"open rare often\",\"somewhat open yes think would rare sometim\",\"want jeopard chanc posit want jeopard chanc open think would rare often\",\"realli know would depend impress time open think would rare often\",\"depend embarrass somewhat open rare often\",\"somewhat open yes rare often\",\"none busi long feel perform work somewhat open yes think would rare often\",\"open usual best bad experi somewhat open yes think would rare often\",\"diabet somewhat open think would never rare\",\"somewhat open yes think would rare sometim\",\"somewhat open yes think would rare often\",\"scare dismiss polit somewhat open yes sometim rare\",\"might make look like liabil might make look like liabil somewhat open yes think would rare often\",\"non busi non busi open think would rare often\",\"would taboo controversi take leav sometim come open mayb rare rare\",\"open yes think would rare rare\",\"depend context usual need know need know open think would rare often\",\"sometim come somewhat open think would rare sometim\",\"somewhat open think would rare sometim\",\"somewhat open yes think would rare often\",\"selfcar environ somewhat open yes think would rare often\",\"somewhat open yes think would rare often\",\"open think would rare sometim\",\"somewhat open yes think would rare often\",\"somewhat open yes think would rare often\",\"privat person general may bring privat person general may bring somewhat open yes rare often\",\"somewhat open yes often rare\",\"open think would rare often\",\"open think would rare never\",\"somewhat open yes think would rare sometim\",\"somewhat open yes think would rare sometim\",\"would wait offer think would less like make offer somewhat open yes think would rare sometim\",\"depend relev work person somewhat open yes think would rare often\",\"somewhat open think would rare often\",\"open yes think would rare often\",null],\"marker\":{\"opacity\":0.5,\"size\":5},\"mode\":\"markers+text\",\"name\":\"3_rare_think_open\",\"text\":[\"\",\"\",\"\",\"\",\"\",\"\",\"\",\"\",\"\",\"\",\"\",\"\",\"\",\"\",\"\",\"\",\"\",\"\",\"\",\"\",\"\",\"\",\"\",\"\",\"\",\"\",\"\",\"\",\"\",\"\",\"\",\"\",\"\",\"\",\"\",\"\",\"\",\"\",\"\",\"3_rare_think_open\"],\"textfont\":{\"size\":12},\"x\":{\"dtype\":\"f4\",\"bdata\":\"Vt9\\u002fQOjoc0CnvHRAp9h5QNuydkBnRnRAV2J7QDH0ekBQHXxAGyV2QJY\\u002ffkDymXxAZHF0QEHgckAqfHRAHJJyQJtReUBwfoRAhyR0QJBmd0CeiXdAWN1wQCwCckBX6XRAed51QBg0dUAN2HZAcOJ1QBbtc0Aw13dAYU51QA9Gd0B8A3dAOn50QH8FdEBCWXlACZJ1QHwgdUBpV3lAHjd3QA==\"},\"y\":{\"dtype\":\"f4\",\"bdata\":\"TYfNP2pekj8wAZM\\u002fU8m4P2hjtz\\u002fZpJM\\u002fLfTCP6tQsD\\u002fLrK8\\u002f7IWbP9YisD9qurE\\u002fxy2QP92Vjz9QrJI\\u002fqQ7ZP0cHlj9OZ8Y\\u002fcMbGPy4CuT9oA7o\\u002f\\u002f5m9P2wLmj\\u002faxZE\\u002fIcCUP06JlD8akrQ\\u002fUXiUP+8jkj9r7L4\\u002fK3eXP5MXsz9UBLI\\u002fcBeUP+lekj9s1bo\\u002fSReWP9sHlD9cl7M\\u002fMDyoPw==\"},\"type\":\"scattergl\"},{\"hoverinfo\":\"text\",\"hovertext\":[\"feel relat protect think noth realli bad could happen far consequ feel lot less protect discuss mental health protect non exist unclear somewhat open mayb rare often\",\"physic stuff happen stigma attach physic health issu like mental health issu tech industri attitud work long hour expect peer arrog judgement etc present cultur intoler past sever year notic improv plus privat person open mayb applic sometim\",\"obvious disabl need bring obvious concern definit stigma around mental health issu seem like one would disqualifi immedi somewhat open yes think would rare sometim\",\"stigma attach physic health ailment peopl view mental ill weak want employ prejud account depress open mayb rare often\",\"mental health still view taboo somewhat open yes think would applic rare\",\"physic health social consid legitim fear stigma consid incompet neutral mayb sometim sometim\",\"never one would relev relev convers happi mention anxious depress expand need think import rais topic open appropri reduc stigma give indic compani attitud toward mental health open applic often\",\"fair obvious straightforward physic health issu case visibl within workplac stigma fear typic reason mental health discuss divulg rather someon opinion shape diseas would impact negat somewhat open mayb often often\",\"stigma physic health issu like mental health stigma associ mental health color judgement potenti candid somewhat open mayb rare often\",\"feel dishonest disclos thing front mental health stigma mean feel uncomfort discuss mental issu front somewhat open mayb sometim often\",\"physic health problem carri stigma mental health problem consid weak enough knowledg physic health problem seem like fix risk accommod mental health invis therefor unknown risk would impact negat somewhat open yes think would sometim often\",\"seen peopl physic health issu previous accommod avoid stigma bring open yes think would applic applic\",\"would feel ok discuss physic health main diagnos corrobor doctor hard still stigma around mental health problem peopl fake certain around home town sometim come open mayb often often\",\"even educ mental health still stigma negat outcom work place one known medic open yes never sometim\",\"larg stigma peopl mental health issu open yes think would applic applic\",\"everyon open mind regardless law peopl attach stigma condit affect mind think concern thing cannot see would concern may affect decis make suppos want job anyon let affect still feel mental health issu carri stigma mani physic one though feel psoriasi physic condit sure see real stigma close mind individu open mayb sometim often\",\"think physic health issu easi empath understand think mention would affect negat think mental health issu well understood negat stigma might caus interview end negat somewhat open sometim often\",\"physic accept depend issu depress stigma would impact negat applic mental ill yes think would rare sometim\",\"typic common eye physic health issu stigma attach like mani mental health issu kind mental health issu tend leav lot peopl end sort label concern mention generalis anxieti issu may lead believ confid worker almost certain basic fear proper understand lot peopl incred ignor anxieti end tell worri part day day may make one feel anxious etc somewhat open think would rare often\",\"still much stigma attach physic health issu femal anatomi relat rather bring someth would affect chanc hire yes illeg discrimin way mean happen yeah somewhat open yes rare often\",\"general speak alway case physic health issu carri stigma mental one realli depend person employ comfort felt discuss issu matter open mayb rare often\",\"would impact work way mayb stigma applic mental ill yes think would applic applic\",\"middl age women coder feel alreadi two strike interview physic health mental health stigma attach applic neutral yes think would rare often\",\"understand might conscious act differ physic issu convinc peopl tech even know cognit disson mean actual take step avoid understand might conscious act differ mental health issu convinc peopl tech even know cognit disson mean actual take step avoid furthermor huge stigma behind neutral mayb never sometim\",\"less stigma peopl hear physic condit think fault hear mental health condit think danger less trustworthi fundament wrong somehow see answer want risk possibl posit cast pall rapport potenti cowork alway feel way last posit got strong warn secret never say anyth condit peopl would think crazi might shoot place major clinic depress manag treat year person hurt percept anyon mental ill never mind wide spectrum physic ill never said anyth somewhat open yes think would never often\",\"physic issu relat well understood anyon ever mention feel stigma mental health issu general loath even discuss wife open yes think would applic sometim\",\"ms stigma ms peopl ms cognit issu mental health current well control one would know tell open think would rare sometim\",\"issu stigma mental ill open yes think would sometim often\",\"sure allow ask came practic open honest principl mental ill assum stigma around issu peopl experienc somewhat open mayb applic applic\",\"thing like asthma access build social accept mention situat general lack understand suffici social norm appropri respond issu somewhat open yes rare often\",\"physic impair tradit stigmat far less judgement result talk behind back compar mental stigmat uncomfort parti mental instabl frown upon technic role somewhat open yes think would rare sometim\",\"employ know physic health issu could impact qualiti work somehow stigma associ mental health issu least difficult thing transpar somewhat open think would sometim often\",\"affect abil work yes feel still pervas stigma around mental health issu could use somewhat open yes think would sometim often\",\"mani physic health issu obvious address therefor obvious mental health issu negat stigma applic mental ill yes think would applic applic\",\"physic health less stigma employ may open other somewhat open think would sometim often\",\"physic health issu stigmat mental health issu stigmat sometim come somewhat open mayb sometim often\",null],\"marker\":{\"opacity\":0.5,\"size\":5},\"mode\":\"markers+text\",\"name\":\"4_stigma_health_mental\",\"text\":[\"\",\"\",\"\",\"\",\"\",\"\",\"\",\"\",\"\",\"\",\"\",\"\",\"\",\"\",\"\",\"\",\"\",\"\",\"\",\"\",\"\",\"\",\"\",\"\",\"\",\"\",\"\",\"\",\"\",\"\",\"\",\"\",\"\",\"\",\"\",\"\",\"4_stigma_health_mental\"],\"textfont\":{\"size\":12},\"x\":{\"dtype\":\"f4\",\"bdata\":\"7b8aQSbgFUFpSBJB8hYSQdGgD0FoIBVBtMgVQYIbGEFXfhBBM6ARQceQFkEX0hVByhAXQTSbD0GwehFByRYUQTmIGEHx\\u002fBZBJgsaQashFUGUiBZBm1wNQTHpDkHIOhdBg5QaQS4WE0G0uA9BVk4OQWG8EkHWdB1B7iYVQUZGF0HcdxlBMtMWQYIaFUFOnBVBeNgUQQ==\"},\"y\":{\"dtype\":\"f4\",\"bdata\":\"40pJQa1KSkGhgUpB+4RKQVheSkHEoUpBy5VKQfrWS0HmwUpBJ6xKQeSISkFbSUpBGRJLQTMISkFOVUlBXuJIQQLMSUE+XEhBHK1JQQbmSUH4xUpB\\u002fvhDQbZwSUE\\u002f5UpB51xJQZ+RSUGA20pBQwxKQcOpSUGGu0NBGstJQX16SUHQqENB2xZKQZsCS0FVbUtBWKRJQQ==\"},\"type\":\"scattergl\"},{\"hoverinfo\":\"text\",\"hovertext\":[\"current feel relev current feel relev neutral think would applic applic\",\"neutral yes think would applic often\",\"need know need know neutral yes think would sometim often\",\"know thought matter neutral mayb applic applic\",\"damag opportun ge job good neutral yes think would applic applic\",\"neutral yes think would applic sometim\",\"neutral yes think would applic applic\",\"neutral yes think would applic applic\",\"matter neutral think would often rare\",\"judgement judgement neutral yes think would sometim often\",\"neutral yes sometim often\",\"none busi none busi neutral yes think would sometim sometim\",\"neutral yes think would often often\",\"honesti fear neutral yes think would applic applic\",\"matter neutral think would often often\",\"believ would sake transpar would depend general feel employ issu neutral mayb applic applic\",\"would think care imagin dismiss applic neutral yes think would applic applic\",\"neutral think would sometim sometim\",\"market would devalu offer stupid market applic neutral think would rare sometim\",\"neutral yes sometim often\",\"neutral yes think would rare sometim\",\"neutral yes think would sometim often\",\"neutral yes think would applic applic\",\"would feel inappropri sure feel one applic neutral mayb applic applic\",\"uk law none busi stage applic neutral yes think would applic rare\",\"depend want get pass neutral yes think would applic applic\",\"matter neutral yes think would applic sometim\",\"jjjjjj neutral yes think would applic applic\",\"imagin make desir outcom like pretti sure would work favor neutral yes think would rare often\",\"neutral yes think would applic applic\",\"neutral yes think would never never\",\"applic neutral yes think would sometim sometim\",\"retali retali neutral yes think would sometim sometim\",\"neutral think would applic applic\",\"matter neutral yes think would sometim often\",\"neutral yes think would never often\",null],\"marker\":{\"opacity\":0.5,\"size\":5},\"mode\":\"markers+text\",\"name\":\"5_neutral_think_yes\",\"text\":[\"\",\"\",\"\",\"\",\"\",\"\",\"\",\"\",\"\",\"\",\"\",\"\",\"\",\"\",\"\",\"\",\"\",\"\",\"\",\"\",\"\",\"\",\"\",\"\",\"\",\"\",\"\",\"\",\"\",\"\",\"\",\"\",\"\",\"\",\"\",\"\",\"5_neutral_think_yes\"],\"textfont\":{\"size\":12},\"x\":{\"dtype\":\"f4\",\"bdata\":\"GwA5Qc9ON0GTtDRB3LcxQaw\\u002fOEFFazZBsjw5QffQOEEkgDNB\\u002fXI1QYgQNUGEPjZB2Sc1QeBROUHfgTNBRrA4Qc19OEGmhzVBcb00QXbQNEGWPDVB8Cc1QRLtOEFbHDlBaEQ2QccSOUFU7zRBIEw5QeDPNUFc6jhBybk1QTV+N0Ew0TZBqs44QVufNEHhyTRB7JQ2QQ==\"},\"y\":{\"dtype\":\"f4\",\"bdata\":\"5rGSQKbnjkA8Z4lA8DKHQE5klkC1Wo1A0AyTQNk\\u002fkkAi9odApyiLQLJDikCW7YxA14yKQIfrkkBIEohAMteTQHx\\u002fkkA7j4tAKWuPQGy5iUD7tYtAtbCKQP5zkkA7PpNALx2OQCSBkkAgYYpAIKeSQDTVjUDGbZJAFpCLQHPKj0C22I1AZxCTQCOziUD\\u002foYlAHDeOQA==\"},\"type\":\"scattergl\"},{\"hoverinfo\":\"text\",\"hovertext\":[\"natur afraid hire natur afraid hire somewhat open mayb sometim often\",\"someth workspac like requir stand desk etc think would hire somewhat open yes think would applic often\",\"could compromis abil get hire look like compel candid somewhat open mayb rare often\",\"place topic hire open rare often\",\"want reason hire feel might color opinion everyth said somewhat open mayb applic applic\",\"honest upfront show respect futur employ see stumbl block hire probabl good fit long run anyway reason open think would sometim often\",\"cultur bias potenti elimin consider feel would prevent hire ask point blank somewhat open yes think would never sometim\",\"hire probabl bet hire somewhat open yes think would sometim often\",\"feel relev get hire feel like relev get hire somewhat open think would applic applic\",\"make sure appropri accommod could made probabl hire somewhat open yes think would applic often\",\"might reduc chanc get hire even though expect ever offici name reason applic turn might reduc chanc get hire even though expect ever offici name reason applic turn somewhat open yes think would applic often\",\"legal bear hire process legal bear hire process neutral yes think would rare sometim\",\"could way hire instead skill could way hire instead skill somewhat open mayb applic sometim\",\"could negat influenc chanc hire could negat influenc chanc hire open yes think would applic often\",\"believ would negat influenc decis whether hire believ would negat influenc decis whether hire open yes think would never sometim\",\"simpl need know hire need know hire neutral think would rare rare\",\"expect hire expect hire would expect make known hire somewhat open yes sometim often\",\"think could lead hire think would definit lead hire neutral mayb never sometim\",\"seem wrong one want hire crazi person somewhat open yes rare often\",\"seem like would deter hire seem like would deter hire somewhat open yes think would sometim often\",\"establish non discrimin polici disabl physic abil fear repercuss includ hire somewhat open yes think would rare sometim\",\"discrimin hire discrimin hire somewhat open yes rare often\",\"depend natur issu think might bias look reason hire expect sub par contribut intern stigma way strong somewhat open yes think would never often\",\"could hire someon without issu nobodi want hire crazi person open yes think would sometim often\",\"may get hire may get hire somewhat open yes think would sometim sometim\",\"go hire head case goal get hire toss bin somewhat open yes think would rare often\",\"relev hire process get hire dock pay open yes sometim often\",\"might prejudic hire decis would definit hire somewhat open yes often often\",\"would rather hire someon sick reason cost less product open yes think would often sometim\",\"depend exact natur issu might think want hire depend exact natur issu might think want hire open yes think would rare often\",\"could choos hire would impact negat somewhat open think would applic applic\",\"probabl mention hire knew safe worth case somehow impact hire process someth rather bring later open yes think would rare often\",\"relev hire deicit would want bring anyth like could negat influenc hire decis somewhat open yes think would rare sometim\",\"feel earli process guess would depend serious work serious compani hire see somewhat open yes think would applic rare\",\"knowledg make easier know job right abl handl neutral yes think would sometim sometim\",\"anyon busi mine would get hire would impact negat somewhat open yes think would sometim often\",null],\"marker\":{\"opacity\":0.5,\"size\":5},\"mode\":\"markers+text\",\"name\":\"6_hire_natur_influenc\",\"text\":[\"\",\"\",\"\",\"\",\"\",\"\",\"\",\"\",\"\",\"\",\"\",\"\",\"\",\"\",\"\",\"\",\"\",\"\",\"\",\"\",\"\",\"\",\"\",\"\",\"\",\"\",\"\",\"\",\"\",\"\",\"\",\"\",\"\",\"\",\"\",\"\",\"6_hire_natur_influenc\"],\"textfont\":{\"size\":12},\"x\":{\"dtype\":\"f4\",\"bdata\":\"IKIvQdWtLkGY+y9BACAxQZ5ALUEHai9B9c4tQdTOL0FvDjBBL\\u002fovQdSmLEF0VS9BwtIuQVtzLkHZ3y1BWzAwQQQmL0EUGy5BsFowQWJ4L0FMGS9BlecwQZExLUFCpS9B5MguQZ\\u002f6LkHm1C9BYe4uQdntLEEpjS5BMXYsQeDnLkEpCC9BQpkuQb5gLEG7Jy1B6dEuQQ==\"},\"y\":{\"dtype\":\"f4\",\"bdata\":\"B0vpQFrA8kB7qepAWg7oQES97kAipPRA\\u002fzvtQMu460DF6fFAfJTtQOvk60C9MelAq5bwQF2n7EBaTO9AK8HpQBeT60CyHe1AEBLpQEgw7UA6Fe9Ao0foQMP450C+lepAp37vQDBu7EBFBe9AsGDtQDWi80DKW+lA5WTyQIg66kDpL+5A6mvsQD1X\\u002fECCt\\u002fRA3K3tQA==\"},\"type\":\"scattergl\"},{\"hoverinfo\":\"text\",\"hovertext\":[\"alreadi privat person issu open think would sometim sometim\",\"applic somewhat open mayb sometim sometim\",\"earli want discuss potenti deal breaker decid want reason somewhat open mayb applic applic\",\"person somewhat open yes think would applic applic\",\"know privaci open yes applic applic\",\"honesti honesti somewhat open mayb applic applic\",\"potenti view disqualifi even view disqualifi somewhat open yes think would never sometim\",\"relev posit relev posit somewhat open mayb applic applic\",\"avoid potenti disqualifi due fact avoid disqualifi due fact somewhat open mayb applic applic\",\"sure privaci sure privaci consequ somewhat open mayb sometim sometim\",\"relev depend type sever issu somewhat open mayb applic applic\",\"would requir immedi accommod requir immedi accommod somewhat open think would applic applic\",\"applic somewhat open yes think would applic sometim\",\"somewhat open mayb applic sometim\",\"matter privaci would matter privaci somewhat open mayb applic applic\",\"interfer work none busi open yes think would applic never\",\"privaci medic privaci somewhat open yes think would never never\",\"none busi none busi matter open yes think would applic applic\",\"honesti work honesti open mayb applic applic\",\"usual temporari know gone one hard relat somewhat open mayb applic applic\",\"honesti honesti somewhat open yes think would applic applic\",\"somewhat open mayb applic sometim\",\"depend relev none busi weak most want talk strenght somewhat open mayb applic applic\",\"need person issu somewhat open mayb sometim applic\",\"view problemat person mayb allud vagu best reason alreadi know somewhat open yes think would applic often\",\"honest person honest person somewhat open mayb applic applic\",\"asham shi admit someth like stranger unless bond certain amount intimaci person would never talk person term matter open mayb often often\",\"privat privat somewhat open mayb applic applic\",\"depend sever issu want reflect negat abil carri respons somewhat open mayb applic applic\",\"person none busi percept think would applic somewhat open mayb applic applic\",\"depend would jeopard chanc get posit applic somewhat open mayb applic applic\",\"relev relev skill open mayb applic applic\",\"valu honesti much know set expect benefici everybodi open think would never sometim\",\"might special need would imposs hide privat open mayb applic sometim\",\"nobodi busi nobodi busi open think would never often\",null],\"marker\":{\"opacity\":0.5,\"size\":5},\"mode\":\"markers+text\",\"name\":\"7_privaci_honesti_applic\",\"text\":[\"\",\"\",\"\",\"\",\"\",\"\",\"\",\"\",\"\",\"\",\"\",\"\",\"\",\"\",\"\",\"\",\"\",\"\",\"\",\"\",\"\",\"\",\"\",\"\",\"\",\"\",\"\",\"\",\"\",\"\",\"\",\"\",\"\",\"\",\"\",\"7_privaci_honesti_applic\"],\"textfont\":{\"size\":12},\"x\":{\"dtype\":\"f4\",\"bdata\":\"Jp66QF\\u002fCGUE53sxAg9m3QA4AvEDdK8JAha+wQBOP1UA3OLVAmCu6QEir2ED+M7RAnW21QJWqGkGmZr5ATmG5QOC5uUDPubpAxCLCQOv5GUGmw75AFsEaQYD72EAAObtAdpm1QGk7wEAnQ7lAqpLGQMwKzkD2yrlAn0fbQLlv10CH4sBAcBrHQJpYvECvj85A\"},\"y\":{\"dtype\":\"f4\",\"bdata\":\"9tCcQEgUlL\\u002fBuKJALZqiQEEal0A8Y6RAfWukQPj2nEBG3aNAXOaXQPozoEB\\u002fF6dA05mnQK6PnL9w35dA6X+tQL8tlkAT3KxAxVelQApjlb8za6lAVl2dv6weokBnCZtA4VafQIL9o0BxF55A7SaWQDeWpUBe+KJAjOukQPjJmkC70qVAwJCVQAKgqECFUIpA\"},\"type\":\"scattergl\"},{\"hoverinfo\":\"text\",\"hovertext\":[\"bad idea would impact negat somewhat open yes often often\",\"would impact negat somewhat open yes think would sometim often\",\"unspoken prejudic would much negat would impact negat neutral yes think would often often\",\"afraid would affect outcom afraid would affect outcom neutral mayb rare sometim\",\"none bizniz none binniz would impact negat somewhat open yes think would never sometim\",\"benefit risk benefit risk would impact negat neutral mayb rare often\",\"would impact negat somewhat open yes think would never sometim\",\"would impact negat open yes think would applic sometim\",\"would impact negat somewhat open yes think would never often\",\"weaken negoti posit weaken negoti posit applic somewhat open yes think would applic applic\",\"would impact negat somewhat open mayb applic applic\",\"would afraid would negat impact chanc would afraid would negat impact chanc somewhat open mayb rare often\",\"would afraid would reflect poor would certain would reflect poor open mayb rare often\",\"would impact negat somewhat open yes think would applic applic\",\"negat connot negat connot somewhat open mayb applic applic\",\"might get job would impact negat somewhat open mayb rare often\",\"relev would share inform otherwis reason give black mark cannot see share inform would benefit would impact negat somewhat open yes think would often often\",\"believ affect outcom afraid would affect outcom neutral yes think would often often\",\"physic issu visibl make vulner would impact negat open yes think would sometim often\",\"want affect abil get posit feel would negat effect abil get posit somewhat open yes think would applic applic\",\"would like negat affect select status would like negat affect select status open mayb never rare\",\"would impact negat somewhat open yes think would rare sometim\",\"would impact negat somewhat open mayb rare often\",\"depend relev work believ would impact negat would impact negat somewhat open yes think would rare sometim\",\"might impact servic need provid might impact servic need provid open mayb applic applic\",\"felt would negat effect chanc get posit feel like would prevent futur employ somewhat open yes think would sometim often\",\"would impact negat open yes think would sometim often\",\"previous employ respond negat never know interview open mayb rare often\",\"would afraid put best foot forward believ would automat red flag somewhat open yes think would sometim sometim\",\"make less attract candid felt requir accommod even reluct make less attract candid somewhat open mayb rare often\",\"would impact negat somewhat open yes think would sometim sometim\",\"would impact negat somewhat open mayb applic applic\",\"might impact negat might impact negat would impact negat open yes think would sometim sometim\",null],\"marker\":{\"opacity\":0.5,\"size\":5},\"mode\":\"markers+text\",\"name\":\"8_negat_impact_afraid\",\"text\":[\"\",\"\",\"\",\"\",\"\",\"\",\"\",\"\",\"\",\"\",\"\",\"\",\"\",\"\",\"\",\"\",\"\",\"\",\"\",\"\",\"\",\"\",\"\",\"\",\"\",\"\",\"\",\"\",\"\",\"\",\"\",\"\",\"\",\"8_negat_impact_afraid\"],\"textfont\":{\"size\":12},\"x\":{\"dtype\":\"f4\",\"bdata\":\"wXb4QBoo+UD73PlAQwTeQNhY+UBszexAU7L4QJ9B+kCQevhA37L5QHvC9EDEt\\u002fFAg73jQEvH+EC3FvZAexvvQF9rAEGLnN9AQo\\u002f7QGZ\\u002fDUE04+5A69n3QFCy7UC4bvtAutP2QD9+DEHPwvlA9\\u002fHsQMby+EDXOQZByg\\u002f5QI0O9kDWwvdAXnn3QA==\"},\"y\":{\"dtype\":\"f4\",\"bdata\":\"Gl0AQRytAEF7LQJBvCwFQZWBAEG+0wBB6u0AQWs5AEFGnwBBbHf\\u002fQEs7\\u002fEDicgJBKLEEQfYz\\u002f0DkcfxAONsAQS4l\\u002fkC4VgVByRcBQU26CUF9uABB+8EAQe36AEHHawFBcvP1QGZZCEF67gBBpJwBQWUFAUFp1gVBWXMAQQpa\\u002fUCqaQBBGmkBQQ==\"},\"type\":\"scattergl\"},{\"hoverinfo\":\"text\",\"hovertext\":[\"stigma somewhat open yes think would rare sometim\",\"doesnt carri stigma stigma neutral yes think would sometim often\",\"appar need know stigma neutral yes think would rare sometim\",\"less stigma stigma somewhat open think would sometim often\",\"stigma would impact negat somewhat open yes think would rare often\",\"one differ competit want stigma neutral yes think would sometim often\",\"often easier talk less stigma associ stigma somewhat open mayb sometim sometim\",\"stigma somewhat open yes think would rare rare\",\"embarrass stigma would impact negat somewhat open yes think would sometim often\",\"stigma somewhat open yes rare often\",\"stigma high probabl sympathi understand uncertainti reaction somewhat open mayb often often\",\"stigma diseas feel like make mountain molehil somewhat open think would sometim often\",\"easi see prove creat expect troubl difficult prove thus stigma somewhat open yes think would sometim often\",\"bias exist stigma somewhat open yes sometim often\",\"transpar stigma somewhat open mayb rare sometim\",\"afraid stigma seen less capabl somewhat open yes think would rare often\",\"bias toward someth may relev work bias stigma somewhat open mayb rare sometim\",\"stigma open yes think would rare often\",\"affect avail afraid stigma somewhat open mayb sometim often\",\"stigma somewhat open mayb sometim sometim\",\"stigma sometim come somewhat open yes think would rare often\",\"want set expect front stigma somewhat open think would applic applic\",\"see problem stigma somewhat open mayb applic applic\",\"current one sure anyth bring think general sens stigma somewhat open yes think would rare sometim\",\"relev stigmat condit stigma would impact negat open yes think would sometim often\",\"sure stigma open rare often\",\"want attach negat stigma interview want attach negat stigma somewhat open mayb sometim often\",\"stigma open yes think would sometim often\",\"big deal carri stigma somewhat open yes think would never sometim\",\"fear social stigma sometim come somewhat open mayb rare sometim\",\"physic health stigma attach cannot explain somewhat open think would rare rare\",null],\"marker\":{\"opacity\":0.5,\"size\":5},\"mode\":\"markers+text\",\"name\":\"9_stigma_rare_sometim\",\"text\":[\"\",\"\",\"\",\"\",\"\",\"\",\"\",\"\",\"\",\"\",\"\",\"\",\"\",\"\",\"\",\"\",\"\",\"\",\"\",\"\",\"\",\"\",\"\",\"\",\"\",\"\",\"\",\"\",\"\",\"\",\"\",\"9_stigma_rare_sometim\"],\"textfont\":{\"size\":12},\"x\":{\"dtype\":\"f4\",\"bdata\":\"kjP\\u002fQDbQAEEebv9AtSYBQTmAAUHf8gBBRDEBQehr\\u002fUCqPAJBbG3+QKVv\\u002f0AMS\\u002f9AyFEAQdSeAUFoB\\u002f5AsFj+QI10A0HQQP5AAdQAQYdMAEEnLP5An83\\u002fQNGsAEGLMv9Aix8CQRTi+0CK1wBBUFsBQda1AEE0hgBBfqj9QIpRAEE=\"},\"y\":{\"dtype\":\"f4\",\"bdata\":\"RAJIQWC3RkGtdUhBYMNFQfnZRUGpkEZBPT5FQX1ISEEZMEVBntBHQengQ0HRkEdBmYJHQdP7Q0G+s0VBeRxIQTegQEEkTkhBkudDQQgQRUGCNEhBR\\u002fpLQXiSREEm3kdBLYZFQf0jSUG7lUVBagFHQdi8RkEnS0RBQ9BIQVOGRkE=\"},\"type\":\"scattergl\"},{\"hoverinfo\":\"text\",\"hovertext\":[\"fear discrimin fear discrimin somewhat open yes think would rare sometim\",\"appar accept mental issu fear would think unstabl risk would impact negat somewhat open yes think would sometim often\",\"fear unintent discrimin negat bias fear negat bias benefit bring open yes think would rare applic\",\"fear would negat bias fear would negat bias open mayb applic applic\",\"fear pass healthier candid fear would disqualifi mind sometim come somewhat open mayb sometim sometim\",\"fear implicit bias fear implicit bias open yes rare sometim\",\"discrimin discrimin somewhat open yes think would never often\",\"fear would impact negat get posit almost certainti would impact negat get posit applic applic mental ill yes think would applic applic\",\"risk implicit overt bias risk implicit overt bias somewhat open think would rare rare\",\"worri discrimin worri discrimin neutral yes think would applic applic\",\"expect discrimin would discrimin would impact negat somewhat open yes think would often sometim\",\"requir accommod afraid discrimin fear discrimin somewhat open yes think would rare often\",\"potenti discrimin potenti discrimin somewhat open sometim sometim\",\"relev fear discrimin somewhat open mayb sometim applic\",\"perceiv poor bias somewhat open yes think would applic applic\",\"want seen asset burden fear discrimin somewhat open yes think would often rare\",\"fear lose feel would negetivli impact canidaci open yes think would rare sometim\",\"feel might bias definit bias somewhat open yes think would applic applic\",\"fear discrimin fear discrimin somewhat open yes think would rare often\",\"afraid prejudic afraid prejudic feel need honest limit abil open yes think would sometim often\",\"fear receiv negat respons open mayb sometim often\",\"fear would held applic somewhat open yes think would applic applic\",\"fear discrimin fear reject discrimin somewhat open yes think would never often\",\"want discrimin want discrimin somewhat open yes think would sometim often\",\"fear discrimin racial minor physic health issu fear discrimin racial minor mental health issu somewhat open yes think would often often\",\"bias bias somewhat open yes think would rare often\",\"would concern would negat bias even unintent would concern potenti negat bias somewhat open sometim sometim\",\"fear would disadvantag result physic would seen negat somewhat open think would never sometim\",null],\"marker\":{\"opacity\":0.5,\"size\":5},\"mode\":\"markers+text\",\"name\":\"10_fear_discrimin_bias\",\"text\":[\"\",\"\",\"\",\"\",\"\",\"\",\"\",\"\",\"\",\"\",\"\",\"\",\"\",\"\",\"\",\"\",\"\",\"\",\"\",\"\",\"\",\"\",\"\",\"\",\"\",\"\",\"\",\"\",\"10_fear_discrimin_bias\"],\"textfont\":{\"size\":12},\"x\":{\"dtype\":\"f4\",\"bdata\":\"VSzpQBea8ECwB\\u002fNAp4XxQIcD70Bbm\\u002fFAWXnsQPOX8kCJLvJA9XDsQK\\u002fq7EAXT+hACq3rQJEU6EA5LPpA0pboQHKi70AAOvlAZRroQFZ07EB3IepA83PwQA166UCXWuxAlBfoQPmM90ClqPhATDvxQCHZ7kA=\"},\"y\":{\"dtype\":\"f4\",\"bdata\":\"sIcWQT34E0EzEBVBMDoUQX4mFUEWrhRBTk0ZQW8hFEGMixNBZSAZQYnLGEGbwBZBSTcaQcHQFUEiFxJBA9EWQbaiD0HCTRJBS1IXQaCDFUG5ahRBXK0QQUI6FkH3+BhBX8wWQQAYEkGkcBJB3bYTQdc5FUE=\"},\"type\":\"scattergl\"},{\"hoverinfo\":\"text\",\"hovertext\":[\"noth futur job respons open yes sometim often\",\"get job somewhat open yes sometim often\",\"jeopard get job jeopard get job somewhat open yes think would sometim often\",\"someth use determin good candid job reason use determin qualifi job somewhat open mayb applic applic\",\"short term temporari contract way would get job applic open think would applic applic\",\"get job would import short term get job would import short term somewhat open mayb rare rare\",\"get job somewhat open yes think would sometim often\",\"less like get job less like get job somewhat open yes think would applic applic\",\"long job realli busi somewhat open mayb never often\",\"worri hire due potenti cost work time lost believ equip understand yes alway open mayb often often\",\"relev job relev job sometim come somewhat open yes think would rare sometim\",\"relev job someth work around relev job someth work around open yes think would sometim sometim\",\"part tech requir lift thing exampl quick way get job somewhat open mayb sometim often\",\"want feel like would burden want think perform job count crunch time open yes often often\",\"honest guess end supris might negat influenc get job somewhat open mayb applic applic\",\"less chanc get job think less chanc get job plus negat refer futur open yes rare often\",\"look like take lot time die soon employ somewhat open yes sometim often\",\"better rather wait spoken industri burnout import know ahead time open mayb sometim often\",\"tri get job tri get job somewhat open yes think would applic applic\",\"want screw chanc job definit would afraid job mention somewhat open yes sometim often\",\"get job first keep secret essenti get hold job compani somewhat open yes sometim sometim\",\"job market competit job market competit applic somewhat open yes think would sometim often\",\"import job hurt somewhat open yes sometim often\",\"sure want put best foot forward depress entir life work life open yes often often\",\"worri potenti discrimin associ take time work concern would view unreli liabil applic somewhat open mayb applic applic\",null],\"marker\":{\"opacity\":0.5,\"size\":5},\"mode\":\"markers+text\",\"name\":\"11_job_short_term\",\"text\":[\"\",\"\",\"\",\"\",\"\",\"\",\"\",\"\",\"\",\"\",\"\",\"\",\"\",\"\",\"\",\"\",\"\",\"\",\"\",\"\",\"\",\"\",\"\",\"\",\"\",\"11_job_short_term\"],\"textfont\":{\"size\":12},\"x\":{\"dtype\":\"f4\",\"bdata\":\"XfY1QRg+NkGKzDVBqRwnQdVuL0EfkS9BDhY1QRFKLUFHOwZBktgmQZ5uNEGoXjRBLc02QeKuNUHBVCdB68ksQc\\u002fQNUEksTFBKTMvQTN8NkEKSThB\\u002fo4oQas0NEHrJjZBM4clQd9QL0E=\"},\"y\":{\"dtype\":\"f4\",\"bdata\":\"QMwBQd53AUGN3gFB\\u002fAPtQGuMAEHCgARBepwAQSneAUF5zzVA8bf5QNp0AUFfNQJBun0BQVMUAkGcQO9AOd4CQaUBAUHnLARBCk8AQd6sAUFq3gJBL\\u002f8DQZc0AkEOSAJB+CX7QBvT+kA=\"},\"type\":\"scattergl\"},{\"hoverinfo\":\"text\",\"hovertext\":[\"cannot lie sinc gonna show point sinc physic disord often come abl certain thing way peopl suffer disord would bring think right hide even could increas stress tri hide disord could make disord even wors also compani will hire suffer mental disord probabl compani want work applic mental ill mayb applic applic\",\"would negat affect chanc gain employ imposs talk mental health issu peopl know trust know react experi never posit favour reaction discuss mental health issu somewhat open yes applic often\",\"depend view employ mental health depend amount open view somewhat open think would rare sometim\",\"feel like physic health issu perceiv less control person compar mental health somewhat open yes think would applic applic\",\"physic health accept ill mental ill consid opt time accept excus applic open yes think would applic applic\",\"never criteria hire reason physic health issu applic mental ill mayb applic applic\",\"surviv fittest mental one want ihr someon probabl highscor sick day techi main tool brain would fear peopl would see mental health issu maldunct valu abil less somewhat open yes think would sometim sometim\",\"make sure physic health issu would accomod ensur mental health issu would accomod would depend mental health issu somewhat open mayb applic applic\",\"physic health issu potenti interfer work life must upfront india imo mental ill look upon accept way mental health issu would skeptic talk might affect prospect neutral yes think would applic applic\",\"physic health alway reason abl work mental health issu famili open mayb applic applic\",\"physic health issu unlik impact tech work easi accommod know potenti employ would react whether would feel accommod mental health issu would consid difficult somewhat open mayb sometim sometim\",\"fair fulli disclos employ cannot discrimin physic health would worri compani would know deal mental health issu open mayb sometim sometim\",\"none busi topic discuss unless mental health impair work direct somewhat open mayb sometim often\",\"peopl seem understand physic health issu outsid control think would question whether could perform job well candid without mental health issu somewhat open mayb applic sometim\",\"physic health issu social cultur accept would reflect poor interviewe mental health issu somewhat open mayb sometim often\",\"would bring physic health issu compar mental health issu feel prejudic like said think mani prejudic ignor mental health somewhat open yes think would applic applic\",\"might will give shot feel experi mani peopl see mental health lesser issu physic health one fix man grow worri mention chronic mental health issu would view detriment weak work somewhat open yes think would sometim often\",\"mental health issu well manag open peopl trust happi discuss overal relev bring workplac would impact negat open yes think would never often\",\"simpli import awar situat would physic issu mental issu bit stigmat everyon know one want deal broken leg big deal broken mind abstract applic applic mental ill mayb applic applic\",\"felt import feel like would negat effect share person experienc negat treatment disclos mental ill want avoid ever somewhat open yes sometim often\",\"would depend type issu broken leg relev diagnos mental health issu think would bring peopl trust potenti employ fall categori applic applic mental ill mayb applic applic\",\"mental health issu manag outsid work most bring somewhat open think would rare often\",\"physic issu treat taboo creativ employ hire mind physic abil state employ hire mind applic applic mental ill yes think would applic applic\",\"fibromyalgia still accept fulli medic communiti believ would handl well employ anybodi realli one person logic appli mental health respect understood well anyon see would advantag disclos somewhat open yes think would applic applic\",\"strong advis mentor discuss issu anxieti often perceiv weak hindranc liabil even interview consider mental health issu introduc negat bias open mayb rare often\",null],\"marker\":{\"opacity\":0.5,\"size\":5},\"mode\":\"markers+text\",\"name\":\"12_mental_health_issu\",\"text\":[\"\",\"\",\"\",\"\",\"\",\"\",\"\",\"\",\"\",\"\",\"\",\"\",\"\",\"\",\"\",\"\",\"\",\"\",\"\",\"\",\"\",\"\",\"\",\"\",\"\",\"12_mental_health_issu\"],\"textfont\":{\"size\":12},\"x\":{\"dtype\":\"f4\",\"bdata\":\"ZSosQZvAIkHGDyVBWSopQZqCKkEPqS1BI5EpQVB1LEG5QyhBYS4tQb6hLEElOixBzp4kQVjBLkE8TipBZhAoQfxuJkHiOCFB8dAvQVZUIEHTHi9BzxMiQVlTMEFj6ShBvWcpQbtmKUE=\"},\"y\":{\"dtype\":\"f4\",\"bdata\":\"OrNDQSLPQ0HoZENBCPVHQT2OSEH660RB\\u002fCpFQSFoRUHHpkBBFOFEQbMPQkFH8EFB9s9DQRh2Q0HHk0NBGaxHQR6xQkEUg0VBhKNFQdUsRUHskkJBEStEQfj5Q0ETSkhB\\u002foNDQROAREE=\"},\"type\":\"scattergl\"},{\"hoverinfo\":\"text\",\"hovertext\":[\"applic applic mental ill think would applic applic\",\"applic mental ill yes think would applic applic\",\"applic applic mental ill yes think would applic applic\",\"need need applic mental ill yes think would applic applic\",\"bring relev relev applic applic mental ill yes think would applic applic\",\"uncertain ada appli mental health whether even appli somewhat open yes think would applic applic\",\"depend feel comfort enough depend feel comfort enough applic mental ill yes think would applic applic\",\"potenti discrimin potenti discrimin applic mental ill yes think would rare sometim\",\"applic mental ill yes think would applic applic\",\"applic applic mental ill yes think would applic applic\",\"want gaug abil support issu want gaug abil support understand empath situat applic mental ill yes think would applic applic\",\"non busi applic mental ill yes think would applic sometim\",\"would afraid would let go found mental health issu would neutral mayb applic applic\",\"applic mental ill yes think would applic applic\",\"none busi applic applic mental ill think would applic applic\",\"unless knew track record mental ill would know could trust judg negat somewhat open mayb applic often\",\"applic mental ill yes think would applic sometim\",\"would want make sure expect set clear start would want set expect abil start neutral mayb applic applic\",\"set expect appropri set expect appropri applic applic mental ill think would applic applic\",\"applic mental ill yes think would applic applic\",\"applic mental ill yes think would applic applic\",\"sometim come applic mental ill yes think would sometim applic\",\"applic mental ill yes think would applic applic\",\"medic screen process would appropri time medic screen process would appropri even though ask diagnos mental ill somewhat open think would applic sometim\",null],\"marker\":{\"opacity\":0.5,\"size\":5},\"mode\":\"markers+text\",\"name\":\"13_ill_applic_mental\",\"text\":[\"\",\"\",\"\",\"\",\"\",\"\",\"\",\"\",\"\",\"\",\"\",\"\",\"\",\"\",\"\",\"\",\"\",\"\",\"\",\"\",\"\",\"\",\"\",\"\",\"13_ill_applic_mental\"],\"textfont\":{\"size\":12},\"x\":{\"dtype\":\"f4\",\"bdata\":\"LCEUQeZbFEEjaRRB9EAUQbAHFEHAWhRBOqoUQeqQD0F+qxRB2IEUQc0SFEEa5RRBpyEVQYdgFEGnExNBupcVQTN\\u002fFEFxdQBBzNAAQQXCFEEIXhRBbLYUQQtcFEFlPRVBNKMSQQ==\"},\"y\":{\"dtype\":\"f4\",\"bdata\":\"SH5rQRGLa0Fy42tB\\u002f5BrQe7ja0GWf2tBI+RrQY2wUkFpVWtBrXxrQY3GakFQFGpBJMdpQV+Ya0EimWpBrzZpQVsUa0HTlk9BIQBQQb76a0E0mGtBTaxqQWSRa0Hsh2pB7dhnQQ==\"},\"type\":\"scattergl\"},{\"hoverinfo\":\"text\",\"hovertext\":[\"none busi relat qualif skill somewhat open mayb often often\",\"somewhat open mayb sometim often\",\"open mayb sometim often\",\"somewhat open mayb sometim often\",\"open mayb never often\",\"one thing filter one thing filter open mayb applic often\",\"somewhat open mayb sometim often\",\"somewhat open mayb sometim often\",\"somewhat open mayb sometim often\",\"somewhat open mayb never often\",\"prejudic person somewhat open mayb often often\",\"somewhat open mayb sometim often\",\"get support somewhat open mayb sometim often\",\"open mayb often sometim\",\"open mayb sometim often\",\"somewhat open mayb sometim often\",\"somewhat open mayb sometim often\",\"sometim come open mayb often often\",\"none busi somewhat open mayb sometim often\",\"pertin posit pertin posit open mayb sometim often\",\"open mayb never often\",\"somewhat open mayb sometim often\",\"somewhat open mayb sometim often\",\"somewhat open mayb sometim often\",null],\"marker\":{\"opacity\":0.5,\"size\":5},\"mode\":\"markers+text\",\"name\":\"14_mayb_filter_pertin\",\"text\":[\"\",\"\",\"\",\"\",\"\",\"\",\"\",\"\",\"\",\"\",\"\",\"\",\"\",\"\",\"\",\"\",\"\",\"\",\"\",\"\",\"\",\"\",\"\",\"\",\"14_mayb_filter_pertin\"],\"textfont\":{\"size\":12},\"x\":{\"dtype\":\"f4\",\"bdata\":\"AvMEQezABEEeAvhAX50EQc819EBRcfdAh68EQdsNBUG8qARBfSzyQPnLBEGPpgRBk\\u002f77QDPb9kCwwvdADM8EQfK5BEEI+fVAT8AEQZPKBEH1mPNA7NgEQXmvBEEsugRBGzABQQ==\"},\"y\":{\"dtype\":\"f4\",\"bdata\":\"b6AtQBYMKUB7SjVAW3opQGpxNUC64jRAcQwpQFPWJ0DbrSlA\\u002fUw0QB6sKEBsOClA2\\u002fIyQCrVNUAxZjVA7ropQH0YKUAKOzdA8tIpQOU7KUBX4zNAPLIoQF4pKUCLEClAyMYtQA==\"},\"type\":\"scattergl\"},{\"hoverinfo\":\"text\",\"hovertext\":[\"potenti employ explain posit support employe physic health issu start interview would encourag speak employ state posit mental health issu support potenti employe would feel comfort talk somewhat open mayb applic applic\",\"sure relev want overshar person life job interview definit want discount abil job well mental health much stigma around physic problem somewhat open think would never sometim\",\"think bring type health issu interview unless offer health care case bring issu physic health one interview depend whether would affect job somewhat open think would applic applic\",\"depend realli matter suffer heartburn crippl eat particular food drink main caffein poor eh life use bear work impact work way employ could accommod help reduc impact would cours discuss interview though matter point opinion ultim feel although third parti great help mental health troubl ultim perspect thing chang thus person battl sometim come open mayb rare often\",\"unless physic handicap want problem affect judgement interview place discuss kind problem interview sell base merit somewhat open mayb rare sometim\",\"physic health issu requir special equip like stand desk like would bring otherwis deem necessari know would discuss mental health issu interview trend toward offer most review mental health cover insur provid open rare often\",\"exampl might need stand desk special chair consid normal explain special need mental health condit would consid strang alreadi minor need negat thing count interview sometim come somewhat open yes sometim often\",\"id afraid discuss health issu interview would use privat inform ask none busi somewhat open yes think would rare often\",\"previous punish take care physic health bike accid want situat would bring issu interview mani peopl still disbeliev adult adhd thing suspect potenti employ problem might tri suss take job open mayb sometim often\",\"rather ask health benefit look need bring interview unless direct affect job specif brought interview somewhat open mayb sometim often\",\"depend comfort felt speak interview depend mention avenu approach embrac address physic health issu depend comfort felt speak interview depend mention avenu approach embrac address mental health issu depend mental health day week etc sometim come somewhat open mayb sometim often\",\"general abl cope work despit physic health issu would doubt interview would consid believ trust avoid bias base health concern reason doubt interview would abl avoid bias somewhat open yes think would applic applic\",\"prefer keep health inform privat long activ affect job perform time interview need establish trust employ would will discuss mental health especi activ affect work perform time interview somewhat open mayb rare often\",\"job go requir lot travel physic health issu might impact belief abil complet job never know last thing want interview armchair psychologist tell need tri harder open yes never often\",\"alreadi contenti situat simpli ask one day comfort ask sick day work home instead would think throw interview ask concess point work relationship would ensur would call back believ stigma around mental health issu sinc somewhat mysteri uncomfort ask sick day physic concess ask mental health concess would absolut question somewhat open yes rare often\",\"need ergonom keyboard prefer thing absolut mention interview process bit retic discuss back pain fear bias negat impact prospect somewhat open yes think would applic often\",\"depend strong posit interviewe might prefer wait offer stage rather bring interview would like prefer wait offer stage discuss mental health issu accommod rather interview applic mental ill mayb applic applic\",\"relev job yes relev job yes think discuss mental health job interview riski negat percept could creat discuss physic health issu open mayb sometim often\",\"talk health issu alway respond though ask person accommod even tri rais awar someth widespread bring interview would put cart hors reason basic except ad knowledg societi view peopl depress anxieti portray could reflect affect chanc get job qualifi open yes sometim often\",\"believ disclos anyth physic health stop interview process lost interview look unwel disclos physic ill much sever peopl associ instabl mental health instabl work want perfect neurotyp programm low risk somewhat open yes think would sometim often\",\"interest bring physic health issu unless pertin affect abil work healthcar coverag schedul would bring mental health issu interview affect abil work healthcar coverag schedul howev unlik physic health issu seem clear mental health issu strong affect stress end would feel comfort ask work condit workplac activ promot find optimum balanc stress product somewhat open mayb applic often\",\"would depend situat exampl offic cat would problem allerg cat otherwis probabl say anyth unless specif discuss desk ergonom want worri go spend fortun special desk chair etc think would hire knew depress issu would impact negat somewhat open yes sometim often\",\"tend want avoid person interview felt physic health problem relev work want discuss trust potenti employ hold mental health somewhat open mayb applic sometim\",\"tri give best impress interview bring physic health issu go impact abil job tri give best impress interview bring mental health issu impact abil job applic somewhat open yes think would applic applic\",null],\"marker\":{\"opacity\":0.5,\"size\":5},\"mode\":\"markers+text\",\"name\":\"15_interview_health_ask\",\"text\":[\"\",\"\",\"\",\"\",\"\",\"\",\"\",\"\",\"\",\"\",\"\",\"\",\"\",\"\",\"\",\"\",\"\",\"\",\"\",\"\",\"\",\"\",\"\",\"\",\"15_interview_health_ask\"],\"textfont\":{\"size\":12},\"x\":{\"dtype\":\"f4\",\"bdata\":\"KCw4QYdMO0Ewcj5BTpc5QbV0OkFjqTpB\\u002fSQ7QXqxQ0FAVDpBqHg\\u002fQWLVO0EATTpBky86QV3aPEGNij1B5Bk9QSnVOkFoaztB7Po9QSIQO0EK7DlBxXM5Qf2iOkEhqj1B4NU7QQ==\"},\"y\":{\"dtype\":\"f4\",\"bdata\":\"OYYyQbPRL0HPyCZB0aQ2QTBiL0GC2DBBIk4uQTn1I0H3mTJBidIoQe30M0GfaSRBKWgxQboCLkF+4SpBktArQVhiLEElai9BQ6grQW88MEH8yTRB7gkpQVzjMEHuNytBgOgtQQ==\"},\"type\":\"scattergl\"},{\"hoverinfo\":\"text\",\"hovertext\":[\"employ seem will deal workplac assist physic ailment feel like mental health issu least state pennsylvania littl poor administ protect workplac somewhat open yes think would rare often\",\"think would depend job requir limit physic health would carri duti unless felt comfort knew employ felt mental health like feel readi disclos inform earli applic mental ill mayb applic applic\",\"small physic disabl sometim affect work guess effect litmus test prospect employ cultur prospect employ unabl answer question mental health servic probabl want work said acknowledg fair privileg posit take mani peopl choic open yes often often\",\"depend social percept issu easi map mental health abil job open mayb often often\",\"impact abil job even go need take time visit doctor time recov would need coordin point life mental health need part convers compani cannot even start convers possibl confid abl support need address mental health issu come open sometim often\",\"day comfort express anyth could factor get work done help screen employ anyth insurmount problem clear place want work answer physic health issu though admit littl slower bring mental health concern due stigma fear somewhat open mayb sometim often\",\"long term chronic constant headach well imped work time time need awar okay suffer mental health issu warrant discuss sure somewhat open mayb applic applic\",\"direct job affect think matter mental health issu seem treat like real issu somewhat open mayb sometim sometim\",\"potenti employ need know may affect work feel best honest know get join compani everyon regard mental health realist kind enigma treatment option somewhat open mayb never rare\",\"unless would direct inhibit abil perform presum role job descript find physic medic health respons busi altogeth next diet sexual prefer similar inform person believ general employ capac grappl possibl potenti mental health issu worri keep compani afloat applic applic mental ill yes think would applic often\",\"want mental health issu affect hire decis respect want mental health issu affect hire decis respect somewhat open mayb applic sometim\",\"relev job depend health issu mental health issu may prevent clearanc issu riski option hire someon let go get secur clearanc neutral mayb sometim often\",\"know depend current job made offhand refer therapist cover letter also believ woefulli underqualifi time vouch taken applic complet serious somewhat open think would sometim often\",\"want bring anyth may trigger unconsci bias therefor hinder chanc receiv job mental health issu still taboo subject somewhat open yes rare sometim\",\"avoid hire depend open potenti employ mental health applic somewhat open mayb applic applic\",\"affect abil perform job get work feel like mental health privat issu matter somewhat open mayb sometim sometim\",\"may obtain job note termin mental health snap schizoaffect disord type one depress cri minut laps confus termin next week hospit twice hine madden hospit issu bridg far cross full time work sinc let go jan 2010 tri get back next two year work part time instal system sys admin open yes think would often often\",\"noth abil perform role noth abil perform role mental ill somewhat open think would sometim often\",\"want work someplac would issu feel realli comfort potenti employ close colleagu friend would probabl speak depress direct would bring concept mental health day advoc howev matter somewhat open mayb rare often\",\"depend issu feel like employ like respond feel like hire come bs excus suspect mental health issu somewhat open think would applic applic\",\"feel physic disabl decid factor someon potenti employ disclos mental ill front good way know employ stanc attitud toward mental ill would help decid employ busi would worth somewhat open think would applic applic\",\"everi one work healthi safe place depend place mental health issu applic applic mental ill mayb applic applic\",\"rsi want think worth invest none busi affect work applic mental ill mayb rare sometim\",null],\"marker\":{\"opacity\":0.5,\"size\":5},\"mode\":\"markers+text\",\"name\":\"16_mental_health_time\",\"text\":[\"\",\"\",\"\",\"\",\"\",\"\",\"\",\"\",\"\",\"\",\"\",\"\",\"\",\"\",\"\",\"\",\"\",\"\",\"\",\"\",\"\",\"\",\"\",\"16_mental_health_time\"],\"textfont\":{\"size\":12},\"x\":{\"dtype\":\"f4\",\"bdata\":\"c58sQf1WL0F8zTZBOwMuQRCTMUHDoDVBMEgwQUU+MEHYVTFBxb4uQcWSMEGDEi9BT8UvQXDILkF1DTBB4\\u002fsyQfUzMEGQXy5BLlg0QVeuL0FdPDBBGoYvQeGeL0FigzBB\"},\"y\":{\"dtype\":\"f4\",\"bdata\":\"NDU+QbhGPEHUyjZB0XA9QRmlPEF\\u002fsTlBLzo+QZmOOUHrCTxBO7NAQaoVO0GYFz1Btjc8QX9ZPEFCajtBzeM5QZvDPEHgOUFBwHc4QS4iOUGjY0BBsHA9QQjEQEE8bTxB\"},\"type\":\"scattergl\"},{\"hoverinfo\":\"text\",\"hovertext\":[\"somewhat open yes think would applic applic\",\"matter somewhat open yes think would applic applic\",\"somewhat open yes think would applic often\",\"somewhat open yes think would applic applic\",\"somewhat open yes think would applic applic\",\"somewhat open yes think would applic applic\",\"somewhat open yes think would applic applic\",\"think place time somewhat open yes think would applic applic\",\"somewhat open think would applic applic\",\"somewhat open think would applic applic\",\"somewhat open yes think would applic applic\",\"somewhat open yes think would applic applic\",\"somewhat open yes think would applic applic\",\"somewhat open yes think would applic applic\",\"somewhat open yes think would applic applic\",\"somewhat open yes think would applic applic\",\"somewhat open yes think would applic applic\",\"xxx xxx somewhat open yes think would applic applic\",\"somewhat open yes think would applic applic\",\"somewhat open yes think would applic applic\",\"somewhat open think would applic applic\",\"somewhat open yes think would applic often\",\"somewhat open yes think would applic applic\",null],\"marker\":{\"opacity\":0.5,\"size\":5},\"mode\":\"markers+text\",\"name\":\"17_applic_think_yes\",\"text\":[\"\",\"\",\"\",\"\",\"\",\"\",\"\",\"\",\"\",\"\",\"\",\"\",\"\",\"\",\"\",\"\",\"\",\"\",\"\",\"\",\"\",\"\",\"\",\"17_applic_think_yes\"],\"textfont\":{\"size\":12},\"x\":{\"dtype\":\"f4\",\"bdata\":\"7Tk5wAj4OcAodzrADEM6wFgQOsBUIzfAagg6wFaLsUBKcjrAFk86wATjOsDROznAFhE6wEFvOcDRrDjAVxc6wHq2OcBkPznA9jg5wNOhOcDypTrA+xQ8wCGhOcA3UiLA\"},\"y\":{\"dtype\":\"f4\",\"bdata\":\"2l\\u002fdQEPM3UDU+t1AKOfdQIvJ3UA8VdxA+8XdQGHwp0Be+91A4ejdQFgu3kDVZN1AaczdQDKF3UD8HN1AgNTdQK6d3UDLXN1ATWbdQKOV3UA7Gd5ALMjeQNGW3UCVWdtA\"},\"type\":\"scattergl\"},{\"hoverinfo\":\"text\",\"hovertext\":[\"neutral mayb sometim often\",\"current reason current reason matter somewhat open think would applic applic\",\"import share neutral sometim sometim\",\"neutral mayb sometim sometim\",\"neutral mayb applic applic\",\"neutral mayb rare often\",\"neutral mayb sometim sometim\",\"depend ill neutral mayb applic applic\",\"neutral mayb applic applic\",\"need disclos earli may issu want give reason pick neutral mayb rare sometim\",\"know sorri fear applic neutral mayb applic applic\",\"neutral mayb rare often\",\"neutral mayb applic applic\",\"seem irrelev also irrelev get job neutral mayb applic applic\",\"thought irrelev job seem relev applic neutral mayb applic often\",\"neutral mayb sometim sometim\",\"irrelev job fear discrimin applic somewhat open mayb applic applic\",\"order keep normal imag see neutral mayb sometim sometim\",\"situat realli know neutral mayb applic applic\",\"neutral mayb applic applic\",\"might particular seen good thing bring reason neutral mayb applic applic\",\"neutral mayb sometim often\",null],\"marker\":{\"opacity\":0.5,\"size\":5},\"mode\":\"markers+text\",\"name\":\"18_neutral_irrelev_mayb\",\"text\":[\"\",\"\",\"\",\"\",\"\",\"\",\"\",\"\",\"\",\"\",\"\",\"\",\"\",\"\",\"\",\"\",\"\",\"\",\"\",\"\",\"\",\"\",\"18_neutral_irrelev_mayb\"],\"textfont\":{\"size\":12},\"x\":{\"dtype\":\"f4\",\"bdata\":\"BwcGQYFBDkEC3AVBJs8FQUL+DkHJ9gVB088FQQd5DkGSAw9BqzEFQTX9DkFQggVBsP4OQW6uJEGAeCRBA70FQZbuJEHR6wVBNtAOQS7RDkEP\\u002fw5BOsoFQS+vDUE=\"},\"y\":{\"dtype\":\"f4\",\"bdata\":\"SlSdQKWNm0DHjp1A6padQEwnmkDoTp5A65idQK7kmkDRIZpAouCdQLwmmkC\\u002fGJ5ADySaQC5+4EDJFt9AUJWdQLUT40DIxZ1A\\u002fRCaQHKAmkD7MppAErKdQPyJpUA=\"},\"type\":\"scattergl\"},{\"hoverinfo\":\"text\",\"hovertext\":[\"would worri potenti employ might see physic ill reason might abl work avail work much profess demand think potenti employ would definit see mental health issu reason hire somewhat open yes never sometim\",\"would rather bring someth unless sure would impact job alway concern peopl find easier turn candid still stigmat without obvious mention accept employ beforehand would worri would hidden hidden prejudic would worri written job applic mental ill yes think would applic rare\",\"unless health issu relat specif abil job would feel need bring doubt mind mental health issu view negat look hire competit industri would impact negat somewhat open yes think would sometim often\",\"bring issu decreas chanc employ howev feel would strong effect line work might bring valu honesti want employ fals pretenc howev think mental health issu would serious jeapordis chanc employ tech industri somewhat open yes think would sometim often\",\"would bring alreadi obvious would like affect perform feel mental health issu would someth want take account part hire process unless serious enough issu want work employ will make accommod issu somewhat open yes think would sometim sometim\",\"sure would hinder place job sure would hinder place job applic mental ill yes think would applic applic\",\"would fear would affect chanc get job uncomfort discuss mental health issu outsid immedi famili somewhat open mayb sometim often\",\"might think high mainten expens hire would depend sever condit extent would affect capabl work applic mental ill mayb applic applic\",\"would thought would effect job perform thought hire parti might concern feel comfort discuss probabl mental ill accept matter somewhat open yes think would rare sometim\",\"might reflect poor candid els equal seem employ would want hire worker chronic mental health problem one chronic mental health problem somewhat open yes think would applic sometim\",\"would rather tri get job first rais requir later would rais got job necessari applic mental ill yes think would applic applic\",\"would bring obvious relev would reluct bring mental health issu fear could reduc chanc get job somewhat open mayb applic sometim\",\"would limit potenti employ would limit potenti employ would hire someon mental health issu healthi person like footbal team would hire someon injur someon readi jump play somewhat open mayb applic applic\",\"worri look cos would realli want job might get employ someon mental health issu open yes think would sometim sometim\",\"could reduc hire abil even though may well take chanc see note physic discuss applic mental ill yes think would applic applic\",\"may hire think might take time work supervisor like deal sort issu applic mental ill yes think would applic applic\",\"would worri would get job might also feel embarass applic mental ill yes think would applic applic\",\"health benefit expens busi hire someon know cost lot believ would sever hinder chanc get job applic mental ill yes think would applic applic\",\"seem obvious tri get job tri put best foot forward admit mental health issu physic health issu make look less desir employe neutral yes think would rare often\",\"depend issu chronic acut etc acut probabl even mention chronic might concern would bias hire worri would bias hire applic mental ill yes think would applic applic\",\"come might bias potenti employ may bias employ applic mental ill yes think would applic applic\",\"guess issu hard enough would affect work worri percept could job mental health stigmat know prospect employ well enough determin whether would negat usual open yes think would applic applic\",null],\"marker\":{\"opacity\":0.5,\"size\":5},\"mode\":\"markers+text\",\"name\":\"19_mental_ill_worri\",\"text\":[\"\",\"\",\"\",\"\",\"\",\"\",\"\",\"\",\"\",\"\",\"\",\"\",\"\",\"\",\"\",\"\",\"\",\"\",\"\",\"\",\"\",\"\",\"19_mental_ill_worri\"],\"textfont\":{\"size\":12},\"x\":{\"dtype\":\"f4\",\"bdata\":\"ecQjQYg4H0GD9CJBEP0lQXXlIUF0DR5BD6EbQcGxIUHhYh9BNREiQcS3I0GztR1BUmIiQfLFIkGjTyVB9AMmQeP9HkHUMSJBx3ksQS6wIkHmZSJBAV0fQTEfIkE=\"},\"y\":{\"dtype\":\"f4\",\"bdata\":\"gyw3QTptM0Hj+DNB1Vw1QUdRM0EM4TJBLzE2QQmGM0EdTTJBb9c1QZ3vNUEoyDdBshkzQb8fNkFXsTRB2y42QaIBM0Gw5DRBOLo2QapYM0H6uC9Be0Q0QfyINEE=\"},\"type\":\"scattergl\"},{\"hoverinfo\":\"text\",\"hovertext\":[\"depend upon impact work duti often disclos open mayb rare sometim\",\"depend much feel trust yet know inform somewhat open mayb never rare\",\"seem like could hurt would hurt somewhat open mayb rare rare\",\"somewhat open mayb rare often\",\"sometim come open mayb rare often\",\"somewhat open mayb rare often\",\"mayb relat work stigma probabl leav could somewhat open mayb never rare\",\"somewhat open mayb rare often\",\"depend employ specif referenc like would ask short term disabl qualifi event somewhat open mayb rare often\",\"none busi impact abil work right sotuat talk mental issu sometim come open mayb rare rare\",\"type diabet affect everyday life forev offici diagnosi mayb get one later somewhat open think would never rare\",\"risk discrimin risk discrimin somewhat open mayb often often\",\"mayb go recruit healthi person give option choos reject whole somewhat open mayb rare often\",\"stress clinic diagnos discuss somewhat open mayb rare often\",\"somewhat open mayb rare often\",\"want open transpar worri stigma somewhat open mayb rare often\",\"bias actual think busi somewhat open mayb rare often\",\"somewhat open mayb rare often\",\"open mayb rare often\",\"everybodi physic health issu point life want flag crazi open mayb rare often\",\"bias lack understand reason sometim come somewhat open mayb rare often\",\"open mayb rare often\",null],\"marker\":{\"opacity\":0.5,\"size\":5},\"mode\":\"markers+text\",\"name\":\"20_rare_mayb_open\",\"text\":[\"\",\"\",\"\",\"\",\"\",\"\",\"\",\"\",\"\",\"\",\"\",\"\",\"\",\"\",\"\",\"\",\"\",\"\",\"\",\"\",\"\",\"\",\"20_rare_mayb_open\"],\"textfont\":{\"size\":12},\"x\":{\"dtype\":\"f4\",\"bdata\":\"6jnCQLKOrkAyaMlA3o3GQD\\u002fRxEDYb8ZAw2nMQPosxkA49MFAbjW7QN9KzEBBy8ZACLfBQPBaxkCsyMZAyWHKQAdJzUAz9sVAUdvEQIlYxUDPi8tANWfGQDduxUA=\"},\"y\":{\"dtype\":\"f4\",\"bdata\":\"0pUBQcjVAEEG7AJBL5ECQdeIAkEekwJBwVkEQX5zAkGnoQFBsiABQdy4BEF1ngJBftwCQXWVAkE1mwJBcCAEQSOSAkFkVgJBZfoBQbNYAkE9GwRB8ZACQfSiAkE=\"},\"type\":\"scattergl\"},{\"hoverinfo\":\"text\",\"hovertext\":[\"open yes think would sometim often\",\"sometim come open yes often often\",\"open yes think would sometim often\",\"somewhat open yes think would often often\",\"open yes think would often often\",\"sometim come open never often\",\"somewhat open yes often often\",\"open yes think would never never\",\"open yes think would sometim often\",\"open sometim often\",\"open yes often often\",\"want mark open yes think would never sometim\",\"open yes think would never sometim\",\"open yes sometim often\",\"got ask got ask open yes think would never sometim\",\"want count compar candid want held compar candid open think would sometim often\",\"like open front open never never\",\"unless someth obvious like disabl seem privat share somewhat open yes think would never often\",\"open yes sometim often\",\"feel would go mr would go open yes sometim often\",\"open yes think would often often\",null],\"marker\":{\"opacity\":0.5,\"size\":5},\"mode\":\"markers+text\",\"name\":\"21_yes_compar_open\",\"text\":[\"\",\"\",\"\",\"\",\"\",\"\",\"\",\"\",\"\",\"\",\"\",\"\",\"\",\"\",\"\",\"\",\"\",\"\",\"\",\"\",\"\",\"21_yes_compar_open\"],\"textfont\":{\"size\":12},\"x\":{\"dtype\":\"f4\",\"bdata\":\"gZNKQH\\u002fLLkAcMUpAv0k2QAVPQUAMty1AO+IqQObbSUDq20lARDYwQCBpMUAeMExA+qJLQJcAM0CzXkxAhk5SQEtNLUDHgUpApn4yQESVS0Cl80BA\\u002fuw+QA==\"},\"y\":{\"dtype\":\"f4\",\"bdata\":\"jZKQQOLFh0AJSJBAP6uTQAPfkUAO+IdAH42JQKikkEAKHZBA9yuIQPE7iUDQ2pBAnKyQQAOKiEDR+pBADimNQBUCiUC2HJBAAumIQCKPkEAHL5JAm6iNQA==\"},\"type\":\"scattergl\"},{\"hoverinfo\":\"text\",\"hovertext\":[\"feel irrelev reason somewhat open mayb sometim often\",\"somewhat open mayb sometim sometim\",\"sometim come somewhat open mayb sometim sometim\",\"want held want held somewhat open mayb sometim sometim\",\"somewhat open mayb sometim sometim\",\"immedi appar embarass talk someon famili close friend tell want view someon reli emot strong even though might case somewhat open think would rare often\",\"somewhat open mayb sometim sometim\",\"matter somewhat open mayb sometim sometim\",\"matter matter sometim come somewhat open mayb rare sometim\",\"negat feedback termin ridicul reduc chanc employ sometim come somewhat open yes applic sometim\",\"seem irrelev embarrass seem irrelev embarrass somewhat open think would applic sometim\",\"noth asham good know potenti hurdl ahead time somewhat open mayb never never\",\"embarras feel vulner want let sometim come open mayb sometim often\",\"influenc work bring oblig somewhat open mayb sometim sometim\",\"ask weak open anxieti work open think would sometim sometim\",\"open mayb sometim sometim\",\"never know coudl take never know inform somewhat open mayb sometim often\",\"never done somewhat open mayb sometim sometim\",\"somewhat open mayb sometim sometim\",\"problem problem somewhat open mayb sometim sometim\",null],\"marker\":{\"opacity\":0.5,\"size\":5},\"mode\":\"markers+text\",\"name\":\"22_sometim_irrelev_mayb\",\"text\":[\"\",\"\",\"\",\"\",\"\",\"\",\"\",\"\",\"\",\"\",\"\",\"\",\"\",\"\",\"\",\"\",\"\",\"\",\"\",\"\",\"22_sometim_irrelev_mayb\"],\"textfont\":{\"size\":12},\"x\":{\"dtype\":\"f4\",\"bdata\":\"eLypQDX8qkD7MKpA95ioQMzEqkADAqNA3vCqQJj6okCGfqNA\\u002fZjOQHfEpED76tdAS7elQAZzqkD4uqpAZSCrQBvgq0CzPatAuRGrQNdfq0ALFK1A\"},\"y\":{\"dtype\":\"f4\",\"bdata\":\"twp+QHU\\u002ffECnLHxAeYN9QHuPekDmKIFAg\\u002ft6QGxsgUDU5IFAiqWoQLoNgEAIHTBAUTx\\u002fQF5qfUCWjn1AApd6QPsRfEBokXpATcR6QCjtekAb231A\"},\"type\":\"scattergl\"},{\"hoverinfo\":\"text\",\"hovertext\":[\"somewhat open yes think would sometim sometim\",\"somewhat open yes sometim sometim\",\"somewhat open yes think would sometim sometim\",\"somewhat open yes think would never sometim\",\"somewhat open yes think would sometim sometim\",\"somewhat open yes think would sometim sometim\",\"somewhat open yes think would sometim sometim\",\"na somewhat open think would never sometim\",\"somewhat open yes think would sometim sometim\",\"somewhat open yes think would applic sometim\",\"somewhat open yes think would sometim sometim\",\"somewhat open think would sometim sometim\",\"somewhat open yes think would sometim sometim\",\"somewhat open yes think would sometim sometim\",\"somewhat open yes sometim sometim\",\"somewhat open yes think would sometim sometim\",\"somewhat open yes think would sometim sometim\",\"applic somewhat open yes think would sometim sometim\",\"somewhat open yes think would applic sometim\",null],\"marker\":{\"opacity\":0.5,\"size\":5},\"mode\":\"markers+text\",\"name\":\"23_sometim_yes_somewhat\",\"text\":[\"\",\"\",\"\",\"\",\"\",\"\",\"\",\"\",\"\",\"\",\"\",\"\",\"\",\"\",\"\",\"\",\"\",\"\",\"\",\"23_sometim_yes_somewhat\"],\"textfont\":{\"size\":12},\"x\":{\"dtype\":\"f4\",\"bdata\":\"XiKPP8K\\u002fkz+uSJA\\u002fXt+tPzX+kD\\u002f7OJE\\u002fiTOQP4ZLoT\\u002fMM5A\\u002fN+uOPxNvjD8H1ZE\\u002f3uaOP14okT\\u002fPI5c\\u002fSDKPP7FPkT8aN7JAMwiPPwHvsD8=\"},\"y\":{\"dtype\":\"f4\",\"bdata\":\"9AWIQJlCiUBipIdAfMKEQN\\u002fRh0CQqYdANfiHQP9wiEAX84dAVnmIQLjMh0Ajj4dAdvWHQGeNh0DrNYpAr+uHQC2dhkAC1KZAlXSIQGaFiUA=\"},\"type\":\"scattergl\"},{\"hoverinfo\":\"text\",\"hovertext\":[\"bear abil accomplish job proper cope proper cope affect abil job expect physic health issu allow time need cope necessari somewhat open mayb rare often\",\"know never physic health issu would need bring know react situat sure harm chanc want give anyon reason hire somewhat open yes think would sometim sometim\",\"desper job would want jeopard candidaci hand health issu serious could interfer respons posit feel employ probabl know desper job would want jeopard candidaci hand health issu serious could interfer respons posit feel employ probabl know somewhat open mayb applic applic\",\"want hinder chanc get job think physic health issu relat job want think less neutral yes think would rare often\",\"deaf view physic health issu mani employ will go way accommod import employ know need accommod somewhat open yes think would applic applic\",\"none busi long job given paramet agre upon see need know physic health issu take job mutual agre paramet need done soon need enough flexibl deal mental physic issu matter neutral sometim often\",\"physic health issu would reason discuss asthma seem like ask accommod later necessari eg ask perfum scent ban would like okay addit give inform employ allow use employ decis like health status offer might made look troubl peopl use inform conscious give employ reason choos somewhat open yes think would rare sometim\",\"decid factor choos hire physic issu need point go effect job absolut need know start feel like huge hr issu less know better honest dyslex learn disabl effect preform job open yes think would never often\",\"physic health part get way job direct assum hire someon whose primari method work kind issu somewhat open yes think would applic sometim\",\"physic health issu impact job necessari know make inform decis would probabl chang need job oppos want job mental health issu impact job necessari know make inform decis would probabl chang need job oppos want job open think would applic applic\",\"work involv physic labor matter privat need know order provid need better understand behaviour sometim come open mayb rare applic\",\"feel need abl physic job demand consid feel need abl physic mental job demand consid sometim come somewhat open mayb never sometim\",\"physic health issu new employ need awar hire would depend type mh iddu somewhat open mayb never sometim\",\"want job full health cultur thing reason neutral yes think would often often\",\"feel busi although take consider hire let honest physic feel busi although take consider hire let honest somewhat open mayb applic applic\",\"physic health issu may impact daili job feel need divulg prospect employ feel uncomfort discuss issu someon met somewhat open mayb applic sometim\",\"would mention direct bear abil navig work environ need time walk place place exampl feel physic issu address employ instal ramp prolong stand etc mental issu perceiv strict respons individu matter somewhat open yes think would rare sometim\",\"physic health issu impact abil job perspect see reason discuss instanc hemorrhoid still job compani need know arm mechan accid may difficulti job requir use hand would probabl tell employ interview hand would feel immedi stigmat candidaci would dismiss somewhat open yes think would sometim often\",null],\"marker\":{\"opacity\":0.5,\"size\":5},\"mode\":\"markers+text\",\"name\":\"24_need_physic_job\",\"text\":[\"\",\"\",\"\",\"\",\"\",\"\",\"\",\"\",\"\",\"\",\"\",\"\",\"\",\"\",\"\",\"\",\"\",\"\",\"24_need_physic_job\"],\"textfont\":{\"size\":12},\"x\":{\"dtype\":\"f4\",\"bdata\":\"gx8\\u002fQVWHQUFqQTRBzJBBQbI3QUFtb0BBARE+QadaP0FmvEFBToo6QWLxQkGH+j5ByKdBQTTSQUGnSjpB3EQ\\u002fQRLsPEGRzjNBXU4+QQ==\"},\"y\":{\"dtype\":\"f4\",\"bdata\":\"5SMxQR18MEG1\\u002fCpBcvEvQd7tLUGc7TBBVhcyQVvEM0EwADBBS0I0QehYL0FGcjFBgVQvQbtKL0EwlS9BE5gvQQwfL0HFTypBPd0vQQ==\"},\"type\":\"scattergl\"},{\"hoverinfo\":\"text\",\"hovertext\":[\"somewhat open mayb applic applic\",\"unsur unsur somewhat open mayb applic applic\",\"somewhat open mayb applic applic\",\"somewhat open mayb applic applic\",\"know feel somewhat open mayb applic applic\",\"unfortun part unfortun part somewhat open mayb applic applic\",\"somewhat open mayb applic applic\",\"somewhat open mayb applic applic\",\"somewhat open mayb applic applic\",\"somewhat open mayb applic often\",\"somewhat open mayb applic applic\",\"somewhat open mayb applic applic\",\"somewhat open mayb applic applic\",\"somewhat open mayb applic applic\",\"somewhat open mayb applic applic\",\"somewhat open mayb applic applic\",\"somewhat open mayb applic applic\",null],\"marker\":{\"opacity\":0.5,\"size\":5},\"mode\":\"markers+text\",\"name\":\"25_applic_mayb_unfortun\",\"text\":[\"\",\"\",\"\",\"\",\"\",\"\",\"\",\"\",\"\",\"\",\"\",\"\",\"\",\"\",\"\",\"\",\"\",\"25_applic_mayb_unfortun\"],\"textfont\":{\"size\":12},\"x\":{\"dtype\":\"f4\",\"bdata\":\"BUEeQSSQHUGUBR5BxRUeQQKcHUFd1hxBszUeQfr\\u002fHUEBsh1BRoQeQeT+HUEVKB5BTQgeQQHeHUFKJh5BmxgeQdoTHkF38x1B\"},\"y\":{\"dtype\":\"f4\",\"bdata\":\"FAG9v1e0t781PLu\\u002fAry7vwkeuL8tgbC\\u002fJsi8v1QLu7\\u002f+nbi\\u002f2Ay\\u002fv8Lzur8wgLy\\u002fUVS7vw7yub87Lby\\u002fF9W7v9y1u783mrq\\u002f\"},\"type\":\"scattergl\"},{\"hoverinfo\":\"text\",\"hovertext\":[\"would depend issu job privat treat success would elimin chanc get job matter somewhat open yes think would never often\",\"might think negat affect job perform less like hire hire good salari think would much decreas likelihood get hire somewhat open yes think would applic sometim\",\"depend issu whether would affect kind work could get job somewhat open yes think would rare often\",\"would potenti affect abil job might requir special equip etc would fair honest would depend field knew employ somewhat open yes think would applic often\",\"depend whether would relev perform caus signific outag seem like would disqualifi bring troubl employ like want deal somewhat open yes think would often often\",\"would assum would put lower list get job negat count job somewhat open yes think would sometim often\",\"depend issu type job depend thought issu would impact abil get job desir somewhat open mayb rare often\",\"would depend whether thought might impact job depend job somewhat open mayb rare sometim\",\"wari see potenti time appoint etc negat think employ would straight discount neutral yes think would sometim often\",\"depend whether thought would negat impact get job job organ busi run peopl similar issu sometim come somewhat open yes sometim often\",\"feel would like weigh consid job whether intent conscious feel would definit weigh consid job whether intent conscious somewhat open yes rare often\",\"assum would weigh get job assum would weigh get job somewhat open yes think would sometim sometim\",\"depend issu issu requir signific amount time would worri would impact chanc get job depend issu open think would applic applic\",\"would bear abil job possibl would bear job open yes think would applic applic\",\"might depend think would perceiv issu relat abil job definit think employ might worri abil perform job somewhat open mayb rare sometim\",\"worri would affect chanc employ worri would affect chanc employ somewhat open mayb rare often\",null],\"marker\":{\"opacity\":0.5,\"size\":5},\"mode\":\"markers+text\",\"name\":\"26_job_weigh_depend\",\"text\":[\"\",\"\",\"\",\"\",\"\",\"\",\"\",\"\",\"\",\"\",\"\",\"\",\"\",\"\",\"\",\"\",\"26_job_weigh_depend\"],\"textfont\":{\"size\":12},\"x\":{\"dtype\":\"f4\",\"bdata\":\"Il4lQfxkJEFj8B9BbaMlQSASKEEIsyFB8\\u002fskQaNHIkFqiCZBl6smQalSIkEQgCJBXI8kQSXhKEGQMiZB5rgcQSYsJEE=\"},\"y\":{\"dtype\":\"f4\",\"bdata\":\"rHAFQVp0BEFpNgJBUW8FQXGmBEFXqARBGz0IQcePBEGGBgVB65kGQXPcBUFmDgVB9TMJQWHGA0HiOwZBw5AAQYwfBUE=\"},\"type\":\"scattergl\"},{\"hoverinfo\":\"text\",\"hovertext\":[\"open yes think would applic applic\",\"open yes think would applic applic\",\"check support equip could provid afraid somewhat open yes think would rare sometim\",\"open yes think would applic applic\",\"im gonna risk gonna risk open yes think would applic applic\",\"open yes think would applic applic\",\"open yes think would applic applic\",\"open yes think would sometim applic\",\"think need think need open yes think would applic applic\",\"open yes think would applic applic\",\"open think would applic applic\",\"problem work open yes think would applic sometim\",\"open think would applic applic\",\"open yes think would applic applic\",\"open yes think would applic often\",\"open yes think would applic sometim\",null],\"marker\":{\"opacity\":0.5,\"size\":5},\"mode\":\"markers+text\",\"name\":\"27_gonna_applic_think\",\"text\":[\"\",\"\",\"\",\"\",\"\",\"\",\"\",\"\",\"\",\"\",\"\",\"\",\"\",\"\",\"\",\"\",\"27_gonna_applic_think\"],\"textfont\":{\"size\":12},\"x\":{\"dtype\":\"f4\",\"bdata\":\"Ow+FQAEXhUBAxKVABX6EQNMHQEHS4YRAay+FQOo+hUBKWIZArgKFQP30hEDlUpJA+VuFQDIhhUAy0IRA5YyGQFfEl0A=\"},\"y\":{\"dtype\":\"f4\",\"bdata\":\"6b+iQAO+okCwuadAuFOjQIo4+0Aw\\u002faJA4IWiQKGrokBb1aFAxQejQHD1okDfDqNAt3uiQMjDokBWqaJAY8ShQBOIqEA=\"},\"type\":\"scattergl\"},{\"hoverinfo\":\"text\",\"hovertext\":[\"somewhat open mayb applic applic\",\"somewhat open mayb applic applic\",\"somewhat open mayb applic applic\",\"somewhat open mayb applic applic\",\"somewhat open mayb applic applic\",\"somewhat open mayb applic applic\",\"somewhat open mayb applic applic\",\"sure applic somewhat open mayb applic applic\",\"somewhat open mayb applic applic\",\"somewhat open mayb applic applic\",\"somewhat open mayb applic applic\",\"somewhat open mayb applic applic\",\"somewhat open mayb applic applic\",\"somewhat open mayb applic applic\",\"somewhat open mayb applic applic\",null],\"marker\":{\"opacity\":0.5,\"size\":5},\"mode\":\"markers+text\",\"name\":\"28_applic_mayb_somewhat\",\"text\":[\"\",\"\",\"\",\"\",\"\",\"\",\"\",\"\",\"\",\"\",\"\",\"\",\"\",\"\",\"\",\"28_applic_mayb_somewhat\"],\"textfont\":{\"size\":12},\"x\":{\"dtype\":\"f4\",\"bdata\":\"LCLLQBwmy0B7EctAG\\u002fgdQS7NykAStMpAJO7KQO3hx0AQ5slAB\\u002fzKQMTby0BZHx5BrtfKQHpBykCZ4cpAgsXZQA==\"},\"y\":{\"dtype\":\"f4\",\"bdata\":\"Yrhwv2KRbr96mHO\\u002fDcC6v1SDcr9Th3C\\u002fQOhrv0Jpfb\\u002fKQX2\\u002ftldzv0XIer\\u002fABLy\\u002fYNFuv1kwbr8lB22\\u002f4zSCvw==\"},\"type\":\"scattergl\"},{\"hoverinfo\":\"text\",\"hovertext\":[\"felt need special accommod could restrict abil perform job assist provid trust trust employ need help would bring applic somewhat open mayb applic applic\",\"despit law govern non discrimin employ go easiest come differ reason hire employe ultim resourc leverag compani want get less money never absolut never would stigmat hell somewhat open mayb rare sometim\",\"mobil problem requir access offic special accomod want make sure avail might allud guis work life balanc someth valid reason hire qualiti brain would extrem detriment call question open yes think would applic often\",\"consid privat protect inform given absolut need want abl control employ abl use inform would never help get job could use negat somewhat open yes rare sometim\",\"want work compani support someon condit want work employ hire someon condit open mayb rare rare\",\"see point disclosur thing request without violat employ law see answer question somewhat open mayb applic applic\",\"may relev job easi immedi disqualifi eye without proof recours somewhat open yes rare sometim\",\"employ need know would need support order best work employ need support order get best work possibl open mayb applic applic\",\"hesit give potenti employ inform would disqualifi posit legal protect otherwis alway employ parallel construct base negat factor reinforc bias decis give extra ammo poor strategi secur paycheck reason nuanc softwar engin hire part intellig appar mental fit undermin confid abil perform cognit gate would experi lead candid select even perform wors interview open yes think would applic often\",\"way legal discrimin take much effort legal block new hire illeg reason way legal discrimin take much effort legal block new hire illeg reason somewhat open yes think would often often\",\"need accommod part work obvious refer might diffus tension would bring otherwis would absolut way could help lot lot lot way could hurt even though protect non discrimin law someon use decis make virtual recours sometim come open mayb sometim often\",\"employ need awar treat equal respect know theoret condit expect uphold kind legal requir provid help support depend issu may relev might requir support pertin probabl would somewhat open mayb never sometim\",\"realli want job necessarili bring knew actual get job realiz legal discrimin odd would somewhat open mayb applic applic\",\"thing protect law us ask volunt inform would discuss protect law us applic somewhat open mayb applic often\",\"want know provid ergonom keyboard happi worker plug keyboard comput would want know manag support go work matter neutral think would applic applic\",null],\"marker\":{\"opacity\":0.5,\"size\":5},\"mode\":\"markers+text\",\"name\":\"29_legal_support_law\",\"text\":[\"\",\"\",\"\",\"\",\"\",\"\",\"\",\"\",\"\",\"\",\"\",\"\",\"\",\"\",\"\",\"29_legal_support_law\"],\"textfont\":{\"size\":12},\"x\":{\"dtype\":\"f4\",\"bdata\":\"bPAyQU19MkF6bjFBhLYxQQ\\u002fhM0EDaS1BomUwQY59NEFdXzBBlvgyQQHFMEHlwDFBfMUzQeHwMEFC2TRBBwMyQQ==\"},\"y\":{\"dtype\":\"f4\",\"bdata\":\"oCkPQTvlD0HKlhFBtfkQQQQqC0GXORJBDM0RQae+DUH0YhJB6mAKQY14EUFEzxBBZFoKQXmDEUHw5g9B4I4PQQ==\"},\"type\":\"scattergl\"},{\"hoverinfo\":\"text\",\"hovertext\":[\"matter somewhat open yes never sometim\",\"somewhat open yes think would sometim often\",\"somewhat open think would never sometim\",\"somewhat open yes think would sometim often\",\"somewhat open yes think would sometim often\",\"somewhat open yes think would sometim often\",\"somewhat open yes never sometim\",\"want judg someon healthi see somewhat open yes think would sometim often\",\"somewhat open yes think would sometim often\",\"depend issu afraid presumpt person issu afraid look like excus see smile somewhat open yes think would sometim often\",\"somewhat open think would sometim often\",\"somewhat open yes think would sometim often\",\"somewhat open yes sometim often\",\"somewhat open yes think would sometim often\",\"somewhat open yes think would sometim often\",null],\"marker\":{\"opacity\":0.5,\"size\":5},\"mode\":\"markers+text\",\"name\":\"30_sometim_yes_somewhat\",\"text\":[\"\",\"\",\"\",\"\",\"\",\"\",\"\",\"\",\"\",\"\",\"\",\"\",\"\",\"\",\"\",\"30_sometim_yes_somewhat\"],\"textfont\":{\"size\":12},\"x\":{\"dtype\":\"f4\",\"bdata\":\"mMHhPzgjzz9dvrk\\u002fdd\\u002fPP6Fdyz\\u002f3Rsw\\u002fDkvfPw8y8D\\u002fNJtE\\u002fwVrqP\\u002fF+zz+XZ9A\\u002fVSnpP0euzj+jHdA\\u002fxarVPw==\"},\"y\":{\"dtype\":\"f4\",\"bdata\":\"sDGEQFtCgEBL6YlAIy6AQLrNgEBUcYBAGBuDQB83gUD8FIBA8zN\\u002fQOcff0DjJIBALF+CQKVDgEDhLIBA0XyBQA==\"},\"type\":\"scattergl\"},{\"hoverinfo\":\"text\",\"hovertext\":[\"fear disqualifi job great stigma would like reject anoth candid somewhat open yes sometim sometim\",\"risk mot get job case thought would work often stigma somewhat open yes think would applic applic\",\"anyth serious enough chanc negat affect outcom would depend whether could trust employ stigmatis well desper need want job cover ill fair well want harm chanc get job necessari somewhat open mayb sometim often\",\"afraid seem weak much stigma way would get job somewhat open mayb sometim often\",\"would read room would depend much feel employ expect stigma open mayb applic sometim\",\"could impact willing hire even subconsci stigma somewhat open yes think would applic applic\",\"might reluct interview still bit stigma somewhat open mayb rare sometim\",\"would expect unconsci bias someon whose employ involv extra risk medic leav accommod expens even employ best intent might unintent favor easier hire stigma open yes think would often often\",\"depend abil job bear discuss need accommod job may stigma fear get job somewhat open mayb sometim often\",\"someth would need accommod want stigma prescrib idea affect chanc get hire open mayb applic sometim\",\"seem like would influenc decisionmak even subconsci fair certain would influenc decisionmak mani way get away discrimin basi chalk cultur fit open think would sometim often\",\"fear stigma associ may treat differ hire somewhat open yes think would rare sometim\",\"none busi unless need accommod work general peopl much stigma want find kind want get hire open yes think would sometim often\",\"may caus think abl perform job 100 stigma somewhat open mayb sometim often\",\"depend whether would affect abil carri job stigma somewhat open yes rare sometim\",null],\"marker\":{\"opacity\":0.5,\"size\":5},\"mode\":\"markers+text\",\"name\":\"31_stigma_decisionmak_subconsci\",\"text\":[\"\",\"\",\"\",\"\",\"\",\"\",\"\",\"\",\"\",\"\",\"\",\"\",\"\",\"\",\"\",\"31_stigma_decisionmak_subconsci\"],\"textfont\":{\"size\":12},\"x\":{\"dtype\":\"f4\",\"bdata\":\"RZIEQWl1B0GmjQhBvcsFQUmTB0HvhAZBhvkFQaJTB0GpTQdBFl0HQYmwBUHt4QVBoLIIQfKvBkGVwgZBhc8GQQ==\"},\"y\":{\"dtype\":\"f4\",\"bdata\":\"hWE9QQyxPEFoAzxBQJk9QW9JPkHFF0FBy589QVJHPEH1izxBr\\u002f89QemBQEH3JD1BIwA7QRGDPEGEAT1BDXI9QQ==\"},\"type\":\"scattergl\"},{\"hoverinfo\":\"text\",\"hovertext\":[\"applic open mayb applic sometim\",\"open mayb applic applic\",\"might import employ case affect product somewhat open mayb applic applic\",\"open mayb applic applic\",\"import everyon inform situat quiet person somewhat open mayb applic applic\",\"might import know react thing open mayb applic applic\",\"matter open mayb applic applic\",\"import health well could like know somewhat open mayb applic applic\",\"open mayb applic applic\",\"test support environ test support environ applic somewhat open mayb applic applic\",\"open mayb applic applic\",\"open mayb applic applic\",\"import sure somewhat open mayb applic applic\",\"unknown ramif unknown ramif somewhat open mayb applic applic\",\"applic open mayb applic sometim\",null],\"marker\":{\"opacity\":0.5,\"size\":5},\"mode\":\"markers+text\",\"name\":\"32_import_applic_ramif\",\"text\":[\"\",\"\",\"\",\"\",\"\",\"\",\"\",\"\",\"\",\"\",\"\",\"\",\"\",\"\",\"\",\"32_import_applic_ramif\"],\"textfont\":{\"size\":12},\"x\":{\"dtype\":\"f4\",\"bdata\":\"PwLWQH4M1kCWMiRBfP\\u002fVQCJh1kAtANZAk3bTQMfJ1kC89tVAavrVQNO91UCa+9VAQITWQCCz1UCGBdZATojdQA==\"},\"y\":{\"dtype\":\"f4\",\"bdata\":\"fRNLvUsEUL02y+pA2QpNvfGw5LzpUUq9kztBvmbOvbzoUFC9kndNvd0Dbb3fk029P5L9vNOBb71imEu9TY7fPg==\"},\"type\":\"scattergl\"},{\"hoverinfo\":\"text\",\"hovertext\":[\"applic mental ill mayb applic applic\",\"applic mental ill mayb applic applic\",\"mental issu harder discuss anyon open mayb applic applic\",\"applic mental ill mayb applic applic\",\"applic mental ill mayb applic applic\",\"applic mental ill mayb applic applic\",\"full disclosur prejudic applic mental ill mayb applic applic\",\"affect day day activ applic mental ill mayb rare sometim\",\"applic mental ill mayb applic applic\",\"applic mental ill mayb applic applic\",\"applic mental ill mayb applic applic\",\"applic mental ill mayb applic applic\",\"applic applic mental ill mayb applic sometim\",\"applic applic mental ill mayb applic applic\",\"see relev see relev applic applic mental ill mayb applic applic\",null],\"marker\":{\"opacity\":0.5,\"size\":5},\"mode\":\"markers+text\",\"name\":\"33_ill_applic_mental\",\"text\":[\"\",\"\",\"\",\"\",\"\",\"\",\"\",\"\",\"\",\"\",\"\",\"\",\"\",\"\",\"\",\"33_ill_applic_mental\"],\"textfont\":{\"size\":12},\"x\":{\"dtype\":\"f4\",\"bdata\":\"\\u002fQdfQZL\\u002fXkERzzVBTQJfQcsBX0FSA19BEgRfQazkXkHNDl9B8gJfQVQSX0HxAV9BgABfQawBX0EW6l5BrEFcQQ==\"},\"y\":{\"dtype\":\"f4\",\"bdata\":\"xbt7QZGye0HkaURBx7V7QfK0e0HHtntBu7d7QcqOe0HowXtBa7Z7QffFe0FOtXtBRLN7Qb21e0HapXtBcgR4QQ==\"},\"type\":\"scattergl\"},{\"hoverinfo\":\"text\",\"hovertext\":[\"applic somewhat open mayb rare sometim\",\"somewhat open mayb rare sometim\",\"sometim come open mayb rare sometim\",\"somewhat open mayb rare sometim\",\"somewhat open mayb rare sometim\",\"somewhat open mayb rare sometim\",\"open mayb rare sometim\",\"somewhat open mayb rare sometim\",\"good open good open somewhat open mayb rare often\",\"afraid ad someth negat balanc sheet afraid add someth negat balanc sheet somewhat open mayb rare sometim\",\"somewhat open mayb rare sometim\",\"somewhat open mayb rare rare\",\"somewhat open mayb rare sometim\",null],\"marker\":{\"opacity\":0.5,\"size\":5},\"mode\":\"markers+text\",\"name\":\"34_rare_sheet_balanc\",\"text\":[\"\",\"\",\"\",\"\",\"\",\"\",\"\",\"\",\"\",\"\",\"\",\"\",\"\",\"34_rare_sheet_balanc\"],\"textfont\":{\"size\":12},\"x\":{\"dtype\":\"f4\",\"bdata\":\"eJClQMovpUBfFKtA5kylQKiZpUADgaVA4hKmQEGWpUAwoaVAvlGnQHGmpUBbbKVAE7KlQMcfpkA=\"},\"y\":{\"dtype\":\"f4\",\"bdata\":\"JDz\\u002fQH18\\u002f0A2p\\u002f5Aqlf\\u002fQH7I\\u002f0AJTP9ATRr\\u002fQINE\\u002f0Bilv9Azvz8QHc5\\u002f0DCKP9AMDv\\u002fQLoa\\u002f0A=\"},\"type\":\"scattergl\"},{\"hoverinfo\":\"text\",\"hovertext\":[\"upfront time think would put risk get job neutral yes think would sometim often\",\"risk get job risk get job somewhat open yes think would applic applic\",\"would risk get job somewhat open yes think would applic sometim\",\"get accomod risk job secur open mayb sometim sometim\",\"want risk job open yes think would applic sometim\",\"risk discard job interview risk neglect promot risk fire risk discard job interview risk neglect promot risk fire somewhat open yes think would sometim often\",\"want risk leav current job posit one thing could issu got way work need accommod would otherwis seem worth applic mental ill mayb applic applic\",\"risk get offer risk get offer somewhat open yes think would sometim sometim\",\"obvious thing employ cant tell wont risk wont get job would impact negat somewhat open yes never often\",\"want risk get job wait hire open mental health advoc one reason good job open mayb sometim sometim\",\"risk get posit risk get posit somewhat open yes think would sometim often\",\"reason risk job reason risk make concern somewhat open mayb applic sometim\",\"risk get hire open yes sometim sometim\",null],\"marker\":{\"opacity\":0.5,\"size\":5},\"mode\":\"markers+text\",\"name\":\"35_risk_neglect_discard\",\"text\":[\"\",\"\",\"\",\"\",\"\",\"\",\"\",\"\",\"\",\"\",\"\",\"\",\"\",\"35_risk_neglect_discard\"],\"textfont\":{\"size\":12},\"x\":{\"dtype\":\"f4\",\"bdata\":\"TDVAQYwaQEHCoT9BVgY\\u002fQaE2P0FRkkFBdZ0\\u002fQWGhQEGZMUBBANs+QXS7QEFBzT9BG88\\u002fQQL0P0E=\"},\"y\":{\"dtype\":\"f4\",\"bdata\":\"iLv8QHJV\\u002fECY4fxAbwz+QOYh\\u002fkDjpAFB+Jr9QJiJ+0BPif1AV2b\\u002fQHJo+0DwHP1AASL9QHug\\u002fUA=\"},\"type\":\"scattergl\"},{\"hoverinfo\":\"text\",\"hovertext\":[\"applic open yes think would rare applic\",\"general applic job potenti frown upon somewhat open yes think would applic applic\",\"concern work correct applic somewhat open think would applic applic\",\"applic somewhat open yes think would applic applic\",\"applic somewhat open yes think would applic often\",\"might bad impact view perform applic somewhat open yes think would applic applic\",\"idk idk somewhat open yes think would applic applic\",\"applic somewhat open yes think would applic applic\",\"seem like would work seem like would work applic somewhat open yes think would applic applic\",\"applic somewhat open yes think would applic applic\",\"applic somewhat open yes think would applic often\",\"applic somewhat open yes think would applic applic\",null],\"marker\":{\"opacity\":0.5,\"size\":5},\"mode\":\"markers+text\",\"name\":\"36_applic_idk_yes\",\"text\":[\"\",\"\",\"\",\"\",\"\",\"\",\"\",\"\",\"\",\"\",\"\",\"\",\"36_applic_idk_yes\"],\"textfont\":{\"size\":12},\"x\":{\"dtype\":\"f4\",\"bdata\":\"lmHEQE6qxEBjDcJABRnDQIsaw0B8McNASSjDQLgcw0AgHMNAaFzDQN4aw0AuKMNAk0rDQA==\"},\"y\":{\"dtype\":\"f4\",\"bdata\":\"23S8QC9QvEDnMb1AMxO9QIcvvUBHVL1AXmm9QFMXvUCVWL1A58y8QFo8vUAbCr1AOAq9QA==\"},\"type\":\"scattergl\"},{\"hoverinfo\":\"text\",\"hovertext\":[\"fear get job fear get job would impact negat open yes think would sometim often\",\"would effect perform fear lose job sometim come open mayb rare often\",\"fear get job fear get job somewhat open yes think would applic applic\",\"fear would make interview process would tell hire fear make interview process due stigma somewhat open yes think would applic sometim\",\"fear negat impact prospect employ fear negat impact prospect employ somewhat open yes applic often\",\"fear fail interview fear fail interview somewhat open yes think would applic applic\",\"fear get job fear get job would impact negat somewhat open yes sometim often\",\"fear would use reason hire fear might make prospect employ uncomfort hire somewhat open yes sometim sometim\",\"fear get job fear get job somewhat open yes think would sometim often\",\"scare would separ interviewe rather keep hidden come forward later come know somewhat open yes think would applic applic\",\"fear would affect chanc get hire reason somewhat open yes think would rare often\",null],\"marker\":{\"opacity\":0.5,\"size\":5},\"mode\":\"markers+text\",\"name\":\"37_fear_prospect_fail\",\"text\":[\"\",\"\",\"\",\"\",\"\",\"\",\"\",\"\",\"\",\"\",\"\",\"37_fear_prospect_fail\"],\"textfont\":{\"size\":12},\"x\":{\"dtype\":\"f4\",\"bdata\":\"S0kLQRK5CkGZlQtBeCsLQRKHCkFeSgtBXuYKQdZ8C0EmOQtB080LQUwMD0GqjAtB\"},\"y\":{\"dtype\":\"f4\",\"bdata\":\"tHMRQQTZEEFz9xFBogkTQaQ9EkH7PhJBWtgRQQNmEUEZvRFBDKsSQY+uDEE6dxFB\"},\"type\":\"scattergl\"}],                        {\"template\":{\"data\":{\"barpolar\":[{\"marker\":{\"line\":{\"color\":\"white\",\"width\":0.5},\"pattern\":{\"fillmode\":\"overlay\",\"size\":10,\"solidity\":0.2}},\"type\":\"barpolar\"}],\"bar\":[{\"error_x\":{\"color\":\"rgb(36,36,36)\"},\"error_y\":{\"color\":\"rgb(36,36,36)\"},\"marker\":{\"line\":{\"color\":\"white\",\"width\":0.5},\"pattern\":{\"fillmode\":\"overlay\",\"size\":10,\"solidity\":0.2}},\"type\":\"bar\"}],\"carpet\":[{\"aaxis\":{\"endlinecolor\":\"rgb(36,36,36)\",\"gridcolor\":\"white\",\"linecolor\":\"white\",\"minorgridcolor\":\"white\",\"startlinecolor\":\"rgb(36,36,36)\"},\"baxis\":{\"endlinecolor\":\"rgb(36,36,36)\",\"gridcolor\":\"white\",\"linecolor\":\"white\",\"minorgridcolor\":\"white\",\"startlinecolor\":\"rgb(36,36,36)\"},\"type\":\"carpet\"}],\"choropleth\":[{\"colorbar\":{\"outlinewidth\":1,\"tickcolor\":\"rgb(36,36,36)\",\"ticks\":\"outside\"},\"type\":\"choropleth\"}],\"contourcarpet\":[{\"colorbar\":{\"outlinewidth\":1,\"tickcolor\":\"rgb(36,36,36)\",\"ticks\":\"outside\"},\"type\":\"contourcarpet\"}],\"contour\":[{\"colorbar\":{\"outlinewidth\":1,\"tickcolor\":\"rgb(36,36,36)\",\"ticks\":\"outside\"},\"colorscale\":[[0.0,\"#440154\"],[0.1111111111111111,\"#482878\"],[0.2222222222222222,\"#3e4989\"],[0.3333333333333333,\"#31688e\"],[0.4444444444444444,\"#26828e\"],[0.5555555555555556,\"#1f9e89\"],[0.6666666666666666,\"#35b779\"],[0.7777777777777778,\"#6ece58\"],[0.8888888888888888,\"#b5de2b\"],[1.0,\"#fde725\"]],\"type\":\"contour\"}],\"heatmap\":[{\"colorbar\":{\"outlinewidth\":1,\"tickcolor\":\"rgb(36,36,36)\",\"ticks\":\"outside\"},\"colorscale\":[[0.0,\"#440154\"],[0.1111111111111111,\"#482878\"],[0.2222222222222222,\"#3e4989\"],[0.3333333333333333,\"#31688e\"],[0.4444444444444444,\"#26828e\"],[0.5555555555555556,\"#1f9e89\"],[0.6666666666666666,\"#35b779\"],[0.7777777777777778,\"#6ece58\"],[0.8888888888888888,\"#b5de2b\"],[1.0,\"#fde725\"]],\"type\":\"heatmap\"}],\"histogram2dcontour\":[{\"colorbar\":{\"outlinewidth\":1,\"tickcolor\":\"rgb(36,36,36)\",\"ticks\":\"outside\"},\"colorscale\":[[0.0,\"#440154\"],[0.1111111111111111,\"#482878\"],[0.2222222222222222,\"#3e4989\"],[0.3333333333333333,\"#31688e\"],[0.4444444444444444,\"#26828e\"],[0.5555555555555556,\"#1f9e89\"],[0.6666666666666666,\"#35b779\"],[0.7777777777777778,\"#6ece58\"],[0.8888888888888888,\"#b5de2b\"],[1.0,\"#fde725\"]],\"type\":\"histogram2dcontour\"}],\"histogram2d\":[{\"colorbar\":{\"outlinewidth\":1,\"tickcolor\":\"rgb(36,36,36)\",\"ticks\":\"outside\"},\"colorscale\":[[0.0,\"#440154\"],[0.1111111111111111,\"#482878\"],[0.2222222222222222,\"#3e4989\"],[0.3333333333333333,\"#31688e\"],[0.4444444444444444,\"#26828e\"],[0.5555555555555556,\"#1f9e89\"],[0.6666666666666666,\"#35b779\"],[0.7777777777777778,\"#6ece58\"],[0.8888888888888888,\"#b5de2b\"],[1.0,\"#fde725\"]],\"type\":\"histogram2d\"}],\"histogram\":[{\"marker\":{\"line\":{\"color\":\"white\",\"width\":0.6}},\"type\":\"histogram\"}],\"mesh3d\":[{\"colorbar\":{\"outlinewidth\":1,\"tickcolor\":\"rgb(36,36,36)\",\"ticks\":\"outside\"},\"type\":\"mesh3d\"}],\"parcoords\":[{\"line\":{\"colorbar\":{\"outlinewidth\":1,\"tickcolor\":\"rgb(36,36,36)\",\"ticks\":\"outside\"}},\"type\":\"parcoords\"}],\"pie\":[{\"automargin\":true,\"type\":\"pie\"}],\"scatter3d\":[{\"line\":{\"colorbar\":{\"outlinewidth\":1,\"tickcolor\":\"rgb(36,36,36)\",\"ticks\":\"outside\"}},\"marker\":{\"colorbar\":{\"outlinewidth\":1,\"tickcolor\":\"rgb(36,36,36)\",\"ticks\":\"outside\"}},\"type\":\"scatter3d\"}],\"scattercarpet\":[{\"marker\":{\"colorbar\":{\"outlinewidth\":1,\"tickcolor\":\"rgb(36,36,36)\",\"ticks\":\"outside\"}},\"type\":\"scattercarpet\"}],\"scattergeo\":[{\"marker\":{\"colorbar\":{\"outlinewidth\":1,\"tickcolor\":\"rgb(36,36,36)\",\"ticks\":\"outside\"}},\"type\":\"scattergeo\"}],\"scattergl\":[{\"marker\":{\"colorbar\":{\"outlinewidth\":1,\"tickcolor\":\"rgb(36,36,36)\",\"ticks\":\"outside\"}},\"type\":\"scattergl\"}],\"scattermapbox\":[{\"marker\":{\"colorbar\":{\"outlinewidth\":1,\"tickcolor\":\"rgb(36,36,36)\",\"ticks\":\"outside\"}},\"type\":\"scattermapbox\"}],\"scattermap\":[{\"marker\":{\"colorbar\":{\"outlinewidth\":1,\"tickcolor\":\"rgb(36,36,36)\",\"ticks\":\"outside\"}},\"type\":\"scattermap\"}],\"scatterpolargl\":[{\"marker\":{\"colorbar\":{\"outlinewidth\":1,\"tickcolor\":\"rgb(36,36,36)\",\"ticks\":\"outside\"}},\"type\":\"scatterpolargl\"}],\"scatterpolar\":[{\"marker\":{\"colorbar\":{\"outlinewidth\":1,\"tickcolor\":\"rgb(36,36,36)\",\"ticks\":\"outside\"}},\"type\":\"scatterpolar\"}],\"scatter\":[{\"fillpattern\":{\"fillmode\":\"overlay\",\"size\":10,\"solidity\":0.2},\"type\":\"scatter\"}],\"scatterternary\":[{\"marker\":{\"colorbar\":{\"outlinewidth\":1,\"tickcolor\":\"rgb(36,36,36)\",\"ticks\":\"outside\"}},\"type\":\"scatterternary\"}],\"surface\":[{\"colorbar\":{\"outlinewidth\":1,\"tickcolor\":\"rgb(36,36,36)\",\"ticks\":\"outside\"},\"colorscale\":[[0.0,\"#440154\"],[0.1111111111111111,\"#482878\"],[0.2222222222222222,\"#3e4989\"],[0.3333333333333333,\"#31688e\"],[0.4444444444444444,\"#26828e\"],[0.5555555555555556,\"#1f9e89\"],[0.6666666666666666,\"#35b779\"],[0.7777777777777778,\"#6ece58\"],[0.8888888888888888,\"#b5de2b\"],[1.0,\"#fde725\"]],\"type\":\"surface\"}],\"table\":[{\"cells\":{\"fill\":{\"color\":\"rgb(237,237,237)\"},\"line\":{\"color\":\"white\"}},\"header\":{\"fill\":{\"color\":\"rgb(217,217,217)\"},\"line\":{\"color\":\"white\"}},\"type\":\"table\"}]},\"layout\":{\"annotationdefaults\":{\"arrowhead\":0,\"arrowwidth\":1},\"autotypenumbers\":\"strict\",\"coloraxis\":{\"colorbar\":{\"outlinewidth\":1,\"tickcolor\":\"rgb(36,36,36)\",\"ticks\":\"outside\"}},\"colorscale\":{\"diverging\":[[0.0,\"rgb(103,0,31)\"],[0.1,\"rgb(178,24,43)\"],[0.2,\"rgb(214,96,77)\"],[0.3,\"rgb(244,165,130)\"],[0.4,\"rgb(253,219,199)\"],[0.5,\"rgb(247,247,247)\"],[0.6,\"rgb(209,229,240)\"],[0.7,\"rgb(146,197,222)\"],[0.8,\"rgb(67,147,195)\"],[0.9,\"rgb(33,102,172)\"],[1.0,\"rgb(5,48,97)\"]],\"sequential\":[[0.0,\"#440154\"],[0.1111111111111111,\"#482878\"],[0.2222222222222222,\"#3e4989\"],[0.3333333333333333,\"#31688e\"],[0.4444444444444444,\"#26828e\"],[0.5555555555555556,\"#1f9e89\"],[0.6666666666666666,\"#35b779\"],[0.7777777777777778,\"#6ece58\"],[0.8888888888888888,\"#b5de2b\"],[1.0,\"#fde725\"]],\"sequentialminus\":[[0.0,\"#440154\"],[0.1111111111111111,\"#482878\"],[0.2222222222222222,\"#3e4989\"],[0.3333333333333333,\"#31688e\"],[0.4444444444444444,\"#26828e\"],[0.5555555555555556,\"#1f9e89\"],[0.6666666666666666,\"#35b779\"],[0.7777777777777778,\"#6ece58\"],[0.8888888888888888,\"#b5de2b\"],[1.0,\"#fde725\"]]},\"colorway\":[\"#1F77B4\",\"#FF7F0E\",\"#2CA02C\",\"#D62728\",\"#9467BD\",\"#8C564B\",\"#E377C2\",\"#7F7F7F\",\"#BCBD22\",\"#17BECF\"],\"font\":{\"color\":\"rgb(36,36,36)\"},\"geo\":{\"bgcolor\":\"white\",\"lakecolor\":\"white\",\"landcolor\":\"white\",\"showlakes\":true,\"showland\":true,\"subunitcolor\":\"white\"},\"hoverlabel\":{\"align\":\"left\"},\"hovermode\":\"closest\",\"mapbox\":{\"style\":\"light\"},\"paper_bgcolor\":\"white\",\"plot_bgcolor\":\"white\",\"polar\":{\"angularaxis\":{\"gridcolor\":\"rgb(232,232,232)\",\"linecolor\":\"rgb(36,36,36)\",\"showgrid\":false,\"showline\":true,\"ticks\":\"outside\"},\"bgcolor\":\"white\",\"radialaxis\":{\"gridcolor\":\"rgb(232,232,232)\",\"linecolor\":\"rgb(36,36,36)\",\"showgrid\":false,\"showline\":true,\"ticks\":\"outside\"}},\"scene\":{\"xaxis\":{\"backgroundcolor\":\"white\",\"gridcolor\":\"rgb(232,232,232)\",\"gridwidth\":2,\"linecolor\":\"rgb(36,36,36)\",\"showbackground\":true,\"showgrid\":false,\"showline\":true,\"ticks\":\"outside\",\"zeroline\":false,\"zerolinecolor\":\"rgb(36,36,36)\"},\"yaxis\":{\"backgroundcolor\":\"white\",\"gridcolor\":\"rgb(232,232,232)\",\"gridwidth\":2,\"linecolor\":\"rgb(36,36,36)\",\"showbackground\":true,\"showgrid\":false,\"showline\":true,\"ticks\":\"outside\",\"zeroline\":false,\"zerolinecolor\":\"rgb(36,36,36)\"},\"zaxis\":{\"backgroundcolor\":\"white\",\"gridcolor\":\"rgb(232,232,232)\",\"gridwidth\":2,\"linecolor\":\"rgb(36,36,36)\",\"showbackground\":true,\"showgrid\":false,\"showline\":true,\"ticks\":\"outside\",\"zeroline\":false,\"zerolinecolor\":\"rgb(36,36,36)\"}},\"shapedefaults\":{\"fillcolor\":\"black\",\"line\":{\"width\":0},\"opacity\":0.3},\"ternary\":{\"aaxis\":{\"gridcolor\":\"rgb(232,232,232)\",\"linecolor\":\"rgb(36,36,36)\",\"showgrid\":false,\"showline\":true,\"ticks\":\"outside\"},\"baxis\":{\"gridcolor\":\"rgb(232,232,232)\",\"linecolor\":\"rgb(36,36,36)\",\"showgrid\":false,\"showline\":true,\"ticks\":\"outside\"},\"bgcolor\":\"white\",\"caxis\":{\"gridcolor\":\"rgb(232,232,232)\",\"linecolor\":\"rgb(36,36,36)\",\"showgrid\":false,\"showline\":true,\"ticks\":\"outside\"}},\"title\":{\"x\":0.05},\"xaxis\":{\"automargin\":true,\"gridcolor\":\"rgb(232,232,232)\",\"linecolor\":\"rgb(36,36,36)\",\"showgrid\":false,\"showline\":true,\"ticks\":\"outside\",\"title\":{\"standoff\":15},\"zeroline\":false,\"zerolinecolor\":\"rgb(36,36,36)\"},\"yaxis\":{\"automargin\":true,\"gridcolor\":\"rgb(232,232,232)\",\"linecolor\":\"rgb(36,36,36)\",\"showgrid\":false,\"showline\":true,\"ticks\":\"outside\",\"title\":{\"standoff\":15},\"zeroline\":false,\"zerolinecolor\":\"rgb(36,36,36)\"}}},\"shapes\":[{\"line\":{\"color\":\"#CFD8DC\",\"width\":2},\"type\":\"line\",\"x0\":6.326837062835693,\"x1\":6.326837062835693,\"y0\":-1.7164664268493652,\"y1\":18.096206665039062},{\"line\":{\"color\":\"#9E9E9E\",\"width\":2},\"type\":\"line\",\"x0\":-3.3795976638793945,\"x1\":16.03327178955078,\"y0\":8.18986988067627,\"y1\":8.18986988067627}],\"annotations\":[{\"showarrow\":false,\"text\":\"D1\",\"x\":-3.3795976638793945,\"y\":8.18986988067627,\"yshift\":10},{\"showarrow\":false,\"text\":\"D2\",\"x\":6.326837062835693,\"xshift\":10,\"y\":18.096206665039062}],\"title\":{\"font\":{\"size\":22,\"color\":\"Black\"},\"text\":\"\\u003cb\\u003eDocuments and Topics\\u003c\\u002fb\\u003e\",\"x\":0.5,\"xanchor\":\"center\",\"yanchor\":\"top\"},\"width\":1200,\"height\":750,\"xaxis\":{\"visible\":false},\"yaxis\":{\"visible\":false}},                        {\"responsive\": true}                    ).then(function(){\n",
       "                            \n",
       "var gd = document.getElementById('f9c7f3f9-3b43-4c76-a029-4a94e94ac15a');\n",
       "var x = new MutationObserver(function (mutations, observer) {{\n",
       "        var display = window.getComputedStyle(gd).display;\n",
       "        if (!display || display === 'none') {{\n",
       "            console.log([gd, 'removed!']);\n",
       "            Plotly.purge(gd);\n",
       "            observer.disconnect();\n",
       "        }}\n",
       "}});\n",
       "\n",
       "// Listen for the removal of the full notebook cells\n",
       "var notebookContainer = gd.closest('#notebook-container');\n",
       "if (notebookContainer) {{\n",
       "    x.observe(notebookContainer, {childList: true});\n",
       "}}\n",
       "\n",
       "// Listen for the clearing of the current output cell\n",
       "var outputEl = gd.closest('.output');\n",
       "if (outputEl) {{\n",
       "    x.observe(outputEl, {childList: true});\n",
       "}}\n",
       "\n",
       "                        })                };            </script>        </div>"
      ]
     },
     "metadata": {},
     "output_type": "display_data"
    }
   ],
   "source": [
    "from umap import UMAP\n",
    "\n",
    "reduced_embeddings = UMAP(n_neighbors=10, n_components=2, min_dist=0.0, metric='cosine').fit_transform(embeddings)\n",
    "\n",
    "fig = topic_model.visualize_documents(docs, reduced_embeddings=reduced_embeddings)\n",
    "fig.show()"
   ]
  },
  {
   "cell_type": "code",
   "execution_count": 21,
   "id": "f14522bb-aea4-4d8f-ba9a-a222dd67c74d",
   "metadata": {},
   "outputs": [],
   "source": [
    "#necessary installations\n",
    "import requests\n",
    "import pandas as pd\n",
    "from sklearn.feature_extraction.text import CountVectorizer, TfidfTransformer\n",
    "import nltk\n",
    "from nltk.corpus import stopwords\n",
    "from nltk.stem import SnowballStemmer\n",
    "import string\n",
    "import numpy as np\n",
    "import matplotlib.pyplot as plt\n",
    "import seaborn as sns\n",
    "from sklearn.metrics.pairwise import cosine_similarity\n",
    "from wordcloud import WordCloud\n",
    "from sklearn.metrics import confusion_matrix\n",
    "import seaborn as sns\n",
    "import matplotlib.pyplot as plt\n",
    "import numpy as np\n",
    "from sklearn.cluster import KMeans\n",
    "from sklearn.preprocessing import LabelEncoder\n",
    "import os"
   ]
  },
  {
   "cell_type": "code",
   "execution_count": 22,
   "id": "6833ed0f-ea8e-4ca1-bde8-599ca14cd32e",
   "metadata": {},
   "outputs": [],
   "source": [
    "data = data.rename(columns={\n",
    "    \"Are you self-employed?\": \"self_employed\",\n",
    "    \"How many employees does your company or organization have?\": \"num_employees\",\n",
    "    \"Is your employer primarily a tech company/organization?\": \"employer_tech\",\n",
    "    \"Is your primary role within your company related to tech/IT?\": \"role_tech\",\n",
    "    \"Does your employer provide mental health benefits as part of healthcare coverage?\": \"mh_benefits\",\n",
    "    \"Do you know the options for mental health care available under your employer-provided coverage?\": \"mh_options_known\",\n",
    "    \"Has your employer ever formally discussed mental health (for example, as part of a wellness campaign or other official communication)?\": \"mh_formal_discussion\",\n",
    "    \"Does your employer offer resources to learn more about mental health concerns and options for seeking help?\": \"mh_resources_available\",\n",
    "    \"Is your anonymity protected if you choose to take advantage of mental health or substance abuse treatment resources provided by your employer?\": \"anonymity_protected\",\n",
    "    \"If a mental health issue prompted you to request a medical leave from work, asking for that leave would be:\": \"mh_leave_request_difficulty\",\n",
    "    \"Do you think that discussing a mental health disorder with your employer would have negative consequences?\": \"mh_discussion_neg_conseq_employer\",\n",
    "    \"Do you think that discussing a physical health issue with your employer would have negative consequences?\": \"phys_health_neg_conseq_employer\",\n",
    "    \"Would you feel comfortable discussing a mental health disorder with your coworkers?\": \"mh_comfort_coworkers\",\n",
    "    \"Would you feel comfortable discussing a mental health disorder with your direct supervisor(s)?\": \"mh_comfort_supervisor\",\n",
    "    \"Do you feel that your employer takes mental health as seriously as physical health?\": \"mh_vs_phys_health_importance\",\n",
    "    \"Have you heard of or observed negative consequences for co-workers who have been open about mental health issues in your workplace?\": \"mh_neg_conseq_observed\",\n",
    "    \"Do you have medical coverage (private insurance or state-provided) which includes treatment of  mental health issues?\": \"mh_coverage\",\n",
    "    \"Do you know local or online resources to seek help for a mental health disorder?\": \"mh_local_online_resources\",\n",
    "    \"If you have been diagnosed or treated for a mental health disorder, do you ever reveal this to clients or business contacts?\": \"mh_reveal_clients\",\n",
    "    \"If you have revealed a mental health issue to a client or business contact, do you believe this has impacted you negatively?\": \"mh_neg_impact_clients\",\n",
    "    \"If you have been diagnosed or treated for a mental health disorder, do you ever reveal this to coworkers or employees?\": \"mh_reveal_coworkers\",\n",
    "    \"If you have revealed a mental health issue to a coworker or employee, do you believe this has impacted you negatively?\": \"mh_neg_impact_coworkers\",\n",
    "    \"Do you believe your productivity is ever affected by a mental health issue?\": \"mh_productivity_effect\",\n",
    "    \"If yes, what percentage of your work time (time performing primary or secondary job functions) is affected by a mental health issue?\": \"mh_work_time_affected_pct\",\n",
    "    \"Do you have previous employers?\": \"previous_employers\",\n",
    "    \"Have your previous employers provided mental health benefits?\": \"prev_mh_benefits\",\n",
    "    \"Were you aware of the options for mental health care provided by your previous employers?\": \"prev_mh_options_known\",\n",
    "    \"Did your previous employers ever formally discuss mental health (as part of a wellness campaign or other official communication)?\": \"prev_mh_formal_discussion\",\n",
    "    \"Did your previous employers provide resources to learn more about mental health issues and how to seek help?\": \"prev_mh_resources_available\",\n",
    "    \"Was your anonymity protected if you chose to take advantage of mental health or substance abuse treatment resources with previous employers?\": \"prev_anonymity_protected\",\n",
    "    \"Do you think that discussing a mental health disorder with previous employers would have negative consequences?\": \"prev_mh_neg_conseq\",\n",
    "    \"Do you think that discussing a physical health issue with previous employers would have negative consequences?\": \"prev_phys_neg_conseq\",\n",
    "    \"Would you have been willing to discuss a mental health issue with your previous co-workers?\": \"prev_mh_comfort_coworkers\",\n",
    "    \"Would you have been willing to discuss a mental health issue with your direct supervisor(s)?\": \"prev_mh_comfort_supervisor\",\n",
    "    \"Did you feel that your previous employers took mental health as seriously as physical health?\": \"prev_mh_vs_phys_health_importance\",\n",
    "    \"Did you hear of or observe negative consequences for co-workers with mental health issues in your previous workplaces?\": \"prev_mh_neg_conseq_observed\",\n",
    "    \"Would you be willing to bring up a physical health issue with a potential employer in an interview?\": \"interview_phys_health\",\n",
    "    \"Why or why not?\": \"interview_phys_health_reason\",\n",
    "    \"Would you bring up a mental health issue with a potential employer in an interview?\": \"interview_mh\",\n",
    "    \"Why or why not?.1\": \"interview_mh_reason\",\n",
    "    \"Do you feel that being identified as a person with a mental health issue would hurt your career?\": \"mh_identification_career_impact\",\n",
    "    \"Do you think that team members/co-workers would view you more negatively if they knew you suffered from a mental health issue?\": \"mh_neg_view_coworkers\",\n",
    "    \"How willing would you be to share with friends and family that you have a mental illness?\": \"mh_share_family_friends\",\n",
    "    \"Have you observed or experienced an unsupportive or badly handled response to a mental health issue in your current or previous workplace?\": \"mh_bad_response_observed\",\n",
    "    \"Have your observations of how another individual who discussed a mental health disorder made you less likely to reveal a mental health issue yourself in your current workplace?\": \"mh_obs_reduce_disclosure\",\n",
    "    \"Do you have a family history of mental illness?\": \"family_history_mh\",\n",
    "    \"Have you had a mental health disorder in the past?\": \"mh_history\",\n",
    "    \"Do you currently have a mental health disorder?\": \"mh_current\",\n",
    "    \"If yes, what condition(s) have you been diagnosed with?\": \"mh_diagnosed_conditions\",\n",
    "    \"If maybe, what condition(s) do you believe you have?\": \"mh_possible_conditions\",\n",
    "    \"Have you been diagnosed with a mental health condition by a medical professional?\": \"mh_diagnosed_pro\",\n",
    "    \"If so, what condition(s) were you diagnosed with?\": \"mh_diagnosed_conditions_pro\",\n",
    "    \"Have you ever sought treatment for a mental health issue from a mental health professional?\": \"mh_treatment_sought\",\n",
    "    \"If you have a mental health issue, do you feel that it interferes with your work when being treated effectively?\": \"mh_effective_treatment_work_effect\",\n",
    "    \"If you have a mental health issue, do you feel that it interferes with your work when NOT being treated effectively?\": \"mh_ineffective_treatment_work_effect\",\n",
    "    \"What is your age?\": \"age\",\n",
    "    \"What is your gender?\": \"gender\",\n",
    "    \"What country do you live in?\": \"country_live\",\n",
    "    \"What US state or territory do you live in?\": \"us_state_live\",\n",
    "    \"What country do you work in?\": \"country_work\",\n",
    "    \"What US state or territory do you work in?\": \"us_state_work\",\n",
    "    \"Which of the following best describes your work position?\": \"work_position\",\n",
    "    \"Do you work remotely?\": \"work_remote\"\n",
    "})\n"
   ]
  },
  {
   "cell_type": "code",
   "execution_count": 23,
   "id": "2d14d9ee-4356-4943-87be-705d1f37ac7f",
   "metadata": {},
   "outputs": [
    {
     "name": "stderr",
     "output_type": "stream",
     "text": [
      "[nltk_data] Downloading package stopwords to\n",
      "[nltk_data]     /Users/rohanakurathi/nltk_data...\n",
      "[nltk_data]   Package stopwords is already up-to-date!\n"
     ]
    }
   ],
   "source": [
    "import nltk\n",
    "nltk.download('stopwords')\n",
    "\n",
    "text_cols = [\n",
    "    'interview_phys_health_reason',\n",
    "    'interview_mh_reason',\n",
    "    'mh_reveal_clients',\n",
    "    'mh_share_family_friends',\n",
    "    'mh_identification_career_impact',\n",
    "    'mh_effective_treatment_work_effect',\n",
    "    'mh_ineffective_treatment_work_effect'\n",
    "]\n",
    "\n",
    "data['document'] = data[text_cols].fillna('').apply(lambda row: ' '.join(row), axis=1)\n",
    "\n",
    "# Tokenize + clean\n",
    "stop_words = set(stopwords.words('english'))\n",
    "stemmer = SnowballStemmer('english')\n",
    "tokenizer = CountVectorizer().build_tokenizer()\n",
    "\n",
    "def process_tokens(tokens):\n",
    "    cleaned_tokens = []\n",
    "    for token in tokens:\n",
    "        token = token.lower()\n",
    "        token = token.translate(str.maketrans('', '', string.punctuation))\n",
    "        if token and token not in stop_words:\n",
    "            cleaned_tokens.append(stemmer.stem(token))\n",
    "    return cleaned_tokens\n",
    "\n",
    "# Apply\n",
    "data['tokens'] = data['document'].apply(tokenizer)\n",
    "data['processed_tokens'] = data['tokens'].apply(process_tokens)\n",
    "data['cleaned_text'] = data['processed_tokens'].apply(lambda tokens: ' '.join(tokens))\n",
    "\n",
    "# Final docs list\n",
    "docs = data['cleaned_text'].tolist()"
   ]
  },
  {
   "cell_type": "code",
   "execution_count": 24,
   "id": "a99e7fac-1e36-46ff-83ef-b8bdcc935590",
   "metadata": {},
   "outputs": [
    {
     "data": {
      "application/vnd.jupyter.widget-view+json": {
       "model_id": "290da3eb02d24ef5aa4bef3f2c18d09a",
       "version_major": 2,
       "version_minor": 0
      },
      "text/plain": [
       "Batches:   0%|          | 0/45 [00:00<?, ?it/s]"
      ]
     },
     "metadata": {},
     "output_type": "display_data"
    },
    {
     "name": "stdout",
     "output_type": "stream",
     "text": [
      "    Topic  Count                             Name  \\\n",
      "0      -1     77    -1_relev_open_applic_somewhat   \n",
      "1       0    963           0_issu_job_health_open   \n",
      "2       1     39            1_rare_think_open_yes   \n",
      "3       2     36       2_neutral_think_yes_applic   \n",
      "4       3     32  3_honesti_person_applic_privaci   \n",
      "5       4     23      4_applic_think_yes_somewhat   \n",
      "6       5     23   5_sometim_mayb_somewhat_matter   \n",
      "7       6     23    6_neutral_mayb_irrelev_applic   \n",
      "8       7     22     7_ill_applic_mental_appropri   \n",
      "9       8     21        8_rare_mayb_open_somewhat   \n",
      "10      9     21      9_applic_mayb_somewhat_open   \n",
      "11     10     19    10_sometim_yes_somewhat_think   \n",
      "12     11     17  11_mayb_somewhat_sometim_pertin   \n",
      "13     12     17    12_sometim_yes_somewhat_think   \n",
      "14     13     16        13_applic_think_yes_gonna   \n",
      "15     14     16            14_yes_open_got_think   \n",
      "16     15     15        15_ill_applic_mental_mayb   \n",
      "17     16     15    16_applic_import_mayb_unknown   \n",
      "18     17     14        17_rare_mayb_sheet_balanc   \n",
      "19     18     12          18_applic_idk_yes_think   \n",
      "20     19     12     19_applic_mayb_somewhat_open   \n",
      "\n",
      "                                       Representation  \\\n",
      "0   [relev, open, applic, somewhat, mayb, sometim,...   \n",
      "1   [issu, job, health, open, think, sometim, ment...   \n",
      "2   [rare, think, open, yes, somewhat, woud, categ...   \n",
      "3   [neutral, think, yes, applic, sometim, matter,...   \n",
      "4   [honesti, person, applic, privaci, busi, mayb,...   \n",
      "5   [applic, think, yes, somewhat, open, xxx, plac...   \n",
      "6   [sometim, mayb, somewhat, matter, open, irrele...   \n",
      "7   [neutral, mayb, irrelev, applic, sometim, reas...   \n",
      "8   [ill, applic, mental, appropri, think, yes, ga...   \n",
      "9   [rare, mayb, open, somewhat, risk, hurt, discr...   \n",
      "10  [applic, mayb, somewhat, open, unfortun, unsur...   \n",
      "11  [sometim, yes, somewhat, think, open, na, appl...   \n",
      "12  [mayb, somewhat, sometim, pertin, open, busi, ...   \n",
      "13  [sometim, yes, somewhat, think, open, smile, p...   \n",
      "14  [applic, think, yes, gonna, open, im, risk, ch...   \n",
      "15  [yes, open, got, think, sometim, mr, ask, mark...   \n",
      "16  [ill, applic, mental, mayb, day, harder, discl...   \n",
      "17  [applic, import, mayb, unknown, ramif, test, o...   \n",
      "18  [rare, mayb, sheet, balanc, sometim, open, som...   \n",
      "19  [applic, idk, yes, think, somewhat, open, corr...   \n",
      "20         [applic, mayb, somewhat, open, , , , , , ]   \n",
      "\n",
      "                                  Representative_Docs  \n",
      "0   [relev relev somewhat open yes think would app...  \n",
      "1   [think bring type health issu interview unless...  \n",
      "2   [somewhat open yes think would rare often, som...  \n",
      "3   [neutral yes think would applic applic, neutra...  \n",
      "4   [person none busi percept think would applic s...  \n",
      "5   [somewhat open yes think would applic applic, ...  \n",
      "6   [somewhat open mayb sometim sometim, never don...  \n",
      "7   [neutral mayb applic applic, neutral mayb appl...  \n",
      "8   [applic mental ill yes think would applic appl...  \n",
      "9   [somewhat open mayb rare often, somewhat open ...  \n",
      "10  [somewhat open mayb applic applic, somewhat op...  \n",
      "11  [somewhat open yes think would sometim sometim...  \n",
      "12  [somewhat open mayb sometim often, somewhat op...  \n",
      "13  [somewhat open yes think would sometim often, ...  \n",
      "14  [open yes think would applic applic, open yes ...  \n",
      "15  [open yes think would never sometim, open yes ...  \n",
      "16  [applic mental ill mayb applic applic, applic ...  \n",
      "17  [open mayb applic applic, open mayb applic app...  \n",
      "18  [somewhat open mayb rare sometim, somewhat ope...  \n",
      "19  [applic somewhat open yes think would applic a...  \n",
      "20  [somewhat open mayb applic applic, somewhat op...  \n",
      "Topic 0: issu, job, health, open, think, sometim, mental, somewhat, applic, yes\n",
      "Topic 1: rare, think, open, yes, somewhat, woud, categor, unsur, everi, sometim\n",
      "Topic 2: neutral, think, yes, applic, sometim, matter, retali, market, imagin, judgement\n",
      "Topic 3: honesti, person, applic, privaci, busi, mayb, open, disqualifi, somewhat, privat\n",
      "Topic 4: applic, think, yes, somewhat, open, xxx, place, matter, time, \n",
      "Topic 5: sometim, mayb, somewhat, matter, open, irrelev, held, embarrass, know, come\n",
      "Topic 6: neutral, mayb, irrelev, applic, sometim, reason, set, start, current, pick\n",
      "Topic 7: ill, applic, mental, appropri, think, yes, gaug, screen, set, appli\n",
      "Topic 8: rare, mayb, open, somewhat, risk, hurt, discrimin, come, life, everyday\n",
      "Topic 9: applic, mayb, somewhat, open, unfortun, unsur, offer, fear, know, feel\n",
      "Topic 10: sometim, yes, somewhat, think, open, na, applic, , , \n",
      "Topic 11: mayb, somewhat, sometim, pertin, open, busi, posit, qualif, prejudic, skill\n",
      "Topic 12: sometim, yes, somewhat, think, open, smile, presumpt, afraid, excus, come\n",
      "Topic 13: applic, think, yes, gonna, open, im, risk, check, equip, provid\n",
      "Topic 14: yes, open, got, think, sometim, mr, ask, mark, share, like\n",
      "Topic 15: ill, applic, mental, mayb, day, harder, disclosur, activ, anyon, prejudic\n",
      "Topic 16: applic, import, mayb, unknown, ramif, test, open, environ, support, quiet\n",
      "Topic 17: rare, mayb, sheet, balanc, sometim, open, somewhat, good, afraid, someth\n",
      "Topic 18: applic, idk, yes, think, somewhat, open, correct, frown, work, like\n",
      "Topic 19: applic, mayb, somewhat, open, , , , , , \n"
     ]
    },
    {
     "data": {
      "text/html": [
       "<div>            <script src=\"https://cdnjs.cloudflare.com/ajax/libs/mathjax/2.7.5/MathJax.js?config=TeX-AMS-MML_SVG\"></script><script type=\"text/javascript\">if (window.MathJax && window.MathJax.Hub && window.MathJax.Hub.Config) {window.MathJax.Hub.Config({SVG: {font: \"STIX-Web\"}});}</script>                <script type=\"text/javascript\">window.PlotlyConfig = {MathJaxConfig: 'local'};</script>\n",
       "        <script charset=\"utf-8\" src=\"https://cdn.plot.ly/plotly-3.0.1.min.js\"></script>                <div id=\"990e142f-83a9-4e7d-90f4-e071d57c0546\" class=\"plotly-graph-div\" style=\"height:750px; width:1200px;\"></div>            <script type=\"text/javascript\">                window.PLOTLYENV=window.PLOTLYENV || {};                                if (document.getElementById(\"990e142f-83a9-4e7d-90f4-e071d57c0546\")) {                    Plotly.newPlot(                        \"990e142f-83a9-4e7d-90f4-e071d57c0546\",                        [{\"hoverinfo\":\"text\",\"hovertext\":[\"open mayb often sometim\",\"fear negat consequ taboo subject somewhat open yes think would rare often\",\"applic somewhat open mayb applic applic\",\"think relev unless relev somewhat open think would applic applic\",\"immedi disqualif immedi dismiss open yes think would applic applic\",\"relev posit relev posit somewhat open mayb applic applic\",\"would bring relev perform somewhat open yes think would applic applic\",\"bare know peopl probabl rather give reason turn see upsid bare know peopl probabl rather give reason turn see upsid somewhat open applic sometim\",\"somewhat open yes think would never often\",\"none busi would affect decis regardless polici would affect decis regardless polici somewhat open yes think would never never\",\"believ play open card someon problem better get awar earli plenti altern reason most though probabl depend particular issu may affect work life applic neutral mayb applic applic\",\"would realli depend circumst would realli depend circumst matter somewhat open mayb rare sometim\",\"concept tangibl unavoid someth realli hidden employ clear posit stanc issu would reason talk otherwis may perceiv negat intang invis natur applic somewhat open mayb rare sometim\",\"general relev general relev somewhat open mayb sometim often\",\"depend acut issu depend acut problem somewhat open mayb applic applic\",\"applic somewhat open yes think would applic sometim\",\"open mayb sometim often\",\"relev abil programm relev abil programm open yes think would never rare\",\"open mayb sometim often\",\"applic somewhat open mayb applic applic\",\"open yes sometim often\",\"sure applic somewhat open mayb applic applic\",\"prefer keep noth hidden prefer keep noth hidden somewhat open mayb applic applic\",\"relev relev skill open mayb applic applic\",\"somewhat open mayb never sometim\",\"somewhat open mayb applic sometim\",\"protect disabl thing came random chronic condit recov somewhat open mayb sometim sometim\",\"relev relev somewhat open yes sometim often\",\"somewhat open mayb never sometim\",\"depend relev none busi weak most want talk strenght somewhat open mayb applic applic\",\"depend whether would put posit need ask accommod know need accommod also shame probabl shame sometim come open yes sometim often\",\"concern concern open yes think would often often\",\"sometim come open yes often often\",\"somewhat open yes think would never often\",\"relev relev somewhat open mayb sometim often\",\"somewhat open mayb never sometim\",\"open mayb never often\",\"might effect work seem accept embarass open mayb applic applic\",\"somewhat open mayb never sometim\",\"sometim come open never often\",\"seem relev earli would ask question get feel accept compani would first observ ask question get feel open accept compani somewhat open never often\",\"would uncomfort would uncomfort somewhat open mayb applic sometim\",\"fuck think issu problem mine see also analog bring black wife gay son applic open think would sometim never\",\"seen weak may chose anoth applic seen weak may chose anoth applic open think would sometim often\",\"somewhat open never sometim\",\"applic somewhat open mayb applic applic\",\"never come taboo somewhat open yes think would sometim sometim\",\"depend relev depend relev somewhat open yes think would applic applic\",\"sometim come open mayb often often\",\"somewhat open mayb never sometim\",\"somewhat open think would never often\",\"circumstanti circumstanti somewhat open mayb applic applic\",\"somewhat open mayb never sometim\",\"none busi impact abil work right sotuat talk mental issu sometim come open mayb rare rare\",\"privaci medic privaci somewhat open yes think would never never\",\"relev relev somewhat open yes think would applic applic\",\"somewhat open yes think would never often\",\"open think would never sometim\",\"negat feedback termin ridicul reduc chanc employ sometim come somewhat open yes applic sometim\",\"would concern consid posit would concern consid posit open yes think would sometim often\",\"would hold would hold applic somewhat open mayb sometim often\",\"busi busi would impact negat somewhat open yes think would applic applic\",\"usual relev somewhat open yes think would never often\",\"realli depend depend somewhat open mayb sometim often\",\"applic somewhat open mayb applic applic\",\"would depend relev would know would somewhat open mayb applic applic\",\"relev also relev somewhat open yes think would applic applic\",\"somewhat open think would never often\",\"applic somewhat open mayb applic applic\",\"relev relev somewhat open think would applic applic\",\"open think would never sometim\",\"one thing filter one thing filter open mayb applic often\",\"want count compar candid want held compar candid open think would sometim often\",\"applic somewhat open mayb applic applic\",\"potenti discrimin potenti discrimin applic mental ill yes think would rare sometim\",\"seem unnecessari seem unnecessari asinin bring unnecessari convers ever open think would often sometim\",\"somewhat open think would never sometim\",null],\"marker\":{\"color\":\"#CFD8DC\",\"opacity\":0.5,\"size\":5},\"mode\":\"markers+text\",\"name\":\"other\",\"showlegend\":false,\"x\":{\"dtype\":\"f4\",\"bdata\":\"+1uzQP2E4kDw3mRA7LTVQK4910BKpsxA17DXQB5SyEBBzxNBJKvWQPUh3EADTbhADUGoQPWX1ED8QrpAGebXQOPCtEA0luJAc4+0QJy5ZEDJSRNBq0pdQIrzs0DayNJAUPiUQJGhr0ApHhZA51HUQJbllECNp75A1evKQM8Jkz\\u002fmpRRBy9YTQShC00CPhpRADPaxQP9kY0Az7ZRAcWoUQWyVzEB+tKNAWEkdQTeM2UCcAyFBHmJlQA8i40ARNtZAsBSyQDPylECf+RNBU4dqQBXxlEC6ECZAddDDQN4P1kAf\\u002fRNBAAUeQQ1WqEA0i5E\\u002fnbaiQFR71kC9jhNBrkO4QCPoZEDcjF1AjJbWQDLgE0FA7mRA+5\\u002fUQEL6HUHB97RA6KANQZXGZEC0D6XA4s8aQSERJEF3psFA\"},\"y\":{\"dtype\":\"f4\",\"bdata\":\"XzoNQfcLN0BVuD9BncryQDDC2UAOHPFAy+fxQCu11UBbusRAsr7fQAc22UAerc1AuH7aQPya9UDC7t5Ah1nmQEurDUHYXOtAkpUNQSTCP0GyB9BAZvVBQdzj+kDPX\\u002fNAktcBQTsp90BjGINAHFf2QFfeAUHicuBAJbfVQJ1RRkASHc9AT7PEQLMb+EByowFBJ98MQeDaP0Gb3AFBHLvOQN1x10Bnlf1AQMzYQF1pzUCWGtZAIY8\\u002fQc+TN0AltfFANscMQQ3ZAUEjhMRA0GQ+QanbAUElp6tAu\\u002frpQHdb8kBnd8RABgHZQE1q2kCwmkRAnvD9QP3Y4ECcP8RADzjOQOa1P0HEs0FBdzfyQHGkxEBOsz9ByB7zQGv12ECYKQ5BmVbLQLK9P0E+7HG+7rDJQH8K20B55+9A\"},\"type\":\"scattergl\"},{\"hoverinfo\":\"text\",\"hovertext\":[\"affect job would wait hire discuss manag affect job would discuss manag hire somewhat open yes think would rare sometim\",\"issu affect work would want employ know time hire avoid conflict later issu affect work would want employ know time hire avoid conflict later applic somewhat open mayb applic rare\",\"person think could negat impact candidaci posit neutral mayb rare sometim\",\"direct impact abil perform duti day fair honest physic would impact perform fair honest somewhat open mayb applic applic\",\"feel dishonest disclos thing front mental health stigma mean feel uncomfort discuss mental issu front somewhat open mayb sometim often\",\"would depend situat exampl offic cat would problem allerg cat otherwis probabl say anyth unless specif discuss desk ergonom want worri go spend fortun special desk chair etc think would hire knew depress issu would impact negat somewhat open yes sometim often\",\"would effect perform fear lose job sometim come open mayb rare often\",\"health issu want coverag import front ensur elig coverag depend issu employ somewhat open think would applic applic\",\"feel best candid interview especi regard employ might abl accommod physic mental health issu feel best candid interview howev mental health issu still stigma like play ear balanc decis whether bring interview base tone thorough interview somewhat open mayb never rare\",\"get job somewhat open yes sometim often\",\"feel like would potenti hire mental health issu somewhat open yes think would rare often\",\"depend natur issu may impact abil work would concern would negat affect chanc employ somewhat open yes think would sometim often\",\"physic health issu requir special equip like stand desk like would bring otherwis deem necessari know would discuss mental health issu interview trend toward offer most review mental health cover insur provid open rare often\",\"feel need abl physic job demand consid feel need abl physic mental job demand consid sometim come somewhat open mayb never sometim\",\"unless visibl activ notic influenc behaviour think none busi none busi unless activ limit activ point probabl interview anyway somewhat open yes think would rare often\",\"appar accept mental issu fear would think unstabl risk would impact negat somewhat open yes think would sometim often\",\"suffer anyth particular serious hard imagin feel would compel state like affect abil work would want upfront affect abil work might avoid mention straight away mitig chanc negat concequ see somewhat open mayb applic applic\",\"even physic health issu abl work fear would negat consequ somewhat open mayb rare sometim\",\"expect discrimin would discrimin would impact negat somewhat open yes think would often sometim\",\"depend issu affect job 100 unnecessari keep alreadi current job almost get job made offer told would difficult travel thing almost revok offer reason revok made clear mental health issu certain felt legal compel made extrem uncomfort asham made still mad even though kind get standpoint even made turn doctor note keep file none busi bare impact job made huge deal somewhat open yes think would rare rare\",\"would impact negat somewhat open yes think would sometim often\",\"unless direct affect abil job irrelev reason problem busi alon somewhat open yes think would sometim sometim\",\"serious worri would prevent hire anyth diagnos specif wrt anxieti depress sometim take serious somewhat open mayb sometim sometim\",\"might think negat affect job perform less like hire hire good salari think would much decreas likelihood get hire somewhat open yes think would applic sometim\",\"risk get hire open yes sometim sometim\",\"want work employ handl fact cowork might health issu want work employ handl fact cowork might health issu applic mental ill think would rare sometim\",\"want view differ like need special treatment want give someon even one reason hire get job hard enough applic somewhat open yes think would rare often\",\"fear would disadvantag result physic would seen negat somewhat open think would never sometim\",\"would impact negat somewhat open mayb applic applic\",\"part hire decis part hire process somewhat open mayb applic applic\",\"go imped abil work sure effect abil work yes otherwis busi somewhat open think would applic applic\",\"might reduc chanc get hire even though expect ever offici name reason applic turn might reduc chanc get hire even though expect ever offici name reason applic turn somewhat open yes think would applic often\",\"import potenti employ full idea potenti employe make inform decis allow interview full disclosur make inform decis somewhat open mayb sometim sometim\",\"physic health social consid legitim fear stigma consid incompet neutral mayb sometim sometim\",\"want hinder chanc get job think physic health issu relat job want think less neutral yes think would rare often\",\"believ would negat influenc decis whether hire believ would negat influenc decis whether hire open yes think would never sometim\",\"privileg choosi employ would want work bring issu problemat privileg choosi employ would want work bring issu problemat applic mental ill think would applic applic\",\"physic health issu new employ need awar hire would depend type mh iddu somewhat open mayb never sometim\",\"affect abil work yes feel still pervas stigma around mental health issu could use somewhat open yes think would sometim often\",\"depend way would never get job would impact negat somewhat open yes think would sometim often\",\"still stigma around mental health issu interview percept skill capabl perform requir task role may alter even though job yet neutral mayb applic applic\",\"would bring issu would affect job might affect job within month best world employ see posit even direct discrimin neutral mayb applic applic\",\"worri potenti discrimin associ take time work concern would view unreli liabil applic somewhat open mayb applic applic\",\"stigma say rsi heart condit etc get equat mental compet make look bad somewhat open yes sometim often\",\"typic common eye physic health issu stigma attach like mani mental health issu kind mental health issu tend leav lot peopl end sort label concern mention generalis anxieti issu may lead believ confid worker almost certain basic fear proper understand lot peopl incred ignor anxieti end tell worri part day day may make one feel anxious etc somewhat open think would rare often\",\"want honest front potenti employ worri reaction would one understand would count select process open yes think would sometim often\",\"afraid seem weak much stigma way would get job somewhat open mayb sometim often\",\"physic health less stigma employ may open other somewhat open think would sometim often\",\"would lower chanc get job would certain mean job would impact negat somewhat open yes think would rare often\",\"risk get job risk get job somewhat open yes think would applic applic\",\"job go requir lot travel physic health issu might impact belief abil complet job never know last thing want interview armchair psychologist tell need tri harder open yes never often\",\"relev hire deicit would want bring anyth like could negat influenc hire decis somewhat open yes think would rare sometim\",\"depend context think would depend mental health issu felt would impact interview applic applic mental ill mayb applic applic\",\"sometim even work connect topic come interview current job want surpris want know blocker get hire might becom issu day want sure know get reaction get glimps get open sometim often\",\"want affect get job reason somewhat open yes think would sometim often\",\"seem appropri interview get job would impact negat somewhat open yes think would rare sometim\",\"relev would affect duti relev would affect duti exampl situat would need team awar condit help deal acut episod would make sure team proper equip sometim come somewhat open mayb sometim sometim\",\"would feel dishonest share known physic issu mental issu still consid bit taboo troubl express feel great depend feel moment interview somewhat open mayb applic applic\",\"need accommod feel upfront honest much stigma applic mental ill yes think would rare often\",\"depend issu would effect perform job hire think also depend would effect abil perform job task somewhat open think would applic applic\",\"would impact negat open yes think would applic sometim\",\"might impact servic need provid might impact servic need provid open mayb applic applic\",\"want add caus bias hire decid one way anoth want add caus bias hire decid one way anoth somewhat open mayb applic applic\",\"peopl seem understand physic health issu outsid control think would question whether could perform job well candid without mental health issu somewhat open mayb applic sometim\",\"stigma somewhat open yes think would rare rare\",\"would affect abil work believ would relev stigma somewhat open yes think would applic applic\",\"prefer focus benefit bring prefer focus benefit bring applic mental ill yes think would applic applic\",\"affect outcom physic affect outcom open mayb sometim often\",\"depend affect job felt would impact product would impact negat somewhat open mayb never sometim\",\"depend issu issu requir signific amount time would worri would impact chanc get job depend issu open think would applic applic\",\"would impact negat somewhat open yes think would rare sometim\",\"want bring anyth may trigger unconsci bias therefor hinder chanc receiv job mental health issu still taboo subject somewhat open yes rare sometim\",\"would expect unconsci bias someon whose employ involv extra risk medic leav accommod expens even employ best intent might unintent favor easier hire stigma open yes think would often often\",\"compani equip accommod physic health issu look bad think compani abl will deal mental health issu feel like bring cottl negat affect decis hire neutral mayb applic applic\",\"risk lose consider posit could contribut employ decis legal neutral yes think would applic applic\",\"alway result turn posit interview believ would result hire would impact negat somewhat open yes think would sometim often\",\"depend compani cultur would afraid may come weak leav bad impress somewhat open mayb applic applic\",\"obvious disabl need bring obvious concern definit stigma around mental health issu seem like one would disqualifi immedi somewhat open yes think would rare sometim\",\"employ need awar treat equal respect know theoret condit expect uphold kind legal requir provid help support depend issu may relev might requir support pertin probabl would somewhat open mayb never sometim\",\"affect work none busi affect work none busi matter open mayb applic sometim\",\"would bear job reason physic somewhat open mayb applic applic\",\"worri look cos would realli want job might get employ someon mental health issu open yes think would sometim sometim\",\"physic health direct impact product factor consid valu proposit employ physic health problem less stigmat sometim come somewhat open yes often often\",\"depend vibe interview depend vibe type work open rare often\",\"long term chronic constant headach well imped work time time need awar okay suffer mental health issu warrant discuss sure somewhat open mayb applic applic\",\"benefit risk benefit risk would impact negat neutral mayb rare often\",\"feel like would effect chanc get job also none busi unless effect perform feel like would effect chanc get job also none busi unless effect perform open mayb sometim sometim\",\"mention could caus troubl afterward reason could caus troubl keep silent somewhat open mayb applic applic\",\"depend relev affect job way also felt like could trust person interview see answer relat trust neutral mayb applic applic\",\"would rather hire someon sick reason cost less product open yes think would often sometim\",\"know front illeg hire someon physic impair issu unless obvious issu somewhat open mayb never often\",\"feel busi although take consider hire let honest physic feel busi although take consider hire let honest somewhat open mayb applic applic\",\"mobil problem requir access offic special accomod want make sure avail might allud guis work life balanc someth valid reason hire qualiti brain would extrem detriment call question open yes think would applic often\",\"make sure appropri accommod could made probabl hire somewhat open yes think would applic often\",\"less chanc get job think less chanc get job plus negat refer futur open yes rare often\",\"job market competit job market competit applic somewhat open yes think would sometim often\",\"depend relev would work perform depend like impact work perform open mayb applic applic\",\"stigma physic health issu like mental health stigma associ mental health color judgement potenti candid somewhat open mayb rare often\",\"chronic lower back pain due narrow disk would problem tell employ felt lift would part job feel like employ understand prospect employe might admit battl bout depress anxieti somewhat open yes think would never sometim\",\"well physic issu harder hide mental condit depend trust person sometim come somewhat open mayb sometim applic\",\"employ made clear expect crunch time would want discuss stress relat issu somewhat open mayb rare often\",\"chronic physic health issu often affect hire decis even though employ say diabet observ true assum chronic mental health issu like chronic physic health issu would often affect hire decis even though employ say diabet observ discrimin physic health side thing applic somewhat open mayb sometim often\",\"probabl get job mention physic issu lost job mental health issu would look bad sometim come neutral yes think would sometim often\",\"would negat affect chanc gain employ imposs talk mental health issu peopl know trust know react experi never posit favour reaction discuss mental health issu somewhat open yes applic often\",\"knowledg make easier know job right abl handl neutral yes think would sometim sometim\",\"simpli import awar situat would physic issu mental issu bit stigmat everyon know one want deal broken leg big deal broken mind abstract applic applic mental ill mayb applic applic\",\"may get job depend physic issu explain explicit would deem unproduct eye would better choos stabe individu somewhat open yes think would sometim sometim\",\"would bring physic issu impact work abil eg carpal tunnel consid margin person would riski would impact negat somewhat open mayb rare often\",\"fear would caus employ factor addit health insur expens fear employ would consid addit health insur expens would doubt abil execut work somewhat open yes rare sometim\",\"best front stuff possibl employ awar easier judg attitud toward posit negat accept posit physic health reason realli coupl fact nowaday feel even import highlight mental health issu rather sweep carpet open think would applic applic\",\"relev would requir chang work hour someth like would bring relev interview relev work hour similar sometim come somewhat open think would rare often\",\"think could lead hire think would definit lead hire neutral mayb never sometim\",\"would import employ understand requir demand physic health issu might bring mental health issu affect current work open mayb rare sometim\",\"start job hide someth like realli bad way get trust employe respons physic one open mayb never sometim\",\"make differ would certain affect outcom interview somewhat open mayb rare sometim\",\"stigma sometim come somewhat open yes think would rare often\",\"would bring affect abil job affect abil job neutral think would rare sometim\",\"employ reaction would tell lot type compani join reaction would tell lot type employ matter open yes think would never rare\",\"requir accommod afraid discrimin fear discrimin somewhat open yes think would rare often\",\"would depend natur job physic health issu would direct impact abil work issu relev would disclos firm belief would negat consequ somewhat open yes think would applic applic\",\"would limit prevent job interfer work schedul prospect job high stress could trigger anxieti would impact negat somewhat open yes think would sometim often\",\"complet depend relev mental health issu impact work appli matter somewhat open mayb applic applic\",\"previous punish take care physic health bike accid want situat would bring issu interview mani peopl still disbeliev adult adhd thing suspect potenti employ problem might tri suss take job open mayb sometim often\",\"scare would separ interviewe rather keep hidden come forward later come know somewhat open yes think would applic applic\",\"depend would affect job even necessarili bring case made hire like pregnanc exampl know well enough understand full context behind issu sometim come somewhat open mayb rare sometim\",\"correct open base healthi wirk relationship sometim come somewhat open sometim sometim\",\"none bizniz none binniz would impact negat somewhat open yes think would never sometim\",\"worri would affect chanc employ worri would affect chanc employ somewhat open mayb rare often\",\"depend work impact toler understand sometim come somewhat open yes think would sometim often\",\"want feel like would burden want think perform job count crunch time open yes often often\",\"prevent perform certain aspect job think interview need know idea someth comfort deal essenti told may may act like retard day fault xyz diseas fault good pitch sell neutral mayb sometim sometim\",\"hire probabl bet hire somewhat open yes think would sometim often\",\"would requir adapt part employ abl take job even though unjustifi stigma attach mental health issu physic limit somewhat open mayb applic often\",\"fear unintent discrimin negat bias fear negat bias benefit bring open yes think would rare applic\",\"might affect get job open mayb applic applic\",\"seem wrong one want hire crazi person somewhat open yes rare often\",\"thought would impact chanc get job bring unless ask would feel would negat impact chanc ask would impact negat somewhat open yes think would rare sometim\",\"feel like would make negat impress interview make awkward dynam offer time would accept brought googl interview will make allow disclos seem yield posit outcom open yes think would sometim often\",\"brain surgeri 1997 bring pretti much job top hell want look dna first day sad day slipperi slope opinion chanc get job much less bring mental health issu somewhat open yes think would rare often\",\"would avoid much possibl put best possibl light would expect hire honest mental health issu somewhat open yes think would rare sometim\",\"would depend relev discuss bring unless necessari would depend relev discuss bring unless necessari open mayb never often\",\"deal want work would bring felt go negat impact work knew would fair share front open think would sometim sometim\",\"affect abil perform work would unlik affect outcom interview may affect outcom interview reluct bring applic mental ill mayb applic applic\",\"physic stuff happen stigma attach physic health issu like mental health issu tech industri attitud work long hour expect peer arrog judgement etc present cultur intoler past sever year notic improv plus privat person open mayb applic sometim\",\"long job realli busi somewhat open mayb never often\",\"well physic health issu would littl bear work might know ill posit employ most like ignor enough understand side usual talk strength versus weak thing open yes think would rare often\",\"interview advic read health issu brought offer stage interview good rapport interview might bring interview otherwis mention offer job answer physic health issu somewhat open mayb rare sometim\",\"think issu need discuss interview think topic need discuss interview somewhat open mayb sometim often\",\"yes would impact work meant need flex schedul similar accomod open think would never sometim\",\"fear discrimin fear reject discrimin somewhat open yes think would never often\",\"think still frown upon chanc get job mention thing interview would slim opinion answer someon hear mental health issu want risk hire peopl weird open yes think would applic applic\",\"physic impair tradit stigmat far less judgement result talk behind back compar mental stigmat uncomfort parti mental instabl frown upon technic role somewhat open yes think would rare sometim\",\"denial job oportun denial job neutral mayb applic applic\",\"health issu would negat effect get job would negat hire process somewhat open yes think would rare sometim\",\"might impact negat might impact negat would impact negat open yes think would sometim sometim\",\"stigma open yes think would sometim often\",\"relev abil code also protect eu law disabl stigma around abil job cope etc sometim come somewhat open yes rare sometim\",\"impact work would requir special accommod would mention employ typic make accommod mental health point bring somewhat open yes think would sometim often\",\"think would caus discrimin get pass job get job open yes think would applic sometim\",\"depend safe made feel interview process might feel might reflect bad realli need job might want risk reason somewhat open mayb rare sometim\",\"know depend employ whether public privat sector applic mental ill think would applic applic\",\"may affect work disclos protect disabl law came would would bring unprompt matter open mayb applic sometim\",\"alway coach appropri discuss anyth like may advers impact interview see somewhat open mayb never often\",\"busi unless would impact job way allow care know know somewhat open yes think would applic applic\",\"attitud come packag mention skill still skill see situat could feel open mention nonetheless tell employ feel physic applic mental ill think would sometim sometim\",\"would risk get job somewhat open yes think would applic sometim\",\"still much stigma attach physic health issu femal anatomi relat rather bring someth would affect chanc hire yes illeg discrimin way mean happen yeah somewhat open yes rare often\",\"relev job someth work around relev job someth work around open yes think would sometim sometim\",\"affect job perform know treat respect open yes think would never rare\",\"concern unless affect abil perform job would afraid would jeopard chanc neutral yes think would rare rare\",\"accomod need requir law believ would impact interview anyway posit could negat impact sometim come open yes think would never sometim\",\"fear lose feel would negetivli impact canidaci open yes think would rare sometim\",\"may inhibit chanc get posit may inhibit chanc get posit neutral yes think would applic applic\",\"might reluct interview still bit stigma somewhat open mayb rare sometim\",\"yes relev duti posit otherwis necessari less like simpli general percept knowledg mental ill less wide understood instanc adult add might simpl explain wherea bipolar ii would longer discuss may avoid interview open mayb rare sometim\",\"fear receiv negat respons open mayb sometim often\",\"assum candid least second stage interview open limit import topic stage interview sinc made trought first wrong answer could caus negat result interview solicit responsibitliy dont know compani term cultur would feel uncomfort discuss somewhat open mayb applic applic\",\"depend whether might hinder modifi way work employ reason less like would impact negat neutral mayb rare sometim\",\"feel like would immedi associ product abil perform feel like thing equal potenti employ alway choos candid without mental health issu would impact negat open mayb sometim often\",\"sure would affect work depend would affect work somewhat open yes think would applic applic\",\"would depend physic health issu one treat differ base health issu employ might turn inform still promin stigma mental health anyon mental ill crazi peopl would brush understand like asthma ill take medic live normal live understand somewhat open yes think would rare often\",\"physic health issu obvious appear would judg risk somewhat open yes think would sometim often\",\"upfront case ada act appli employ someth would open unless felt safe could determin short amount time interview open mayb sometim often\",\"would bring physic health issu compar mental health issu feel prejudic like said think mani prejudic ignor mental health somewhat open yes think would applic applic\",\"due increas healthcar cost potenti would want know case potenti impact work would hesit due possibl stigma associ somewhat open mayb applic applic\",\"may get hire may get hire somewhat open yes think would sometim sometim\",\"physic health issu chronic would nervous would make like reject applic open yes rare sometim\",\"could impact outcom interview would alter outcom interview open yes think would applic applic\",\"depend potenti impact job relev would impact work neutral mayb applic applic\",\"would bring requir special equip job felt need explain job despit physic issu comfort enough explain discuss mental health feel may make weird interview open think would applic sometim\",\"feel earli process guess would depend serious work serious compani hire see somewhat open yes think would applic rare\",\"would worri would want hire somewhat open mayb sometim often\",\"want think work want think work matter somewhat open mayb sometim sometim\",\"depend interview would relev point serious interest job answer physic open mayb sometim sometim\",\"want work compani support someon condit want work employ hire someon condit open mayb rare rare\",\"consid privat protect inform given absolut need want abl control employ abl use inform would never help get job could use negat somewhat open yes rare sometim\",\"noth abil perform role noth abil perform role mental ill somewhat open think would sometim often\",\"would rather convers qualif focus interview would rather convers qualif focus interview somewhat open mayb rare sometim\",\"felt import feel like would negat effect share person experienc negat treatment disclos mental ill want avoid ever somewhat open yes sometim often\",\"would read room would depend much feel employ expect stigma open mayb applic sometim\",\"would becom obvious later come interview seem privat physic issu somewhat open mayb applic applic\",\"honest upfront show respect futur employ see stumbl block hire probabl good fit long run anyway reason open think would sometim often\",\"would depend issu whether think would impact work depend whether feel would impact abil work regular basi neutral think would rare sometim\",\"afraid stigma seen less capabl somewhat open yes think would rare often\",\"get accomod risk job secur open mayb sometim sometim\",\"fear fail interview fear fail interview somewhat open yes think would applic applic\",\"person matter feel mention impact abil work employ would refus hire opinion somewhat open yes think would applic applic\",\"mani organ look reason reject candid interview process mani organ look reason reject candid interview process neutral mayb applic often\",\"relev job yes relev job yes think discuss mental health job interview riski negat percept could creat discuss physic health issu open mayb sometim often\",\"would depend whether issu would affect need workplac bring necessari bring reason physic applic mental ill mayb applic applic\",\"depend affect product bad experi need trust new peopl open open yes sometim sometim\",\"everi one work healthi safe place depend place mental health issu applic applic mental ill mayb applic applic\",\"pretti obvious crutch tend rais question difficult enough time physic disabl open mental health issu time would serv purpos open yes think would sometim often\",\"would fear would affect chanc get job uncomfort discuss mental health issu outsid immedi famili somewhat open mayb sometim often\",\"would depend tone interview attitud individu interview feel would indefinit compromis chanc hire neutral yes think would sometim often\",\"work environ might requir improv least adapt like lighter place bigger screen special desk think convers receiv normal least normal speak money advantag feel peopl most scare mental diseas afraid classifi crazi taken serious would take risk applic mental ill yes think would applic applic\",\"would impact work way mayb stigma applic mental ill yes think would applic applic\",\"depend abil job bear discuss need accommod job may stigma fear get job somewhat open mayb sometim often\",\"even talk health issu acquaint close famili friend reason physic health person applic mental ill yes think would applic applic\",\"depend issu might lower chanc employ physic issu applic somewhat open mayb applic applic\",\"depend natur health issu may feel uncomfort share someon close depend natur health issu may feel uncomfort share someon close somewhat open think would applic applic\",\"may unconsci affect decis may unconsci affect decis applic mental ill yes think would applic applic\",\"affect job concern believ would conscious unconsci bias would impact negat open yes think would sometim often\",\"risk get posit risk get posit somewhat open yes think would sometim often\",\"depend issu chronic acut etc acut probabl even mention chronic might concern would bias hire worri would bias hire applic mental ill yes think would applic applic\",\"need accommod part work obvious refer might diffus tension would bring otherwis would absolut way could help lot lot lot way could hurt even though protect non discrimin law someon use decis make virtual recours sometim come open mayb sometim often\",\"prefer use interview opportun learn potenti employ showcas skill answer prefer use interview opportun learn potenti employ showcas skill want wast valuabl time minutia health somewhat open yes think would applic applic\",\"unless direct impact job busi valu privaci would like result negat opinion abil perform job might also communic beyond person perform interview potenti employ busi effect abil job valu privaci would impact negat somewhat open yes think would rare sometim\",\"alway concern someon els would get hire pure conveni employ deal physic health issu lead mental health issu seem like immedi go seen far sever problemat etc neutral mayb rare often\",\"felt issu would interfer perform would bring without know employ stanc mental health issu would reluct anyth might jeopard interview applic mental ill yes think would applic applic\",\"go someth im deal time someth notic yes feel employ would accept physic health issu mental health issu current opiat addict long live use year still mess day think would ever comfort share employ document anywher addict would reason share thing employ peopl realiz someth wrong brain chemistri terribl person want way great work current job year feel like told employ would discrimin eventu let go somewhat open yes think would never sometim\",\"physic health issu impact abil job perspect see reason discuss instanc hemorrhoid still job compani need know arm mechan accid may difficulti job requir use hand would probabl tell employ interview hand would feel immedi stigmat candidaci would dismiss somewhat open yes think would sometim often\",\"none busi unless need accommod work general peopl much stigma want find kind want get hire open yes think would sometim often\",\"stigma open yes think would rare often\",\"health issu potenti liabil would hesit mention unless direct bear job respons ad stigma mental health issu seen serious therefor bring would consid problem incur therefor least big liabil physic problem open yes think would never often\",\"depend employ mood flow convers noth set stone convers like fluid depend person matter somewhat open think would sometim sometim\",\"tend want avoid person interview felt physic health problem relev work want discuss trust potenti employ hold mental health somewhat open mayb applic sometim\",\"fear pass healthier candid fear would disqualifi mind sometim come somewhat open mayb sometim sometim\",\"depend interview stage whether requir accommod would know somewhat open yes think would sometim sometim\",\"concern would count interview stage almost certain count interview stage somewhat open yes often often\",\"prefer keep health inform privat long activ affect job perform time interview need establish trust employ would will discuss mental health especi activ affect work perform time interview somewhat open mayb rare often\",\"depend physic issu posit appli open think would rare often\",\"would impact negat somewhat open mayb applic applic\",\"stigma worri get job somewhat open yes think would rare often\",\"bring issu decreas chanc employ howev feel would strong effect line work might bring valu honesti want employ fals pretenc howev think mental health issu would serious jeapordis chanc employ tech industri somewhat open yes think would sometim often\",\"bring interview issu requir accommod bring felt comfort also would need accommod probabl lot less like bring physic health issu somewhat open mayb applic applic\",\"issu long impact task interview theoret sinc current fortun enough suffer mental ill question come awar would sever deterior futur work atmospher peopl know advanc applic somewhat open yes think would applic applic\",\"depend whether health issu would actual affect job imped perform feel stabl medic right bring accept job high anxieti occur open think would rare often\",\"would depend issu job privat treat success would elimin chanc get job matter somewhat open yes think would never often\",\"could impact willing hire even subconsci stigma somewhat open yes think would applic applic\",\"health issu sever enough affect work wait reveal job start could easili result resent card tabl bit taboo mental health issu last interview mention work well interest task let call light case adhd problemat somewhat open mayb sometim sometim\",\"decid factor choos hire physic issu need point go effect job absolut need know start feel like huge hr issu less know better honest dyslex learn disabl effect preform job open yes think would never often\",\"would depend job appli would someth like need special chair would along line need cater random day either one howev know respons would treat reason know whether employ view mental health physic health somewhat open mayb sometim sometim\",\"want attach negat stigma interview want attach negat stigma somewhat open mayb sometim often\",\"actual employ requir drug test prescript doctor medic condit would test posit steroid disclos front surpris general howev disclos unless necessari would difficult think peopl understand bias mental health issu physic one concern find anoth pretext hire somewhat open mayb sometim sometim\",\"fear social stigma sometim come somewhat open mayb rare sometim\",\"risk discard job interview risk neglect promot risk fire risk discard job interview risk neglect promot risk fire somewhat open yes think would sometim often\",\"interview might uninform impact disabl abil job stigma surround mental health issu must trust someon share info somewhat open mayb sometim often\",\"everyon open mind regardless law peopl attach stigma condit affect mind think concern thing cannot see would concern may affect decis make suppos want job anyon let affect still feel mental health issu carri stigma mani physic one though feel psoriasi physic condit sure see real stigma close mind individu open mayb sometim often\",\"think bring type health issu interview unless offer health care case bring issu physic health one interview depend whether would affect job somewhat open think would applic applic\",\"felt would reduc chanc get job time would imped abil job mention reason felt would reduc chanc get job time would imped abil job mention somewhat open mayb applic applic\",\"would assum legal protect issu aris discuss would worri negat stereotyp affect interview decis applic mental ill mayb applic applic\",\"affect perform job kind depend situat applic mental ill mayb applic applic\",\"could seen potenti problem futur stigma open yes think would sometim often\",\"would affect futur work relev work applic mental ill mayb applic applic\",\"may affect product employ know reason may affect product applic mental ill yes applic applic\",\"might get job duh somewhat open mayb applic applic\",\"less like get job less like get job somewhat open yes think would applic applic\",\"feel like busi impact abil work physic issu feel like busi impact abil work howev mental health issu alway confin certain area life spill feel like need job would leav mental issu could repres tip point choos anoth equal qualifi candid somewhat open yes think would never sometim\",\"seem obvious tri get job tri put best foot forward admit mental health issu physic health issu make look less desir employe neutral yes think would rare often\",\"could seen weak reason product could definit seen weak reason product someon without issu somewhat open yes think would never sometim\",\"physic health issu may impact daili job feel need divulg prospect employ feel uncomfort discuss issu someon met somewhat open mayb applic sometim\",\"affect work someth obvious would talk would scare would think affect work worth hire somewhat open yes think would sometim sometim\",\"obvious thing employ cant tell wont risk wont get job would impact negat somewhat open yes never often\",\"feel relev get hire feel like relev get hire somewhat open think would applic applic\",\"affect avail afraid stigma somewhat open mayb sometim often\",\"legal bear hire process legal bear hire process neutral yes think would rare sometim\",\"would sour interview experi work most small team one would consid small team could excus away good person fit would impact negat somewhat open yes think would sometim often\",\"would depend posit site vs remot even vibe interview felt low risk bring topic open mayb sometim sometim\",\"could seen weak potenti employ could see person tri take advantag healthcar plan fear regard weak unabl perform job task requir time fake reason somewhat open yes think would applic often\",\"someth would need accommod want stigma prescrib idea affect chanc get hire open mayb applic sometim\",\"peopl like associ mental health drama might feel like make workplac hostil open mayb applic applic\",\"depend relev work believ would impact negat would impact negat somewhat open yes think would rare sometim\",\"would bring ask interview think issu may influenc perform would bring interview think issu may influenc perform matter somewhat open yes think would rare often\",\"issu could help accommod rise level protect disabl accommod would swing decis work compani hard imagin ever go well progress peopl see mental health issu less real better frame need like sleep nutrit doctor appoint requir protect physic health vagu way somewhat open yes think would rare often\",\"illeg ask unless relev job perform reason bring relev abil perform job respons somewhat open mayb sometim often\",\"feel would big negat would assum lot thing take lot educ describ effect mental ill requir nuanc interpret affect candid abil job somewhat open yes sometim often\",\"fear discrimin racial minor physic health issu fear discrimin racial minor mental health issu somewhat open yes think would often often\",\"sure stigma open rare often\",\"could hurt chanc could hurt chanc open yes think would applic applic\",\"afaik interview recommend discuss thing may impair one avail might caus excess drain insur benefit much might caus employ choos anoth candid conserv area employ want hear someon drama risk expos pay client might impair bottom line somewhat open yes think would often often\",\"could hire someon without issu nobodi want hire crazi person open yes think would sometim often\",\"point basic surviv problem bring food tabl pay rent case get job would keep mouth shut work hard like case would take liberti tri get comfort work posit easi ask right better work environ basic life need met safe regardless work case liberti emot problem sick surviv physic applic neutral yes think would sometim often\",\"could affect work would requir would otherwis id tri keep dont want burden label somewhat disabl would impact negat open yes think would often often\",\"fear would use reason hire fear might make prospect employ uncomfort hire somewhat open yes sometim sometim\",\"feel like physic health issu perceiv less control person compar mental health somewhat open yes think would applic applic\",\"employ need know would need support order best work employ need support order get best work possibl open mayb applic applic\",\"id afraid discuss health issu interview would use privat inform ask none busi somewhat open yes think would rare often\",\"comfort speak anyth health relat work want set bad preced open mayb rare sometim\",\"possibl receiv job much baggag make think complain might think unstabl unreli somewhat open yes think would applic sometim\",\"impact perform would get job applic open mayb sometim often\",\"would want potenti employ understand extent physic abil limit front prevent misunderstand road physic would want potenti employ understand manifest mental health issu front prevent misunderstand somewhat open think would applic sometim\",\"expect cover standard hr best practic plus legal social oblig clear show weak chang social situat interview fail would impact negat neutral yes sometim often\",\"multipl chronic ill advis lawyer never bring interview situat discrimin difficult prove social stigma lack protect law difficulti prove discrimin somewhat open yes think would rare sometim\",\"might prejudic hire decis would definit hire somewhat open yes often often\",\"wari see potenti time appoint etc negat think employ would straight discount neutral yes think would sometim often\",\"would impact negat open yes think would sometim often\",\"illeg effect job offer illeg effect job offer somewhat open mayb rare sometim\",\"bias bias somewhat open yes think would rare often\",\"felt need special accommod could restrict abil perform job assist provid trust trust employ need help would bring applic somewhat open mayb applic applic\",\"seem relev help bring interview seem benefici bring interview applic mental ill yes think would applic applic\",\"impact could impact abil job right know think relev interview somewhat open mayb applic rare\",\"know good typic take manag physic health issu person matter involv potenti employ natur work mental health issu far impact thought need account would involv potenti employ ensur work somewhat open mayb rare sometim\",\"would depend whether thought might impact job depend job somewhat open mayb rare sometim\",\"sure relev want overshar person life job interview definit want discount abil job well mental health much stigma around physic problem somewhat open think would never sometim\",\"risk implicit overt bias risk implicit overt bias somewhat open think would rare rare\",\"unless physic handicap want problem affect judgement interview place discuss kind problem interview sell base merit somewhat open mayb rare sometim\",\"might affect abil get offic futur stigma involv want think would abl job regardless physic condit open yes think would never often\",\"depend physic issu impact abil work depend much social stigma say add easier thsn say depress somewhat open yes think would rare rare\",\"would want preclud employ base someth irrelev abil complet job potenti lot doctor appoint drawback employ weigh anoth applic stronger base would want applic view poorer light compar peer somewhat open yes think would applic applic\",\"would uncomfort work anyon discuss physic health occasion depress well vers potenti negat work relat effect troubl focus potenti oversleep etc knew employ look employe upon lot respons would entrust would probabl discuss depress neutral mayb sometim often\",\"depend physic health issu mani compani tech worship dev rock star stereotyp long hour sacrific work balanc held higher regard work dev bone allow resist work mani hour label rebellion work job strateg plan day afford lose ptos result forc go work even asthma sick basic half dead make work need save day realli need stigma make wari bring mental health issu initi interview feel like get know job peopl determin comfort open mental health feel like riski bring interview parti know one anoth well enough anxieti depress also includ focus motiv issu feel like mention thing like would give impress good employe get thing done howev true respons meet deadlin long work product flexibl schedul somewhat open mayb sometim often\",\"well cours employ want hire peopl signific physic health issu especi first issu come iv fill afghanistan countri ask countri would make easi identifi ask person question anonym survey well cours employ want hire peopl signific physic health issu especi first issu come hand would comfort put specif condit hour time amount requir mental health look employ psycholog counsellor see work neutral yes think would sometim often\",\"would bring obvious relev would reluct bring mental health issu fear could reduc chanc get job somewhat open mayb applic sometim\",\"someth affect work yes stigma open mayb applic applic\",\"even educ mental health still stigma negat outcom work place one known medic open yes never sometim\",\"complet depend upon issu would potenti look like whine matter somewhat open mayb sometim sometim\",\"might affect perform might affect relationship co worker sometim come open think would sometim sometim\",\"physic health issu potenti interfer work life must upfront india imo mental ill look upon accept way mental health issu would skeptic talk might affect prospect neutral yes think would applic applic\",\"would impact negat somewhat open yes think would never often\",\"bring would bad option place posit less like get job done advis colleg told bring anyth might negat interview would impact negat somewhat open yes think would sometim often\",\"would got impress count interview seem empathet scenario condit might like mean time away work address issu would want know polici place employe physic health issu particular chronic ill person thing talk mental health issu harder talk forc tell someth otherwis might never know unlik physic ailment could visibl becom visibl time without consent share somewhat open mayb applic often\",\"might affect opinion feel would definit affect chanc accept somewhat open yes think would applic applic\",\"would kill job chanc would kill chanc job somewhat open yes think would rare often\",\"feel physic disabl decid factor someon potenti employ disclos mental ill front good way know employ stanc attitud toward mental ill would help decid employ busi would worth somewhat open think would applic applic\",\"stigma attach physic health ailment peopl view mental ill weak want employ prejud account depress open mayb rare often\",\"would like negat affect select status would like negat affect select status open mayb never rare\",\"thing like asthma access build social accept mention situat general lack understand suffici social norm appropri respond issu somewhat open yes rare often\",\"interview process elimin want give employ reason elimin physic issu someth clear protect law eg vision impair mobil issu would disclos think would put candid hard basket much easi justifi employ someon criteria mental ill actual signific factor therebi avoid accus discrimin somewhat open yes think would rare sometim\",\"long term issu would requir special accommod part would concern negat stigma somewhat open mayb applic applic\",\"rsi want think worth invest none busi affect work applic mental ill mayb rare sometim\",\"bias toward someth may relev work bias stigma somewhat open mayb rare sometim\",\"affect job perform would discuss would afraid bias decis make somewhat open mayb applic rare\",\"depend impact expect would disabl ssdi bipolar year ever abl interview need honest explain chasm resum also need seek employ disord understood accept outset would impact negat open yes often often\",\"field alreadi competit disadvantag plus none busi long serious affect work would one way ticket consider somewhat open yes think would applic applic\",\"want affect chanc get job want affect chanc get job alreadi woman person color would bring someth els make differ cultur fit big deal field somewhat open yes think would sometim sometim\",\"risk mot get job case thought would work often stigma somewhat open yes think would applic applic\",\"would depend specif issu impact work would mention otherwis would impact interview process neutral yes think would applic applic\",\"would want give interview reason disqualifi would want give reason disqualif somewhat open yes think would applic applic\",\"would requir accommod work add noth valu interview somewhat open mayb sometim often\",\"would depend job requir expect would depend job expect cultur expect applic mental ill mayb applic applic\",\"impact job would like bring toward end interview would need flexibl around want contend job think stigma around mental health also issu trust want share someon violat trust physic disabl transpar mental one also deem danger workplac somewhat open mayb never rare\",\"depend affect job yes would talk depend affect job anyway matter open mayb never sometim\",\"negat connot negat connot somewhat open mayb applic applic\",\"would probabl bring physic health issu like relev abil perform job would bring mental health issu interview would want negat affect hire decis someth open employ especi need care person day someth would bring attent interview open think would rare often\",\"fear get job fear get job somewhat open yes think would applic applic\",\"depend natur physic health issu whether chronic impact work almost case would discuss increas chanc discrimin discrimin somewhat open yes think would rare often\",\"unless relev job go job could realli physic health issu would bring intent get pregnant either could consid avoid stigma neutral yes think would rare often\",\"one differ competit want stigma neutral yes think would sometim often\",\"would depend natur physic health issu job role relev probabl import decid factor rough equival get tattoo forehead say hire somewhat open yes applic often\",\"physic accept depend issu depress stigma would impact negat applic mental ill yes think would rare sometim\",\"mayb second third interview first busi unless serious work togeth reason physic health busi straight mayb later interview somewhat open mayb sometim often\",\"mental health still view taboo somewhat open yes think would applic rare\",\"go hire head case goal get hire toss bin somewhat open yes think would rare often\",\"get job first keep secret essenti get hold job compani somewhat open yes sometim sometim\",\"dramat lower chanc success lose job certainti somewhat open yes applic applic\",\"although illeg want physic health issu weigh someon mind make decis whether hire although illeg want mental health issu weigh someon mind make decis whether hire somewhat open mayb applic applic\",\"depend charact depend level commit consid interview sometim come open mayb sometim often\",\"would feel import potenti employ know limit may abl job would consid someth privat would manag privat somewhat open yes think would applic applic\",\"potenti discrimin potenti discrimin somewhat open sometim sometim\",\"might think capabl work also migrant add employ offer job peopl mental health issu due stigma somewhat open yes think would rare often\",\"feel comfort discuss person health would want appear weak would want appear weak unstabl open think would never often\",\"would bring physic health issu interview believ would hinder possibl get job would bring mental health issu brought would talk somewhat open yes think would applic applic\",\"chronic physic ill partner ill would feel interview would like discount abil work effect feel necessari accommod would signific uncertain recept difficult determin interview experi percept mental ill applic mental ill mayb applic applic\",\"effect way work negat thing new boss effect way work negat thing new boss open mayb rare often\",\"would bring alreadi obvious would like affect perform feel mental health issu would someth want take account part hire process unless serious enough issu want work employ will make accommod issu somewhat open yes think would sometim sometim\",\"relev role illeg allow discrimin base thing uk somewhat open mayb never sometim\",\"could reduc hire abil even though may well take chanc see note physic discuss applic mental ill yes think would applic applic\",\"fibromyalgia still accept fulli medic communiti believ would handl well employ anybodi realli one person logic appli mental health respect understood well anyon see would advantag disclos somewhat open yes think would applic applic\",\"physic health issu unlik impact tech work easi accommod know potenti employ would react whether would feel accommod mental health issu would consid difficult somewhat open mayb sometim sometim\",\"physic health stigma attach cannot explain somewhat open think would rare rare\",\"depend whether would relev perform caus signific outag seem like would disqualifi bring troubl employ like want deal somewhat open yes think would often often\",\"relev fear discrimin somewhat open mayb sometim applic\",\"discrimin hire discrimin hire somewhat open yes rare often\",\"depend realli matter suffer heartburn crippl eat particular food drink main caffein poor eh life use bear work impact work way employ could accommod help reduc impact would cours discuss interview though matter point opinion ultim feel although third parti great help mental health troubl ultim perspect thing chang thus person battl sometim come open mayb rare often\",\"would afraid would negat impact chanc would afraid would negat impact chanc somewhat open mayb rare often\",\"short term temporari contract way would get job applic open think would applic applic\",\"honest anytim find issu relat physic health issu need clear right begin physic health issu open mayb sometim sometim\",\"could choos hire would impact negat somewhat open think would applic applic\",\"would illeg discrimin there someth back mind say anyth look anoth excus hire reason physic health issu somewhat open mayb applic applic\",\"like think would relev feel comfort talk mental health issu even less stranger interview open think would applic applic\",\"deaf obvious soon enough alreadi deaf lot work interview process alreadi open yes think would rare often\",\"illeg ask oblig offer inform see open yes think would applic sometim\",\"would impact perform bi polar mani peopl understand bi polar mass shooter night news far realiti bi polar peopl like say drive car must drunk driver would impact negat somewhat open yes think would sometim often\",\"would depend relev said issu job exampl feel need bring knee problem desk job interview chronic physic health issu would requir take break time would upfront would depend relev mental health issu would way effect life potenti job would much rather upfront need requir employ tri hide thought irrelev job probabl bring interview open mayb applic applic\",\"cos physic health problem cos lot crap head asham somewhat open yes rare sometim\",\"case affect well though could job reliabl case affect well though could job reliabl somewhat open yes think would applic sometim\",\"would bring physic health issu prospect employ find job requir task unabl complet safe attempt could caus injuri other think time would call work avail 24 set schedul caus far much stress life refus quit job reli method job quit promis schedul interview sometim come open think would rare often\",\"embarrass stigma would impact negat somewhat open yes think would sometim often\",\"middl age women coder feel alreadi two strike interview physic health mental health stigma attach applic neutral yes think would rare often\",\"someth actual relev job interview cours would bring thought relev job interview would bring somewhat open mayb applic applic\",\"depend health issu depend health issu neutral mayb applic applic\",\"issu would impact perform without form concess consider parti employ would otherwis like noth could mitig perform problem result mental health issu probabl discuss somewhat open mayb applic sometim\",\"depend comfort felt speak interview depend mention avenu approach embrac address physic health issu depend comfort felt speak interview depend mention avenu approach embrac address mental health issu depend mental health day week etc sometim come somewhat open mayb sometim often\",\"feel comfort enough interview major mental health issu depress bipolar disord ocd schizophrenia consid disabl afraid employ might discrimin call disabl peopl even feel comfort tell famili friend mental health issu somewhat open yes think would sometim often\",\"want get reject want fulli open build trust start job secret want get reject want fulli open build trust start job secret open mayb often often\",\"disclos cannot help get job disclos cannot help get job applic somewhat open mayb applic applic\",\"want know provid ergonom keyboard happi worker plug keyboard comput would want know manag support go work matter neutral think would applic applic\",\"surviv fittest mental one want ihr someon probabl highscor sick day techi main tool brain would fear peopl would see mental health issu maldunct valu abil less somewhat open yes think would sometim sometim\",\"would want work employ react negat physic health issu think good test ensur kind employ want work would want work employ react negat mental health issu think good test ensur kind employ want work somewhat open mayb applic applic\",\"depend kind physic health issu job exampl feel carpal tunnel would necessari bring go repetit task day would probabl mention upon offer allow opportun reconsider would also mention interest posit import let peopl know aspect job go difficult open think would applic applic\",\"might make less like hire cost health insur might make doubt reliabl perform less like hire sometim come somewhat open mayb sometim often\",\"would like would effect work reason effect work need know somewhat open think would rare often\",\"cannot enforc respect group individu everi place work care perform social integr illeg hire someon mental disord perfect legal understand hire indirect effect disord would gotten current job briught mental ill somewhat open yes think would often often\",\"would worri employ would consid problem liabil would worri employ would consid problem liabil somewhat open yes think would applic sometim\",\"bad idea would impact negat somewhat open yes often often\",\"potenti affect capabl job potenti affect capabl job open mayb rare often\",\"unless would affect abil perform duti health relev employ unless think would affect abil job none busi neutral yes think would applic applic\",\"come might bias potenti employ may bias employ applic mental ill yes think would applic applic\",\"fear would held applic somewhat open yes think would applic applic\",\"would impact relationship might adjust need work space exampl believ honesti front best approach would impact relationship might need certain freedom person space exampl believ honesti front best approach applic somewhat open mayb applic applic\",\"probabl mention hire knew safe worth case somehow impact hire process someth rather bring later open yes think would rare often\",\"would wish prejudic interview process would wish prejudic interview process somewhat open mayb applic sometim\",\"mental health issu manag outsid work most bring somewhat open think would rare often\",\"automat sort let face folk whether physic mental impair realiti would nice situat law two complet differ thing go back even part time fulltim employ want make sure least minimum requir met eg open plan offic similar nasti expect anyth naiv applic somewhat open yes think would sometim rare\",\"physic health issu would affect job yes would bring mental health issu would see problem still bring stigma attach mental health still great better yet imho matter somewhat open yes sometim sometim\",\"felt would decreas odd get posit probabl omit inform stigma mental ill someth sure feel employ would will look past interview alreadi woman view burden need leav childcar capabl job male counterpart ad addit burden mental health issu seem like stack card somewhat open mayb sometim often\",\"would probabl impact applic negat even admit reason basic seem like might earli relationship window person life employ applic neutral yes rare often\",\"depend relev job control reaction unlik physic disord better understood metal disord often less understood judg open yes think would never never\",\"could mean time etc employ need inform could mean time etc employ infomr somewhat open mayb sometim often\",\"affect abil someon preform job taboo somewhat open yes think would sometim applic\",\"want risk leav current job posit one thing could issu got way work need accommod would otherwis seem worth applic mental ill mayb applic applic\",\"could affect applic need know understand want work someon understand somewhat open yes think would sometim often\",\"would depend issu would impact abil fulfil role would also want feel employ best possibl provid person non requir inform see instanc believ would perceiv negat applic somewhat open yes think would applic applic\",\"would discuss issu health make work process effect bring main process bodi open think would applic applic\",\"depend physic issu consid common issu exampl amput perhap heart disord someth visibl other much negat stigma associ abl handl stress work especi startup somewhat open mayb rare often\",\"relev job relev job sometim come somewhat open yes think would rare sometim\",\"interview process involv check baggag door someplac feel comfort bring type thing hire want interview anyway trust check baggag door adhd general anxieti well manag enough time never worri anyway time proactiv bring current gig want new thing sudden bad way somewhat open think would rare often\",\"relev job depend health issu mental health issu may prevent clearanc issu riski option hire someon let go get secur clearanc neutral mayb sometim often\",\"employ would need awar limit could reason affect work perform employ awar issu could reason affect perform neutral mayb never sometim\",\"could affect work might bring worri get job somewhat open yes think would rare rare\",\"would depend job duti comfort person interview made feel peopl dont take mental health serious might think incap job open mayb sometim sometim\",\"want seen asset burden fear discrimin somewhat open yes think would often rare\",\"physic health issu alon relev work overcom issu yes mental health issu alon relev work overcom issu yes somewhat open mayb never sometim\",\"would rather bring someth unless sure would impact job alway concern peopl find easier turn candid still stigmat without obvious mention accept employ beforehand would worri would hidden hidden prejudic would worri written job applic mental ill yes think would applic rare\",\"depend issu affect work respons done issu talk somewhat open never never\",\"want risk job open yes think would applic sometim\",\"make less attract candid felt requir accommod even reluct make less attract candid somewhat open mayb rare often\",\"often import abl accomplish job yes would need discuss still stigma import though tough call applic mental ill yes think would applic applic\",\"might disregard due alreadi caus take sick day work would make perceiv weak someon cost money sick day somewhat open yes think would rare often\",\"depend role compani respons much depend line question lead natur line enquiri matter open yes sometim sometim\",\"want set expect front stigma somewhat open think would applic applic\",\"never situat like hard say answer might differ depend exact health issu situat experienc think would depend health issu comfort potenti employ somewhat open mayb applic applic\",\"die physic work beyond capac mental health seen issu employ neutral yes think would sometim sometim\",\"affect work alreadi minor tech definit get job also sick matter neutral yes think would rare sometim\",\"physic health someth stigma attach although mani place hire look way get rid get 100 product employ look way disqualifi even love web industri give one shit employe beyond extract applic open yes think would applic applic\",\"might affect work hour visit doctor etc would affect work somehow applic applic mental ill mayb applic applic\",\"person matter tri let effect work embarrass person issu neutral mayb never rare\",\"anyth would add complic addit load potenti employ seem negat ramif trust employ inform somewhat open yes think would rare often\",\"may affect hire manag decis bring although interview ensur employ good fit would consid option time may affect hire manag decis bring although interview ensur employ good fit would consid option time open yes think would sometim often\",\"want reason hire feel might color opinion everyth said somewhat open mayb applic applic\",\"expect hire expect hire would expect make known hire somewhat open yes sometim often\",\"least place work bank macho hardass cultur across board nonprofit spot budget tight everyon complain time hard hard untreat adhd depress anxieti hard come previous workplac never feel safe bring freelanc deal structur work hour etc realli realli struggl due isol freelanc real grind obamacar would complet screw semi screw also wish would ask survey caretak femal disabl take care elder mother development disabl brother never get discuss caretak famili someon break unabl work women sister daughter mother pleas work caretak survey question survey say water one help brother mother least father die penniless year wall street make million adhd alcohol depress master univers type ipo tech compani liberatarian yeah pleas get intersect survey landscap screw disabl gender well sooo survey miss anyth open question end two thing one adhd asset treat understood also final got coverag work 20 year ago put med bad reaction work get treat decad end crater worklif ten year wrong med realli mess along wrong dx open serious breakdown work fire immedi merci understand told go gone well defend becam homeless ok mess caus get poor medic treatment pretti run mill depress silicon valley time 30 femal space anyth less 120 perfect one women work sv time want poison well peopl prejud denial issu vulner find wish felt differ would impact negat somewhat open yes rare often\",\"better disclos someth like front case impact work prefer keep privat case employ discrimin would impact negat somewhat open yes think would rare rare\",\"eye condit requir medic leav yet determin futur point think would negat impact interview somewhat open yes think would applic applic\",\"fear stigma associ may treat differ hire somewhat open yes think would rare sometim\",\"may affect work may affect work employ may take serious depend ill somewhat open think would never sometim\",\"would comfort appear way vulner give employ chanc exercis bias would comfort appear way vulner give employ chanc exercis bias somewhat open mayb sometim often\",\"would depend issu employ stigma topic somewhat open think would applic applic\",\"issu stigma mental ill open yes think would sometim often\",\"would depend perceiv chanc get offer second interview interview realli want posit thought physic health issu might deter employ may choos bring ask outright though would lie desir job may trump willing disclos potenti issu somewhat open think would applic applic\",\"physic health issu would affect sort work without stop work altogeth depend interview go condit may may affect role somewhat open yes think would rare sometim\",\"affect abil perform job would bring would bring affect day day work otherwis probabl would stigma around somewhat open mayb rare sometim\",\"physic issu treat taboo creativ employ hire mind physic abil state employ hire mind applic applic mental ill yes think would applic applic\",\"unsur would react even good peopl unconci bias depend empathet interview certain job offer alreadi might caus bias unintent rais earli somewhat open think would applic sometim\",\"larg stigma peopl mental health issu open yes think would applic applic\",\"alreadi contenti situat simpli ask one day comfort ask sick day work home instead would think throw interview ask concess point work relationship would ensur would call back believ stigma around mental health issu sinc somewhat mysteri uncomfort ask sick day physic concess ask mental health concess would absolut question somewhat open yes rare often\",\"worri would reflect negat possibl hinder potenti candid would worri would hinder chanc potenti candid open yes think would applic applic\",\"could compromis abil get hire look like compel candid somewhat open mayb rare often\",\"thought might impact perform job mention physic issu obvious knew would noy affect abil job would mention true mind would take run posit matter somewhat open mayb sometim often\",\"physic health part get way job direct assum hire someon whose primari method work kind issu somewhat open yes think would applic sometim\",\"might think hypochondriac might think complain open yes think would sometim often\",\"affect ablil work may affect hire somewhat open mayb often often\",\"think physic health issu would defin person definit someth would want speak earli possibl see react see react plus allow know best talk open mayb never often\",\"anyth serious enough chanc negat affect outcom would depend whether could trust employ stigmatis well desper need want job cover ill fair well want harm chanc get job necessari somewhat open mayb sometim often\",\"believ health inform person busi previous state health inform person applic somewhat open mayb applic applic\",\"despit law govern non discrimin employ go easiest come differ reason hire employe ultim resourc leverag compani want get less money never absolut never would stigmat hell somewhat open mayb rare sometim\",\"depend view employ mental health depend amount open view somewhat open think would rare sometim\",\"might mean get job last knew time come meant need special treatment sure would mean get job open yes think would rare sometim\",\"would interview posit believ physic health may negat impact product would interview posit believ mental health would issu applic applic mental ill yes think would applic applic\",\"depend type job would affect work would bring think general feel abl manag via employ would want test might bring mental health coverag interview though applic mental ill mayb applic applic\",\"depend affect abil job chang abil discuss open think would applic applic\",\"obvious would prove job know possibl way impact hire decis somewhat open yes think would applic applic\",\"never one would relev relev convers happi mention anxious depress expand need think import rais topic open appropri reduc stigma give indic compani attitud toward mental health open applic often\",\"relat workspac design eg special ergonom need necessari schedul eg work hour straight relat schedul avail etc eg work certain hour need frequent break etc somewhat open think would applic applic\",\"stigma somewhat open mayb sometim sometim\",\"depend issu mayb would need accommod wheelchair fear would think would affect product mani candid could easili elimin somewhat open think would applic sometim\",\"unless would direct inhibit abil perform presum role job descript find physic medic health respons busi altogeth next diet sexual prefer similar inform person believ general employ capac grappl possibl potenti mental health issu worri keep compani afloat applic applic mental ill yes think would applic often\",\"concern would get job concern would get job somewhat open yes think would applic applic\",\"sinc affect job perform none busi matter open mayb rare sometim\",\"employ know limit answer employ deserv know limit somewhat open think would sometim sometim\",\"depend social percept issu easi map mental health abil job open mayb often often\",\"point career honest employ want work point career cannot honest employ want work applic mental ill mayb applic applic\",\"would worri get hire would definit worri would signific hurt chanc get hire somewhat open mayb rare often\",\"back issu neck issu occas may need time treatment depress burn relat issu often need attent work someon respect applic somewhat open mayb applic applic\",\"depend whether thought would impact job perform whether would expect allow made health issu depend whether thought would impact perform would requir accommod would impact negat open sometim sometim\",\"dont problem discuss person limit anyon think general import bring felt employ open hear open think would rare often\",\"less stigma peopl hear physic condit think fault hear mental health condit think danger less trustworthi fundament wrong somehow see answer want risk possibl posit cast pall rapport potenti cowork alway feel way last posit got strong warn secret never say anyth condit peopl would think crazi might shoot place major clinic depress manag treat year person hurt percept anyon mental ill never mind wide spectrum physic ill never said anyth somewhat open yes think would never often\",\"obvious go effect workplac obvious go affect workplac way employ would find take job first place thought mental ill would affect job would impact negat somewhat open yes think would sometim sometim\",\"world ideal place sometim import get door ask forgiv later permiss front massiv stigmat cult smart neutral yes think would applic applic\",\"general abl cope work despit physic health issu would doubt interview would consid believ trust avoid bias base health concern reason doubt interview would abl avoid bias somewhat open yes think would applic applic\",\"general speak alway case physic health issu carri stigma mental one realli depend person employ comfort felt discuss issu matter open mayb rare often\",\"could way hire instead skill could way hire instead skill somewhat open mayb applic sometim\",\"would depend whether relev job would effect negat would depend whether issu relev work perform negat effect somewhat open yes think would applic applic\",\"would like perceiv irrelev interview process would like perceiv irrelev interview process open mayb applic applic\",\"physic health affect product access import discuss potenti employ feel mental health issu still view taboo employ interview may abl respond issu talk simpli make interview awkward negat affect chanc get job would impact negat somewhat open yes think would applic often\",\"would depend natur sever impair gift adult employ familiar differ peopl high iq appear intimid aloof mental health issu might nail coffin somewhat open mayb applic rare\",\"found reaction good indic whether ideal align whether good fit workplac open yes sometim often\",\"see point disclosur thing request without violat employ law see answer question somewhat open mayb applic applic\",\"physic issu obvious work better tri hide thing impact visibl work tri hide somewhat open yes think would sometim sometim\",\"think import interview lay exact want tabl health issu need accommod want ensur done reason somewhat open mayb applic applic\",\"think physic health issu easi empath understand think mention would affect negat think mental health issu well understood negat stigma might caus interview end negat somewhat open sometim often\",\"would afraid would reflect poor would certain would reflect poor open mayb rare often\",\"would want risk potenti negat outcom potenti negat outcom would impact negat neutral mayb applic applic\",\"disabl accommod requir need know interview especi hr peopl tend look way elimin candid rather perform posit select interview method applic somewhat open mayb applic applic\",\"afraid would impact abil get job doubt hire somewhat open yes think would applic applic\",\"type diabet tri advoc equal treatment would avoid bring physic health issu depend employ think open mental health issu compani would good help find polici want end place crappi polici mental health care open mayb applic applic\",\"would bring found relev abil job otherwis would would bring felt would impact abil job somewhat open mayb applic applic\",\"may prevent get job believ would prevent get job would impact negat neutral yes think would often often\",\"might get job get job applic neutral yes think would applic applic\",\"competit fierc reveal weak deficit might effect decis hire would reveal thought would affect perform believ bias mental health issu strong effect perform freelanc would impact negat somewhat open yes think would sometim often\",\"physic health issu stigmat mental health issu stigmat sometim come somewhat open mayb sometim often\",\"think appropri discuss issu earli interview wait discuss hr feel go think appropri discuss issu earli interview wait discuss hr feel go neutral mayb rare sometim\",\"would mention direct bear abil navig work environ need time walk place place exampl feel physic issu address employ instal ramp prolong stand etc mental issu perceiv strict respons individu matter somewhat open yes think would rare sometim\",\"common sure would depend lot compani would interview somewhat open yes think would often sometim\",\"would depend entir attitud person side tabl risk negat reaction somewhat open mayb sometim often\",\"would depend sever effect issu could work perform neutral mayb sometim sometim\",\"health issu affect product worker work state absent due ill discuss interview health issu either physic mental affect product worker work state absent due ill discuss interview somewhat open mayb never rare\",\"assum would weigh get job assum would weigh get job somewhat open yes think would sometim sometim\",\"first would like focus abil skill would pass initi interview round would bring previous one somewhat open mayb sometim often\",\"thing protect law us ask volunt inform would discuss protect law us applic somewhat open mayb applic often\",\"relev job perform requir sort accommod part thing like pleas send agenda hr meet anxieti usual come hire interview time ime open mayb rare sometim\",\"depend obvious would affect work offic job abil walk critic depend go affect work applic neutral mayb applic applic\",\"would bear abil job possibl would bear job open yes think would applic applic\",\"honesti alway best polici even mean get job issu look employ enjoy exact gloss version open mayb applic applic\",\"sure allow ask came practic open honest principl mental ill assum stigma around issu peopl experienc somewhat open mayb applic applic\",\"see potenti influenc hirabl stigma could influenc desir hire neutral yes think would never often\",\"interview skill person issu everyon got shit deal interview technic figur good fit ask question see stanc tell someon one first date depress bad knee plenti posit interest topic talk open think would often often\",\"would impact job could stigma would impact negat somewhat open yes think would rare sometim\",\"want give potenti employ reason hire reason add stigma associ mental health good idea think employ especi big compani see mental health issu like depress undesir neutral yes think would applic applic\",\"need ergonom keyboard prefer thing absolut mention interview process bit retic discuss back pain fear bias negat impact prospect somewhat open yes think would applic often\",\"go impact abil perform job would feel oblig let know go affect abil job would feel oblig let know open think would rare often\",\"guess would depend type physic issu often may affect work far absenc treatment etc mental health feel subject case despit potenti diagnosi could view detriment cultur perform someon say clinic depress anxieti disord also feel harder explain potenti absenc due mental disord somewhat open yes rare often\",\"depend obvious visual would affect work visibl employ would look negat would impact negat open yes think would never often\",\"may affect avail perform job fear hire time feel like may affect avail perform job open mayb applic sometim\",\"would impact negat somewhat open mayb rare often\",\"may relev concern impact hire open mayb sometim often\",\"weaken negoti posit weaken negoti posit applic somewhat open yes think would applic applic\",\"depend whether thought would negat impact get job job organ busi run peopl similar issu sometim come somewhat open yes sometim often\",\"depend someth relev affect physic function blind leg someth affect direct function probabl would quit reserv anyway unless could affect work direct employ busi matter applic mental ill think would sometim often\",\"let realist would harm career would harm career neutral yes think would sometim sometim\",\"someth workspac like requir stand desk etc think would hire somewhat open yes think would applic often\",\"would impact perform job could effect job perform applic applic mental ill mayb applic applic\",\"idea sign weak alway disadvantag interview open yes think would rare often\",\"someth use determin good candid job reason use determin qualifi job somewhat open mayb applic applic\",\"potenti employ conting anyth ada cover would weird thing volunt interview want candid tell issu put bad spot declin offer job somewhat open yes think would sometim often\",\"would probabl better long run depend issu would influenc work would certain mention somewhat open think would applic applic\",\"would bring issu necessari obvious affect work requir special assist would necessari obvious mental health issu appear normal would bring applic somewhat open mayb rare often\",\"would someth would need know better know type place understand depend employ see difficult answer survey question requir general previous employ product convers even one place mental health issu convers result immedi retribut somewhat open mayb rare often\",\"fear would impact negat get posit almost certainti would impact negat get posit applic applic mental ill yes think would applic applic\",\"day comfort express anyth could factor get work done help screen employ anyth insurmount problem clear place want work answer physic health issu though admit littl slower bring mental health concern due stigma fear somewhat open mayb sometim often\",\"would impact negat somewhat open yes think would applic applic\",\"affect workplac employ adjust workplac depend wether feel comfort enough interview bring non threaten way matter neutral yes think would often often\",\"decid base feel toward counterpart feel interview kind human bee bring otherwis would impact negat open think would often often\",\"could negat influenc chanc hire could negat influenc chanc hire open yes think would applic often\",\"would affect perform somewhat open mayb rare sometim\",\"would career suicid would career suicid open yes never sometim\",\"may affect time need take abil certain task come neutral mayb applic applic\",\"believ disclos anyth physic health stop interview process lost interview look unwel disclos physic ill much sever peopl associ instabl mental health instabl work want perfect neurotyp programm low risk somewhat open yes think would sometim often\",\"would bring relev would like direct effect work think open mayb applic sometim\",\"mani physic health issu obvious address therefor obvious mental health issu negat stigma applic mental ill yes think would applic applic\",\"depend issu depend type mental disord somewhat open think would never often\",\"worri discrimin worri discrimin neutral yes think would applic applic\",\"would want job want job would impact negat somewhat open yes think would sometim often\",\"would worri potenti employ might see physic ill reason might abl work avail work much profess demand think potenti employ would definit see mental health issu reason hire somewhat open yes never sometim\",\"may caus think abl perform job 100 stigma somewhat open mayb sometim often\",\"see problem stigma somewhat open mayb applic applic\",\"unless issu sever stop work think mention would affect chanc think would understand would affect decis somewhat open mayb sometim sometim\",\"import bring parti awar hide physic health issu would never end well either parti convers open card tabl import bring parti awar hide mental health issu would never end well either parti convers open card tabl open applic applic\",\"usual enterpris give import health problem worker big wall still unhapi affect busi bad mode applic mental ill yes think would sometim applic\",\"perceiv poor bias somewhat open yes think would applic applic\",\"physic health issu line work rare effect abil perform mental health issu often effect abil perform somewhat open yes think would sometim often\",\"fear negat impact prospect employ fear negat impact prospect employ somewhat open yes applic often\",\"think would see temporari mayb even view hardi resili employ would use measur compet high mainten somewhat open yes often often\",\"feel comfort tell would feel may effect chanc employ neutral mayb applic applic\",\"place topic hire open rare often\",\"physic health issu would want make sure provis health need concern accept posit new compani may bring mental health issu interview potenti employ would afraid might influenc decis whether hire might view unstabl unqualifi proper job somewhat open yes often often\",\"would requir minor accommod would perceiv over oner one time past interview clear wrote immedi tri judg whether organ would support environ without outing lot easier ask accommod get hire demonstr abil job give employ reason hire first place open yes sometim often\",\"even though legal could factor hire also none busi see previous neutral mayb applic applic\",\"person info part interview process interview place time person info open mayb never sometim\",\"want affect abil get posit feel would negat effect abil get posit somewhat open yes think would applic applic\",\"impact abil physic work access issu offic would hire somewhat open yes think would often often\",\"would concern would affect chanc get job would concern would affect chanc get job open mayb sometim often\",\"would depend physic health issu might affect thing would depend issu somewhat open mayb applic applic\",\"deaf view physic health issu mani employ will go way accommod import employ know need accommod somewhat open yes think would applic applic\",\"would much depend issu impact thought would role interview think enough peopl awar mental health issu like negat impact applic mental ill yes think would applic applic\",\"bear abil accomplish job proper cope proper cope affect abil job expect physic health issu allow time need cope necessari somewhat open mayb rare often\",\"concern would negat affect employ opportun concern would negat affect employ opportun neutral mayb sometim sometim\",\"impact work impact work feel like trust employ matter open mayb sometim often\",\"think would depend job requir limit physic health would carri duti unless felt comfort knew employ felt mental health like feel readi disclos inform earli applic mental ill mayb applic applic\",\"part tech requir lift thing exampl quick way get job somewhat open mayb sometim often\",\"know never physic health issu would need bring know react situat sure harm chanc want give anyon reason hire somewhat open yes think would sometim sometim\",\"would hurt chanc hire get hire wonder rest life affect thing open yes rare rare\",\"interview may train respond somewhat open mayb sometim sometim\",\"none busi especi impact abil work would afraid hire told somewhat open yes never often\",\"stigma high probabl sympathi understand uncertainti reaction somewhat open mayb often often\",\"would would believ would impact product sure employ would see problem inform avail mental problem deal somewhat open mayb never sometim\",\"would rather tri get job first rais requir later would rais got job necessari applic mental ill yes think would applic applic\",\"need ensur could manag back pain long term basi new employ without issu would certain nobodi would want hire someon mental health issu somewhat open yes think would rare often\",\"regardless disabl legisl say health issu surefir way get turn work peopl tend assum mental ill mean go crap write code sometim come open mayb sometim often\",\"seem place certain want interview ask physic unless direct relat part job somewhat open mayb rare sometim\",\"bear employ feel could bear got offer employ even though illeg discrimin base mental health issu somewhat open mayb applic applic\",\"person health issu belong interview process inher make interview particular hostil interviewe organ hr law especi relat anti discrimin thing person health issu belong interview process inher make interview particular hostil interviewe organ hr law especi relat anti discrimin thing applic mental ill think would applic applic\",\"mani law protect applic discrimin base physic abil feel concern bring physic health issu interview feel like would hurt chanc get job awar law protect applic discrimin base mental health physic health somewhat open mayb applic applic\",\"easi see prove creat expect troubl difficult prove thus stigma somewhat open yes think would sometim often\",\"feel physic injuri accept would afraid would look somewhat open yes think would applic applic\",\"live countri care physician tell pre contract exam think would hire first place somewhat open mayb often often\",\"none busi long job given paramet agre upon see need know physic health issu take job mutual agre paramet need done soon need enough flexibl deal mental physic issu matter neutral sometim often\",\"depend job organis hard say probabl would jeapodis job somewhat open mayb rare applic\",\"might will give shot feel experi mani peopl see mental health lesser issu physic health one fix man grow worri mention chronic mental health issu would view detriment weak work somewhat open yes think would sometim often\",\"import make clear sometim may limit employ must awar surpris side want caus surpris might need day somewhat open mayb sometim sometim\",\"fear discrimin fear discrimin somewhat open yes think would rare often\",\"relev stigmat condit stigma would impact negat open yes think would sometim often\",\"afraid prejudic afraid prejudic feel need honest limit abil open yes think would sometim often\",\"trust potenti employ judg trust judg deni job open yes sometim often\",\"like affect chanc employ issu occasion impact abil work depend would strong affect abil work somewhat open yes think would sometim sometim\",\"interview larg knowledg mental capac could seen weaker mental capac somewhat open yes think would often often\",\"fear discrimin would bring felt employ knowledg progress approach mental health issu understand appreci mani posit attribut adhd person bring tabl would bring unless certain embrac mental health issu somewhat open yes think would sometim often\",\"physic heath issu german work would bring mental heath issu german work would bring open think would never applic\",\"previous employ respond negat never know interview open mayb rare often\",\"requir hospit treatment medic feel right awar base current employ would see reason take leav cannot push limit compani like littl thank open yes think would sometim applic\",\"would feel ok discuss physic health main diagnos corrobor doctor hard still stigma around mental health problem peopl fake certain around home town sometim come open mayb often often\",\"caus problem work caus problem work open yes rare often\",\"would bring receiv offer unless impact interview perform might mean offer somewhat open yes think would rare often\",\"cannot lie sinc gonna show point sinc physic disord often come abl certain thing way peopl suffer disord would bring think right hide even could increas stress tri hide disord could make disord even wors also compani will hire suffer mental disord probabl compani want work applic mental ill mayb applic applic\",\"noth job skill interview need know reason affect job skill interview need know otherwis might tell open mayb applic applic\",\"fear would make interview process would tell hire fear make interview process due stigma somewhat open yes think would applic sometim\",\"would prefer honest front rather find employ support road ensur employ go turn unsupport employe need open mayb rare sometim\",\"law none employ busi unlik help procur job job interview sale situat full disclosur session side busi unlik volunt negat inform busi oper interview except would health issu go materi affect abil perform job offer case interview first place would take place base understand case reason physic health issu applic somewhat open yes think would applic applic\",\"strong advis mentor discuss issu anxieti often perceiv weak hindranc liabil even interview consider mental health issu introduc negat bias open mayb rare often\",\"unless health issu relat specif abil job would feel need bring doubt mind mental health issu view negat look hire competit industri would impact negat somewhat open yes think would sometim often\",\"fear discrimin fear discrimin somewhat open yes think would rare sometim\",\"fear negat repercuss would expect employ hire bring topic interview applic mental ill yes think would applic applic\",\"physic health alway reason abl work mental health issu famili open mayb applic applic\",\"depend type issu someth common would like feel though would will accommod think transpar mani employ mental health issu might affect person workplac efficaci want lose potenti posit thought whether interview made decis conscious applic mental ill mayb applic applic\",\"never physic health issu know would seem like tmi want doubt effect employe somewhat open mayb rare often\",\"depend whether issu might perceiv impact perform actual whether confid explain impact work around depend whether issu might perceiv impact perform actual whether confid explain impact work around applic applic mental ill mayb applic applic\",\"would bring physic health issu negoti posit strength multipl offer current employ stabl posit zero upsid bring forese circumst bring forestal problem lead opportun open yes think would rare often\",\"diabet promin part life impact abil work multipl way well get may leav blood sugar low morn say matter need treat drive offic would want know stanc potenti employ toward mental health issu still stigma surround mental health issu need dissip would want know context would bring detail around scenario somewhat open think would applic applic\",\"want effect willing give job reason somewhat open yes think would applic applic\",\"would bring would need accommod order job would bring would need accommod order job sometim come somewhat open mayb sometim often\",\"fair obvious straightforward physic health issu case visibl within workplac stigma fear typic reason mental health discuss divulg rather someon opinion shape diseas would impact negat somewhat open mayb often often\",\"physic health accept ill mental ill consid opt time accept excus applic open yes think would applic applic\",\"realli depend vibe got interview feel interview see felt comfort discuss tough call wish could feel comfort time somewhat open mayb sometim often\",\"never physic health issu peopl never struggl mental health issu incap understand matter somewhat open yes think would often often\",\"seem like would general useless inform may lend toward casual convers like ice break tech field seem high reliant mental capabl would fear issu disclos might negat impact stand justifi somewhat open mayb applic applic\",\"rather ask health benefit look need bring interview unless direct affect job specif brought interview somewhat open mayb sometim often\",\"know could trust stage know could trust stage somewhat open think would applic applic\",\"less stigma stigma somewhat open think would sometim often\",\"us worker protect lack prove protect class reason non hire difficult lack worker protect proof non hire result disclosur condit applic mental ill yes think would applic applic\",\"depend relev job function depend relev function open rare sometim\",\"instead concentr capabl believ would mind go accommod would made might even cloud thought point discuss would want steer away stress common denomin job stress trigger panic potenti depress employ bail famili support well would impact negat somewhat open yes sometim often\",\"depend situat would imped work yes deal bout anxieti depress clinic level sometim get better never obstruct applic somewhat open think would rare sometim\",\"physic disabl visibl bring make known line better bring control situat call sick surpris employ also affect insur polici keep hidden work well probabl would effect disabl say would act applic somewhat open mayb applic applic\",\"depend go impact particular job suffer burn out ever will work employ someth need awar order find best way avoid would impact negat somewhat open yes think would sometim often\",\"interview still tri present best imag may damag right wrong mental health still stigmatis enough protect enough could result get job want somewhat open mayb applic applic\",\"fear get job fear get job would impact negat open yes think would sometim often\",\"believ would bias interview cultur reason physic open yes think would sometim sometim\",\"go affect role bring got think previous know said interview would dissuad know would affect outcom although would know address somewhat open mayb rare sometim\",\"might affect perform workplac might affect perform relat colleagu somewhat open mayb applic applic\",\"depend strong posit interviewe might prefer wait offer stage rather bring interview would like prefer wait offer stage discuss mental health issu accommod rather interview applic mental ill mayb applic applic\",\"depend physic health issu sever affect exampl would talk carpal tunnel affect job perform need ergonom keyboard mice order constant pain bring polycyst ovarian syndrom pcos affect work perform probabl depend hypothet mental health issu applic open yes think would applic sometim\",\"someth major would minor sever sever mental health issu would great affect work yes alway somewhat open mayb sometim often\",\"yes import affect work yes affect work somewhat open mayb applic applic\",\"would afraid put best foot forward believ would automat red flag somewhat open yes think would sometim sometim\",\"may relev job easi immedi disqualifi eye without proof recours somewhat open yes rare sometim\",\"stigma somewhat open yes think would rare sometim\",\"unless affect abil job would bring would bring late possibl would afraid entir interview would becom discuss issu decis process would base whether issu serious enough take chanc applic mental ill mayb applic applic\",\"get job would import short term get job would import short term somewhat open mayb rare rare\",\"want risk get job wait hire open mental health advoc one reason good job open mayb sometim sometim\",\"potenti employ need know may affect work feel best honest know get join compani everyon regard mental health realist kind enigma treatment option somewhat open mayb never rare\",\"guess realli depend whether necessari job impact day day work would necessari scare may scare potenti employ honest guess realli depend person sit across tabl comfort feel sometim come open mayb rare sometim\",\"afraid niet understood make hard talk especi interview somewhat open mayb rare sometim\",\"would bring physic health issu would effect perform work stigma surround mental health unstabl employe mental health issu somewhat open mayb sometim often\",\"physic issu relat well understood anyon ever mention feel stigma mental health issu general loath even discuss wife open yes think would applic sometim\",\"feel make less apt job appli comparison other make look weaker less apt open yes think would applic sometim\",\"sure would hinder place job sure would hinder place job applic mental ill yes think would applic applic\",\"would bring affect abil job would bring affect abil job somewhat open think would applic applic\",\"desper job would want jeopard candidaci hand health issu serious could interfer respons posit feel employ probabl know desper job would want jeopard candidaci hand health issu serious could interfer respons posit feel employ probabl know somewhat open mayb applic applic\",\"believ total transpar appreci know potenti employ veteran ptsd relat issu believ total transpar appreci know potenti employ somewhat open yes sometim often\",\"fear would affect chanc get hire reason somewhat open yes think would rare often\",\"accommod need condit employ need answer decid whether accept employ want get hire open yes think would applic applic\",\"physic health problem carri stigma mental health problem consid weak enough knowledg physic health problem seem like fix risk accommod mental health invis therefor unknown risk would impact negat somewhat open yes think would sometim often\",\"unless impact job hire somewhat open mayb sometim often\",\"would impact negat somewhat open yes think would never sometim\",\"ensur receiv proper accommod need tell someon interview clinic depress general anxieti disord ptsd autism spectrum disord add would bring lot stigma doubt think could handl job think work well team trust built yet mayb compani realli upfront care mental ill peopl leadership mental ill probabl feel comfort speak interview open mayb sometim often\",\"littl stigma around physic health issu could even becom person talk point make connect someon littl understand sympathi around mental health label crazi end interview would impact negat somewhat open yes think would rare sometim\",\"would want prevent get job feel like would negat affect employ opportun somewhat open yes sometim often\",\"cultur bias potenti elimin consider feel would prevent hire ask point blank somewhat open yes think would never sometim\",\"depend issu feel like employ like respond feel like hire come bs excus suspect mental health issu somewhat open think would applic applic\",\"relev would share inform otherwis reason give black mark cannot see share inform would benefit would impact negat somewhat open yes think would often often\",\"job requir lift embarrass would probabl lose job somewhat open yes think would rare sometim\",\"would want possibl unrel physic impair interfer prospect hire would want reason receiv job somewhat open yes think would rare often\",\"employ know physic health issu could impact qualiti work somehow stigma associ mental health issu least difficult thing transpar somewhat open think would sometim often\",\"issu would signific impact work would bring relev job would open mayb applic applic\",\"fear implicit bias fear implicit bias open yes rare sometim\",\"physic health person issu would discuss peopl establish trust would discuss mental health issu person establish trust also want show affect job perform reveal sort person issu somewhat open think would rare often\",\"health issu would impact perform may bring would bring issu would affect perform job duti somewhat open mayb applic applic\",\"realli need job take risk look better job would tell better job reject physic open mayb rare rare\",\"want job full health cultur thing reason neutral yes think would often often\",\"honest guess end supris might negat influenc get job somewhat open mayb applic applic\",\"depend perman issu like mental health either taken serious physic health view negat would impact negat open yes think would often often\",\"may affect job attend may affect job perform applic applic mental ill mayb applic applic\",\"stigma diseas feel like make mountain molehil somewhat open think would sometim often\",\"believ would relev job interview would need kind accommod issu otherwis think would reduc chanc hire physic think would need special treatment accommod work would bring soon relev sometim come somewhat open mayb rare often\",\"imagin would prompt interview quick disregard resum imagin would prompt interview quick disregard resum somewhat open yes think would rare often\",\"like interview feel like put best foot forward put disadvantag feel like would put run posit almost immedi least use negat mark somewhat open yes think would sometim often\",\"interview process yet know detail compani polici somewhat open think would applic applic\",\"way legal discrimin take much effort legal block new hire illeg reason way legal discrimin take much effort legal block new hire illeg reason somewhat open yes think would often often\",\"relev role would mention would direct impact abil perform role would feel compel mention depend understand expect employ might due negat consequ somewhat open yes think would rare often\",\"would worri might affect job applic even though awar legal allow howev would difficult determin prove case neutral yes sometim often\",\"discrimin discrimin somewhat open yes think would never often\",\"feel relat protect think noth realli bad could happen far consequ feel lot less protect discuss mental health protect non exist unclear somewhat open mayb rare often\",\"perhap ask benefit would need want realli busi unless impact daili work would want risk possibl discrimin even illeg bias opinion somewhat open mayb applic applic\",\"depend reput employ depend reput employ sometim come somewhat open yes rare sometim\",\"feel like bring physic health issu would mark get job choic anoth candid mention health issu feel would take candid feel like bring mental health issu would mark get job choic anoth candid mention health issu feel would take candid somewhat open mayb rare often\",\"word cancer terrifi everyon feel impact job bring somewhat open mayb rare often\",\"need know unless affect work need know unless affect work open think would never rare\",\"job requir physic work would worri bring physic health issu might negat consequ would worri bring mental health issu would negat consequ sometim come neutral yes sometim sometim\",\"work involv physic labor matter privat need know order provid need better understand behaviour sometim come open mayb rare applic\",\"may employ employ somewhat open yes think would never sometim\",\"like felt would harm chanc get job seem like would hurt chanc get job somewhat open mayb rare sometim\",\"hard hear import mutual understand interview process also good test accommod somewhat open mayb sometim often\",\"physic health issu typic seen roadblock product communic would seen roadblock product communic would impact negat somewhat open yes think would never rare\",\"realli interest job would wait knew realli interest get person applic applic mental ill mayb applic applic\",\"would direct affect work otherwis busi would direct affect work otherwis busi somewhat open think would applic applic\",\"get interview would hard enough let alon risk negat respons open yes think would often applic\",\"depend issu whether would impact abil job question think would help chanc get job possibl could hurt open yes think would sometim often\",\"physic health issu impact job necessari know make inform decis would probabl chang need job oppos want job mental health issu impact job necessari know make inform decis would probabl chang need job oppos want job open think would applic applic\",\"struggl depress good six year life mayb longer taught much given insight life thay believ peopl may never chanc get also teach forc becom better person never give would bring mental health issu made stronger person develop sometim come open mayb sometim often\",\"receiv job offer ensur protect physic disabl mental ill protect class discrimin disclos public could affect immigr status somewhat open yes think would rare often\",\"old back injuri caus mani issu occasion impact abil work desk would 100 sure disclosur would affect applic sometim come neutral yes think would sometim sometim\",\"get job somewhat open yes think would sometim often\",\"see need interview fine work see need interview fine work applic mental ill mayb applic applic\",\"front factor may affect work perform honest front thing may affect work perform unless embarrass talk somewhat open mayb applic applic\",\"interview would afraid reveal anyth could seen detriment otherwis necessari disclos reason amplifi somewhat open yes think would rare sometim\",\"especi would affect physic access locat equip seem like would absolut necessari depend aspect mental health talk stigmat other would impact negat open yes rare sometim\",\"hesit bring anyth might make seem less employ actual effect product hesit bring anyth affect work might make seem less employ neutral mayb never rare\",\"would potenti affect abil job might requir special equip etc would fair honest would depend field knew employ somewhat open yes think would applic often\",\"interest bring physic health issu unless pertin affect abil work healthcar coverag schedul would bring mental health issu interview affect abil work healthcar coverag schedul howev unlik physic health issu seem clear mental health issu strong affect stress end would feel comfort ask work condit workplac activ promot find optimum balanc stress product somewhat open mayb applic often\",\"affect work perform would none concern would affect chanc get job neutral mayb never sometim\",\"impact abil job even go need take time visit doctor time recov would need coordin point life mental health need part convers compani cannot even start convers possibl confid abl support need address mental health issu come open sometim often\",\"wold bring would affect job work disabl communiti would impact negat somewhat open yes think would sometim often\",\"depend exact natur issu might think want hire depend exact natur issu might think want hire open yes think would rare often\",\"would provabl need know judg job stigma main somewhat open mayb applic applic\",\"want discrimin want discrimin somewhat open yes think would sometim often\",\"current one sure anyth bring think general sens stigma somewhat open yes think would rare sometim\",\"current physic issu stigma mental ill fear would impact job open mayb applic applic\",\"health benefit expens busi hire someon know cost lot believ would sever hinder chanc get job applic mental ill yes think would applic applic\",\"fear disqualifi job great stigma would like reject anoth candid somewhat open yes sometim sometim\",\"would worri would seen piti play distract qualif would worri would seen piti play make seem unlik crazi liabil rather asset would impact negat somewhat open yes think would sometim often\",\"depend issu type job depend thought issu would impact abil get job desir somewhat open mayb rare often\",\"issu like sign place want work seem realli person would worri affect come everyon awar issu would affect someon work could everi compani good polici around keep date employe somewhat open think would sometim often\",\"relev interview process relev interview process somewhat open yes think would applic often\",\"would bring job offer ask ergonom keyboard chair better monitor need bring offer job right never background info person interview understand mental health would impact negat open yes think would applic sometim\",\"would concern would negat bias even unintent would concern potenti negat bias somewhat open sometim sometim\",\"natur afraid hire natur afraid hire somewhat open mayb sometim often\",\"fear get job fear get job would impact negat somewhat open yes sometim often\",\"stigma would impact negat somewhat open yes think would rare often\",\"depend feel interview feel would hurt chanc employ bear somewhat open mayb applic often\",\"tri give best impress interview bring physic health issu go impact abil job tri give best impress interview bring mental health issu impact abil job applic somewhat open yes think would applic applic\",\"would worri would get job might also feel embarass applic mental ill yes think would applic applic\",\"fortun enough condit requir accommod everybodi understand mental health would worri perceiv negat somewhat open mayb never sometim\",\"potenti negat consequ road potenti negat impact job open yes think would applic applic\",\"would afraid would result pass posit would afraid would result chosen posit somewhat open mayb often often\",\"may hire think might take time work supervisor like deal sort issu applic mental ill yes think would applic applic\",\"jeopard get job jeopard get job somewhat open yes think would sometim often\",\"depend issu affect job would hope feel comfort bring answer would feel raw vulner self employ lot select choos interview opt place empathet understand sometim come somewhat open mayb rare often\",\"establish non discrimin polici disabl physic abil fear repercuss includ hire somewhat open yes think would rare sometim\",\"never criteria hire reason physic health issu applic mental ill mayb applic applic\",\"relev would need accommod similar physic issu felt need accommod somewhat open yes think would rare often\",\"legisl jurisdict mandat certain protect employe need concess due health despit legal protect mental health area still suffer signific amount stigma somewhat open mayb rare sometim\",\"unless would direct effect perform posit condit would relev due lack understand without bias treat mental health issu could effect work open yes rare often\",\"might get job would impact negat somewhat open mayb rare often\",\"think would hurt chanc hire although depend physic issu reason physic applic somewhat open yes think would applic applic\",\"hesit give potenti employ inform would disqualifi posit legal protect otherwis alway employ parallel construct base negat factor reinforc bias decis give extra ammo poor strategi secur paycheck reason nuanc softwar engin hire part intellig appar mental fit undermin confid abil perform cognit gate would experi lead candid select even perform wors interview open yes think would applic often\",\"would bring affect abil job bring felt irrelev affect abil job would bring affect abil job bring felt irrelev affect abil job applic applic mental ill think would applic applic\",\"sleep relat disord prevent abl arriv earli hour larg part employ requir feel comfort discuss mental health issu anybodi realli close friend suffer first place also like hurt chanc land posit applic mental ill yes think would applic applic\",\"appar need know stigma neutral yes think would rare sometim\",\"may obtain job note termin mental health snap schizoaffect disord type one depress cri minut laps confus termin next week hospit twice hine madden hospit issu bridg far cross full time work sinc let go jan 2010 tri get back next two year work part time instal system sys admin open yes think would often often\",\"depend whether would affect abil carri job stigma somewhat open yes rare sometim\",\"good upfront everyth differ physic health issu potenti affect perform clear somewhat open think would applic sometim\",\"talk health issu alway respond though ask person accommod even tri rais awar someth widespread bring interview would put cart hors reason basic except ad knowledg societi view peopl depress anxieti portray could reflect affect chanc get job qualifi open yes sometim often\",\"depend relev perform depend relev perform somewhat open yes think would sometim often\",\"know whether would affect chang get job know whether would affect chanc get employ somewhat open mayb applic applic\",\"direct impact abil work would bring current issu would want know health coverag general polici applic somewhat open mayb applic sometim\",\"impact work know impact work know applic somewhat open mayb sometim often\",\"health issu could reason impact abil perform duti provid inform would relev howev confid impact would minim would reason offer unnecessari inform still much stigma attach mental health possibl discrimin high might disclos hire pass probationari period open mayb never rare\",\"want health issu affect repres interview want health issu effect perceiv interview somewhat open yes think would applic applic\",\"fear would negat bias fear would negat bias open mayb applic applic\",\"better rather wait spoken industri burnout import know ahead time open mayb sometim often\",\"mayb physic health issu chang way work yes shit crack workflow know somewhat open think would sometim often\",\"get job get job applic mental ill yes rare rare\",\"reason risk job reason risk make concern somewhat open mayb applic sometim\",\"would hope would let know whether would fit employ base reaction mental health issu easi healthi individu relat stigma mental ill would want new employ know better learn mental ill open yes think would often often\",\"known go hire answer applic mental ill mayb applic applic\",\"think would lower chanc get job take away thing bring job thing lower chanc get job fear would zone rather awesom bring neutral yes think would applic applic\",\"made offer issu would impact work schedul made offer issu would impact somewhat open mayb sometim sometim\",\"understand might conscious act differ physic issu convinc peopl tech even know cognit disson mean actual take step avoid understand might conscious act differ mental health issu convinc peopl tech even know cognit disson mean actual take step avoid furthermor huge stigma behind neutral mayb never sometim\",\"feel might bias definit bias somewhat open yes think would applic applic\",\"unspoken prejudic would much negat would impact negat neutral yes think would often often\",\"feel could help chanc way could hurt chanc reason somewhat open mayb never rare\",\"might affect chanc get job felt would understand would otherwis fear discrimin somewhat open mayb sometim often\",\"physic health issu abl hide requir accommod mani situat cannot function discuss absolut necessari enough count interview without ad number bias weight would impact negat somewhat open yes think would rare sometim\",\"privileg enough know prior research expect find answer question exist resourc hr site somewhat open mayb sometim often\",\"afraid would affect outcom afraid would affect outcom neutral mayb rare sometim\",\"would afraid exclud consider due occasion back problem would bring direct impact job could definit direct impact abil job would realli afraid mention interview sure situat might mention abstract bring mental imag interview kinda veer toward matrix look fella suit would impact negat somewhat open mayb rare often\",\"want make sure parti make inform decis leav someth import unsaid would foster frustrat expect want make sure parti make inform decis leav someth import unsaid would foster frustrat expect neutral mayb rare often\",\"fear get job fear get job somewhat open yes think would sometim often\",\"feel would negat reflect potenti would negat reflect potenti especi physic problem somewhat open yes think would applic applic\",\"need know person characterist first unless awar felt mental health open think would rare often\",\"believ affect outcom afraid would affect outcom neutral yes think would often often\",\"big deal carri stigma somewhat open yes think would never sometim\",\"transpar stigma somewhat open mayb rare sometim\",\"go effect posit would bring go effect posit would bring somewhat open mayb sometim often\",\"depend physic health issu bad knee vs bad allergi would afraid would negat affect potenti hire candid open yes think would rare sometim\",\"depend well connect interview hard talk high pressur situat sometim come somewhat open think would sometim often\",\"perceiv issu could affect hirabl anti discrimin polici perceiv issu could affect hirabl anti discrimin polici somewhat open yes think would sometim often\",\"doesnt carri stigma stigma neutral yes think would sometim often\",\"seem like would deter hire seem like would deter hire somewhat open yes think would sometim often\",\"kind feel uncomfort say thing although guess would certain situat lucki most function even well disclos compani better idea peopl react somewhat open think would sometim often\",\"worri may affect chanc get job worri would affect chanc get job somewhat open mayb applic applic\",\"although know place employ suppos discrimin candid due abil status still someth would requir signific accommod visibl disabl like wheelchair would bring would fear get job peopl would see burden could lead problem employ somewhat open yes think would rare sometim\",\"trust insur compani tri let affect work somewhat open yes applic often\",\"depend relev job stigma applic applic mental ill yes think would applic applic\",\"general relev employ physic issu feel relev employ open rare rare\",\"exampl might need stand desk special chair consid normal explain special need mental health condit would consid strang alreadi minor need negat thing count interview sometim come somewhat open yes sometim often\",\"worri interf day day task limit opprotun worri limit opportun seen major negat somewhat open yes think would rare often\",\"less stigma would feel could affect outcom somewhat open mayb rare often\",\"seem like would influenc decisionmak even subconsci fair certain would influenc decisionmak mani way get away discrimin basi chalk cultur fit open think would sometim often\",\"afraid hire job even physic issu would relev work reason somewhat open yes think would rare often\",\"physic health issu might affect job perform difficult hide potenti might resent fact forthcom interview mental health issu might affect job perform may easi hide forthcom might impact likelihood get job first place neutral yes think would rare often\",\"figur part convers need fact make call way need know adjust depend issu hand would affect perform would requir adjust yes probabl somewhat open mayb applic applic\",\"would limit potenti employ would limit potenti employ would hire someon mental health issu healthi person like footbal team would hire someon injur someon readi jump play somewhat open mayb applic applic\",\"none busi topic discuss unless mental health impair work direct somewhat open mayb sometim often\",\"want mental health issu affect hire decis respect want mental health issu affect hire decis respect somewhat open mayb applic sometim\",\"would make seem less suitabl job would make seem less suitabl job somewhat open mayb sometim often\",\"import know hire establish need earli might make look stupid applic mental ill mayb applic applic\",\"upfront time think would put risk get job neutral yes think would sometim often\",\"might depend think would perceiv issu relat abil job definit think employ might worri abil perform job somewhat open mayb rare sometim\",\"would like think health issu unrel hire process know alway case thus mayb answer direct wit peopl termin issu relat mental health issu unless requir law ethic issu like pre interview agreement disclos mental issu realiz best point view thing like osmi import somewhat open yes think would applic applic\",\"affect work requir treat differ other employ need know hire depend mental health issu feel interview like physic issu go affect employ employ know front open yes think would rare sometim\",\"potenti employ explain posit support employe physic health issu start interview would encourag speak employ state posit mental health issu support potenti employe would feel comfort talk somewhat open mayb applic applic\",\"tri get job tri get job somewhat open yes think would applic applic\",\"sure discrimin get offer hard prove discrimin mental health legal one never get reason job offer extend hinder applic mental ill yes think would applic applic\",\"assur would taken negat although would greater concern employ view mental health wors physic health issu well overal negat view mental health issu open yes think would sometim sometim\",\"may signific impact perform accomod accord may signific impact perform accomod accord open mayb applic applic\",\"guess issu hard enough would affect work worri percept could job mental health stigmat know prospect employ well enough determin whether would negat usual open yes think would applic applic\",\"would depend primarili issu whether deem relev interview posit sometim come somewhat open mayb rare sometim\",\"physic issu visibl make vulner would impact negat open yes think would sometim often\",\"depend interview go clear dead end would bring depend interview go clear dead end would bring somewhat open think would rare sometim\",\"would want anyth impact qualif percept would want bring anyth could negat impact interview neutral yes think would rare often\",\"physic health issu easier peopl see depress easi other dismiss previous attempt gone well somewhat open mayb sometim often\",\"seem like would hard hide physic issu would felt would serious impedi parti pertain abil job otherwis could feel bit like trap employ somewhat open mayb rare sometim\",\"vision issu requir use basic assist technolog zoom screen main depend would interview need see someth bigger closer may come worri would view sever weak open mayb sometim often\",\"affect abil job physic obvious somewhat open mayb never sometim\",\"would depend type issu broken leg relev diagnos mental health issu think would bring peopl trust potenti employ fall categori applic applic mental ill mayb applic applic\",\"avoid hire depend open potenti employ mental health applic somewhat open mayb applic applic\",\"peopl take physic ill injuri serious look certain way believ physic health issu peopl see believ often blame think make serious right would never million year discuss mental health issu need new employ judg bat reason give job someon equal qualifi share talk problem given job instead also lucki work place often function better home person better allow option give depress episod work experi work compani supervisor knew deal depress addict recoveri help understand made easier slack new job told anyon even though think support understand feel better keep person issu work place though understand complet peopl mental health issu lucki function somewhat open yes think would rare often\",\"sure discuss weak interview answer earth would discuss weak applic open yes applic often\",\"depend job requir instanc long hour heavi lift would boot crazi ass right would impact negat open yes rare often\",\"simpl need know hire need know hire neutral think would rare rare\",\"bit know environ new employ would make nervous bit know environ new employ would make nervous open mayb rare often\",\"would previous employe awar legal protect afford candid employe physic impair temporari perman act accord issu regard real tend predict timelin regard recoveri applic employ less awar legal protect afford candid mental health issu would also fear unstat bias influenc interview result much would physic issu open mayb applic applic\",\"would depend health issu health issu would immedi affect job perform diabet would bring interview someth sever narcolepsi might bring depend control mental health becom promin issu recent feel like still lot stigma surround point cultur would bring hope within next 20 30 year stigma gone brought safe interview somewhat open think would rare sometim\",\"bring unless absolut necessari day day job function fear discrimin hire bring unless absolut necessari day day job function fear discrimin hire somewhat open yes think would sometim often\",\"small physic disabl sometim affect work guess effect litmus test prospect employ cultur prospect employ unabl answer question mental health servic probabl want work said acknowledg fair privileg posit take mani peopl choic open yes often often\",\"place need look sound best seem like time mention someth disord happen context mayb case someth suppos tri look best talk flaw seem unnecessari somewhat open yes think would sometim often\",\"seen peopl physic health issu previous accommod avoid stigma bring open yes think would applic applic\",\"problem problem one want hear problem want solut possibl physic issu could lead issu could impact perform would immedi give short interview show door career suicid someon said manic depress sometim get shit done depress time get done hour entir team week compani go think nut would impact negat applic mental ill yes think would rare applic\",\"felt would negat effect chanc get posit feel like would prevent futur employ somewhat open yes think would sometim often\",\"depend whether physic health issu would prevent job would bring know widespread stigma toward mental health would avoid discuss interview unless want job applic mental ill mayb applic applic\",\"would depend upon would direct indirect bear posit applic would bring bring unless prompt would depend upon would direct indirect bear posit applic would bring bring unless prompt physic issu somewhat open mayb applic applic\",\"physic health issu would reason discuss asthma seem like ask accommod later necessari eg ask perfum scent ban would like okay addit give inform employ allow use employ decis like health status offer might made look troubl peopl use inform conscious give employ reason choos somewhat open yes think would rare sometim\",\"depend great job involv adapt quick job involv heavi lift exampl would admit would probabl wind start physic health issu sever enough discuss visibl say cancer go go chemo would discuss huge possibl hire due potenti medic leav lot absenc mental health issu huge stigmat made mistak let last employ find adhd adderal prescript realli think head engin would joke meth horribl moment includ degre interview phd candid done groundbreak work smp thread render sgi 90s around awesom luckili made joke talk shroom lighten one mani wors situat consid one valu employe abil get anyth done llvm compil system one day point manag question higher dosag medic stupid meth joke got wors realli light accus make somebodi given countri state drug law someth someth activist reform degrad also made fun autist despit disord somewhat open yes rare often\",\"want screw chanc job definit would afraid job mention somewhat open yes sometim often\",\"want work someplac would issu feel realli comfort potenti employ close colleagu friend would probabl speak depress direct would bring concept mental health day advoc howev matter somewhat open mayb rare often\",\"sure want put best foot forward depress entir life work life open yes often often\",\"employ weigh impact qualiti avail work cost product well cost case ensur proper equip obes unfortun someth avoid employ notic regard concern employ becom issu will discuss matter somewhat open yes think would rare sometim\",\"direct job affect think matter mental health issu seem treat like real issu somewhat open mayb sometim sometim\",\"worri hire due potenti cost work time lost believ equip understand yes alway open mayb often often\",\"would make unabl perform certain task cannot expos certain liquid heavi thing lift etc employ may see cost somewhat open yes think would applic applic\",\"depend natur issu think might bias look reason hire expect sub par contribut intern stigma way strong somewhat open yes think would never often\",\"want get hire want get hire applic mental ill yes think would applic applic\",\"better open interview health issu speak employ attitud much anyth answer want know potenti employ would react consid work open think would rare often\",\"afraid would cost job afraid would cost job applic mental ill yes think would applic applic\",\"physic issu privat would job suicid open mayb applic applic\",\"would suspici would negat effect opinion potenti employe bring superwoman factor littl physic applic mental ill yes think would applic applic\",\"bias exist stigma somewhat open yes sometim often\",\"might call cultur fit issu might consid sign incompet incap handl job neutral yes think would often often\",\"work tech physic issu unless hard broken matter ocd littl obsess thing pretti open neutral mayb applic applic\",\"peopl understand physic health issu wherea mental health never sure may accept somewhat open rare often\",\"might think high mainten expens hire would depend sever condit extent would affect capabl work applic mental ill mayb applic applic\",\"relav job one applic applic mental ill mayb applic applic\",\"bias happen want factor howev overweight know factor interview hide even though thing wrong mental unstabl unabl work regular hour could bias interview inform somewhat open yes rare often\",\"would assum would put lower list get job negat count job somewhat open yes think would sometim often\",\"would depend health issu whether could requir accommod would depend whether issu could requir accommod somewhat open mayb rare sometim\",\"probabl depend atmospher attitud interview matter somewhat open think would sometim often\",\"physic health issu affect abil job yes would appli would consid somewhat open yes think would applic applic\",\"affect job feel potenti employ need know would say depend general speak would hesit bring mental health issu interview situat circumst could chang mind applic somewhat open think would applic sometim\",\"mental health issu well manag open peopl trust happi discuss overal relev bring workplac would impact negat open yes think would never often\",\"would discuss make sure open front work depend degre affect work affect work would want front open mayb applic applic\",\"stigma somewhat open yes rare often\",\"would impact negat somewhat open yes think would sometim sometim\",\"ask direct would tell want ruin chanc get job ask direct would discuss anxieti want think would wors job someon els somewhat open yes think would rare often\",\"look like take lot time die soon employ somewhat open yes sometim often\",\"realli want job necessarili bring knew actual get job realiz legal discrimin odd would somewhat open mayb applic applic\",\"risk get offer risk get offer somewhat open yes think would sometim sometim\",\"worri negat percept nonstart would impact negat applic mental ill yes think would applic sometim\",\"depend person extent would affect posit peopl strong stigma mental health issu instead talk work life balanc burnout tech industri get feel understand somewhat open mayb rare sometim\",\"fair fulli disclos employ cannot discrimin physic health would worri compani would know deal mental health issu open mayb sometim sometim\",\"rather privat manner one might wish share everyon posit may part team way interview succeed case base linger mental state one would open becom vulner negat way somewhat open think would sometim sometim\",\"despit fact canadian human right act forbid discrimin base mental physic health mani public sector compani tri cross line ask question touch health way minim insur premium cost open yes think would sometim applic\",\"although protect convinc harm chanc although protect convinc harm chanc somewhat open think would never often\",\"seem high unlik relev also seem high like irrelev point interview somewhat open rare sometim\",\"employ incent pay less tax hire ppl disabl franc sure usual know ppl interview somewhat open yes think would applic applic\",\"feel would like weigh consid job whether intent conscious feel would definit weigh consid job whether intent conscious somewhat open yes rare often\",\"unless appli someth requir specif physic skill believ physic health factor interview percept assumpt automat immedi disqualif applic mental ill yes think would applic applic\",\"anyon busi mine would get hire would impact negat somewhat open yes think would sometim often\",\"feel interview enough time employ make ration judgement whether candid still job ask would disclos mental health condit employ interview perhap prior accept offer somewhat open yes think would often often\",\"impact day day job would bring discuss otherwis would wait see environ compani accept less perfect instant seen weak also issu mental state discuss weak would impact negat somewhat open yes think would sometim sometim\",\"know depend current job made offhand refer therapist cover letter also believ woefulli underqualifi time vouch taken applic complet serious somewhat open think would sometim often\",\"affect abil perform job get work feel like mental health privat issu matter somewhat open mayb sometim sometim\",\"unless would impact work nobodi busi unless somehow direct impact work nobodi busi applic mental ill yes think would applic applic\",\"ms stigma ms peopl ms cognit issu mental health current well control one would know tell open think would rare sometim\",\"relev hire process get hire dock pay open yes sometim often\",\"depend issu whether would affect kind work could get job somewhat open yes think would rare often\",\"often easier talk less stigma associ stigma somewhat open mayb sometim sometim\",\"physic health issu social cultur accept would reflect poor interviewe mental health issu somewhat open mayb sometim often\",\"import job hurt somewhat open yes sometim often\",\"employ seem will deal workplac assist physic ailment feel like mental health issu least state pennsylvania littl poor administ protect workplac somewhat open yes think would rare often\",\"might reflect poor candid els equal seem employ would want hire worker chronic mental health problem one chronic mental health problem somewhat open yes think would applic sometim\",\"depend would affect work suspect would stop get job would impact negat open yes think would sometim sometim\",\"would thought would effect job perform thought hire parti might concern feel comfort discuss probabl mental ill accept matter somewhat open yes think would rare sometim\",\"would probabl depend specif physic health issu would worri affect chanc land job especi would need special treatment time work etc would definit think would affect chanc get job feel like good chanc would view profession bring penal interview bring semi person inform go end year relationship process move disclos potenti employ found recruit view profession somewhat open yes think would applic sometim\",\"make sure physic health issu would accomod ensur mental health issu would accomod would depend mental health issu somewhat open mayb applic applic\",\"diabet natur thing mention feel much stigma attach mental health issu bring interview somewhat open mayb applic applic\",\"unlik prospect employ busi unlik prospect employ busi affect perform employe matter open think would never never\",\"affect abil work requir modif environ pretti sure would elimin candid would trigger bias even well intent hire team would make suspici technic abil final ugli histori conflat mental ill hysteria emot would afraid would trigger certain stereotyp surfac somewhat open yes think would never often\",\"concern could overshadow legit issu concern could overshadow issu somewhat open think would sometim often\",\"noth futur job respons open yes sometim often\",\"want know generat bias interview want know generat bias interview somewhat open sometim often\",\"would never bring health issu may perceiv negat reliabl employe addit implic mental health overal group dynam neutral yes think would applic applic\",null],\"marker\":{\"opacity\":0.5,\"size\":5},\"mode\":\"markers+text\",\"name\":\"0_issu_job_health\",\"text\":[\"\",\"\",\"\",\"\",\"\",\"\",\"\",\"\",\"\",\"\",\"\",\"\",\"\",\"\",\"\",\"\",\"\",\"\",\"\",\"\",\"\",\"\",\"\",\"\",\"\",\"\",\"\",\"\",\"\",\"\",\"\",\"\",\"\",\"\",\"\",\"\",\"\",\"\",\"\",\"\",\"\",\"\",\"\",\"\",\"\",\"\",\"\",\"\",\"\",\"\",\"\",\"\",\"\",\"\",\"\",\"\",\"\",\"\",\"\",\"\",\"\",\"\",\"\",\"\",\"\",\"\",\"\",\"\",\"\",\"\",\"\",\"\",\"\",\"\",\"\",\"\",\"\",\"\",\"\",\"\",\"\",\"\",\"\",\"\",\"\",\"\",\"\",\"\",\"\",\"\",\"\",\"\",\"\",\"\",\"\",\"\",\"\",\"\",\"\",\"\",\"\",\"\",\"\",\"\",\"\",\"\",\"\",\"\",\"\",\"\",\"\",\"\",\"\",\"\",\"\",\"\",\"\",\"\",\"\",\"\",\"\",\"\",\"\",\"\",\"\",\"\",\"\",\"\",\"\",\"\",\"\",\"\",\"\",\"\",\"\",\"\",\"\",\"\",\"\",\"\",\"\",\"\",\"\",\"\",\"\",\"\",\"\",\"\",\"\",\"\",\"\",\"\",\"\",\"\",\"\",\"\",\"\",\"\",\"\",\"\",\"\",\"\",\"\",\"\",\"\",\"\",\"\",\"\",\"\",\"\",\"\",\"\",\"\",\"\",\"\",\"\",\"\",\"\",\"\",\"\",\"\",\"\",\"\",\"\",\"\",\"\",\"\",\"\",\"\",\"\",\"\",\"\",\"\",\"\",\"\",\"\",\"\",\"\",\"\",\"\",\"\",\"\",\"\",\"\",\"\",\"\",\"\",\"\",\"\",\"\",\"\",\"\",\"\",\"\",\"\",\"\",\"\",\"\",\"\",\"\",\"\",\"\",\"\",\"\",\"\",\"\",\"\",\"\",\"\",\"\",\"\",\"\",\"\",\"\",\"\",\"\",\"\",\"\",\"\",\"\",\"\",\"\",\"\",\"\",\"\",\"\",\"\",\"\",\"\",\"\",\"\",\"\",\"\",\"\",\"\",\"\",\"\",\"\",\"\",\"\",\"\",\"\",\"\",\"\",\"\",\"\",\"\",\"\",\"\",\"\",\"\",\"\",\"\",\"\",\"\",\"\",\"\",\"\",\"\",\"\",\"\",\"\",\"\",\"\",\"\",\"\",\"\",\"\",\"\",\"\",\"\",\"\",\"\",\"\",\"\",\"\",\"\",\"\",\"\",\"\",\"\",\"\",\"\",\"\",\"\",\"\",\"\",\"\",\"\",\"\",\"\",\"\",\"\",\"\",\"\",\"\",\"\",\"\",\"\",\"\",\"\",\"\",\"\",\"\",\"\",\"\",\"\",\"\",\"\",\"\",\"\",\"\",\"\",\"\",\"\",\"\",\"\",\"\",\"\",\"\",\"\",\"\",\"\",\"\",\"\",\"\",\"\",\"\",\"\",\"\",\"\",\"\",\"\",\"\",\"\",\"\",\"\",\"\",\"\",\"\",\"\",\"\",\"\",\"\",\"\",\"\",\"\",\"\",\"\",\"\",\"\",\"\",\"\",\"\",\"\",\"\",\"\",\"\",\"\",\"\",\"\",\"\",\"\",\"\",\"\",\"\",\"\",\"\",\"\",\"\",\"\",\"\",\"\",\"\",\"\",\"\",\"\",\"\",\"\",\"\",\"\",\"\",\"\",\"\",\"\",\"\",\"\",\"\",\"\",\"\",\"\",\"\",\"\",\"\",\"\",\"\",\"\",\"\",\"\",\"\",\"\",\"\",\"\",\"\",\"\",\"\",\"\",\"\",\"\",\"\",\"\",\"\",\"\",\"\",\"\",\"\",\"\",\"\",\"\",\"\",\"\",\"\",\"\",\"\",\"\",\"\",\"\",\"\",\"\",\"\",\"\",\"\",\"\",\"\",\"\",\"\",\"\",\"\",\"\",\"\",\"\",\"\",\"\",\"\",\"\",\"\",\"\",\"\",\"\",\"\",\"\",\"\",\"\",\"\",\"\",\"\",\"\",\"\",\"\",\"\",\"\",\"\",\"\",\"\",\"\",\"\",\"\",\"\",\"\",\"\",\"\",\"\",\"\",\"\",\"\",\"\",\"\",\"\",\"\",\"\",\"\",\"\",\"\",\"\",\"\",\"\",\"\",\"\",\"\",\"\",\"\",\"\",\"\",\"\",\"\",\"\",\"\",\"\",\"\",\"\",\"\",\"\",\"\",\"\",\"\",\"\",\"\",\"\",\"\",\"\",\"\",\"\",\"\",\"\",\"\",\"\",\"\",\"\",\"\",\"\",\"\",\"\",\"\",\"\",\"\",\"\",\"\",\"\",\"\",\"\",\"\",\"\",\"\",\"\",\"\",\"\",\"\",\"\",\"\",\"\",\"\",\"\",\"\",\"\",\"\",\"\",\"\",\"\",\"\",\"\",\"\",\"\",\"\",\"\",\"\",\"\",\"\",\"\",\"\",\"\",\"\",\"\",\"\",\"\",\"\",\"\",\"\",\"\",\"\",\"\",\"\",\"\",\"\",\"\",\"\",\"\",\"\",\"\",\"\",\"\",\"\",\"\",\"\",\"\",\"\",\"\",\"\",\"\",\"\",\"\",\"\",\"\",\"\",\"\",\"\",\"\",\"\",\"\",\"\",\"\",\"\",\"\",\"\",\"\",\"\",\"\",\"\",\"\",\"\",\"\",\"\",\"\",\"\",\"\",\"\",\"\",\"\",\"\",\"\",\"\",\"\",\"\",\"\",\"\",\"\",\"\",\"\",\"\",\"\",\"\",\"\",\"\",\"\",\"\",\"\",\"\",\"\",\"\",\"\",\"\",\"\",\"\",\"\",\"\",\"\",\"\",\"\",\"\",\"\",\"\",\"\",\"\",\"\",\"\",\"\",\"\",\"\",\"\",\"\",\"\",\"\",\"\",\"\",\"\",\"\",\"\",\"\",\"\",\"\",\"\",\"\",\"\",\"\",\"\",\"\",\"\",\"\",\"\",\"\",\"\",\"\",\"\",\"\",\"\",\"\",\"\",\"\",\"\",\"\",\"\",\"\",\"\",\"\",\"\",\"\",\"\",\"\",\"\",\"\",\"\",\"\",\"\",\"\",\"\",\"\",\"\",\"\",\"\",\"\",\"\",\"\",\"\",\"\",\"\",\"\",\"\",\"\",\"\",\"\",\"\",\"\",\"\",\"\",\"\",\"\",\"\",\"\",\"\",\"\",\"\",\"\",\"\",\"\",\"\",\"\",\"\",\"\",\"\",\"\",\"\",\"\",\"\",\"\",\"\",\"\",\"\",\"\",\"\",\"\",\"\",\"\",\"\",\"\",\"\",\"\",\"\",\"\",\"\",\"\",\"\",\"\",\"\",\"\",\"\",\"\",\"\",\"\",\"\",\"\",\"\",\"\",\"\",\"\",\"\",\"\",\"\",\"\",\"\",\"\",\"\",\"\",\"\",\"\",\"\",\"\",\"\",\"\",\"\",\"\",\"\",\"\",\"\",\"\",\"\",\"\",\"\",\"\",\"\",\"\",\"\",\"\",\"\",\"\",\"\",\"\",\"\",\"\",\"\",\"\",\"\",\"\",\"\",\"\",\"\",\"\",\"\",\"\",\"\",\"\",\"\",\"\",\"\",\"\",\"\",\"\",\"\",\"\",\"\",\"\",\"\",\"\",\"\",\"\",\"\",\"\",\"\",\"\",\"\",\"\",\"\",\"\",\"\",\"\",\"\",\"\",\"\",\"\",\"\",\"\",\"\",\"\",\"\",\"\",\"\",\"\",\"\",\"\",\"\",\"\",\"\",\"\",\"\",\"\",\"\",\"\",\"\",\"\",\"\",\"\",\"\",\"\",\"\",\"\",\"\",\"\",\"\",\"\",\"\",\"\",\"\",\"\",\"\",\"\",\"\",\"\",\"\",\"\",\"\",\"\",\"\",\"\",\"\",\"\",\"\",\"\",\"\",\"\",\"\",\"\",\"\",\"\",\"\",\"\",\"\",\"\",\"\",\"\",\"\",\"\",\"\",\"\",\"\",\"\",\"\",\"\",\"\",\"\",\"\",\"\",\"\",\"\",\"\",\"\",\"\",\"\",\"\",\"\",\"\",\"\",\"\",\"\",\"\",\"\",\"\",\"\",\"\",\"\",\"\",\"\",\"\",\"\",\"\",\"\",\"0_issu_job_health\"],\"textfont\":{\"size\":12},\"x\":{\"dtype\":\"f4\",\"bdata\":\"cYHaPL7U0L3uF+0+4xmbvuD0dcCPpKe\\u002fIESVPxd9wr8gvxPAouAjP40MTMAATty+p6DBv62KrL+L5FQ8ljX4P4tZEMCnLdq\\u002fdmAZQDIcT79eG1U\\u002fgHWUvQR\\u002fCcC506I+7WTFPx3vDMDIZeI+U0XyP\\u002fWCdz8g6K4+tCiwv+o1aD9LX709mkd0wLymnb84Tl0\\u002fK3YQwOYrpL+W9VXA87cjPnnLMsCtdxK\\u002feUYoP4tme8ByuWbAQJydvvx+WcCjVG3AYp70Ppv3wz89Ca+\\u002fAMxjP6qODsDABIu+iNgmvUq3VD710IC\\u002fPlL3v5Qdf8DlM0W\\u002fGCRWP4zegz+3Opc+DLArwEReisAkCWnAnidHwFa61T9c3Ra\\u002f6Ya6vt7IZT+jaxnAmv5cwLwaI8C07qo+A0BEPuxPvkAp83LA+Oarvgbhor47LXk\\u002f0eElwI\\u002fi7b\\u002fDSYy+b\\u002f0YwGFsqT\\u002f2Fgs+ySoPv8FE2b4Vz1w\\u002fRmkQv\\u002fCior\\u002fo0My++Gl4P2RD2j6PUA4+j+hPv8iRe8AFPPe\\u002fRUzyv8MNgL9xEdu\\u002fUyUTwEF2UcCz0Aw\\u002fRmQmwNo6ZL+MWMu\\u002faIDVvzyNAMAexOA+\\u002fS1lP4rgJ8AqLsg+3A8\\u002fPmlFicDAoUa9pQ0rvuYsIEDPvIq\\u002f2Hh1Pkg3M8Biwti\\u002f1617P1WKMr9cbOO\\u002fAFNPPznVFz+\\u002f3u++yYMYPy2VML5XFHc\\u002f9ghHwIfFBkDrZn0\\u002fT0iMP7mjAT85ci4+GYYLwMznRcD3nki\\u002fzT5EvmxL879sQ23A6xpVPxpPtb9cRFm\\u002fSU2GvvAeFL+QxxpA6mzUv2vwbcCRcEzAEBO4v1wQTT8RyoTA6CEnwMyRSMBRKjI+6zWUvm3nJcB\\u002fDvW+f2uqPicvWj3jxCPA+oPCP\\u002fa+bsBkqAY\\u002fatgEO9RFhj5YE7Q98XLqP7qJkT46eFvAQEoHwHiAEEB9Rsq+icatPRRHIsBALQa\\u002ful9TwJ2S07+wHfc9opRGwGY2OcCN0nE\\u002fW07av06ddj7RMTu+ZE+3vw0Xbj8nw0s\\u002fUNKavk8qCL\\u002fjvoa9xha3vnE1KMATyOe7jHVcwPubVcAVFaW+uJABP1XNv75mSInAE2LAP84nnT\\u002f3Kxy9aViuv2wsuL9hDDnA1fdPv2URLsAJXEjARYdNwBFzAT59lRXAr3NfwKVQVcCowl7ARZK8QFdb1L+9\\u002fnfAIKuNPueFxz\\u002fIZxrA+qfVvtlXAb85FT89EIsewHQpD8CxOhLAXn+zv6jlVMADPonAA5QlwHLOW7\\u002f4j9y\\u002fF94CQClLBz4BFy8+z+fSv4vnQr9OIHk\\u002fp6hdwIrhG8AzHpu\\u002fn1YYwIjY87+E74K+jc5rwFZ17r\\u002f4g6+\\u002fYEHFvyHcgMCR4wLAwGl+wFAIxD8smCPAr3drwFV1fb\\u002fLL489C6A\\u002fv3sjNsBwjXvAjpQ+wHu3Q8B+Om0\\u002fE5bqPt\\u002f46L9N4hDAl\\u002fvLv1bgp7\\u002fzayE\\u002fMqa\\u002fP\\u002fPCXz80n3nAFmeJP0wlPj5v89A9K9SSv1R1VcC\\u002fIUfAZCVFP8l1gTuHKzrAEfJGvoeZUsCjThxAI7SIwG9nkT+9Rqq+K9qAPx9ft78vRga\\u002fFWKaP3xxRcCu1T2+nQQTv207xb817iK9YycyvkCKI8BMdzi\\u002fa\\u002fgjwEELaT8\\u002fY3u9Ge9LP35JcDyXJgBAsOOSvrLizb+gUbU+HdwJwCeS3L3FM8W\\u002fMRcKQDJvv786LRq\\u002fRWVUwHshL7\\u002fP9vG\\u002fFwz+vx9q3r\\u002fmcErAFPZhwHE0d8DhaoA\\u002fe6UGv1KDLcBd01I\\u002fWBzgvvcBBr\\u002fv3N0+SzYYP\\u002fRTHsDgynfA3q+nP2bAQ8BSAKe\\u002fWYd0wA1JJMDHdWzAZ7MuPf6dRL9VHCm9IjKFvRQZWMDilVs+boS2PBZnZr1MmjXA8HL7vzj\\u002fSr9pK3c\\u002flzSMv3+Unj956s6\\u002fMW1EwCtAhMCRF4q\\u002fz0JuwGUjUb\\u002fgCXvAYe2AP3WgIz\\u002fDTAw\\u002fK+rrv0NPSL+JvgA9ZLIcQMntScBOmM+\\u002fjnnTvyGNBcBfFqS+oeEjwLjNLr9jUi7AtD1HwF55IcCaVojAlH4cvhl0GkC1rJg\\u002faGHmv\\u002fxYpT9fXA8\\u002fufzav8DmXD\\u002f5h7y\\u002fODrCvyuogLufRny8SqWbvz1oiL\\u002f9bui\\u002fOFoSPmSzhb+ds4HA0qF5wPKD6j7jFpZAcrgrwHcYzb8Kdey\\u002fsPHHPoPdgT+HPrC+IZwvwLEf8b8kj4O\\u002fF\\u002f02Pw+Zvb7mFhbAMxxJPm+WUj9xVUk\\u002faACKv9pYGMBbh\\u002fI\\u002fw8v4vp79hj+cTkO+0RBPwHrcsb8BgTbA\\u002f5QiwIu6BD7PFKe+TuYsvsXLAb0OyMc\\u002fi5KwvkOwN79Zyaq\\u002ffTn0v3iCAj81\\u002fju\\u002f1ncbwO+FEb3H15g+p7nov\\u002fyvHUB+rPa\\u002fQyotwMAhS79exsI\\u002f00AHP09+WcAok5q\\u002fJ\\u002fhdv0A8i8Bc78W\\u002fjC0dwNuHjr\\u002f9QFjAcn1AwG1SBT7EJqu+R\\u002fFkPixeXD\\u002f+RG8\\u002fUYoGwHWUfT7yJEy\\u002f695bwBkX\\u002fr6Afs4+iFx4wHGyd8CkQ2+\\u002fory2v405h76wWSLAd4eNvR\\u002f9b8D5H66\\u002fQGADP\\u002f2dmT9Y2V6\\u002f6j2mv0vwTsDUCj0\\u002fTnXNv62wUsDmrMC\\u002fz+WsvjWDOsAYn+I+BSwEwEpc67+DpUm\\u002fBebnPnFwbMCBlfI+6nSAwIIk3b8QKSHAkNOFPwVjOD5FiSk8CkszwFmLN8B2I0A\\u002fm833v4V7kb+x1+lA2yFnwNTxPMCcdrxAtixLv\\u002fuCbcDBsmA\\u002fd\\u002fH0vt0Lfr45g+q\\u002ftWgdwKJp4L7O0dW+tnR1v3WxC7+jIGzAhkjFPzqBQD4sd9q+0g2dPm\\u002fKIMDReJS+XDO\\u002fPlit3D64GBrA5TlwwEE5Fr8vbaK\\u002frfz8Paru0r9Fr3ZAloPlv\\u002f13ez5Tily8RGTMvn5dhL57wFK\\u002fmg1lPpW7yUCyDXLARnJzwESug75pgnLAE5EowA2Gpr+DqFi+ODoTwCw9Nz6xhYE\\u002fVgSoP0VZTz\\u002fQbV0\\u002fircbvcZFjb8mgi89zrtmP+fVP8Cdvb09G9RjP41UqDyYxL5A1Kg3wJvZ4b8ckfE\\u002fkLcFwCCpUz+L4NC\\u002f0GOdPSfyYz87ud8\\u002fLjJXPvYcEr4wgsa\\u002fzr3fvrJ+b8BaqF2\\u002fX\\u002f8dQPmaij6okyLAb71VwMh5gMDX3\\u002fu+6xMYwO0lKcAW8eU\\u002fb+z8v8xwmT\\u002fLT4C+Nza5PmfFmD\\u002f6hKy\\u002fVoGJvlqPgz9WVG6+fLSfPsp+\\u002fb6mNBg\\u002fyA7QvzicnL+w3gbAE1ObvyVy5D5Zh56+fP0ZwBPyGj9Paau\\u002fYSQjPyDgWL12b2Q+1Ot+wKiMCb9w0inAniYPwOqPCsBAbBi\\u002fFMUYwA3yqb\\u002fH0Ka\\u002fmNuEwLwl7z7SSFM\\u002f17ufv8iiEL68eUHA4EJnPpN4HUApZYHARTcVQO9Ptj1LWda+qdo6wGWlTcBzwh3Axu6tP2KGTr\\u002folmzA8p3oQH7raj5iayPAyTrivjeXVsDG8ag8NJ2Xv0niMsAEKiDA5h0cQFmr07\\u002f\\u002ffjPA+20UwKYq2r+\\u002fLoK\\u002fYZqvv1MiIMA8FH09wHfSvkpLaMDjoz\\u002fAYDebvi6nScCmEMq\\u002f3VONv76ENUDFkoPAa2ESvw2VZ78WJA3AjY0LwBRtj78xpcy9tE0fwLfelj8+wye9bGiGPopVAr783a+\\u002fbMjmv\\u002fGCTMCJSJS+WGA7P1nSwr7egIjAjuOov8HBLj56N8k\\u002fLrIWwKo3ib7lyIS9rztJwMqkb8BSG88+nfgxwOjOE74jEbi\\u002f5xpPvdutgD950zk+pm9uwPZjFj\\u002fSY1E\\u002fO6wVwG1KFMD1QsI+Iwd\\u002fP8L1FcAOMTc\\u002f2\\u002favPiU9nTvldmrA8rcMv1TrCUApMM+\\u002fKhqWv\\u002fzI4T29cq6\\u002fqbtEP1SGXcB0DkHApy6GwFmdib7PVY09m9d6Pe5Md77a2Zs\\u002fJ\\u002fJjv39IiD6APhxAcLBnwNYOFbof5kq\\u002f9N7kv+zeI74w0LK+E\\u002fYLwD9lmb\\u002fjVS0\\u002fs30MP21SIr6NVNK\\u002fodw5wFOn274oO6492axuvieXx7\\u002f6QiHAWDYPwP1BWb5fOCQ\\u002f63NEwJvm275Oyxc+woFbwLG0pTzIcse8gyHevwds17p7ehDA4\\u002fa+vkd8ez\\u002fxzU7AQBUcQPyEicDHf1XA8uEiwJe0W8BiAEo\\u002fFlEVv2rRAsChdkc+1UO3vy569D9CsVs\\u002fcOqWP1aXgsAiZo++BEyfvzZrK8DxQFLA0tbsPdIpwz8qvS\\u002fAM1YXP9TT5L5JtAk\\u002fTXQ1wCRVTL807CbAQs1XwMIxpD\\u002f7+hq\\u002fyRTQvnqK9L55myvAQWeGwC73GMCO2lrAfzHfvyBUl7\\u002fPV2K\\u002f9e3iPj3Erb9\\u002fgJy+ttAiwM\\u002f1k78t6vo\\u002f8U\\u002fCPggf1r+8r5\\u002fAZXrCP272K8DTEETA6P3nPmA3C7\\u002fW23DAYZL0Pwn8Wj93oJU\\u002fcEcnP32eob9xWCy\\u002fMMPPPy4mWb9XNgw+tDqfP+Lj6j72DFLAidnQP3mVhcAvoIPA48ajvhPavL9IR8W9f\\u002fmnPnHfhcAMLm0\\u002fdA+Mv4KXyz5Q8+a\\u002fy0G0vQ8JW8AfEDa\\u002f0laxv8w0+z0QON8\\u002f3i5xwC43A7+IBfO\\u002fbWePv3b8H8DaW0XAwkkSwMFM3D4KlD7AiFjEP\\u002fpqO74uyrm\\u002fRvsCwEeO0r9siQQ\\u002f9iwhwE37VMB2Eku+VsUowKH+XL3Pu0E\\u002fKXyGPqCnWz5O8\\u002fC\\u002fc6NVvxpfA7+V334+JlMlwGh+HMAFbg3AImYyO0PjtD4OVIY\\u002fvX1bP9FII78E4wjAgjrPvqRy+7\\u002fikWI8Au1wwCHICMD0ucM+GHcKwJA6Z7+bCcW\\u002fizYHwO7RIj\\u002fk6gnAXokmPy2gj79QWRDAf7tQPy20DL9p9oI\\u002fJfs7wEL5Nb8zXD7ACQqFv7y3GsAqt4LAV4rmvnX9vr+Q0UrA5iojwGPxQ8Csc2C+yd2nPj5syb9kLog8gjyyv9gb5b9vn03AqWbgvloLisD1f0k\\u002ffvBCPgftKT8fPf861yjMP72JcMBhsVLA\\u002fQgswOxQ2Do\\u002fSCLAoAyVP7NFCj0jQdQ9SbJ6Pr1FDMArV1s\\u002fXa7qv2iZib4K+BfAXVUOwIZaQsDBg3nAdwheP609HL7iMoHATZ8xwEEkIz8Nax3AXOEhwKzKGL\\u002fe2inAD91Pv\\u002fX5N8DelB7ALzbtPZfwFsBkII0\\u002fWikfP9E\\u002fnb1b\\u002f1PAZcl2vw==\"},\"y\":{\"dtype\":\"f4\",\"bdata\":\"\\u002f2QVQKyLJUCQyG9AwhIeQL63pb+FHku\\u002fNKAtQE2XqD5NV62\\u002fmQCfP+6p5D1jdQBAd9Etv6Hxvz0faQm\\u002f4+JwQCkRpL6ZO44\\u002fvSZgQDHa6D4PnYpASWTzP6IcPD5N5fo\\u002fdzoRQGA8qj0escA\\u002fnMByQODbjkAho0E\\u002f9fKJP2fIVD8RU0I\\u002fN6iWv3AdTz6eCT8\\u002feCDcPfUXRD6iz2u\\u002f+FgdQFt9vb\\u002fV4ABAo5H1P22tur+IWWu\\u002fLMn7PyUnBsA03Ii\\u002f70MdQMbxEkDdbYa+fWtgP7SDSb\\u002ff7hq\\u002f5ADyP6Gijr5cld8\\u002fUw3\\u002fvRA9vr\\u002fnBQ5AJ9OKQIexkEBbQFc\\u002fSSK0vhqkCcBTVeG\\u002fZ8GBvWJml0AIbiJAWjHrP2+Li0CMDSi\\u002fOqsBwHTl3jmX8RJArrORvcJL20D8zZ+\\u002f8N5jPxWPOkBbc9A\\u002faBUQP2OFhT7Zm6S+uAz1vegcj0AjXjpAMWgvQDgiKr4gJIw\\u002foNC+PyK34T2H4Ek\\u002fnnl0P1kwyz9KE9Q\\u002fXxUfQEPdtL8p9hk\\u002f+5LIPsoCNT3HbwQ9arksv2fuEb962ro\\u002fVpStvsOCwj\\u002fn4J8\\u002fEciPP8ymur5aZyG+vptTP7cYuL3XV4M\\u002fOYyRvhGbC8D3XBtA+28BQN0iY0BExbo\\u002fdkcgQKhizb6n7yO\\u002f8NAiQJf4FEBdP3k+iUOKQNPOFUDoNzNABCubP2eGC7\\u002fj8ms\\u002fB6vIv5mubkBgCeI\\u002f5fJUP4qoI0AvNbC+rrZpPgvoeT5ILxBAaYgPQC8GKb85L4+\\u002fFnjPP2XKgT8DyT2\\u002fIwAxv5idJkC\\u002fu2dA2sGJv5jZjb8J1QLAqTmtP50QikDZTAfAVm+zvyRR3LxnpL4\\u002fBYKLvtbDib4EUC1AqDGsuzUkuz\\u002fhfXE9jjEVQK+5kL+UN6Q\\u002fiZYXQJWMDUAaz+i98yx3QFctXEA0YwjA3qiAvwXHdkDplUC\\u002fYRtFQPyS4L7duy9AuitDv2pLjT+P\\u002f62+XSymvrHRpL9h9nA\\u002fa3yGPwjZAL4rqi5ARsiAvxiNaT8i9wZASe0uQHw+Gb\\u002fQPlc\\u002f2PtHP\\u002fqHuL1IDSS\\u002fYswxv0yIAcDsKzG\\u002fc4RjP032+j9iLQzAHygMQIlaKEDQAfw\\u002ff2oXv8l7cL\\u002f0PVo+j68XQG8NVL2WzoS+BHitPhzbN76AICK\\u002frwLJv8X6BMARWiy\\u002f2ETdQJNlv75MbwS\\u002fcu8cQEWdFUCtFic\\u002fvGtnP1nDDL+BidQ\\u002fkr1SPsBxP78GQOw9WuvZPjTKBcCAnwzAxD06PoCWFUBuHQ2\\u002fJYprQIS0C7\\u002fNDgW\\u002f6lBmvzverD9cxY5AyI0GwIQt6D5k51y\\u002fdgjlvjeH+z6KAuI\\u002f1RX3v2chLL8AZdm7CI6XvuWlCsDa5uc9bl0QwPCME0AyVLe\\u002fTzWbv5QtL7+JygpAEUgJPiQIGz5kXfq\\u002fKcuNPjECrT6oLtU\\u002fHUnPP7uXeL0NTDw+po2xP1a7Hz58mSJAYdUWQLVHaj+F0w3AOtmDP1uRzL3nR8O+UxZ2vroMAsBGxSa\\u002fTouHQKGl7b54jKK++pKQP34jGb9GumZA1jILwJ36aUBUWOm+9z5QP+VsHL4jdS9AlNQnQEXXlL7psTw\\u002fCT4+v2JrBT+PnO8\\u002f7FwcQPHUgL68Tx2+G9ewvxBFXT+LQeY\\u002fvBeKQHtvoD+bp3xAEUpVPxBJf79jwsY9L6zPvnlpBUB8fTu\\u002fpfN8QB686r7wf9c\\u002ftCRJv2rVpD8ReOa+SUO0vsokg72QJps+XUffv1YBtL+OLktALPkzQPjZ7b5YUopA2EsUQHOEVL9YKWdAXwomQGdfhL5YTqS\\u002ftLGOQOryJr\\u002fZq6m+dobov0qWgL5VUAvA4rIQQDrlgb6Vk7I\\u002fXP4WQDv1BMC3DE287FqCvvv8J79YtyE+z\\u002fl0v9yXGEAc\\u002fI9ASpYnv9r2J0A\\u002f1Zs\\u002fBhBBv4pGBsDeZl++GFyDvwMxPL+Y57W\\u002fNHZwPxkFlj+mZ84\\u002fQGn3vavdD0BWoqQ\\u002ff0lfQHqb0L9oIg+\\u002f6ylzv2LUT7\\u002fSQT1ABDslPzpjMT\\u002f8tEI\\u002fY4nCvnjEyr7M0AnAOxbdP3NWaUCjPn4\\u002fCm4gv2\\u002fii0Am38A\\u002fTuABP9geWz\\u002fkl8E+dVaNvwEPX743op4\\u002f34QqQIlnC79bNyw\\u002fqtQMQB0Lab5+8gPAocK3vzICcL6xxZFAnAOQPix0P78mppG\\u002fq46KP84G1j8Y9ic\\u002ffvIav3kb2b0qaJ6+IAixP+RkOUCkwSG9nUYYQLuWikCj6RdAMJnMP2a8OD9s\\u002fXNAxskwQHN3kD\\u002fL3VK\\u002fbue+vtssXr59hC+\\u002fvIezv7cWQUC19f4\\u002fmHZfP8ERGECijhBAnFkrQINq1D9BnaA\\u002f+44ePy0snz9UzCe\\u002f8eWqveS0JUBXvgtAYHGUv6wtZkB8ZTQ+RrA5P8AXF0Dc9w5AAFp1QOaU0L+UreM\\u002fvNUGQDWCBcANkEE\\u002ftgFBv7XD9T9mo6i\\u002fnrWYPiEtTUANp80\\u002f4twkPiPskj8uR1Q\\u002fzVervow5DEAsCwu\\u002fD+YDwAyaMkDTdkhAaZflv1hPub\\u002fIWyK\\u002fqhjWPrqrG0DLVs2+cByJvQbQq788noG\\u002fS6N0QJeNij\\u002fOOMw\\u002fpXt0PsdRh74JEQ1A3GgYvyL+AsB6S2Q+z45IPyvf374gzbw\\u002fcXxhv6YMfL8RFBRA7PC3P8URiL\\u002feyF8\\u002fsp4OwFWgdT9Os2++vaA3QL+cN0CU4idAsP27vmv6uz7hDhJAypMbP6A0yT\\u002fH3RNAvGxqv8OEsT72J9dAuVSpvqLjiL+OuFs\\u002fa7sEQIVVRL\\u002ffERe\\u002f3gvNvYHiBkA7C24\\u002f4hPDP4Szu749doG\\u002fjLCQQFvJVUDXMB6\\u002faHG4P24NiL9n0BJAJZEnQF4jwz8iGok\\u002fokyMv\\u002fgwSb9wax08xYIQv4Nmnz+hGQFAb4UYv3czCEBmgBe\\u002fNfdZPyhEHb\\u002fOCRhAEF\\u002fXP2M74EAkwqK\\u002f33T\\u002fv+MgNb8PJQDAlMG6v1tnXb8w0BxADy6OPsERJkDqECdA+jWPQN6aBEDJ+YtAqnzbPxcatj+Rl\\u002fE\\u002fPmN2P694oz7Ka5++I3zNP\\u002fjR375BIOBAg3osPovX2L3dbHBAo4Kovnj7ikC14Ie+RMThvsn8UT\\u002fQhJpAws3cP0r2L0AT+TC\\u002fGaggQBgEjr9MfA9Aj8RdQD2X2z8WdPw+IpEFwOanDsAqMi9AowpzvvZUlbuIBXlADwMYP\\u002f9jK0Du\\u002fdg\\u002fyZtFQMQEgD\\u002fCXey+6JSIvidAvj95YUe\\u002fB29bQDH60z9WxytAEd+HP\\u002fiCJT6xRk2\\u002fTENNPvDEHkBuEDNAmJwIvnaGmD+MEIA+gaMaQFFRJb+l4Mc\\u002fTTAQwP6THkD8Cys\\u002fZCgUP7SCuL5nWBu\\u002fN7zXPEeFBL9evb++TL4FwDR8a0AXrOc\\u002fpgAxPlQ32T+Ol+a+dQaCP1XJZUC4rATAjnZqQKnuMj\\u002fgUzRAmfq\\u002fv3JNYj7SPUC\\u002fKFKPQIXiJj85EIO\\u002fMkPSQCbU5b2xgKe+MFOPvqiIBMDUDE4\\u002f2+bpvuhXCb+r5g8\\u002fdZRmQE3ggb\\u002fVFTK+xgw7v7eKjD8\\u002fJglAmlumP9O0jL8T8ew\\u002fI4wTQKBycr8tL3O+2I28vlmjjL7BPjC\\u002f\\u002fCVJv+Bwu0DTWQ3ANngrP7UqEEDlr+s82S8APc5ilz802hhAJt+1vzUoLUA9ZbY94AISvjrqK0AZoHG\\u002fkYERv6sumj3PtjtANCSIQJ9pYj\\u002fA1grAOKhdv47NnT9C4A5AGb\\u002frvXrYDkBuPSu\\u002fHg9Gv4KOjb\\u002fDdNg\\u002f5w06P4R6GEAQoMo+B6QaP1RfKUDzCnA\\u002f8feFv0sKBUAqRopAoVCxv9f1lL9nARJAJ0NGP+sEFr2Pq4NAP+kBQCl\\u002fsj+4N4i\\u002fh3AGQE6dcUD8+T2\\u002fxijAP+Y\\u002fkD8\\u002fJuE9LNbNPzAPyr7Ih5Y+W7QJwCYcoT3nDd2+hdsTvxPUQL\\u002fxK4Q\\u002fJd74P71jEUAfIWBA7e5kv1mE1j9TygtAD3ktv1E+NUA9GjhAVG4yv7k7ZT5IoJc\\u002fEBI6QFtUPL9JCJ0\\u002f4WYTP54SM0DaXs6+mH3nPz0MazwQiKO++N2mPiCvJ0A5rqM\\u002f8FIoP6xtM0DkK0y+enoYv65UQECh3Ng\\u002fYFIkvxq2LUB95JS++isUQL0YWz+IFQPA9MBfQCrWCsBexNO\\u002feF8cP7DyBMBKzBBA\\u002foH2P6ncdj6eewq\\u002flThpv7KLc0BbUH0\\u002fQ8crQKzIBcANqy6+GJxyv7X8Kz89DvO+TC1VQOA1ikDV9z4\\u002fCk2nPxBAnr5xaTs\\u002fo3zGvfVmqD8Sa7O\\u002fAnbFvv\\u002fbjUDHkrw\\u002fvbheP+9gE0A\\u002fjoi+gFIGwO2WDr5ldwbAD2lPP0T5RL8gRxJARZEoQDSgmT+ULDJAgqA4Pmp0Ur9j93FAbWKIP+AB9z5sJ5i+ViMSQHnsyz6WJDA\\u002faxInQN2bAUBgnYy\\u002fpl94QHVDikDYXm5APokrQEr0yT717wG\\u002fsh+VQJMmBr+RmmY\\u002fmvQoQPw3akA8B6a+x\\u002faUQIvbCcC76hDAUrgmQFyWpj\\u002faLTC\\u002fvmpcQEtQB8Bmw3E\\u002fqi7NP6uVI0CexDM\\u002fa1chPzGuzb97Zqw\\u002f8qJKv1GRFUDQQJpAeBz\\u002fvxbrwz+P0NE+pVmMP6VDJT9uziC\\u002fkDP0vm\\u002fs2j9owD0\\u002fD9kUQMSg4T\\u002f+\\u002f96+O6Lpvmu77746Qb8\\u002fXp7yPsByEL8KsUFANxktP9DpIr9BSIhAgsTovkpVLr7VbyE\\u002fVYrFP\\u002fHaQb7+8zJAf9Covlujfb2Q6rS+tAE4v\\u002fIz\\u002fz9tXV0\\u002fVPkUQHDQDD+ds4i\\u002fc3IUQOFuAb8vAkO\\u002fr66Qv1czOr\\u002ffamBAnU2Ev5C0DEAMaAm+Y1uivl2KoT9qEMm9M+GiP8f23j7Y9AO\\u002fR1TiPzplH0DmtzE\\u002ff24+PxbJB7+28jo\\u002fu\\u002fXRPkVkkD83xQzAlZjKP9iQ9T48N6S+aqA1P0\\u002fxJj8TgGG+hcMLQNnfjT9z+hW\\u002fae4dP3S6gb+EVQK\\u002fAzQzQO9rDcBpTolA4VObPyv0qD9FwoI\\u002fwykSQMVS+r7chYa\\u002fQTNOvtq+Kb\\u002fUAso9ZpBoQKN9Gb8KUng\\u002fFHQHQBBsYr8UQYc\\u002feFuavxrpGUB4qpi9+hupvvabqT6qlK+\\u002flxBwP1sV+j8HrQ7AZYbsvjbmpj88Bwo+UVoWP2LWJ0CsQjs\\u002fEoi5P\\u002fN7Y76fcZ2\\u002f0RTRPzsamj9QaEJANGSpP5j0hL7M3wG\\u002f3xhGPw==\"},\"type\":\"scattergl\"},{\"hoverinfo\":\"text\",\"hovertext\":[\"somewhat open yes think would rare sometim\",\"somewhat open yes think would rare often\",\"realli know would depend impress time open think would rare often\",\"unsur woud react unsur woud react open yes think would sometim rare\",\"somewhat open yes often rare\",\"depend embarrass somewhat open rare often\",\"scare dismiss polit somewhat open yes sometim rare\",\"none busi long feel perform work somewhat open yes think would rare often\",\"privat person general may bring privat person general may bring somewhat open yes rare often\",\"open yes think would rare often\",\"would wait offer think would less like make offer somewhat open yes think would rare sometim\",\"somewhat open yes think would rare often\",\"somewhat open yes think would rare often\",\"somewhat open think would rare often\",\"might make look like liabil might make look like liabil somewhat open yes think would rare often\",\"depend relev work person somewhat open yes think would rare often\",\"open think would rare never\",\"somewhat open yes think would rare sometim\",\"diabet somewhat open think would never rare\",\"somewhat open yes think would rare sometim\",\"depend context usual need know need know open think would rare often\",\"non busi non busi open think would rare often\",\"open rare often\",\"want consid everi applic categor limit want consid everi applic categor limit somewhat open yes think would rare often\",\"sometim come somewhat open think would rare sometim\",\"somewhat open yes think would rare often\",\"open think would rare sometim\",\"somewhat open yes think would rare often\",\"want jeopard chanc posit want jeopard chanc open think would rare often\",\"open yes think would rare rare\",\"open usual best bad experi somewhat open yes think would rare often\",\"open think would rare often\",\"somewhat open yes think would rare sometim\",\"somewhat open yes think would rare often\",\"somewhat open yes rare often\",\"somewhat open think would rare sometim\",\"selfcar environ somewhat open yes think would rare often\",\"would taboo controversi take leav sometim come open mayb rare rare\",\"open yes think would rare often\",null],\"marker\":{\"opacity\":0.5,\"size\":5},\"mode\":\"markers+text\",\"name\":\"1_rare_think_open\",\"text\":[\"\",\"\",\"\",\"\",\"\",\"\",\"\",\"\",\"\",\"\",\"\",\"\",\"\",\"\",\"\",\"\",\"\",\"\",\"\",\"\",\"\",\"\",\"\",\"\",\"\",\"\",\"\",\"\",\"\",\"\",\"\",\"\",\"\",\"\",\"\",\"\",\"\",\"\",\"\",\"1_rare_think_open\"],\"textfont\":{\"size\":12},\"x\":{\"dtype\":\"f4\",\"bdata\":\"\\u002f8T0QBw09UAhvu9Ajqz2QKXT9UCEK+5AtUfmQCwd9EAAIuxAPTvvQHd170CM5PZAZ7r1QGJm9UCXKvFAnCX2QKvb7kA+ovVAakz1QNe19UBUZPBA8VXsQOZu7kAuzuxApJHtQJzH9UCVze5AW+72QC1k7kD6Hu1AFV3wQHPF7kCfZ\\u002fZAATz2QCua9UAxRfRAvrP2QBd750CKR+5AYqvxQA==\"},\"y\":{\"dtype\":\"f4\",\"bdata\":\"qA8KQIO6CECeuhJAHhYJQK4qCEBvEBdAb60fQEs+DEDm6hRACs0SQBkFEUBKigVAsJIHQNdjCEDI1v8\\u002fXH8GQMbmE0DtRwhAAAYIQH90CEC5ghBAV\\u002fAgQIfVFEC5WhZAwQQbQIWgB0DS8RNA6T8FQEKFFEDoYhZARdsRQJT9E0Cj3AZAmewHQGN\\u002fCEDdOgxAhqoFQLVeIkBCiBRAveEOQA==\"},\"type\":\"scattergl\"},{\"hoverinfo\":\"text\",\"hovertext\":[\"neutral yes think would applic applic\",\"neutral yes think would often often\",\"judgement judgement neutral yes think would sometim often\",\"neutral yes think would applic applic\",\"matter neutral think would often rare\",\"damag opportun ge job good neutral yes think would applic applic\",\"need know need know neutral yes think would sometim often\",\"neutral yes think would never never\",\"applic neutral yes think would sometim sometim\",\"neutral yes think would never often\",\"matter neutral yes think would applic sometim\",\"neutral yes sometim often\",\"neutral yes sometim often\",\"neutral think would sometim sometim\",\"would feel inappropri sure feel one applic neutral mayb applic applic\",\"neutral yes think would rare sometim\",\"matter neutral think would often often\",\"neutral yes think would sometim often\",\"current feel relev current feel relev neutral think would applic applic\",\"none busi none busi neutral yes think would sometim sometim\",\"neutral think would applic applic\",\"neutral yes think would applic often\",\"neutral yes think would applic applic\",\"depend want get pass neutral yes think would applic applic\",\"market would devalu offer stupid market applic neutral think would rare sometim\",\"imagin make desir outcom like pretti sure would work favor neutral yes think would rare often\",\"matter neutral yes think would sometim often\",\"would think care imagin dismiss applic neutral yes think would applic applic\",\"believ would sake transpar would depend general feel employ issu neutral mayb applic applic\",\"neutral yes think would applic applic\",\"neutral yes think would applic sometim\",\"retali retali neutral yes think would sometim sometim\",\"uk law none busi stage applic neutral yes think would applic rare\",\"honesti fear neutral yes think would applic applic\",\"jjjjjj neutral yes think would applic applic\",\"know thought matter neutral mayb applic applic\",null],\"marker\":{\"opacity\":0.5,\"size\":5},\"mode\":\"markers+text\",\"name\":\"2_neutral_think_yes\",\"text\":[\"\",\"\",\"\",\"\",\"\",\"\",\"\",\"\",\"\",\"\",\"\",\"\",\"\",\"\",\"\",\"\",\"\",\"\",\"\",\"\",\"\",\"\",\"\",\"\",\"\",\"\",\"\",\"\",\"\",\"\",\"\",\"\",\"\",\"\",\"\",\"\",\"2_neutral_think_yes\"],\"textfont\":{\"size\":12},\"x\":{\"dtype\":\"f4\",\"bdata\":\"7sN9QH7lhkBTBYVAjTh9QGUriEBRrHdArUGFQEbmgkCuDoBAogiGQFFEhEC7mYVATqiFQOzLgkAIAH1A+lWGQA8diED0FYVAdZV8QJxmgkBTUXxADnmBQNJ+fkAMan1AeYGIQDa7hUAhDIdAUsd8QJwveECVi35AkR2DQO8lgUBE2H9AIoN8QKQhfEDLd4lA6GyCQA==\"},\"y\":{\"dtype\":\"f4\",\"bdata\":\"FXHsP4p1AkAoX\\u002f8\\u002ffCLsP+QEBkBMgeo\\u002f7pv7Pz2K9z9RuvM\\u002fGRoBQNSm\\u002fz8b2v0\\u002fhhn5Pz5S+T810e0\\u002fkfwBQKn6BUAtNgFAoAvsP5ts\\u002fj\\u002foseo\\u002fWwb0P0B67j\\u002fJoO0\\u002fJzsHQCLHAkBA1gJAAHTpP0z49D9mpu4\\u002fhAz9PzcG9j8JIe8\\u002fQQXnP95F6T+\\u002fCQtAN+z4Pw==\"},\"type\":\"scattergl\"},{\"hoverinfo\":\"text\",\"hovertext\":[\"busi busi somewhat open yes think would applic applic\",\"might special need would imposs hide privat open mayb applic sometim\",\"none busi none busi matter open yes think would applic applic\",\"know privaci open yes applic applic\",\"earli want discuss potenti deal breaker decid want reason somewhat open mayb applic applic\",\"honesti work honesti open mayb applic applic\",\"issu alway bring never surpris boss open yes think would applic applic\",\"relev depend type sever issu somewhat open mayb applic applic\",\"applic somewhat open mayb sometim sometim\",\"need person issu somewhat open mayb sometim applic\",\"honest person honest person somewhat open mayb applic applic\",\"matter privaci would matter privaci somewhat open mayb applic applic\",\"usual temporari know gone one hard relat somewhat open mayb applic applic\",\"comfort discuss person issu someon presum recent met comfort discuss person issu someon presum recent met somewhat open mayb applic applic\",\"sure privaci sure privaci consequ somewhat open mayb sometim sometim\",\"nobodi busi nobodi busi open think would never often\",\"interfer work none busi open yes think would applic never\",\"view problemat person mayb allud vagu best reason alreadi know somewhat open yes think would applic often\",\"somewhat open mayb applic sometim\",\"person somewhat open yes think would applic applic\",\"depend would jeopard chanc get posit applic somewhat open mayb applic applic\",\"avoid potenti disqualifi due fact avoid disqualifi due fact somewhat open mayb applic applic\",\"honesti honesti somewhat open mayb applic applic\",\"honesti honesti somewhat open yes think would applic applic\",\"privat privat somewhat open mayb applic applic\",\"alreadi privat person issu open think would sometim sometim\",\"person none busi percept think would applic somewhat open mayb applic applic\",\"valu honesti much know set expect benefici everybodi open think would never sometim\",\"would requir immedi accommod requir immedi accommod somewhat open think would applic applic\",\"asham shi admit someth like stranger unless bond certain amount intimaci person would never talk person term matter open mayb often often\",\"depend sever issu want reflect negat abil carri respons somewhat open mayb applic applic\",\"potenti view disqualifi even view disqualifi somewhat open yes think would never sometim\",null],\"marker\":{\"opacity\":0.5,\"size\":5},\"mode\":\"markers+text\",\"name\":\"3_honesti_person_applic\",\"text\":[\"\",\"\",\"\",\"\",\"\",\"\",\"\",\"\",\"\",\"\",\"\",\"\",\"\",\"\",\"\",\"\",\"\",\"\",\"\",\"\",\"\",\"\",\"\",\"\",\"\",\"\",\"\",\"\",\"\",\"\",\"\",\"\",\"3_honesti_person_applic\"],\"textfont\":{\"size\":12},\"x\":{\"dtype\":\"f4\",\"bdata\":\"16TXQBl8uEAWfNVANxjDQMGYyUCalstAkPrhQAL4u0CBfa9A4W+wQBhNykCw8cJAabSvQPHIsEAju8NAsO3TQGd+2EBZ+MdAoLCvQIW\\u002fyUAnaL9Ad4jRQG52ykCXsNJA7b7AQMVOwkCQKsdA64LLQGHL1UDHdbJAQLq+QCbY00C2zcVA\"},\"y\":{\"dtype\":\"f4\",\"bdata\":\"317hQJ0u9EC+FOBAUSDsQFi53UDbFuBAlxnuQI0W4kChu\\u002fRAtZ3tQO++4UD\\u002fGetAewj2QDLK6EBSY+lA98HhQDvl3UCmtd5AIGT3QM154kD2q99AW3HcQGSq4UD0SuRAcD7uQI2I5UC6ut9AL6LjQCpK40BZEehAlivgQGdC20Aw++VA\"},\"type\":\"scattergl\"},{\"hoverinfo\":\"text\",\"hovertext\":[\"somewhat open yes think would applic applic\",\"somewhat open yes think would applic applic\",\"somewhat open think would applic applic\",\"somewhat open think would applic applic\",\"somewhat open yes think would applic applic\",\"somewhat open yes think would applic applic\",\"somewhat open yes think would applic often\",\"somewhat open yes think would applic applic\",\"somewhat open think would applic applic\",\"somewhat open yes think would applic applic\",\"somewhat open yes think would applic applic\",\"somewhat open yes think would applic applic\",\"somewhat open yes think would applic applic\",\"somewhat open yes think would applic applic\",\"somewhat open yes think would applic applic\",\"matter somewhat open yes think would applic applic\",\"think place time somewhat open yes think would applic applic\",\"somewhat open yes think would applic applic\",\"xxx xxx somewhat open yes think would applic applic\",\"somewhat open yes think would applic often\",\"somewhat open yes think would applic applic\",\"somewhat open yes think would applic applic\",\"somewhat open yes think would applic applic\",null],\"marker\":{\"opacity\":0.5,\"size\":5},\"mode\":\"markers+text\",\"name\":\"4_applic_think_yes\",\"text\":[\"\",\"\",\"\",\"\",\"\",\"\",\"\",\"\",\"\",\"\",\"\",\"\",\"\",\"\",\"\",\"\",\"\",\"\",\"\",\"\",\"\",\"\",\"\",\"4_applic_think_yes\"],\"textfont\":{\"size\":12},\"x\":{\"dtype\":\"f4\",\"bdata\":\"sUkGQfNTBkFcRgZBkM8GQXxhBkHuXAZBSVgGQTpyBkEW7AZBljgGQYE3BkGPfgZBBUEGQYjKBkFJQAZBHGYGQTgW2kDhWAZBKYsGQSFWBkH3HgZBY1sGQQNIBkHdSwVB\"},\"y\":{\"dtype\":\"f4\",\"bdata\":\"DJ45Qc+bOUFyozlBFxc5QXyFOUGFhTlBwY05QdZyOUHW+DhB5a45QaiyOUGiezlBOas5QdMhOUH8rTlBfW45QWtR5kClkjlBK285QYSTOUGrzjlBRZU5QcCnOUFGdTZB\"},\"type\":\"scattergl\"},{\"hoverinfo\":\"text\",\"hovertext\":[\"never know coudl take never know inform somewhat open mayb sometim often\",\"somewhat open mayb sometim sometim\",\"immedi appar embarass talk someon famili close friend tell want view someon reli emot strong even though might case somewhat open think would rare often\",\"want held want held somewhat open mayb sometim sometim\",\"somewhat open mayb sometim sometim\",\"sometim come somewhat open mayb sometim sometim\",\"problem problem somewhat open mayb sometim sometim\",\"somewhat open mayb sometim sometim\",\"influenc work bring oblig somewhat open mayb sometim sometim\",\"matter somewhat open mayb sometim sometim\",\"matter matter sometim come somewhat open mayb rare sometim\",\"current concern sensit need know better first open mayb never sometim\",\"matter somewhat open mayb sometim often\",\"embarras feel vulner want let sometim come open mayb sometim often\",\"noth asham good know potenti hurdl ahead time somewhat open mayb never never\",\"feel irrelev reason somewhat open mayb sometim often\",\"qf matter somewhat open sometim often\",\"open mayb sometim sometim\",\"somewhat open mayb sometim sometim\",\"ask weak open anxieti work open think would sometim sometim\",\"seem irrelev embarrass seem irrelev embarrass somewhat open think would applic sometim\",\"somewhat open mayb never often\",\"never done somewhat open mayb sometim sometim\",null],\"marker\":{\"opacity\":0.5,\"size\":5},\"mode\":\"markers+text\",\"name\":\"5_sometim_mayb_somewhat\",\"text\":[\"\",\"\",\"\",\"\",\"\",\"\",\"\",\"\",\"\",\"\",\"\",\"\",\"\",\"\",\"\",\"\",\"\",\"\",\"\",\"\",\"\",\"\",\"\",\"5_sometim_mayb_somewhat\"],\"textfont\":{\"size\":12},\"x\":{\"dtype\":\"f4\",\"bdata\":\"aYegQAWnn0CVZ51Anm+gQKV7n0AhMqBAfaqfQMWjn0A5eaJA+5KXQOTFkUCsw5Q\\u002faq2UQGl4nUAgZJVAQmmbQEi2kkBxtp9Ak4WfQOyyo0BFhZxAkiKxQBuUn0Dfg5hA\"},\"y\":{\"dtype\":\"f4\",\"bdata\":\"j8biQD2l4kCld9pAQcniQC124kCmDOBAxXzjQFvo4kADQt9ABIvgQOgg30AyYkdA8RHhQEUr20A4IAFBoO\\u002fbQH6n30CyDeNAXLLiQNxL3kABSNZAxZwMQXht40Cgk95A\"},\"type\":\"scattergl\"},{\"hoverinfo\":\"text\",\"hovertext\":[\"depend ill neutral mayb applic applic\",\"seem irrelev also irrelev get job neutral mayb applic applic\",\"neutral mayb rare often\",\"might particular seen good thing bring reason neutral mayb applic applic\",\"current reason current reason matter somewhat open think would applic applic\",\"import share neutral sometim sometim\",\"neutral mayb sometim sometim\",\"neutral mayb applic applic\",\"would want make sure expect set clear start would want set expect abil start neutral mayb applic applic\",\"neutral mayb applic applic\",\"neutral mayb sometim often\",\"neutral mayb sometim sometim\",\"order keep normal imag see neutral mayb sometim sometim\",\"know sorri fear applic neutral mayb applic applic\",\"irrelev job fear discrimin applic somewhat open mayb applic applic\",\"neutral mayb applic applic\",\"situat realli know neutral mayb applic applic\",\"neutral mayb sometim often\",\"neutral mayb sometim sometim\",\"thought irrelev job seem relev applic neutral mayb applic often\",\"need disclos earli may issu want give reason pick neutral mayb rare sometim\",\"neutral mayb applic applic\",\"neutral mayb rare often\",null],\"marker\":{\"opacity\":0.5,\"size\":5},\"mode\":\"markers+text\",\"name\":\"6_neutral_mayb_irrelev\",\"text\":[\"\",\"\",\"\",\"\",\"\",\"\",\"\",\"\",\"\",\"\",\"\",\"\",\"\",\"\",\"\",\"\",\"\",\"\",\"\",\"\",\"\",\"\",\"\",\"6_neutral_mayb_irrelev\"],\"textfont\":{\"size\":12},\"x\":{\"dtype\":\"f4\",\"bdata\":\"DdWXQLjyoT9FxpxAZOqXQAbWmUD+7J1A3uidQHnjl0ALFKvAivqXQB1lnUCG4J1AJs6dQDX+l0D\\u002fmZ0\\u002fhv2XQCUdmEAC2ZxAfEGeQF0EpT8nMp5A3ueXQMzCnEAdw3tA\"},\"y\":{\"dtype\":\"f4\",\"bdata\":\"nwuQQA6N0T+I9oJAgqiPQDJd1UApH4JA6SuCQPx+j0C1gB6\\u002fcIKPQJmjgkDkOYJACiqCQKeMj0BM39A\\u002fo4CPQCh+j0C7EYNACdaBQEjc0T9mkoFA8cyPQE33gkBAxnNA\"},\"type\":\"scattergl\"},{\"hoverinfo\":\"text\",\"hovertext\":[\"applic mental ill yes think would applic applic\",\"applic mental ill yes think would applic applic\",\"non busi applic mental ill yes think would applic sometim\",\"applic mental ill yes think would applic applic\",\"bring relev relev applic applic mental ill yes think would applic applic\",\"applic mental ill yes think would applic applic\",\"medic screen process would appropri time medic screen process would appropri even though ask diagnos mental ill somewhat open think would applic sometim\",\"want gaug abil support issu want gaug abil support understand empath situat applic mental ill yes think would applic applic\",\"applic mental ill yes think would applic applic\",\"applic mental ill yes think would applic applic\",\"applic mental ill yes think would applic sometim\",\"sometim come applic mental ill yes think would sometim applic\",\"none busi applic applic mental ill think would applic applic\",\"uncertain ada appli mental health whether even appli somewhat open yes think would applic applic\",\"need need applic mental ill yes think would applic applic\",\"depend feel comfort enough depend feel comfort enough applic mental ill yes think would applic applic\",\"would afraid would let go found mental health issu would neutral mayb applic applic\",\"applic applic mental ill think would applic applic\",\"applic applic mental ill yes think would applic applic\",\"unless knew track record mental ill would know could trust judg negat somewhat open mayb applic often\",\"applic applic mental ill yes think would applic applic\",\"set expect appropri set expect appropri applic applic mental ill think would applic applic\",null],\"marker\":{\"opacity\":0.5,\"size\":5},\"mode\":\"markers+text\",\"name\":\"7_ill_applic_mental\",\"text\":[\"\",\"\",\"\",\"\",\"\",\"\",\"\",\"\",\"\",\"\",\"\",\"\",\"\",\"\",\"\",\"\",\"\",\"\",\"\",\"\",\"\",\"\",\"7_ill_applic_mental\"],\"textfont\":{\"size\":12},\"x\":{\"dtype\":\"f4\",\"bdata\":\"rXS2wKX4tsC4KLPAcuy2wFvHtsC6orbAGhm1wJSLtcBMTLfAIam2wIactcDDE7TAJXO1wEZLtMD84rbABcW5wOOws8BxULbAxVu3wFR7s8DznLbA12itwECRtcA=\"},\"y\":{\"dtype\":\"f4\",\"bdata\":\"wwDUvdgN2L3cnA6+LkLYvXUb173dy9u9NsoMvlPI4b0P1sC9wQTnvchv7716Qx2+Or8fvqwtMr481Na9hagCvVozCb61dQy+Cs0Bvrry+r1hmfq9wRMKvzOEDb4=\"},\"type\":\"scattergl\"},{\"hoverinfo\":\"text\",\"hovertext\":[\"somewhat open mayb rare often\",\"bias actual think busi somewhat open mayb rare often\",\"risk discrimin risk discrimin somewhat open mayb often often\",\"open mayb rare often\",\"type diabet affect everyday life forev offici diagnosi mayb get one later somewhat open think would never rare\",\"open mayb rare often\",\"somewhat open mayb rare often\",\"somewhat open mayb rare often\",\"mayb go recruit healthi person give option choos reject whole somewhat open mayb rare often\",\"everybodi physic health issu point life want flag crazi open mayb rare often\",\"mayb relat work stigma probabl leav could somewhat open mayb never rare\",\"somewhat open mayb rare often\",\"depend upon impact work duti often disclos open mayb rare sometim\",\"depend employ specif referenc like would ask short term disabl qualifi event somewhat open mayb rare often\",\"sometim come open mayb rare often\",\"want open transpar worri stigma somewhat open mayb rare often\",\"stress clinic diagnos discuss somewhat open mayb rare often\",\"ensur support repetit strain injuri coverag exampl respect right privaci avoid risk discrimin sometim come open mayb rare often\",\"bias lack understand reason sometim come somewhat open mayb rare often\",\"somewhat open mayb rare often\",\"seem like could hurt would hurt somewhat open mayb rare rare\",null],\"marker\":{\"opacity\":0.5,\"size\":5},\"mode\":\"markers+text\",\"name\":\"8_rare_mayb_open\",\"text\":[\"\",\"\",\"\",\"\",\"\",\"\",\"\",\"\",\"\",\"\",\"\",\"\",\"\",\"\",\"\",\"\",\"\",\"\",\"\",\"\",\"\",\"8_rare_mayb_open\"],\"textfont\":{\"size\":12},\"x\":{\"dtype\":\"f4\",\"bdata\":\"oYUNQJmnDUB0QgxAtnkOQAmCAUAvzQtAKaMLQO+WC0BxExJAy\\u002foOQL88BkAKmgxAPXsZQMjxF0BO4hFAppIEQElODkAlMylAVFoNQGiODUCziA1AK8UOQA==\"},\"y\":{\"dtype\":\"f4\",\"bdata\":\"xfqmQGQYpECZaqZAt12nQEDtoUBD56VAboqmQIIcpkDo2KhAg7GnQAvvpUCmsaZAoJ+qQDDAqkBjdqhA+OqnQAuKp0CLualAan+kQG8wp0Clw6hATSSnQA==\"},\"type\":\"scattergl\"},{\"hoverinfo\":\"text\",\"hovertext\":[\"somewhat open mayb applic applic\",\"somewhat open mayb applic often\",\"somewhat open mayb applic applic\",\"somewhat open mayb applic applic\",\"somewhat open mayb applic applic\",\"somewhat open mayb applic applic\",\"somewhat open mayb applic applic\",\"somewhat open mayb applic applic\",\"somewhat open mayb applic applic\",\"somewhat open mayb applic applic\",\"somewhat open mayb applic applic\",\"somewhat open mayb applic applic\",\"unsur unsur somewhat open mayb applic applic\",\"unfortun part unfortun part somewhat open mayb applic applic\",\"somewhat open mayb applic applic\",\"somewhat open mayb applic applic\",\"fear offer offer open mayb applic applic\",\"somewhat open mayb applic applic\",\"somewhat open mayb applic applic\",\"somewhat open mayb applic applic\",\"know feel somewhat open mayb applic applic\",null],\"marker\":{\"opacity\":0.5,\"size\":5},\"mode\":\"markers+text\",\"name\":\"9_applic_mayb_somewhat\",\"text\":[\"\",\"\",\"\",\"\",\"\",\"\",\"\",\"\",\"\",\"\",\"\",\"\",\"\",\"\",\"\",\"\",\"\",\"\",\"\",\"\",\"\",\"9_applic_mayb_somewhat\"],\"textfont\":{\"size\":12},\"x\":{\"dtype\":\"f4\",\"bdata\":\"+NyiQEmzokBT16JAlySjQPD0okBV3aJA29uiQMbRo0DVTqNArM6iQGIVo0CIIKNAYaejQD8ookDJh6JAgBiiQBeBoEBxHqNAia6jQDUno0Av4aRAnPWiQA==\"},\"y\":{\"dtype\":\"f4\",\"bdata\":\"2BAwQcDrL0HwHjBBLfovQXkTMEEtEjBBfQswQZyeL0HzHDBBBCgwQZcKMEExBjBBN4AvQTEVL0GsZzBBkYYwQZr2MEF7EjBBasIvQfIIMEG\\u002fGS9BDvwvQQ==\"},\"type\":\"scattergl\"},{\"hoverinfo\":\"text\",\"hovertext\":[\"somewhat open yes think would sometim sometim\",\"somewhat open yes think would sometim sometim\",\"somewhat open yes think would sometim sometim\",\"somewhat open yes think would sometim sometim\",\"somewhat open yes think would sometim sometim\",\"somewhat open yes think would never sometim\",\"somewhat open yes think would sometim sometim\",\"somewhat open yes sometim sometim\",\"somewhat open yes think would sometim sometim\",\"somewhat open yes think would applic sometim\",\"somewhat open yes think would sometim sometim\",\"somewhat open yes sometim sometim\",\"na somewhat open think would never sometim\",\"somewhat open yes think would sometim sometim\",\"somewhat open yes think would sometim sometim\",\"somewhat open yes think would sometim sometim\",\"applic somewhat open yes think would sometim sometim\",\"somewhat open think would sometim sometim\",\"somewhat open yes think would applic sometim\",null],\"marker\":{\"opacity\":0.5,\"size\":5},\"mode\":\"markers+text\",\"name\":\"10_sometim_yes_somewhat\",\"text\":[\"\",\"\",\"\",\"\",\"\",\"\",\"\",\"\",\"\",\"\",\"\",\"\",\"\",\"\",\"\",\"\",\"\",\"\",\"\",\"10_sometim_yes_somewhat\"],\"textfont\":{\"size\":12},\"x\":{\"dtype\":\"f4\",\"bdata\":\"t8cqQXnOKkGIySpBNcgqQYfVKkGyiCZBl8sqQdhmKkH5wCpBHLgqQRnMKkFAZipBhnUnQVy2KkEfeCpBFE8rQSFO2UDEDStBYMEqQUcYJ0E=\"},\"y\":{\"dtype\":\"f4\",\"bdata\":\"gdbgQJHj4EAE3OBAQdLgQL6l4EBgqddAXezgQNbM4ECY1OBAp9fgQMnf4EAzx+BAwFndQDz730AEluFAQufhQHSy5UBZd+BA4uzgQON04EA=\"},\"type\":\"scattergl\"},{\"hoverinfo\":\"text\",\"hovertext\":[\"somewhat open mayb sometim often\",\"somewhat open mayb sometim often\",\"somewhat open mayb sometim often\",\"somewhat open mayb sometim often\",\"none busi relat qualif skill somewhat open mayb often often\",\"get support somewhat open mayb sometim often\",\"prejudic person somewhat open mayb often often\",\"somewhat open mayb sometim often\",\"open mayb never often\",\"somewhat open mayb sometim often\",\"somewhat open mayb sometim often\",\"pertin posit pertin posit open mayb sometim often\",\"somewhat open mayb sometim often\",\"somewhat open mayb sometim often\",\"none busi somewhat open mayb sometim often\",\"somewhat open mayb sometim often\",\"somewhat open mayb sometim often\",null],\"marker\":{\"opacity\":0.5,\"size\":5},\"mode\":\"markers+text\",\"name\":\"11_mayb_somewhat_sometim\",\"text\":[\"\",\"\",\"\",\"\",\"\",\"\",\"\",\"\",\"\",\"\",\"\",\"\",\"\",\"\",\"\",\"\",\"\",\"11_mayb_somewhat_sometim\"],\"textfont\":{\"size\":12},\"x\":{\"dtype\":\"f4\",\"bdata\":\"k6HMQOxQzECIastAQU\\u002fMQCcXz0A5eblAikbMQPtHzEAVW7FAv+PLQERSzECkNMxAE0nMQIlmzEAGXMxAkUDMQG4KzEBFs8lA\"},\"y\":{\"dtype\":\"f4\",\"bdata\":\"bNQVQT3oFUHVXBZBgOoVQSHLE0HV+w5BrPIVQcfyFUE9mAxBJyMWQQ3iFUGb8hVBa+8VQZAKFkFEvxVBofoVQdgRFkFA4hRB\"},\"type\":\"scattergl\"},{\"hoverinfo\":\"text\",\"hovertext\":[\"somewhat open yes sometim often\",\"somewhat open yes think would sometim often\",\"want judg someon healthi see somewhat open yes think would sometim often\",\"somewhat open yes think would sometim often\",\"somewhat open yes think would sometim often\",\"depend issu afraid presumpt person issu afraid look like excus see smile somewhat open yes think would sometim often\",\"somewhat open yes think would sometim often\",\"somewhat open yes often often\",\"sometim come somewhat open think would sometim often\",\"matter somewhat open yes never sometim\",\"somewhat open think would sometim often\",\"somewhat open yes never sometim\",\"sometim come somewhat open yes think would sometim often\",\"somewhat open yes think would sometim often\",\"somewhat open yes think would sometim often\",\"somewhat open yes think would sometim often\",\"somewhat open yes think would sometim often\",null],\"marker\":{\"opacity\":0.5,\"size\":5},\"mode\":\"markers+text\",\"name\":\"12_sometim_yes_somewhat\",\"text\":[\"\",\"\",\"\",\"\",\"\",\"\",\"\",\"\",\"\",\"\",\"\",\"\",\"\",\"\",\"\",\"\",\"\",\"12_sometim_yes_somewhat\"],\"textfont\":{\"size\":12},\"x\":{\"dtype\":\"f4\",\"bdata\":\"eYYhQdwyJUEXvhxBShAlQV\\u002f6JEFaUyJBL90kQeBwFUGwSCFBMb4iQV+5JEG9ciJB9OwgQbLcJEGC8SRBBuwkQRsqJUHPeiJB\"},\"y\":{\"dtype\":\"f4\",\"bdata\":\"cCvUQMPA00C1Lc5AM57TQJ9100BUXtFAsjvTQPXpzUCEANBA9PLUQLD50kCOfNRAdtvPQIV300AfcNNAsl\\u002fTQDGp00AGd9JA\"},\"type\":\"scattergl\"},{\"hoverinfo\":\"text\",\"hovertext\":[\"open think would applic applic\",\"open yes think would applic applic\",\"open yes think would applic applic\",\"open yes think would applic applic\",\"check support equip could provid afraid somewhat open yes think would rare sometim\",\"open think would applic applic\",\"think need think need open yes think would applic applic\",\"problem work open yes think would applic sometim\",\"open yes think would sometim applic\",\"im gonna risk gonna risk open yes think would applic applic\",\"open yes think would applic sometim\",\"open yes think would applic often\",\"open yes think would applic applic\",\"open yes think would applic applic\",\"open yes think would applic applic\",\"open yes think would applic applic\",null],\"marker\":{\"opacity\":0.5,\"size\":5},\"mode\":\"markers+text\",\"name\":\"13_applic_think_yes\",\"text\":[\"\",\"\",\"\",\"\",\"\",\"\",\"\",\"\",\"\",\"\",\"\",\"\",\"\",\"\",\"\",\"\",\"13_applic_think_yes\"],\"textfont\":{\"size\":12},\"x\":{\"dtype\":\"f4\",\"bdata\":\"lEj4QIA\\u002f+ECC4vhAkF74QDnn30CSW\\u002fhAbvLzQLIq60CWevhA3XfLP0Vu90A4kvhA8zz4QM5L+EDwnPhAh8n4QBVn6UA=\"},\"y\":{\"dtype\":\"f4\",\"bdata\":\"67jPQHYL0EDFXM9AVbbPQKDD10AZuc9ARMXTQM2+0kAXzs9AbvUWQAnO0EB5vM9AJB3QQF\\u002fKz0Bkg89AATzPQCh1yEA=\"},\"type\":\"scattergl\"},{\"hoverinfo\":\"text\",\"hovertext\":[\"open yes sometim often\",\"open yes think would often often\",\"somewhat open yes think would often often\",\"unless someth obvious like disabl seem privat share somewhat open yes think would never often\",\"want mark open yes think would never sometim\",\"open yes think would sometim often\",\"open yes think would often often\",\"got ask got ask open yes think would never sometim\",\"open yes think would never never\",\"like open front open never never\",\"open yes think would sometim often\",\"feel would go mr would go open yes sometim often\",\"open sometim often\",\"open yes often often\",\"open yes think would never sometim\",\"open yes think would sometim often\",null],\"marker\":{\"opacity\":0.5,\"size\":5},\"mode\":\"markers+text\",\"name\":\"14_yes_open_got\",\"text\":[\"\",\"\",\"\",\"\",\"\",\"\",\"\",\"\",\"\",\"\",\"\",\"\",\"\",\"\",\"\",\"\",\"14_yes_open_got\"],\"textfont\":{\"size\":12},\"x\":{\"dtype\":\"f4\",\"bdata\":\"tJYTQW84EUFvSRNBkTAOQSbADEEGSg5BxpoQQTHuDUEvUw5BSD8TQZR8DkHxDw5Bow4UQZNsFEF+zQ1BDAgOQcAkEEE=\"},\"y\":{\"dtype\":\"f4\",\"bdata\":\"DvzOQKvDxkAJCsVA+E3LQHM7zEAwactAo2nHQCrHy0Cvx8tAtYnMQO39ykDgkMtAUojPQPTazkARFsxAwNLLQJhhy0A=\"},\"type\":\"scattergl\"},{\"hoverinfo\":\"text\",\"hovertext\":[\"affect day day activ applic mental ill mayb rare sometim\",\"applic mental ill mayb applic applic\",\"mental issu harder discuss anyon open mayb applic applic\",\"see relev see relev applic applic mental ill mayb applic applic\",\"applic applic mental ill mayb applic applic\",\"applic mental ill mayb applic applic\",\"applic mental ill mayb applic applic\",\"applic mental ill mayb applic applic\",\"applic mental ill mayb applic applic\",\"applic mental ill mayb applic applic\",\"applic mental ill mayb applic applic\",\"applic mental ill mayb applic applic\",\"full disclosur prejudic applic mental ill mayb applic applic\",\"applic applic mental ill mayb applic sometim\",\"applic mental ill mayb applic applic\",null],\"marker\":{\"opacity\":0.5,\"size\":5},\"mode\":\"markers+text\",\"name\":\"15_ill_applic_mental\",\"text\":[\"\",\"\",\"\",\"\",\"\",\"\",\"\",\"\",\"\",\"\",\"\",\"\",\"\",\"\",\"\",\"15_ill_applic_mental\"],\"textfont\":{\"size\":12},\"x\":{\"dtype\":\"f4\",\"bdata\":\"KF7ZwHfM28AtGgPAkgLbwK7p2sDXt9vAZ6\\u002fbwI3E28A+yNvAzy3cwMvb28Btl9vA9dnbwBdg3MB3NNzAb0\\u002fRwA==\"},\"y\":{\"dtype\":\"f4\",\"bdata\":\"eeMMQNApEEBjG+8+dYAOQD9eDkAJABBACu4PQFkXEEDZHRBAp+kQQLFDEEAwtw9A1zoQQANjEUDrzhBAuzcIQA==\"},\"type\":\"scattergl\"},{\"hoverinfo\":\"text\",\"hovertext\":[\"might import know react thing open mayb applic applic\",\"applic open mayb applic sometim\",\"import health well could like know somewhat open mayb applic applic\",\"import everyon inform situat quiet person somewhat open mayb applic applic\",\"applic open mayb applic sometim\",\"unknown ramif unknown ramif somewhat open mayb applic applic\",\"import sure somewhat open mayb applic applic\",\"open mayb applic applic\",\"open mayb applic applic\",\"open mayb applic applic\",\"matter open mayb applic applic\",\"open mayb applic applic\",\"open mayb applic applic\",\"test support environ test support environ applic somewhat open mayb applic applic\",\"might import employ case affect product somewhat open mayb applic applic\",null],\"marker\":{\"opacity\":0.5,\"size\":5},\"mode\":\"markers+text\",\"name\":\"16_applic_import_mayb\",\"text\":[\"\",\"\",\"\",\"\",\"\",\"\",\"\",\"\",\"\",\"\",\"\",\"\",\"\",\"\",\"\",\"16_applic_import_mayb\"],\"textfont\":{\"size\":12},\"x\":{\"dtype\":\"f4\",\"bdata\":\"poNZQIPuWUBm8F1AMnNcQJ7NWkARrllAWpdYQD47WUCPtllAnt5YQJznWkCbaFlA9FBZQJ9cWUDJiFJA251ZQA==\"},\"y\":{\"dtype\":\"f4\",\"bdata\":\"SIIgQfmmIEFgBh9BDX4fQRZ\\u002fIEFl7iBBKhEgQd1iIEEcXiBBAq8gQc\\u002fFIUGlhiBBCokgQaWGIEEsax5B6UogQQ==\"},\"type\":\"scattergl\"},{\"hoverinfo\":\"text\",\"hovertext\":[\"somewhat open mayb rare rare\",\"afraid ad someth negat balanc sheet afraid add someth negat balanc sheet somewhat open mayb rare sometim\",\"depend much feel trust yet know inform somewhat open mayb never rare\",\"sometim come open mayb rare sometim\",\"open mayb rare sometim\",\"somewhat open mayb rare sometim\",\"somewhat open mayb rare sometim\",\"somewhat open mayb rare sometim\",\"somewhat open mayb rare sometim\",\"somewhat open mayb rare sometim\",\"good open good open somewhat open mayb rare often\",\"somewhat open mayb rare sometim\",\"somewhat open mayb rare sometim\",\"applic somewhat open mayb rare sometim\",null],\"marker\":{\"opacity\":0.5,\"size\":5},\"mode\":\"markers+text\",\"name\":\"17_rare_mayb_sheet\",\"text\":[\"\",\"\",\"\",\"\",\"\",\"\",\"\",\"\",\"\",\"\",\"\",\"\",\"\",\"\",\"17_rare_mayb_sheet\"],\"textfont\":{\"size\":12},\"x\":{\"dtype\":\"f4\",\"bdata\":\"9v1DQKIYRkD2hzZAPaE5QJ0GQkDSFkVA2GpEQLoJREAFQ0RAnWFEQKBHQ0AcAUVAdR5DQJDSREBOekJA\"},\"y\":{\"dtype\":\"f4\",\"bdata\":\"qyO\\u002fQGxHvUCUCrtAxjy2QHYLvkABxL9Ae2e\\u002fQGE5v0AGU79AM22\\u002fQFIsv0Ckv79AGJG\\u002fQL2sv0DFN75A\"},\"type\":\"scattergl\"},{\"hoverinfo\":\"text\",\"hovertext\":[\"applic open yes think would rare applic\",\"concern work correct applic somewhat open think would applic applic\",\"seem like would work seem like would work applic somewhat open yes think would applic applic\",\"applic somewhat open yes think would applic applic\",\"might bad impact view perform applic somewhat open yes think would applic applic\",\"applic somewhat open yes think would applic applic\",\"idk idk somewhat open yes think would applic applic\",\"applic somewhat open yes think would applic applic\",\"applic somewhat open yes think would applic often\",\"applic somewhat open yes think would applic applic\",\"applic somewhat open yes think would applic often\",\"general applic job potenti frown upon somewhat open yes think would applic applic\",null],\"marker\":{\"opacity\":0.5,\"size\":5},\"mode\":\"markers+text\",\"name\":\"18_applic_idk_yes\",\"text\":[\"\",\"\",\"\",\"\",\"\",\"\",\"\",\"\",\"\",\"\",\"\",\"\",\"18_applic_idk_yes\"],\"textfont\":{\"size\":12},\"x\":{\"dtype\":\"f4\",\"bdata\":\"AUDpQCkl6kAPFOpAPT3qQAku6kDWKupAQ5PqQIFa6kBNoupAGojqQIHk6kDprepAgE\\u002fqQA==\"},\"y\":{\"dtype\":\"f4\",\"bdata\":\"CjbwQH8D8UD6CfFAjh\\u002fxQFoT8UAiDvFAhTvxQDU28UC7TPFAGEbxQJBj8UCavvFAnCPxQA==\"},\"type\":\"scattergl\"},{\"hoverinfo\":\"text\",\"hovertext\":[\"somewhat open mayb applic applic\",\"somewhat open mayb applic applic\",\"somewhat open mayb applic applic\",\"somewhat open mayb applic applic\",\"somewhat open mayb applic applic\",\"somewhat open mayb applic applic\",\"somewhat open mayb applic applic\",\"somewhat open mayb applic applic\",\"somewhat open mayb applic applic\",\"somewhat open mayb applic applic\",\"somewhat open mayb applic applic\",\"somewhat open mayb applic applic\",null],\"marker\":{\"opacity\":0.5,\"size\":5},\"mode\":\"markers+text\",\"name\":\"19_applic_mayb_somewhat\",\"text\":[\"\",\"\",\"\",\"\",\"\",\"\",\"\",\"\",\"\",\"\",\"\",\"\",\"19_applic_mayb_somewhat\"],\"textfont\":{\"size\":12},\"x\":{\"dtype\":\"f4\",\"bdata\":\"VKxVQFtMVkCPy1VAIHBVQIH5VUBlzlVAjp1VQObuVEB40FZA6aNVQP9VVkBDx1ZA3exVQA==\"},\"y\":{\"dtype\":\"f4\",\"bdata\":\"7DVEQRkMREHYMERBgEpEQRkjREGuMERBYD9EQTxuREFe7kNBhz1EQeMMREF98ENBrChEQQ==\"},\"type\":\"scattergl\"}],                        {\"template\":{\"data\":{\"barpolar\":[{\"marker\":{\"line\":{\"color\":\"white\",\"width\":0.5},\"pattern\":{\"fillmode\":\"overlay\",\"size\":10,\"solidity\":0.2}},\"type\":\"barpolar\"}],\"bar\":[{\"error_x\":{\"color\":\"rgb(36,36,36)\"},\"error_y\":{\"color\":\"rgb(36,36,36)\"},\"marker\":{\"line\":{\"color\":\"white\",\"width\":0.5},\"pattern\":{\"fillmode\":\"overlay\",\"size\":10,\"solidity\":0.2}},\"type\":\"bar\"}],\"carpet\":[{\"aaxis\":{\"endlinecolor\":\"rgb(36,36,36)\",\"gridcolor\":\"white\",\"linecolor\":\"white\",\"minorgridcolor\":\"white\",\"startlinecolor\":\"rgb(36,36,36)\"},\"baxis\":{\"endlinecolor\":\"rgb(36,36,36)\",\"gridcolor\":\"white\",\"linecolor\":\"white\",\"minorgridcolor\":\"white\",\"startlinecolor\":\"rgb(36,36,36)\"},\"type\":\"carpet\"}],\"choropleth\":[{\"colorbar\":{\"outlinewidth\":1,\"tickcolor\":\"rgb(36,36,36)\",\"ticks\":\"outside\"},\"type\":\"choropleth\"}],\"contourcarpet\":[{\"colorbar\":{\"outlinewidth\":1,\"tickcolor\":\"rgb(36,36,36)\",\"ticks\":\"outside\"},\"type\":\"contourcarpet\"}],\"contour\":[{\"colorbar\":{\"outlinewidth\":1,\"tickcolor\":\"rgb(36,36,36)\",\"ticks\":\"outside\"},\"colorscale\":[[0.0,\"#440154\"],[0.1111111111111111,\"#482878\"],[0.2222222222222222,\"#3e4989\"],[0.3333333333333333,\"#31688e\"],[0.4444444444444444,\"#26828e\"],[0.5555555555555556,\"#1f9e89\"],[0.6666666666666666,\"#35b779\"],[0.7777777777777778,\"#6ece58\"],[0.8888888888888888,\"#b5de2b\"],[1.0,\"#fde725\"]],\"type\":\"contour\"}],\"heatmap\":[{\"colorbar\":{\"outlinewidth\":1,\"tickcolor\":\"rgb(36,36,36)\",\"ticks\":\"outside\"},\"colorscale\":[[0.0,\"#440154\"],[0.1111111111111111,\"#482878\"],[0.2222222222222222,\"#3e4989\"],[0.3333333333333333,\"#31688e\"],[0.4444444444444444,\"#26828e\"],[0.5555555555555556,\"#1f9e89\"],[0.6666666666666666,\"#35b779\"],[0.7777777777777778,\"#6ece58\"],[0.8888888888888888,\"#b5de2b\"],[1.0,\"#fde725\"]],\"type\":\"heatmap\"}],\"histogram2dcontour\":[{\"colorbar\":{\"outlinewidth\":1,\"tickcolor\":\"rgb(36,36,36)\",\"ticks\":\"outside\"},\"colorscale\":[[0.0,\"#440154\"],[0.1111111111111111,\"#482878\"],[0.2222222222222222,\"#3e4989\"],[0.3333333333333333,\"#31688e\"],[0.4444444444444444,\"#26828e\"],[0.5555555555555556,\"#1f9e89\"],[0.6666666666666666,\"#35b779\"],[0.7777777777777778,\"#6ece58\"],[0.8888888888888888,\"#b5de2b\"],[1.0,\"#fde725\"]],\"type\":\"histogram2dcontour\"}],\"histogram2d\":[{\"colorbar\":{\"outlinewidth\":1,\"tickcolor\":\"rgb(36,36,36)\",\"ticks\":\"outside\"},\"colorscale\":[[0.0,\"#440154\"],[0.1111111111111111,\"#482878\"],[0.2222222222222222,\"#3e4989\"],[0.3333333333333333,\"#31688e\"],[0.4444444444444444,\"#26828e\"],[0.5555555555555556,\"#1f9e89\"],[0.6666666666666666,\"#35b779\"],[0.7777777777777778,\"#6ece58\"],[0.8888888888888888,\"#b5de2b\"],[1.0,\"#fde725\"]],\"type\":\"histogram2d\"}],\"histogram\":[{\"marker\":{\"line\":{\"color\":\"white\",\"width\":0.6}},\"type\":\"histogram\"}],\"mesh3d\":[{\"colorbar\":{\"outlinewidth\":1,\"tickcolor\":\"rgb(36,36,36)\",\"ticks\":\"outside\"},\"type\":\"mesh3d\"}],\"parcoords\":[{\"line\":{\"colorbar\":{\"outlinewidth\":1,\"tickcolor\":\"rgb(36,36,36)\",\"ticks\":\"outside\"}},\"type\":\"parcoords\"}],\"pie\":[{\"automargin\":true,\"type\":\"pie\"}],\"scatter3d\":[{\"line\":{\"colorbar\":{\"outlinewidth\":1,\"tickcolor\":\"rgb(36,36,36)\",\"ticks\":\"outside\"}},\"marker\":{\"colorbar\":{\"outlinewidth\":1,\"tickcolor\":\"rgb(36,36,36)\",\"ticks\":\"outside\"}},\"type\":\"scatter3d\"}],\"scattercarpet\":[{\"marker\":{\"colorbar\":{\"outlinewidth\":1,\"tickcolor\":\"rgb(36,36,36)\",\"ticks\":\"outside\"}},\"type\":\"scattercarpet\"}],\"scattergeo\":[{\"marker\":{\"colorbar\":{\"outlinewidth\":1,\"tickcolor\":\"rgb(36,36,36)\",\"ticks\":\"outside\"}},\"type\":\"scattergeo\"}],\"scattergl\":[{\"marker\":{\"colorbar\":{\"outlinewidth\":1,\"tickcolor\":\"rgb(36,36,36)\",\"ticks\":\"outside\"}},\"type\":\"scattergl\"}],\"scattermapbox\":[{\"marker\":{\"colorbar\":{\"outlinewidth\":1,\"tickcolor\":\"rgb(36,36,36)\",\"ticks\":\"outside\"}},\"type\":\"scattermapbox\"}],\"scattermap\":[{\"marker\":{\"colorbar\":{\"outlinewidth\":1,\"tickcolor\":\"rgb(36,36,36)\",\"ticks\":\"outside\"}},\"type\":\"scattermap\"}],\"scatterpolargl\":[{\"marker\":{\"colorbar\":{\"outlinewidth\":1,\"tickcolor\":\"rgb(36,36,36)\",\"ticks\":\"outside\"}},\"type\":\"scatterpolargl\"}],\"scatterpolar\":[{\"marker\":{\"colorbar\":{\"outlinewidth\":1,\"tickcolor\":\"rgb(36,36,36)\",\"ticks\":\"outside\"}},\"type\":\"scatterpolar\"}],\"scatter\":[{\"fillpattern\":{\"fillmode\":\"overlay\",\"size\":10,\"solidity\":0.2},\"type\":\"scatter\"}],\"scatterternary\":[{\"marker\":{\"colorbar\":{\"outlinewidth\":1,\"tickcolor\":\"rgb(36,36,36)\",\"ticks\":\"outside\"}},\"type\":\"scatterternary\"}],\"surface\":[{\"colorbar\":{\"outlinewidth\":1,\"tickcolor\":\"rgb(36,36,36)\",\"ticks\":\"outside\"},\"colorscale\":[[0.0,\"#440154\"],[0.1111111111111111,\"#482878\"],[0.2222222222222222,\"#3e4989\"],[0.3333333333333333,\"#31688e\"],[0.4444444444444444,\"#26828e\"],[0.5555555555555556,\"#1f9e89\"],[0.6666666666666666,\"#35b779\"],[0.7777777777777778,\"#6ece58\"],[0.8888888888888888,\"#b5de2b\"],[1.0,\"#fde725\"]],\"type\":\"surface\"}],\"table\":[{\"cells\":{\"fill\":{\"color\":\"rgb(237,237,237)\"},\"line\":{\"color\":\"white\"}},\"header\":{\"fill\":{\"color\":\"rgb(217,217,217)\"},\"line\":{\"color\":\"white\"}},\"type\":\"table\"}]},\"layout\":{\"annotationdefaults\":{\"arrowhead\":0,\"arrowwidth\":1},\"autotypenumbers\":\"strict\",\"coloraxis\":{\"colorbar\":{\"outlinewidth\":1,\"tickcolor\":\"rgb(36,36,36)\",\"ticks\":\"outside\"}},\"colorscale\":{\"diverging\":[[0.0,\"rgb(103,0,31)\"],[0.1,\"rgb(178,24,43)\"],[0.2,\"rgb(214,96,77)\"],[0.3,\"rgb(244,165,130)\"],[0.4,\"rgb(253,219,199)\"],[0.5,\"rgb(247,247,247)\"],[0.6,\"rgb(209,229,240)\"],[0.7,\"rgb(146,197,222)\"],[0.8,\"rgb(67,147,195)\"],[0.9,\"rgb(33,102,172)\"],[1.0,\"rgb(5,48,97)\"]],\"sequential\":[[0.0,\"#440154\"],[0.1111111111111111,\"#482878\"],[0.2222222222222222,\"#3e4989\"],[0.3333333333333333,\"#31688e\"],[0.4444444444444444,\"#26828e\"],[0.5555555555555556,\"#1f9e89\"],[0.6666666666666666,\"#35b779\"],[0.7777777777777778,\"#6ece58\"],[0.8888888888888888,\"#b5de2b\"],[1.0,\"#fde725\"]],\"sequentialminus\":[[0.0,\"#440154\"],[0.1111111111111111,\"#482878\"],[0.2222222222222222,\"#3e4989\"],[0.3333333333333333,\"#31688e\"],[0.4444444444444444,\"#26828e\"],[0.5555555555555556,\"#1f9e89\"],[0.6666666666666666,\"#35b779\"],[0.7777777777777778,\"#6ece58\"],[0.8888888888888888,\"#b5de2b\"],[1.0,\"#fde725\"]]},\"colorway\":[\"#1F77B4\",\"#FF7F0E\",\"#2CA02C\",\"#D62728\",\"#9467BD\",\"#8C564B\",\"#E377C2\",\"#7F7F7F\",\"#BCBD22\",\"#17BECF\"],\"font\":{\"color\":\"rgb(36,36,36)\"},\"geo\":{\"bgcolor\":\"white\",\"lakecolor\":\"white\",\"landcolor\":\"white\",\"showlakes\":true,\"showland\":true,\"subunitcolor\":\"white\"},\"hoverlabel\":{\"align\":\"left\"},\"hovermode\":\"closest\",\"mapbox\":{\"style\":\"light\"},\"paper_bgcolor\":\"white\",\"plot_bgcolor\":\"white\",\"polar\":{\"angularaxis\":{\"gridcolor\":\"rgb(232,232,232)\",\"linecolor\":\"rgb(36,36,36)\",\"showgrid\":false,\"showline\":true,\"ticks\":\"outside\"},\"bgcolor\":\"white\",\"radialaxis\":{\"gridcolor\":\"rgb(232,232,232)\",\"linecolor\":\"rgb(36,36,36)\",\"showgrid\":false,\"showline\":true,\"ticks\":\"outside\"}},\"scene\":{\"xaxis\":{\"backgroundcolor\":\"white\",\"gridcolor\":\"rgb(232,232,232)\",\"gridwidth\":2,\"linecolor\":\"rgb(36,36,36)\",\"showbackground\":true,\"showgrid\":false,\"showline\":true,\"ticks\":\"outside\",\"zeroline\":false,\"zerolinecolor\":\"rgb(36,36,36)\"},\"yaxis\":{\"backgroundcolor\":\"white\",\"gridcolor\":\"rgb(232,232,232)\",\"gridwidth\":2,\"linecolor\":\"rgb(36,36,36)\",\"showbackground\":true,\"showgrid\":false,\"showline\":true,\"ticks\":\"outside\",\"zeroline\":false,\"zerolinecolor\":\"rgb(36,36,36)\"},\"zaxis\":{\"backgroundcolor\":\"white\",\"gridcolor\":\"rgb(232,232,232)\",\"gridwidth\":2,\"linecolor\":\"rgb(36,36,36)\",\"showbackground\":true,\"showgrid\":false,\"showline\":true,\"ticks\":\"outside\",\"zeroline\":false,\"zerolinecolor\":\"rgb(36,36,36)\"}},\"shapedefaults\":{\"fillcolor\":\"black\",\"line\":{\"width\":0},\"opacity\":0.3},\"ternary\":{\"aaxis\":{\"gridcolor\":\"rgb(232,232,232)\",\"linecolor\":\"rgb(36,36,36)\",\"showgrid\":false,\"showline\":true,\"ticks\":\"outside\"},\"baxis\":{\"gridcolor\":\"rgb(232,232,232)\",\"linecolor\":\"rgb(36,36,36)\",\"showgrid\":false,\"showline\":true,\"ticks\":\"outside\"},\"bgcolor\":\"white\",\"caxis\":{\"gridcolor\":\"rgb(232,232,232)\",\"linecolor\":\"rgb(36,36,36)\",\"showgrid\":false,\"showline\":true,\"ticks\":\"outside\"}},\"title\":{\"x\":0.05},\"xaxis\":{\"automargin\":true,\"gridcolor\":\"rgb(232,232,232)\",\"linecolor\":\"rgb(36,36,36)\",\"showgrid\":false,\"showline\":true,\"ticks\":\"outside\",\"title\":{\"standoff\":15},\"zeroline\":false,\"zerolinecolor\":\"rgb(36,36,36)\"},\"yaxis\":{\"automargin\":true,\"gridcolor\":\"rgb(232,232,232)\",\"linecolor\":\"rgb(36,36,36)\",\"showgrid\":false,\"showline\":true,\"ticks\":\"outside\",\"title\":{\"standoff\":15},\"zeroline\":false,\"zerolinecolor\":\"rgb(36,36,36)\"}}},\"shapes\":[{\"line\":{\"color\":\"#CFD8DC\",\"width\":2},\"type\":\"line\",\"x0\":2.1965439319610596,\"x1\":2.1965439319610596,\"y0\":-2.603975772857666,\"y1\":14.118450164794922},{\"line\":{\"color\":\"#9E9E9E\",\"width\":2},\"type\":\"line\",\"x0\":-7.919739246368408,\"x1\":12.312827110290527,\"y0\":5.757237434387207,\"y1\":5.757237434387207}],\"annotations\":[{\"showarrow\":false,\"text\":\"D1\",\"x\":-7.919739246368408,\"y\":5.757237434387207,\"yshift\":10},{\"showarrow\":false,\"text\":\"D2\",\"x\":2.1965439319610596,\"xshift\":10,\"y\":14.118450164794922}],\"title\":{\"font\":{\"size\":22,\"color\":\"Black\"},\"text\":\"\\u003cb\\u003eDocuments and Topics\\u003c\\u002fb\\u003e\",\"x\":0.5,\"xanchor\":\"center\",\"yanchor\":\"top\"},\"width\":1200,\"height\":750,\"xaxis\":{\"visible\":false},\"yaxis\":{\"visible\":false}},                        {\"responsive\": true}                    ).then(function(){\n",
       "                            \n",
       "var gd = document.getElementById('990e142f-83a9-4e7d-90f4-e071d57c0546');\n",
       "var x = new MutationObserver(function (mutations, observer) {{\n",
       "        var display = window.getComputedStyle(gd).display;\n",
       "        if (!display || display === 'none') {{\n",
       "            console.log([gd, 'removed!']);\n",
       "            Plotly.purge(gd);\n",
       "            observer.disconnect();\n",
       "        }}\n",
       "}});\n",
       "\n",
       "// Listen for the removal of the full notebook cells\n",
       "var notebookContainer = gd.closest('#notebook-container');\n",
       "if (notebookContainer) {{\n",
       "    x.observe(notebookContainer, {childList: true});\n",
       "}}\n",
       "\n",
       "// Listen for the clearing of the current output cell\n",
       "var outputEl = gd.closest('.output');\n",
       "if (outputEl) {{\n",
       "    x.observe(outputEl, {childList: true});\n",
       "}}\n",
       "\n",
       "                        })                };            </script>        </div>"
      ]
     },
     "metadata": {},
     "output_type": "display_data"
    }
   ],
   "source": [
    "from sentence_transformers import SentenceTransformer\n",
    "import umap.umap_ as umap\n",
    "UMAP = umap.UMAP\n",
    "from bertopic import BERTopic\n",
    "\n",
    "# Sentence Embeddings\n",
    "sentence_model = SentenceTransformer(\"all-MiniLM-L6-v2\")\n",
    "embeddings = sentence_model.encode(docs, show_progress_bar=True)\n",
    "\n",
    "# Optional: custom vectorizer\n",
    "vectorizer_model = CountVectorizer(stop_words=\"english\")\n",
    "\n",
    "# UMAP settings\n",
    "umap_model = UMAP(n_neighbors=15, n_components=5, min_dist=0.0, metric='cosine')\n",
    "\n",
    "# BERTopic with UMAP and custom vectorizer\n",
    "topic_model = BERTopic(umap_model=umap_model, vectorizer_model=vectorizer_model)\n",
    "topics, probs = topic_model.fit_transform(docs, embeddings=embeddings)\n",
    "\n",
    "# Save topic labels\n",
    "data['bertopic_cluster'] = topics\n",
    "\n",
    "# Topic info table\n",
    "topic_info = topic_model.get_topic_info()\n",
    "print(topic_info)\n",
    "\n",
    "# Top words per topic\n",
    "for topic_id in topic_info['Topic']:\n",
    "    if topic_id == -1:\n",
    "        continue\n",
    "    words = topic_model.get_topic(topic_id)\n",
    "    top_words = [word for word, _ in words]\n",
    "    print(f\"Topic {topic_id}: {', '.join(top_words)}\")\n",
    "\n",
    "# Visualize\n",
    "topic_model.visualize_barchart(top_n_topics=10)\n",
    "topic_model.visualize_hierarchy()\n",
    "topic_model.visualize_documents(docs, embeddings=embeddings)\n"
   ]
  }
 ],
 "metadata": {
  "kernelspec": {
   "display_name": "Python 3 (ipykernel)",
   "language": "python",
   "name": "python3"
  },
  "language_info": {
   "codemirror_mode": {
    "name": "ipython",
    "version": 3
   },
   "file_extension": ".py",
   "mimetype": "text/x-python",
   "name": "python",
   "nbconvert_exporter": "python",
   "pygments_lexer": "ipython3",
   "version": "3.9.6"
  }
 },
 "nbformat": 4,
 "nbformat_minor": 5
}
